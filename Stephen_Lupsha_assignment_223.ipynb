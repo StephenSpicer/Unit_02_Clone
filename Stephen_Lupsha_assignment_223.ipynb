{
  "nbformat": 4,
  "nbformat_minor": 0,
  "metadata": {
    "colab": {
      "name": "Stephen_Lupsha_assignment_223.ipynb",
      "provenance": [],
      "authorship_tag": "ABX9TyMy3RomGXHe/4OY3WK7shI+",
      "include_colab_link": true
    },
    "kernelspec": {
      "name": "python3",
      "display_name": "Python 3"
    }
  },
  "cells": [
    {
      "cell_type": "markdown",
      "metadata": {
        "id": "view-in-github",
        "colab_type": "text"
      },
      "source": [
        "<a href=\"https://colab.research.google.com/github/StephenSpicer/Unit_02_Clone/blob/master/Stephen_Lupsha_assignment_223.ipynb\" target=\"_parent\"><img src=\"https://colab.research.google.com/assets/colab-badge.svg\" alt=\"Open In Colab\"/></a>"
      ]
    },
    {
      "cell_type": "markdown",
      "metadata": {
        "id": "dFGBlu47jHu6"
      },
      "source": [
        "# Alright, this is an attempt to clean up the previous notebooks from the kaggle submissions and take a stab at K-Folds and our new modeling instruction from 01_20_2021"
      ]
    },
    {
      "cell_type": "code",
      "metadata": {
        "colab": {
          "base_uri": "https://localhost:8080/"
        },
        "id": "EHNmRD64kpQq",
        "outputId": "4fe0e952-e8bf-4e08-b214-842ee2ab1e26"
      },
      "source": [
        "\r\n",
        "import sys\r\n",
        "\r\n",
        "# If you're on Colab:\r\n",
        "if 'google.colab' in sys.modules:\r\n",
        "    DATA_PATH = 'https://raw.githubusercontent.com/LambdaSchool/DS-Unit-2-Kaggle-Challenge/master/data/'\r\n",
        "    !pip install category_encoders==2.*\r\n",
        "\r\n",
        "# If you're working locally:\r\n",
        "else:\r\n",
        "    DATA_PATH = '../data/'"
      ],
      "execution_count": null,
      "outputs": [
        {
          "output_type": "stream",
          "text": [
            "Requirement already satisfied: category_encoders==2.* in /usr/local/lib/python3.6/dist-packages (2.2.2)\n",
            "Requirement already satisfied: patsy>=0.5.1 in /usr/local/lib/python3.6/dist-packages (from category_encoders==2.*) (0.5.1)\n",
            "Requirement already satisfied: scipy>=1.0.0 in /usr/local/lib/python3.6/dist-packages (from category_encoders==2.*) (1.4.1)\n",
            "Requirement already satisfied: pandas>=0.21.1 in /usr/local/lib/python3.6/dist-packages (from category_encoders==2.*) (1.1.5)\n",
            "Requirement already satisfied: numpy>=1.14.0 in /usr/local/lib/python3.6/dist-packages (from category_encoders==2.*) (1.19.5)\n",
            "Requirement already satisfied: statsmodels>=0.9.0 in /usr/local/lib/python3.6/dist-packages (from category_encoders==2.*) (0.10.2)\n",
            "Requirement already satisfied: scikit-learn>=0.20.0 in /usr/local/lib/python3.6/dist-packages (from category_encoders==2.*) (0.22.2.post1)\n",
            "Requirement already satisfied: six in /usr/local/lib/python3.6/dist-packages (from patsy>=0.5.1->category_encoders==2.*) (1.15.0)\n",
            "Requirement already satisfied: pytz>=2017.2 in /usr/local/lib/python3.6/dist-packages (from pandas>=0.21.1->category_encoders==2.*) (2018.9)\n",
            "Requirement already satisfied: python-dateutil>=2.7.3 in /usr/local/lib/python3.6/dist-packages (from pandas>=0.21.1->category_encoders==2.*) (2.8.1)\n",
            "Requirement already satisfied: joblib>=0.11 in /usr/local/lib/python3.6/dist-packages (from scikit-learn>=0.20.0->category_encoders==2.*) (1.0.0)\n"
          ],
          "name": "stdout"
        }
      ]
    },
    {
      "cell_type": "code",
      "metadata": {
        "id": "LweCO9sjjBR6"
      },
      "source": [
        "# better get all my importing done, and the data path - nicholas likes to call this the preamble cell. \r\n",
        "\r\n",
        "%%capture\r\n",
        "\r\n",
        "#First, I'll do the SKLearn and category encoder imports. \r\n",
        "from sklearn.pipeline import make_pipeline\r\n",
        "from category_encoders import OneHotEncoder, OrdinalEncoder\r\n",
        "from sklearn.impute import SimpleImputer\r\n",
        "from sklearn.preprocessing import StandardScaler\r\n",
        "from sklearn.linear_model import LogisticRegression\r\n",
        "from sklearn.ensemble import RandomForestClassifier\r\n",
        "from sklearn.tree import DecisionTreeClassifier\r\n",
        "import category_encoders as ce\r\n",
        "from sklearn.model_selection import cross_val_score\r\n",
        "from sklearn.model_selection import GridSearchCV, RandomizedSearchCV\r\n",
        "# Next, I'll do the regular stuff we usually need. \r\n",
        "import numpy as np\r\n",
        "import pandas as pd\r\n",
        "import matplotlib.pyplot as plt\r\n",
        "from sklearn.tree import plot_tree\r\n"
      ],
      "execution_count": null,
      "outputs": []
    },
    {
      "cell_type": "code",
      "metadata": {
        "id": "-iuZ_bzwlCM7"
      },
      "source": [
        "# # Wrangle function from ME and My Assignments :\r\n",
        "\r\n",
        "\r\n",
        "# def wrangle(df):\r\n",
        "#   #Make copy keep original in memory\r\n",
        "#   df = df.copy()\r\n",
        "#   #DropRecordedBy(ConstantValue)\r\n",
        "#   df.drop(columns=['recorded_by'], inplace=True)\r\n",
        "#   #HCCV\r\n",
        "#   drop_cols = [col for col in df.select_dtypes('object').columns\r\n",
        "#                if df[col].nunique() >100]\r\n",
        "#   df.drop(columns=drop_cols, inplace=True)\r\n",
        "#   # Drop repeat ROWS\r\n",
        "#   #df.drop_duplicates(inplace=True)\r\n",
        "#   # Datetime error - Remember to ask about the other methods for changing date so it works in models. \r\n",
        "#   #print('Breakpoint 1:')\r\n",
        " \r\n",
        "#   df['pump_age'] = df['date_recorded'].dt.year - df['construction_year'] # this feature will tell us how old each pump is...\r\n",
        "#   #print('Breakpoint 2:')\r\n",
        "#   df['date_recorded'] = df['date_recorded'].dt.year\r\n",
        "#   # Drop repeat COLUMNS\r\n",
        "#   df.drop(columns=['quantity_group', 'extraction_type_group'], inplace=True)\r\n",
        "#   #DropNA / features with lots of NA val (with threshold! '_' for comma, pretty cool...)\r\n",
        "#   df.dropna(axis=1, thresh=7_000, inplace=True)\r\n",
        "#   return df"
      ],
      "execution_count": null,
      "outputs": []
    },
    {
      "cell_type": "code",
      "metadata": {
        "id": "L3Bx-zlQlCGI"
      },
      "source": [
        "# WRANGLE FUNCTION from SiSi:\r\n",
        "# we're gonna come back in here and slash some columns I think. maybe. \r\n",
        "\r\n",
        "\r\n",
        "def wrangle(df):\r\n",
        "  # Make a copy\r\n",
        "  df = df.copy()\r\n",
        "\r\n",
        "  # Drop repeat rows (observations)\r\n",
        "  df.drop_duplicates(inplace=True)\r\n",
        "\r\n",
        "  # Drop repeat columns (features)\r\n",
        "  df.drop(columns=['quantity_group', 'extraction_type_group'], inplace=True)\r\n",
        "\r\n",
        "  # Drop constant features\r\n",
        "  df.drop(columns=['recorded_by'], inplace=True)\r\n",
        "\r\n",
        "  # feature engineering\r\n",
        "  df['pump_age'] = df['date_recorded'].dt.year - df['construction_year']\r\n",
        "  df['date_recorded'] = df['date_recorded'].dt.year\r\n",
        "\r\n",
        "  # drop datetime column\r\n",
        "  df.drop(columns='date_recorded', inplace=True)\r\n",
        "\r\n",
        "  # high-cardinality\r\n",
        "  drop_cols = [col for col in df.select_dtypes('object').columns\r\n",
        "               if df[col].nunique() > 100]\r\n",
        "  df.drop(columns=drop_cols, inplace=True)\r\n",
        "\r\n",
        "  # Drop features with lots of NaN values\r\n",
        "  df.dropna(axis=1, thresh=len(df)*0.8, inplace=True)\r\n",
        "\r\n",
        "  return df"
      ],
      "execution_count": null,
      "outputs": []
    },
    {
      "cell_type": "code",
      "metadata": {
        "id": "6hxUIvfUksle"
      },
      "source": [
        "# now we need our data, and we need a wrangle it... might as well get our test data while we are at it. \r\n",
        "\r\n",
        "# Import and clean TRAINING dataset\r\n",
        "df = pd.merge(pd.read_csv(DATA_PATH+'waterpumps/train_features.csv',\r\n",
        "                          parse_dates=['date_recorded'],\r\n",
        "                          na_values=[0, -2.000000e-08]), \r\n",
        "              pd.read_csv(DATA_PATH+'waterpumps/train_labels.csv')).set_index('id')\r\n",
        "\r\n",
        "df = wrangle(df)\r\n",
        "\r\n",
        "# Import and clean TEST dataset\r\n",
        "X_test = pd.read_csv(DATA_PATH+'waterpumps/test_features.csv',\r\n",
        "            parse_dates=['date_recorded'],\r\n",
        "            na_values=[0, -2.000000e-08],\r\n",
        "            index_col='id')\r\n",
        "\r\n",
        "# better wrangle that X_test too. \r\n",
        "X_test = wrangle(X_test)"
      ],
      "execution_count": null,
      "outputs": []
    },
    {
      "cell_type": "code",
      "metadata": {
        "colab": {
          "base_uri": "https://localhost:8080/"
        },
        "id": "JCecS12KksZT",
        "outputId": "0d9c1e03-f882-4632-f923-141ad1307dfb"
      },
      "source": [
        "print('original dataframe:', df.shape)\r\n",
        "print()\r\n",
        "print('test dataframe: ', X_test.shape)"
      ],
      "execution_count": null,
      "outputs": [
        {
          "output_type": "stream",
          "text": [
            "original dataframe: (59363, 24)\n",
            "\n",
            "test dataframe:  (14358, 23)\n"
          ],
          "name": "stdout"
        }
      ]
    },
    {
      "cell_type": "markdown",
      "metadata": {
        "id": "2bHeYSahjH32"
      },
      "source": [
        "## ok, not the same number of columns but let's get our models added in. \r\n",
        "## my wrangle gives a lot more columns than sisi's does so I'm gonna go with hers for now. "
      ]
    },
    {
      "cell_type": "code",
      "metadata": {
        "colab": {
          "base_uri": "https://localhost:8080/"
        },
        "id": "6XZasXZcpphY",
        "outputId": "cdff5557-f1dd-42fa-8cc6-23e1c318bd12"
      },
      "source": [
        "# Baseline Accuracy\r\n",
        "\r\n",
        "print('Baseline Accuracy:', df['status_group'].value_counts(normalize=True).max())"
      ],
      "execution_count": null,
      "outputs": [
        {
          "output_type": "stream",
          "text": [
            "Baseline Accuracy: 0.5430487003689166\n"
          ],
          "name": "stdout"
        }
      ]
    },
    {
      "cell_type": "code",
      "metadata": {
        "colab": {
          "base_uri": "https://localhost:8080/"
        },
        "id": "MgaEGC2OqKKg",
        "outputId": "e3062db7-693c-4034-a4f9-05bbc4622042"
      },
      "source": [
        "# making X_train and y_train (splitting target vector from feature matrix)\r\n",
        "\r\n",
        "X_train = df.drop(['status_group'], axis=1)\r\n",
        "y_train = df['status_group']\r\n",
        "\r\n",
        "print('X_train shape: ', X_train.shape)\r\n",
        "print()\r\n",
        "print('y_train shape: ', y_train.shape)"
      ],
      "execution_count": null,
      "outputs": [
        {
          "output_type": "stream",
          "text": [
            "X_train shape:  (59363, 23)\n",
            "\n",
            "y_train shape:  (59363,)\n"
          ],
          "name": "stdout"
        }
      ]
    },
    {
      "cell_type": "markdown",
      "metadata": {
        "id": "8m_7JjffqpU-"
      },
      "source": [
        "# Models : Logistic regression (classification) :\r\n"
      ]
    },
    {
      "cell_type": "code",
      "metadata": {
        "id": "cMaDQoOkqbtn"
      },
      "source": [
        "lr = make_pipeline(OneHotEncoder(),\r\n",
        "                   StandardScaler(),\r\n",
        "                   SimpleImputer(),\r\n",
        "                   LogisticRegression(max_iter=1000))"
      ],
      "execution_count": null,
      "outputs": []
    },
    {
      "cell_type": "code",
      "metadata": {
        "colab": {
          "base_uri": "https://localhost:8080/"
        },
        "id": "575O7exDrRLe",
        "outputId": "89d69a46-34bd-4d1f-daad-ded3110e519d"
      },
      "source": [
        "# cross validation\r\n",
        "\r\n",
        "%%time\r\n",
        "lr_cvs = cross_val_score(lr, X_train, y_train, cv=5, n_jobs=-1)"
      ],
      "execution_count": null,
      "outputs": [
        {
          "output_type": "stream",
          "text": [
            "CPU times: user 532 ms, sys: 41.7 ms, total: 574 ms\n",
            "Wall time: 36 s\n"
          ],
          "name": "stdout"
        }
      ]
    },
    {
      "cell_type": "markdown",
      "metadata": {
        "id": "02jb5GsItzIF"
      },
      "source": [
        "# we really don't need the above, because we are interested in classification today - but it's there just in case we get extra curious... "
      ]
    },
    {
      "cell_type": "code",
      "metadata": {
        "colab": {
          "base_uri": "https://localhost:8080/"
        },
        "id": "ps8u8bzHsBC5",
        "outputId": "f2f807b9-920d-4726-8e4d-08729498c396"
      },
      "source": [
        "# let's visualize before we tune. \r\n",
        "print(\"logistic regression:\")\r\n",
        "print(\"cross validation score series is\", lr_cvs)\r\n",
        "print(\"cross validation score mean is\", lr_cvs.mean())\r\n",
        "print(\"cross validation score standard deviation is\", lr_cvs.std())"
      ],
      "execution_count": null,
      "outputs": [
        {
          "output_type": "stream",
          "text": [
            "logistic regression:\n",
            "cross validation score series is [0.73056515 0.72989135 0.7297229  0.72548854 0.73399596]\n",
            "cross validation score mean is 0.7299327799966537\n",
            "cross validation score standard deviation is 0.0027094756141843603\n"
          ],
          "name": "stdout"
        }
      ]
    },
    {
      "cell_type": "markdown",
      "metadata": {
        "id": "83bKJerNrkA_"
      },
      "source": [
        "\r\n",
        "# Now, with a Random Forest Classifier:"
      ]
    },
    {
      "cell_type": "code",
      "metadata": {
        "id": "m2GYRzfSrS2O"
      },
      "source": [
        "# random forest. we can tune parameteres here when we scroll back up. \r\n",
        "\r\n",
        "rf = make_pipeline(OrdinalEncoder(),\r\n",
        "                   SimpleImputer(),\r\n",
        "                   RandomForestClassifier(n_estimators=20))"
      ],
      "execution_count": null,
      "outputs": []
    },
    {
      "cell_type": "code",
      "metadata": {
        "colab": {
          "base_uri": "https://localhost:8080/"
        },
        "id": "kwpCKT34rqOF",
        "outputId": "54d07acd-99a2-4fdb-b14d-23bc113db47b"
      },
      "source": [
        "# now, the random forest cross validation :\r\n",
        "%%time\r\n",
        "rf_cvs = cross_val_score(rf, X_train, y_train, cv=5, n_jobs=-1)"
      ],
      "execution_count": null,
      "outputs": [
        {
          "output_type": "stream",
          "text": [
            "CPU times: user 470 ms, sys: 17.5 ms, total: 487 ms\n",
            "Wall time: 8.88 s\n"
          ],
          "name": "stdout"
        }
      ]
    },
    {
      "cell_type": "code",
      "metadata": {
        "colab": {
          "base_uri": "https://localhost:8080/"
        },
        "id": "7m2AjfKbrsYu",
        "outputId": "013877cb-3d5d-40e2-c5f2-c012e7df65ba"
      },
      "source": [
        "# as before, these will change as we tune... \r\n",
        "print(\"random forest classifier:\")\r\n",
        "print(\"cross validation score series is\", rf_cvs)\r\n",
        "print(\"cross validation score mean is\", rf_cvs.mean())\r\n",
        "print(\"cross validation score standard deviation is\", rf_cvs.std())"
      ],
      "execution_count": null,
      "outputs": [
        {
          "output_type": "stream",
          "text": [
            "random forest classifier:\n",
            "cross validation score series is [0.79002779 0.78497431 0.78943822 0.78765162 0.78394542]\n",
            "cross validation score mean is 0.7872074723664625\n",
            "cross validation score standard deviation is 0.002398154606898564\n"
          ],
          "name": "stdout"
        }
      ]
    },
    {
      "cell_type": "markdown",
      "metadata": {
        "id": "q8sySAa2sM95"
      },
      "source": [
        "# Tuning\r\n",
        "\r\n",
        "*Params:* \r\n",
        "## n_estimators: 20 to 60\r\n",
        "## max_depth: 10 to 20\r\n",
        "## max_samples: 0.3 to 0.6\r\n",
        "## max_features: 5 to 20\r\n",
        "\r\n",
        "# GridSearchCV()"
      ]
    },
    {
      "cell_type": "code",
      "metadata": {
        "id": "s-zM8mXrsJPu"
      },
      "source": [
        "# setting up random forests with K Folds.\r\n",
        "# we add 1 to the range values because it is not inclusive - so we cover our bases there. \r\n",
        "# dictionaries have key values - these three strings are critical for the function, in this case gridsearch... these are parameters. \r\n",
        "paras = {'randomforestclassifier__n_estimators': np.arange(55, 66, 5), \r\n",
        "         'randomforestclassifier__max_depth': np.arange(10, 31, 10),\r\n",
        "         #'randomforestclassifier__max_samples': np.arange(0.3, 0.51, 0.1),\r\n",
        "         'randomforestclassifier__max_features': np.arange(20, 26, 2)}\r\n",
        "\r\n",
        "# random forest grid search. \r\n",
        "\r\n",
        "rf_gs = GridSearchCV(rf, paras, cv=5, n_jobs=-1, verbose=1)"
      ],
      "execution_count": null,
      "outputs": []
    },
    {
      "cell_type": "code",
      "metadata": {
        "colab": {
          "base_uri": "https://localhost:8080/"
        },
        "id": "JucRbXXjsJNW",
        "outputId": "cefe038f-fa96-42bc-be40-2af5e0441ffb"
      },
      "source": [
        "# fitting Grid Search Cross Validation. \r\n",
        "%%time\r\n",
        "rf_gs.fit(X_train, y_train)"
      ],
      "execution_count": null,
      "outputs": [
        {
          "output_type": "stream",
          "text": [
            "Fitting 5 folds for each of 27 candidates, totalling 135 fits\n"
          ],
          "name": "stdout"
        },
        {
          "output_type": "stream",
          "text": [
            "[Parallel(n_jobs=-1)]: Using backend LokyBackend with 2 concurrent workers.\n",
            "[Parallel(n_jobs=-1)]: Done  46 tasks      | elapsed:  4.7min\n",
            "[Parallel(n_jobs=-1)]: Done 135 out of 135 | elapsed: 17.1min finished\n"
          ],
          "name": "stderr"
        },
        {
          "output_type": "stream",
          "text": [
            "CPU times: user 33.5 s, sys: 541 ms, total: 34.1 s\n",
            "Wall time: 17min 29s\n"
          ],
          "name": "stdout"
        },
        {
          "output_type": "execute_result",
          "data": {
            "text/plain": [
              "GridSearchCV(cv=5, error_score=nan,\n",
              "             estimator=Pipeline(memory=None,\n",
              "                                steps=[('ordinalencoder',\n",
              "                                        OrdinalEncoder(cols=None,\n",
              "                                                       drop_invariant=False,\n",
              "                                                       handle_missing='value',\n",
              "                                                       handle_unknown='value',\n",
              "                                                       mapping=None,\n",
              "                                                       return_df=True,\n",
              "                                                       verbose=0)),\n",
              "                                       ('simpleimputer',\n",
              "                                        SimpleImputer(add_indicator=False,\n",
              "                                                      copy=True,\n",
              "                                                      fill_value=None,\n",
              "                                                      missing_values=nan,\n",
              "                                                      strategy='mean',\n",
              "                                                      verbose=0)),\n",
              "                                       ('ra...\n",
              "                                                               random_state=None,\n",
              "                                                               verbose=0,\n",
              "                                                               warm_start=False))],\n",
              "                                verbose=False),\n",
              "             iid='deprecated', n_jobs=-1,\n",
              "             param_grid={'randomforestclassifier__max_depth': array([10, 20, 30]),\n",
              "                         'randomforestclassifier__max_features': array([20, 22, 24]),\n",
              "                         'randomforestclassifier__n_estimators': array([55, 60, 65])},\n",
              "             pre_dispatch='2*n_jobs', refit=True, return_train_score=False,\n",
              "             scoring=None, verbose=1)"
            ]
          },
          "metadata": {
            "tags": []
          },
          "execution_count": 59
        }
      ]
    },
    {
      "cell_type": "code",
      "metadata": {
        "colab": {
          "base_uri": "https://localhost:8080/"
        },
        "id": "lU-5UAYZ9jLX",
        "outputId": "e3b65c47-e4f4-416c-e35d-69e79cead0eb"
      },
      "source": [
        "rf_gs.best_params_"
      ],
      "execution_count": null,
      "outputs": [
        {
          "output_type": "execute_result",
          "data": {
            "text/plain": [
              "{'randomforestclassifier__max_depth': 20,\n",
              " 'randomforestclassifier__max_features': 20,\n",
              " 'randomforestclassifier__n_estimators': 60}"
            ]
          },
          "metadata": {
            "tags": []
          },
          "execution_count": 60
        }
      ]
    },
    {
      "cell_type": "code",
      "metadata": {
        "colab": {
          "base_uri": "https://localhost:8080/",
          "height": 582
        },
        "id": "xn5ApfksxZ1j",
        "outputId": "b1f35c55-253d-41ab-f9ac-c2912297eaf3"
      },
      "source": [
        "# SiSi's trick : make the results into a dataframe:\r\n",
        "pd.DataFrame(rf_gs.cv_results_).sort_values(by='mean_test_score', ascending=False).T"
      ],
      "execution_count": null,
      "outputs": [
        {
          "output_type": "execute_result",
          "data": {
            "text/html": [
              "<div>\n",
              "<style scoped>\n",
              "    .dataframe tbody tr th:only-of-type {\n",
              "        vertical-align: middle;\n",
              "    }\n",
              "\n",
              "    .dataframe tbody tr th {\n",
              "        vertical-align: top;\n",
              "    }\n",
              "\n",
              "    .dataframe thead th {\n",
              "        text-align: right;\n",
              "    }\n",
              "</style>\n",
              "<table border=\"1\" class=\"dataframe\">\n",
              "  <thead>\n",
              "    <tr style=\"text-align: right;\">\n",
              "      <th></th>\n",
              "      <th>20</th>\n",
              "      <th>14</th>\n",
              "      <th>17</th>\n",
              "      <th>19</th>\n",
              "      <th>23</th>\n",
              "      <th>16</th>\n",
              "      <th>13</th>\n",
              "      <th>11</th>\n",
              "      <th>10</th>\n",
              "      <th>22</th>\n",
              "      <th>12</th>\n",
              "      <th>15</th>\n",
              "      <th>26</th>\n",
              "      <th>18</th>\n",
              "      <th>21</th>\n",
              "      <th>25</th>\n",
              "      <th>9</th>\n",
              "      <th>24</th>\n",
              "      <th>3</th>\n",
              "      <th>6</th>\n",
              "      <th>8</th>\n",
              "      <th>7</th>\n",
              "      <th>5</th>\n",
              "      <th>4</th>\n",
              "      <th>0</th>\n",
              "      <th>2</th>\n",
              "      <th>1</th>\n",
              "    </tr>\n",
              "  </thead>\n",
              "  <tbody>\n",
              "    <tr>\n",
              "      <th>mean_fit_time</th>\n",
              "      <td>3.47986</td>\n",
              "      <td>4.54398</td>\n",
              "      <td>5.47093</td>\n",
              "      <td>2.52475</td>\n",
              "      <td>4.73449</td>\n",
              "      <td>3.83736</td>\n",
              "      <td>3.2692</td>\n",
              "      <td>3.33103</td>\n",
              "      <td>2.47125</td>\n",
              "      <td>3.31362</td>\n",
              "      <td>1.96721</td>\n",
              "      <td>2.2107</td>\n",
              "      <td>5.61727</td>\n",
              "      <td>1.60447</td>\n",
              "      <td>2.06211</td>\n",
              "      <td>4.0388</td>\n",
              "      <td>1.55332</td>\n",
              "      <td>2.40029</td>\n",
              "      <td>1.55721</td>\n",
              "      <td>1.72035</td>\n",
              "      <td>3.77153</td>\n",
              "      <td>2.79931</td>\n",
              "      <td>3.24611</td>\n",
              "      <td>2.45931</td>\n",
              "      <td>1.25236</td>\n",
              "      <td>2.55326</td>\n",
              "      <td>1.93133</td>\n",
              "    </tr>\n",
              "    <tr>\n",
              "      <th>std_fit_time</th>\n",
              "      <td>0.0657624</td>\n",
              "      <td>0.0560768</td>\n",
              "      <td>0.126793</td>\n",
              "      <td>0.113363</td>\n",
              "      <td>0.162563</td>\n",
              "      <td>0.0607438</td>\n",
              "      <td>0.0761688</td>\n",
              "      <td>0.0259563</td>\n",
              "      <td>0.0211112</td>\n",
              "      <td>0.0433921</td>\n",
              "      <td>0.0229593</td>\n",
              "      <td>0.0532144</td>\n",
              "      <td>0.164098</td>\n",
              "      <td>0.0517444</td>\n",
              "      <td>0.0270411</td>\n",
              "      <td>0.0843884</td>\n",
              "      <td>0.0281209</td>\n",
              "      <td>0.0386596</td>\n",
              "      <td>0.0283926</td>\n",
              "      <td>0.0519873</td>\n",
              "      <td>0.138282</td>\n",
              "      <td>0.0505067</td>\n",
              "      <td>0.0199166</td>\n",
              "      <td>0.0416256</td>\n",
              "      <td>0.0351566</td>\n",
              "      <td>0.097328</td>\n",
              "      <td>0.0645342</td>\n",
              "    </tr>\n",
              "    <tr>\n",
              "      <th>mean_score_time</th>\n",
              "      <td>0.32831</td>\n",
              "      <td>0.32851</td>\n",
              "      <td>0.337545</td>\n",
              "      <td>0.233262</td>\n",
              "      <td>0.359213</td>\n",
              "      <td>0.263119</td>\n",
              "      <td>0.257427</td>\n",
              "      <td>0.309761</td>\n",
              "      <td>0.252326</td>\n",
              "      <td>0.260566</td>\n",
              "      <td>0.171352</td>\n",
              "      <td>0.160747</td>\n",
              "      <td>0.353945</td>\n",
              "      <td>0.172332</td>\n",
              "      <td>0.180332</td>\n",
              "      <td>0.275162</td>\n",
              "      <td>0.192447</td>\n",
              "      <td>0.178032</td>\n",
              "      <td>0.136421</td>\n",
              "      <td>0.137489</td>\n",
              "      <td>0.210614</td>\n",
              "      <td>0.177624</td>\n",
              "      <td>0.213516</td>\n",
              "      <td>0.178876</td>\n",
              "      <td>0.133886</td>\n",
              "      <td>0.223093</td>\n",
              "      <td>0.161502</td>\n",
              "    </tr>\n",
              "    <tr>\n",
              "      <th>std_score_time</th>\n",
              "      <td>0.0151846</td>\n",
              "      <td>0.0077694</td>\n",
              "      <td>0.0116101</td>\n",
              "      <td>0.0271522</td>\n",
              "      <td>0.00657501</td>\n",
              "      <td>0.00221586</td>\n",
              "      <td>0.00720391</td>\n",
              "      <td>0.00340283</td>\n",
              "      <td>0.0159052</td>\n",
              "      <td>0.0103283</td>\n",
              "      <td>0.00113367</td>\n",
              "      <td>0.0282804</td>\n",
              "      <td>0.0306697</td>\n",
              "      <td>0.0182057</td>\n",
              "      <td>0.00453715</td>\n",
              "      <td>0.00536707</td>\n",
              "      <td>0.031363</td>\n",
              "      <td>0.0247574</td>\n",
              "      <td>0.00519445</td>\n",
              "      <td>0.00241335</td>\n",
              "      <td>0.0261821</td>\n",
              "      <td>0.0111767</td>\n",
              "      <td>0.0176827</td>\n",
              "      <td>0.0019013</td>\n",
              "      <td>0.00702331</td>\n",
              "      <td>0.00670262</td>\n",
              "      <td>0.0222509</td>\n",
              "    </tr>\n",
              "    <tr>\n",
              "      <th>param_randomforestclassifier__max_depth</th>\n",
              "      <td>30</td>\n",
              "      <td>20</td>\n",
              "      <td>20</td>\n",
              "      <td>30</td>\n",
              "      <td>30</td>\n",
              "      <td>20</td>\n",
              "      <td>20</td>\n",
              "      <td>20</td>\n",
              "      <td>20</td>\n",
              "      <td>30</td>\n",
              "      <td>20</td>\n",
              "      <td>20</td>\n",
              "      <td>30</td>\n",
              "      <td>30</td>\n",
              "      <td>30</td>\n",
              "      <td>30</td>\n",
              "      <td>20</td>\n",
              "      <td>30</td>\n",
              "      <td>10</td>\n",
              "      <td>10</td>\n",
              "      <td>10</td>\n",
              "      <td>10</td>\n",
              "      <td>10</td>\n",
              "      <td>10</td>\n",
              "      <td>10</td>\n",
              "      <td>10</td>\n",
              "      <td>10</td>\n",
              "    </tr>\n",
              "    <tr>\n",
              "      <th>param_randomforestclassifier__max_samples</th>\n",
              "      <td>0.3</td>\n",
              "      <td>0.5</td>\n",
              "      <td>0.7</td>\n",
              "      <td>0.3</td>\n",
              "      <td>0.5</td>\n",
              "      <td>0.7</td>\n",
              "      <td>0.5</td>\n",
              "      <td>0.3</td>\n",
              "      <td>0.3</td>\n",
              "      <td>0.5</td>\n",
              "      <td>0.5</td>\n",
              "      <td>0.7</td>\n",
              "      <td>0.7</td>\n",
              "      <td>0.3</td>\n",
              "      <td>0.5</td>\n",
              "      <td>0.7</td>\n",
              "      <td>0.3</td>\n",
              "      <td>0.7</td>\n",
              "      <td>0.5</td>\n",
              "      <td>0.7</td>\n",
              "      <td>0.7</td>\n",
              "      <td>0.7</td>\n",
              "      <td>0.5</td>\n",
              "      <td>0.5</td>\n",
              "      <td>0.3</td>\n",
              "      <td>0.3</td>\n",
              "      <td>0.3</td>\n",
              "    </tr>\n",
              "    <tr>\n",
              "      <th>param_randomforestclassifier__n_estimators</th>\n",
              "      <td>60</td>\n",
              "      <td>60</td>\n",
              "      <td>60</td>\n",
              "      <td>40</td>\n",
              "      <td>60</td>\n",
              "      <td>40</td>\n",
              "      <td>40</td>\n",
              "      <td>60</td>\n",
              "      <td>40</td>\n",
              "      <td>40</td>\n",
              "      <td>20</td>\n",
              "      <td>20</td>\n",
              "      <td>60</td>\n",
              "      <td>20</td>\n",
              "      <td>20</td>\n",
              "      <td>40</td>\n",
              "      <td>20</td>\n",
              "      <td>20</td>\n",
              "      <td>20</td>\n",
              "      <td>20</td>\n",
              "      <td>60</td>\n",
              "      <td>40</td>\n",
              "      <td>60</td>\n",
              "      <td>40</td>\n",
              "      <td>20</td>\n",
              "      <td>60</td>\n",
              "      <td>40</td>\n",
              "    </tr>\n",
              "    <tr>\n",
              "      <th>params</th>\n",
              "      <td>{'randomforestclassifier__max_depth': 30, 'ran...</td>\n",
              "      <td>{'randomforestclassifier__max_depth': 20, 'ran...</td>\n",
              "      <td>{'randomforestclassifier__max_depth': 20, 'ran...</td>\n",
              "      <td>{'randomforestclassifier__max_depth': 30, 'ran...</td>\n",
              "      <td>{'randomforestclassifier__max_depth': 30, 'ran...</td>\n",
              "      <td>{'randomforestclassifier__max_depth': 20, 'ran...</td>\n",
              "      <td>{'randomforestclassifier__max_depth': 20, 'ran...</td>\n",
              "      <td>{'randomforestclassifier__max_depth': 20, 'ran...</td>\n",
              "      <td>{'randomforestclassifier__max_depth': 20, 'ran...</td>\n",
              "      <td>{'randomforestclassifier__max_depth': 30, 'ran...</td>\n",
              "      <td>{'randomforestclassifier__max_depth': 20, 'ran...</td>\n",
              "      <td>{'randomforestclassifier__max_depth': 20, 'ran...</td>\n",
              "      <td>{'randomforestclassifier__max_depth': 30, 'ran...</td>\n",
              "      <td>{'randomforestclassifier__max_depth': 30, 'ran...</td>\n",
              "      <td>{'randomforestclassifier__max_depth': 30, 'ran...</td>\n",
              "      <td>{'randomforestclassifier__max_depth': 30, 'ran...</td>\n",
              "      <td>{'randomforestclassifier__max_depth': 20, 'ran...</td>\n",
              "      <td>{'randomforestclassifier__max_depth': 30, 'ran...</td>\n",
              "      <td>{'randomforestclassifier__max_depth': 10, 'ran...</td>\n",
              "      <td>{'randomforestclassifier__max_depth': 10, 'ran...</td>\n",
              "      <td>{'randomforestclassifier__max_depth': 10, 'ran...</td>\n",
              "      <td>{'randomforestclassifier__max_depth': 10, 'ran...</td>\n",
              "      <td>{'randomforestclassifier__max_depth': 10, 'ran...</td>\n",
              "      <td>{'randomforestclassifier__max_depth': 10, 'ran...</td>\n",
              "      <td>{'randomforestclassifier__max_depth': 10, 'ran...</td>\n",
              "      <td>{'randomforestclassifier__max_depth': 10, 'ran...</td>\n",
              "      <td>{'randomforestclassifier__max_depth': 10, 'ran...</td>\n",
              "    </tr>\n",
              "    <tr>\n",
              "      <th>split0_test_score</th>\n",
              "      <td>0.800387</td>\n",
              "      <td>0.801398</td>\n",
              "      <td>0.803588</td>\n",
              "      <td>0.798787</td>\n",
              "      <td>0.80123</td>\n",
              "      <td>0.798871</td>\n",
              "      <td>0.79845</td>\n",
              "      <td>0.798366</td>\n",
              "      <td>0.799798</td>\n",
              "      <td>0.797103</td>\n",
              "      <td>0.796429</td>\n",
              "      <td>0.796008</td>\n",
              "      <td>0.795839</td>\n",
              "      <td>0.794576</td>\n",
              "      <td>0.794492</td>\n",
              "      <td>0.793397</td>\n",
              "      <td>0.790617</td>\n",
              "      <td>0.791123</td>\n",
              "      <td>0.763076</td>\n",
              "      <td>0.764676</td>\n",
              "      <td>0.765518</td>\n",
              "      <td>0.764929</td>\n",
              "      <td>0.762486</td>\n",
              "      <td>0.76316</td>\n",
              "      <td>0.761139</td>\n",
              "      <td>0.762234</td>\n",
              "      <td>0.760044</td>\n",
              "    </tr>\n",
              "    <tr>\n",
              "      <th>split1_test_score</th>\n",
              "      <td>0.798366</td>\n",
              "      <td>0.797692</td>\n",
              "      <td>0.798787</td>\n",
              "      <td>0.798787</td>\n",
              "      <td>0.795587</td>\n",
              "      <td>0.795334</td>\n",
              "      <td>0.799629</td>\n",
              "      <td>0.795502</td>\n",
              "      <td>0.795081</td>\n",
              "      <td>0.796008</td>\n",
              "      <td>0.791965</td>\n",
              "      <td>0.792049</td>\n",
              "      <td>0.792302</td>\n",
              "      <td>0.790786</td>\n",
              "      <td>0.791544</td>\n",
              "      <td>0.788764</td>\n",
              "      <td>0.789775</td>\n",
              "      <td>0.79028</td>\n",
              "      <td>0.743199</td>\n",
              "      <td>0.744378</td>\n",
              "      <td>0.740672</td>\n",
              "      <td>0.738566</td>\n",
              "      <td>0.739914</td>\n",
              "      <td>0.739072</td>\n",
              "      <td>0.738145</td>\n",
              "      <td>0.737724</td>\n",
              "      <td>0.738988</td>\n",
              "    </tr>\n",
              "    <tr>\n",
              "      <th>split2_test_score</th>\n",
              "      <td>0.803756</td>\n",
              "      <td>0.803841</td>\n",
              "      <td>0.803841</td>\n",
              "      <td>0.801651</td>\n",
              "      <td>0.803167</td>\n",
              "      <td>0.801482</td>\n",
              "      <td>0.79685</td>\n",
              "      <td>0.801988</td>\n",
              "      <td>0.800893</td>\n",
              "      <td>0.799714</td>\n",
              "      <td>0.797103</td>\n",
              "      <td>0.797776</td>\n",
              "      <td>0.798198</td>\n",
              "      <td>0.794576</td>\n",
              "      <td>0.798787</td>\n",
              "      <td>0.796429</td>\n",
              "      <td>0.796513</td>\n",
              "      <td>0.795839</td>\n",
              "      <td>0.749431</td>\n",
              "      <td>0.748</td>\n",
              "      <td>0.748842</td>\n",
              "      <td>0.750358</td>\n",
              "      <td>0.748589</td>\n",
              "      <td>0.745304</td>\n",
              "      <td>0.748</td>\n",
              "      <td>0.748758</td>\n",
              "      <td>0.746062</td>\n",
              "    </tr>\n",
              "    <tr>\n",
              "      <th>split3_test_score</th>\n",
              "      <td>0.800792</td>\n",
              "      <td>0.797591</td>\n",
              "      <td>0.796243</td>\n",
              "      <td>0.797591</td>\n",
              "      <td>0.797001</td>\n",
              "      <td>0.796327</td>\n",
              "      <td>0.796327</td>\n",
              "      <td>0.797844</td>\n",
              "      <td>0.794559</td>\n",
              "      <td>0.795317</td>\n",
              "      <td>0.794559</td>\n",
              "      <td>0.793211</td>\n",
              "      <td>0.794727</td>\n",
              "      <td>0.793042</td>\n",
              "      <td>0.792032</td>\n",
              "      <td>0.792621</td>\n",
              "      <td>0.787483</td>\n",
              "      <td>0.78841</td>\n",
              "      <td>0.740903</td>\n",
              "      <td>0.744778</td>\n",
              "      <td>0.74343</td>\n",
              "      <td>0.742756</td>\n",
              "      <td>0.740313</td>\n",
              "      <td>0.743009</td>\n",
              "      <td>0.74183</td>\n",
              "      <td>0.740903</td>\n",
              "      <td>0.74183</td>\n",
              "    </tr>\n",
              "    <tr>\n",
              "      <th>split4_test_score</th>\n",
              "      <td>0.799865</td>\n",
              "      <td>0.798096</td>\n",
              "      <td>0.795485</td>\n",
              "      <td>0.797675</td>\n",
              "      <td>0.797423</td>\n",
              "      <td>0.798602</td>\n",
              "      <td>0.799023</td>\n",
              "      <td>0.796159</td>\n",
              "      <td>0.794896</td>\n",
              "      <td>0.79498</td>\n",
              "      <td>0.791611</td>\n",
              "      <td>0.792621</td>\n",
              "      <td>0.789084</td>\n",
              "      <td>0.792958</td>\n",
              "      <td>0.787652</td>\n",
              "      <td>0.78841</td>\n",
              "      <td>0.791779</td>\n",
              "      <td>0.787736</td>\n",
              "      <td>0.755559</td>\n",
              "      <td>0.749326</td>\n",
              "      <td>0.75059</td>\n",
              "      <td>0.750337</td>\n",
              "      <td>0.750421</td>\n",
              "      <td>0.749579</td>\n",
              "      <td>0.75059</td>\n",
              "      <td>0.749326</td>\n",
              "      <td>0.749073</td>\n",
              "    </tr>\n",
              "    <tr>\n",
              "      <th>mean_test_score</th>\n",
              "      <td>0.800633</td>\n",
              "      <td>0.799724</td>\n",
              "      <td>0.799589</td>\n",
              "      <td>0.798898</td>\n",
              "      <td>0.798881</td>\n",
              "      <td>0.798123</td>\n",
              "      <td>0.798056</td>\n",
              "      <td>0.797972</td>\n",
              "      <td>0.797045</td>\n",
              "      <td>0.796624</td>\n",
              "      <td>0.794333</td>\n",
              "      <td>0.794333</td>\n",
              "      <td>0.79403</td>\n",
              "      <td>0.793188</td>\n",
              "      <td>0.792901</td>\n",
              "      <td>0.791924</td>\n",
              "      <td>0.791234</td>\n",
              "      <td>0.790678</td>\n",
              "      <td>0.750434</td>\n",
              "      <td>0.750232</td>\n",
              "      <td>0.74981</td>\n",
              "      <td>0.749389</td>\n",
              "      <td>0.748345</td>\n",
              "      <td>0.748025</td>\n",
              "      <td>0.747941</td>\n",
              "      <td>0.747789</td>\n",
              "      <td>0.747199</td>\n",
              "    </tr>\n",
              "    <tr>\n",
              "      <th>std_test_score</th>\n",
              "      <td>0.00176464</td>\n",
              "      <td>0.00249305</td>\n",
              "      <td>0.0035425</td>\n",
              "      <td>0.00147011</td>\n",
              "      <td>0.00284246</td>\n",
              "      <td>0.00214836</td>\n",
              "      <td>0.00126556</td>\n",
              "      <td>0.00226642</td>\n",
              "      <td>0.00272184</td>\n",
              "      <td>0.00170688</td>\n",
              "      <td>0.00224206</td>\n",
              "      <td>0.00219395</td>\n",
              "      <td>0.00311712</td>\n",
              "      <td>0.00139263</td>\n",
              "      <td>0.00366963</td>\n",
              "      <td>0.0030094</td>\n",
              "      <td>0.00299143</td>\n",
              "      <td>0.00285644</td>\n",
              "      <td>0.00812747</td>\n",
              "      <td>0.00746267</td>\n",
              "      <td>0.0086314</td>\n",
              "      <td>0.00899384</td>\n",
              "      <td>0.00824542</td>\n",
              "      <td>0.0082971</td>\n",
              "      <td>0.00793099</td>\n",
              "      <td>0.00849312</td>\n",
              "      <td>0.00729455</td>\n",
              "    </tr>\n",
              "    <tr>\n",
              "      <th>rank_test_score</th>\n",
              "      <td>1</td>\n",
              "      <td>2</td>\n",
              "      <td>3</td>\n",
              "      <td>4</td>\n",
              "      <td>5</td>\n",
              "      <td>6</td>\n",
              "      <td>7</td>\n",
              "      <td>8</td>\n",
              "      <td>9</td>\n",
              "      <td>10</td>\n",
              "      <td>11</td>\n",
              "      <td>12</td>\n",
              "      <td>13</td>\n",
              "      <td>14</td>\n",
              "      <td>15</td>\n",
              "      <td>16</td>\n",
              "      <td>17</td>\n",
              "      <td>18</td>\n",
              "      <td>19</td>\n",
              "      <td>20</td>\n",
              "      <td>21</td>\n",
              "      <td>22</td>\n",
              "      <td>23</td>\n",
              "      <td>24</td>\n",
              "      <td>25</td>\n",
              "      <td>26</td>\n",
              "      <td>27</td>\n",
              "    </tr>\n",
              "  </tbody>\n",
              "</table>\n",
              "</div>"
            ],
            "text/plain": [
              "                                                                                           20  ...                                                 1 \n",
              "mean_fit_time                                                                         3.47986  ...                                            1.93133\n",
              "std_fit_time                                                                        0.0657624  ...                                          0.0645342\n",
              "mean_score_time                                                                       0.32831  ...                                           0.161502\n",
              "std_score_time                                                                      0.0151846  ...                                          0.0222509\n",
              "param_randomforestclassifier__max_depth                                                    30  ...                                                 10\n",
              "param_randomforestclassifier__max_samples                                                 0.3  ...                                                0.3\n",
              "param_randomforestclassifier__n_estimators                                                 60  ...                                                 40\n",
              "params                                      {'randomforestclassifier__max_depth': 30, 'ran...  ...  {'randomforestclassifier__max_depth': 10, 'ran...\n",
              "split0_test_score                                                                    0.800387  ...                                           0.760044\n",
              "split1_test_score                                                                    0.798366  ...                                           0.738988\n",
              "split2_test_score                                                                    0.803756  ...                                           0.746062\n",
              "split3_test_score                                                                    0.800792  ...                                            0.74183\n",
              "split4_test_score                                                                    0.799865  ...                                           0.749073\n",
              "mean_test_score                                                                      0.800633  ...                                           0.747199\n",
              "std_test_score                                                                     0.00176464  ...                                         0.00729455\n",
              "rank_test_score                                                                             1  ...                                                 27\n",
              "\n",
              "[16 rows x 27 columns]"
            ]
          },
          "metadata": {
            "tags": []
          },
          "execution_count": 28
        }
      ]
    },
    {
      "cell_type": "markdown",
      "metadata": {
        "id": "K-CKDiO5xZqs"
      },
      "source": [
        "# Random Search cross-validation:"
      ]
    },
    {
      "cell_type": "code",
      "metadata": {
        "colab": {
          "base_uri": "https://localhost:8080/"
        },
        "id": "Bvd-c77VxZU4",
        "outputId": "bc1a0dbf-0c7a-488d-bb06-486b2748c96a"
      },
      "source": [
        "# random forest random search. \r\n",
        "%%time\r\n",
        "rf_rs = RandomizedSearchCV(rf, param_distributions=paras, n_iter=3, cv=5, n_jobs=-1, verbose=1)\r\n"
      ],
      "execution_count": null,
      "outputs": [
        {
          "output_type": "stream",
          "text": [
            "CPU times: user 24 µs, sys: 0 ns, total: 24 µs\n",
            "Wall time: 28.1 µs\n"
          ],
          "name": "stdout"
        }
      ]
    },
    {
      "cell_type": "code",
      "metadata": {
        "colab": {
          "base_uri": "https://localhost:8080/"
        },
        "id": "zgdiUEtf-Qgx",
        "outputId": "4b7cb1ef-25c9-48b7-9b40-bd921370d0e5"
      },
      "source": [
        "%%time\r\n",
        "rf_rs.fit(X_train, y_train)"
      ],
      "execution_count": null,
      "outputs": [
        {
          "output_type": "stream",
          "text": [
            "Fitting 5 folds for each of 3 candidates, totalling 15 fits\n"
          ],
          "name": "stdout"
        },
        {
          "output_type": "stream",
          "text": [
            "[Parallel(n_jobs=-1)]: Using backend LokyBackend with 2 concurrent workers.\n",
            "[Parallel(n_jobs=-1)]: Done  15 out of  15 | elapsed:   19.9s finished\n"
          ],
          "name": "stderr"
        },
        {
          "output_type": "stream",
          "text": [
            "CPU times: user 3.33 s, sys: 70.5 ms, total: 3.4 s\n",
            "Wall time: 22.2 s\n"
          ],
          "name": "stdout"
        },
        {
          "output_type": "execute_result",
          "data": {
            "text/plain": [
              "RandomizedSearchCV(cv=5, error_score=nan,\n",
              "                   estimator=Pipeline(memory=None,\n",
              "                                      steps=[('ordinalencoder',\n",
              "                                              OrdinalEncoder(cols=None,\n",
              "                                                             drop_invariant=False,\n",
              "                                                             handle_missing='value',\n",
              "                                                             handle_unknown='value',\n",
              "                                                             mapping=None,\n",
              "                                                             return_df=True,\n",
              "                                                             verbose=0)),\n",
              "                                             ('simpleimputer',\n",
              "                                              SimpleImputer(add_indicator=False,\n",
              "                                                            copy=True,\n",
              "                                                            fill_value=None,\n",
              "                                                            missing_values=nan,\n",
              "                                                            strategy='mean',\n",
              "                                                            verbose=0)...\n",
              "                                                                     warm_start=False))],\n",
              "                                      verbose=False),\n",
              "                   iid='deprecated', n_iter=3, n_jobs=-1,\n",
              "                   param_distributions={'randomforestclassifier__max_depth': array([10, 20, 30]),\n",
              "                                        'randomforestclassifier__max_samples': array([0.3, 0.5, 0.7]),\n",
              "                                        'randomforestclassifier__n_estimators': array([20, 40, 60])},\n",
              "                   pre_dispatch='2*n_jobs', random_state=None, refit=True,\n",
              "                   return_train_score=False, scoring=None, verbose=1)"
            ]
          },
          "metadata": {
            "tags": []
          },
          "execution_count": 40
        }
      ]
    },
    {
      "cell_type": "code",
      "metadata": {
        "colab": {
          "base_uri": "https://localhost:8080/"
        },
        "id": "V2SoC0x7-C8g",
        "outputId": "4d3aebed-2ee6-43ba-eb8e-07584c01491a"
      },
      "source": [
        "rf_rs.best_params_"
      ],
      "execution_count": null,
      "outputs": [
        {
          "output_type": "execute_result",
          "data": {
            "text/plain": [
              "{'randomforestclassifier__max_depth': 30,\n",
              " 'randomforestclassifier__max_samples': 0.3,\n",
              " 'randomforestclassifier__n_estimators': 40}"
            ]
          },
          "metadata": {
            "tags": []
          },
          "execution_count": 41
        }
      ]
    },
    {
      "cell_type": "code",
      "metadata": {
        "colab": {
          "base_uri": "https://localhost:8080/"
        },
        "id": "6pwcIl5Q_K0g",
        "outputId": "5d06d5de-7196-408e-b95e-d574c4b557f8"
      },
      "source": [
        "rf_gs.best_score_"
      ],
      "execution_count": null,
      "outputs": [
        {
          "output_type": "execute_result",
          "data": {
            "text/plain": [
              "0.7968261756328148"
            ]
          },
          "metadata": {
            "tags": []
          },
          "execution_count": 61
        }
      ]
    },
    {
      "cell_type": "code",
      "metadata": {
        "colab": {
          "base_uri": "https://localhost:8080/"
        },
        "id": "25z5ima3xZPw",
        "outputId": "60f11b92-d8c3-49fa-c293-6f5658958f01"
      },
      "source": [
        "rf_rs.best_score_"
      ],
      "execution_count": null,
      "outputs": [
        {
          "output_type": "execute_result",
          "data": {
            "text/plain": [
              "0.797837046693408"
            ]
          },
          "metadata": {
            "tags": []
          },
          "execution_count": 50
        }
      ]
    },
    {
      "cell_type": "code",
      "metadata": {
        "colab": {
          "base_uri": "https://localhost:8080/"
        },
        "id": "SRiwl0-VxZHM",
        "outputId": "62f3f86a-da49-44cc-980a-36bf3362e2f5"
      },
      "source": [
        "y_pred1 = rf_rs.predict(X_test)"
      ],
      "execution_count": null,
      "outputs": [
        {
          "output_type": "execute_result",
          "data": {
            "text/plain": [
              "array(['non functional', 'functional', 'functional', ..., 'functional',\n",
              "       'functional', 'non functional'], dtype=object)"
            ]
          },
          "metadata": {
            "tags": []
          },
          "execution_count": 43
        }
      ]
    },
    {
      "cell_type": "code",
      "metadata": {
        "id": "kk903enC-gew"
      },
      "source": [
        "y_pred2 = rf_gs.predict(X_test)"
      ],
      "execution_count": null,
      "outputs": []
    },
    {
      "cell_type": "code",
      "metadata": {
        "id": "NVy6buyg-8C7"
      },
      "source": [
        "data = {'id': X_test.index, 'status_group': y_pred2}\r\n",
        "submission3 = pd.DataFrame(data)\r\n",
        "submission3.to_csv('kaggle_submission3.csv', index=False)"
      ],
      "execution_count": null,
      "outputs": []
    },
    {
      "cell_type": "code",
      "metadata": {
        "id": "XVd-TMH8H2nc",
        "colab": {
          "base_uri": "https://localhost:8080/",
          "height": 204
        },
        "outputId": "d628a636-da80-427d-9647-cde2565d1c42"
      },
      "source": [
        "submission3.head()"
      ],
      "execution_count": null,
      "outputs": [
        {
          "output_type": "execute_result",
          "data": {
            "text/html": [
              "<div>\n",
              "<style scoped>\n",
              "    .dataframe tbody tr th:only-of-type {\n",
              "        vertical-align: middle;\n",
              "    }\n",
              "\n",
              "    .dataframe tbody tr th {\n",
              "        vertical-align: top;\n",
              "    }\n",
              "\n",
              "    .dataframe thead th {\n",
              "        text-align: right;\n",
              "    }\n",
              "</style>\n",
              "<table border=\"1\" class=\"dataframe\">\n",
              "  <thead>\n",
              "    <tr style=\"text-align: right;\">\n",
              "      <th></th>\n",
              "      <th>id</th>\n",
              "      <th>status_group</th>\n",
              "    </tr>\n",
              "  </thead>\n",
              "  <tbody>\n",
              "    <tr>\n",
              "      <th>0</th>\n",
              "      <td>50785</td>\n",
              "      <td>non functional</td>\n",
              "    </tr>\n",
              "    <tr>\n",
              "      <th>1</th>\n",
              "      <td>51630</td>\n",
              "      <td>functional</td>\n",
              "    </tr>\n",
              "    <tr>\n",
              "      <th>2</th>\n",
              "      <td>17168</td>\n",
              "      <td>functional</td>\n",
              "    </tr>\n",
              "    <tr>\n",
              "      <th>3</th>\n",
              "      <td>45559</td>\n",
              "      <td>non functional</td>\n",
              "    </tr>\n",
              "    <tr>\n",
              "      <th>4</th>\n",
              "      <td>49871</td>\n",
              "      <td>functional</td>\n",
              "    </tr>\n",
              "  </tbody>\n",
              "</table>\n",
              "</div>"
            ],
            "text/plain": [
              "      id    status_group\n",
              "0  50785  non functional\n",
              "1  51630      functional\n",
              "2  17168      functional\n",
              "3  45559  non functional\n",
              "4  49871      functional"
            ]
          },
          "metadata": {
            "tags": []
          },
          "execution_count": 65
        }
      ]
    },
    {
      "cell_type": "code",
      "metadata": {
        "id": "xZTve3oPH39m"
      },
      "source": [
        ""
      ],
      "execution_count": null,
      "outputs": []
    }
  ]
}