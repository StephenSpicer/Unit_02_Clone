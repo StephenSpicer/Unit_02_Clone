{
  "nbformat": 4,
  "nbformat_minor": 0,
  "metadata": {
    "kernelspec": {
      "display_name": "Python 3",
      "language": "python",
      "name": "python3"
    },
    "language_info": {
      "codemirror_mode": {
        "name": "ipython",
        "version": 3
      },
      "file_extension": ".py",
      "mimetype": "text/x-python",
      "name": "python",
      "nbconvert_exporter": "python",
      "pygments_lexer": "ipython3",
      "version": "3.7.3"
    },
    "colab": {
      "name": "Stephen_Lupsha_LS_DS_213_assignment.ipynb",
      "provenance": [],
      "include_colab_link": true
    }
  },
  "cells": [
    {
      "cell_type": "markdown",
      "metadata": {
        "id": "view-in-github",
        "colab_type": "text"
      },
      "source": [
        "<a href=\"https://colab.research.google.com/github/StephenSpicer/Unit_02_Clone/blob/master/Stephen_Lupsha_LS_DS_213_assignment.ipynb\" target=\"_parent\"><img src=\"https://colab.research.google.com/assets/colab-badge.svg\" alt=\"Open In Colab\"/></a>"
      ]
    },
    {
      "cell_type": "markdown",
      "metadata": {
        "id": "9SyOEGNEhP1P"
      },
      "source": [
        "Lambda School Data Science\n",
        "\n",
        "*Unit 2, Sprint 1, Module 3*\n",
        "\n",
        "---"
      ]
    },
    {
      "cell_type": "markdown",
      "metadata": {
        "id": "7IXUfiQ2UKj6"
      },
      "source": [
        "# Ridge Regression\n",
        "\n",
        "## Assignment\n",
        "\n",
        "We're going back to our other **New York City** real estate dataset. Instead of predicting apartment rents, you'll predict property sales prices.\n",
        "\n",
        "But not just for condos in Tribeca...\n",
        "\n",
        "- [ ] Use a subset of the data where `BUILDING_CLASS_CATEGORY` == `'01 ONE FAMILY DWELLINGS'` and the sale price was more than 100 thousand and less than 2 million.\n",
        "- [ ] Do train/test split. Use data from January — March 2019 to train. Use data from April 2019 to test.\n",
        "- [ ] Do one-hot encoding of categorical features.\n",
        "- [ ] Do feature selection with `SelectKBest`.\n",
        "- [ ] Fit a ridge regression model with multiple features. Use the `normalize=True` parameter (or do [feature scaling](https://scikit-learn.org/stable/modules/preprocessing.html) beforehand — use the scaler's `fit_transform` method with the train set, and the scaler's `transform` method with the test set)\n",
        "- [ ] Get mean absolute error for the test set.\n",
        "- [ ] As always, commit your notebook to your fork of the GitHub repo.\n",
        "\n",
        "The [NYC Department of Finance](https://www1.nyc.gov/site/finance/taxes/property-rolling-sales-data.page) has a glossary of property sales terms and NYC Building Class Code Descriptions. The data comes from the [NYC OpenData](https://data.cityofnewyork.us/browse?q=NYC%20calendar%20sales) portal.\n",
        "\n",
        "\n",
        "## Stretch Goals\n",
        "\n",
        "Don't worry, you aren't expected to do all these stretch goals! These are just ideas to consider and choose from.\n",
        "\n",
        "- [ ] Add your own stretch goal(s) !\n",
        "- [ ] Instead of `Ridge`, try `LinearRegression`. Depending on how many features you select, your errors will probably blow up! 💥\n",
        "- [ ] Instead of `Ridge`, try [`RidgeCV`](https://scikit-learn.org/stable/modules/generated/sklearn.linear_model.RidgeCV.html).\n",
        "- [ ] Learn more about feature selection:\n",
        "    - [\"Permutation importance\"](https://www.kaggle.com/dansbecker/permutation-importance)\n",
        "    - [scikit-learn's User Guide for Feature Selection](https://scikit-learn.org/stable/modules/feature_selection.html)\n",
        "    - [mlxtend](http://rasbt.github.io/mlxtend/) library\n",
        "    - scikit-learn-contrib libraries: [boruta_py](https://github.com/scikit-learn-contrib/boruta_py) & [stability-selection](https://github.com/scikit-learn-contrib/stability-selection)\n",
        "    - [_Feature Engineering and Selection_](http://www.feat.engineering/) by Kuhn & Johnson.\n",
        "- [ ] Try [statsmodels](https://www.statsmodels.org/stable/index.html) if you’re interested in more inferential statistical approach to linear regression and feature selection, looking at p values and 95% confidence intervals for the coefficients.\n",
        "- [ ] Read [_An Introduction to Statistical Learning_](http://faculty.marshall.usc.edu/gareth-james/ISL/ISLR%20Seventh%20Printing.pdf), Chapters 1-3, for more math & theory, but in an accessible, readable way.\n",
        "- [ ] Try [scikit-learn pipelines](https://scikit-learn.org/stable/modules/compose.html)."
      ]
    },
    {
      "cell_type": "code",
      "metadata": {
        "id": "o9eSnDYhUGD7"
      },
      "source": [
        "%%capture\n",
        "import sys\n",
        "\n",
        "# If you're on Colab:\n",
        "if 'google.colab' in sys.modules:\n",
        "    DATA_PATH = 'https://raw.githubusercontent.com/LambdaSchool/DS-Unit-2-Applied-Modeling/master/data/'\n",
        "    !pip install category_encoders==2.*\n",
        "\n",
        "# If you're working locally:\n",
        "else:\n",
        "    DATA_PATH = '../data/'\n",
        "    \n",
        "# Ignore this Numpy warning when using Plotly Express:\n",
        "# FutureWarning: Method .ptp is deprecated and will be removed in a future version. Use numpy.ptp instead.\n",
        "import warnings\n",
        "warnings.filterwarnings(action='ignore', category=FutureWarning, module='numpy')"
      ],
      "execution_count": null,
      "outputs": []
    },
    {
      "cell_type": "code",
      "metadata": {
        "id": "QJBD4ruICm1m"
      },
      "source": [
        "import pandas as pd\n",
        "import pandas_profiling\n",
        "\n",
        "# # Read New York City property sales data\n",
        "\n",
        "df = pd.read_csv(DATA_PATH+'condos/NYC_Citywide_Rolling_Calendar_Sales.csv')\n",
        "\n"
      ],
      "execution_count": null,
      "outputs": []
    },
    {
      "cell_type": "code",
      "metadata": {
        "id": "ha9U3pctlkuq"
      },
      "source": [
        "def wrangle(filepath):\r\n",
        "  #import data\r\n",
        "  df = pd.read_csv(filepath,\r\n",
        "                   parse_dates=['SALE DATE'],\r\n",
        "                   index_col='SALE DATE')\r\n",
        "  # Change column names: replace spaces with underscores\r\n",
        "\r\n",
        "  df.columns = [col.replace(' ', '_') for col in df]\r\n",
        "  # Reduce cardinality for NEIGHBORHOOD feature\r\n",
        "\r\n",
        "# Get a list of the top 10 neighborhoods\r\n",
        "  top10 = df['NEIGHBORHOOD'].value_counts()[:10].index\r\n",
        "\r\n",
        "# At locations where the neighborhood is NOT in the top 10, \r\n",
        "# replace the neighborhood with 'OTHER'\r\n",
        "  df.loc[~df['NEIGHBORHOOD'].isin(top10), 'NEIGHBORHOOD'] = 'OTHER'\r\n",
        "\r\n",
        "#remove outliers using np.percentile function \r\n",
        "  df['SALE_PRICE'] = (df['SALE_PRICE'].str.replace('$','').str.replace('-','').str.replace(',','').astype(int))\r\n",
        "    \r\n",
        "\r\n",
        "\r\n",
        "  df = df[(df['BUILDING_CLASS_CATEGORY'] == '01 ONE FAMILY DWELLINGS') & \r\n",
        "          (df['SALE_PRICE'] >= 100000) &\r\n",
        "          (df['SALE_PRICE'] <= 2000000)]\r\n",
        "\r\n",
        "# BOROUGH is a numeric column, but arguably should be a categorical feature,\r\n",
        "# so convert it from a number to a string\r\n",
        "  df['BOROUGH'] = df['BOROUGH'].astype(str)\r\n",
        "  #remove high cardinality categorical variables\r\n",
        "  high_cardinality = [col for col in df.select_dtypes('object').columns \r\n",
        "  if df[col].nunique() > 12]\r\n",
        "  df.drop(columns=high_cardinality,inplace=True)\r\n",
        "  useless = ['EASE-MENT', 'APARTMENT_NUMBER']\r\n",
        "  df.drop(useless, axis=1, inplace=True)\r\n",
        "  return df\r\n",
        "\r\n",
        "\r\n",
        "df = wrangle(DATA_PATH +'condos/NYC_Citywide_Rolling_Calendar_Sales.csv')"
      ],
      "execution_count": null,
      "outputs": []
    },
    {
      "cell_type": "code",
      "metadata": {
        "colab": {
          "base_uri": "https://localhost:8080/"
        },
        "id": "h0gD1DiXuVQH",
        "outputId": "09454164-51ff-47aa-d604-07214620d580"
      },
      "source": [
        "df.info()"
      ],
      "execution_count": null,
      "outputs": [
        {
          "output_type": "stream",
          "text": [
            "<class 'pandas.core.frame.DataFrame'>\n",
            "DatetimeIndex: 3164 entries, 2019-01-01 to 2019-04-30\n",
            "Data columns (total 15 columns):\n",
            " #   Column                          Non-Null Count  Dtype  \n",
            "---  ------                          --------------  -----  \n",
            " 0   BOROUGH                         3164 non-null   object \n",
            " 1   NEIGHBORHOOD                    3164 non-null   object \n",
            " 2   BUILDING_CLASS_CATEGORY         3164 non-null   object \n",
            " 3   TAX_CLASS_AT_PRESENT            3164 non-null   object \n",
            " 4   BLOCK                           3164 non-null   int64  \n",
            " 5   LOT                             3164 non-null   int64  \n",
            " 6   ZIP_CODE                        3164 non-null   float64\n",
            " 7   RESIDENTIAL_UNITS               3164 non-null   float64\n",
            " 8   COMMERCIAL_UNITS                3164 non-null   float64\n",
            " 9   TOTAL_UNITS                     3164 non-null   float64\n",
            " 10  GROSS_SQUARE_FEET               3164 non-null   float64\n",
            " 11  YEAR_BUILT                      3164 non-null   float64\n",
            " 12  TAX_CLASS_AT_TIME_OF_SALE       3164 non-null   int64  \n",
            " 13  BUILDING_CLASS_AT_TIME_OF_SALE  3164 non-null   object \n",
            " 14  SALE_PRICE                      3164 non-null   int64  \n",
            "dtypes: float64(6), int64(4), object(5)\n",
            "memory usage: 395.5+ KB\n"
          ],
          "name": "stdout"
        }
      ]
    },
    {
      "cell_type": "code",
      "metadata": {
        "colab": {
          "base_uri": "https://localhost:8080/",
          "height": 357
        },
        "id": "eq26tdXfqbQi",
        "outputId": "2cdf8dd2-c825-4a20-84f4-4ff657ff907e"
      },
      "source": [
        "df.head()"
      ],
      "execution_count": null,
      "outputs": [
        {
          "output_type": "execute_result",
          "data": {
            "text/html": [
              "<div>\n",
              "<style scoped>\n",
              "    .dataframe tbody tr th:only-of-type {\n",
              "        vertical-align: middle;\n",
              "    }\n",
              "\n",
              "    .dataframe tbody tr th {\n",
              "        vertical-align: top;\n",
              "    }\n",
              "\n",
              "    .dataframe thead th {\n",
              "        text-align: right;\n",
              "    }\n",
              "</style>\n",
              "<table border=\"1\" class=\"dataframe\">\n",
              "  <thead>\n",
              "    <tr style=\"text-align: right;\">\n",
              "      <th></th>\n",
              "      <th>BOROUGH</th>\n",
              "      <th>NEIGHBORHOOD</th>\n",
              "      <th>BUILDING_CLASS_CATEGORY</th>\n",
              "      <th>TAX_CLASS_AT_PRESENT</th>\n",
              "      <th>BLOCK</th>\n",
              "      <th>LOT</th>\n",
              "      <th>ZIP_CODE</th>\n",
              "      <th>RESIDENTIAL_UNITS</th>\n",
              "      <th>COMMERCIAL_UNITS</th>\n",
              "      <th>TOTAL_UNITS</th>\n",
              "      <th>GROSS_SQUARE_FEET</th>\n",
              "      <th>YEAR_BUILT</th>\n",
              "      <th>TAX_CLASS_AT_TIME_OF_SALE</th>\n",
              "      <th>BUILDING_CLASS_AT_TIME_OF_SALE</th>\n",
              "      <th>SALE_PRICE</th>\n",
              "    </tr>\n",
              "    <tr>\n",
              "      <th>SALE DATE</th>\n",
              "      <th></th>\n",
              "      <th></th>\n",
              "      <th></th>\n",
              "      <th></th>\n",
              "      <th></th>\n",
              "      <th></th>\n",
              "      <th></th>\n",
              "      <th></th>\n",
              "      <th></th>\n",
              "      <th></th>\n",
              "      <th></th>\n",
              "      <th></th>\n",
              "      <th></th>\n",
              "      <th></th>\n",
              "      <th></th>\n",
              "    </tr>\n",
              "  </thead>\n",
              "  <tbody>\n",
              "    <tr>\n",
              "      <th>2019-01-01</th>\n",
              "      <td>3</td>\n",
              "      <td>OTHER</td>\n",
              "      <td>01 ONE FAMILY DWELLINGS</td>\n",
              "      <td>1</td>\n",
              "      <td>5495</td>\n",
              "      <td>801</td>\n",
              "      <td>11230.0</td>\n",
              "      <td>1.0</td>\n",
              "      <td>0.0</td>\n",
              "      <td>1.0</td>\n",
              "      <td>1325.0</td>\n",
              "      <td>1930.0</td>\n",
              "      <td>1</td>\n",
              "      <td>A9</td>\n",
              "      <td>550000</td>\n",
              "    </tr>\n",
              "    <tr>\n",
              "      <th>2019-01-01</th>\n",
              "      <td>4</td>\n",
              "      <td>OTHER</td>\n",
              "      <td>01 ONE FAMILY DWELLINGS</td>\n",
              "      <td>1</td>\n",
              "      <td>7918</td>\n",
              "      <td>72</td>\n",
              "      <td>11427.0</td>\n",
              "      <td>1.0</td>\n",
              "      <td>0.0</td>\n",
              "      <td>1.0</td>\n",
              "      <td>2001.0</td>\n",
              "      <td>1940.0</td>\n",
              "      <td>1</td>\n",
              "      <td>A1</td>\n",
              "      <td>200000</td>\n",
              "    </tr>\n",
              "    <tr>\n",
              "      <th>2019-01-02</th>\n",
              "      <td>2</td>\n",
              "      <td>OTHER</td>\n",
              "      <td>01 ONE FAMILY DWELLINGS</td>\n",
              "      <td>1</td>\n",
              "      <td>4210</td>\n",
              "      <td>19</td>\n",
              "      <td>10461.0</td>\n",
              "      <td>1.0</td>\n",
              "      <td>0.0</td>\n",
              "      <td>1.0</td>\n",
              "      <td>2043.0</td>\n",
              "      <td>1925.0</td>\n",
              "      <td>1</td>\n",
              "      <td>A1</td>\n",
              "      <td>810000</td>\n",
              "    </tr>\n",
              "    <tr>\n",
              "      <th>2019-01-02</th>\n",
              "      <td>3</td>\n",
              "      <td>OTHER</td>\n",
              "      <td>01 ONE FAMILY DWELLINGS</td>\n",
              "      <td>1</td>\n",
              "      <td>5212</td>\n",
              "      <td>69</td>\n",
              "      <td>11226.0</td>\n",
              "      <td>1.0</td>\n",
              "      <td>0.0</td>\n",
              "      <td>1.0</td>\n",
              "      <td>2680.0</td>\n",
              "      <td>1899.0</td>\n",
              "      <td>1</td>\n",
              "      <td>A1</td>\n",
              "      <td>125000</td>\n",
              "    </tr>\n",
              "    <tr>\n",
              "      <th>2019-01-02</th>\n",
              "      <td>3</td>\n",
              "      <td>OTHER</td>\n",
              "      <td>01 ONE FAMILY DWELLINGS</td>\n",
              "      <td>1</td>\n",
              "      <td>7930</td>\n",
              "      <td>121</td>\n",
              "      <td>11203.0</td>\n",
              "      <td>1.0</td>\n",
              "      <td>0.0</td>\n",
              "      <td>1.0</td>\n",
              "      <td>1872.0</td>\n",
              "      <td>1940.0</td>\n",
              "      <td>1</td>\n",
              "      <td>A5</td>\n",
              "      <td>620000</td>\n",
              "    </tr>\n",
              "  </tbody>\n",
              "</table>\n",
              "</div>"
            ],
            "text/plain": [
              "           BOROUGH NEIGHBORHOOD  ... BUILDING_CLASS_AT_TIME_OF_SALE SALE_PRICE\n",
              "SALE DATE                        ...                                          \n",
              "2019-01-01       3        OTHER  ...                             A9     550000\n",
              "2019-01-01       4        OTHER  ...                             A1     200000\n",
              "2019-01-02       2        OTHER  ...                             A1     810000\n",
              "2019-01-02       3        OTHER  ...                             A1     125000\n",
              "2019-01-02       3        OTHER  ...                             A5     620000\n",
              "\n",
              "[5 rows x 15 columns]"
            ]
          },
          "metadata": {
            "tags": []
          },
          "execution_count": 29
        }
      ]
    },
    {
      "cell_type": "code",
      "metadata": {
        "colab": {
          "base_uri": "https://localhost:8080/"
        },
        "id": "Y5m15tdhrqfU",
        "outputId": "3d521adf-1c3e-481b-ba78-60be3c0218d6"
      },
      "source": [
        "df.columns"
      ],
      "execution_count": null,
      "outputs": [
        {
          "output_type": "execute_result",
          "data": {
            "text/plain": [
              "Index(['BOROUGH', 'NEIGHBORHOOD', 'BUILDING_CLASS_CATEGORY',\n",
              "       'TAX_CLASS_AT_PRESENT', 'BLOCK', 'LOT', 'ZIP_CODE', 'RESIDENTIAL_UNITS',\n",
              "       'COMMERCIAL_UNITS', 'TOTAL_UNITS', 'GROSS_SQUARE_FEET', 'YEAR_BUILT',\n",
              "       'TAX_CLASS_AT_TIME_OF_SALE', 'BUILDING_CLASS_AT_TIME_OF_SALE',\n",
              "       'SALE_PRICE'],\n",
              "      dtype='object')"
            ]
          },
          "metadata": {
            "tags": []
          },
          "execution_count": 30
        }
      ]
    },
    {
      "cell_type": "code",
      "metadata": {
        "colab": {
          "base_uri": "https://localhost:8080/"
        },
        "id": "L0DmT7LdqfGN",
        "outputId": "22c25281-14da-44f2-a842-9edb11cbcb97"
      },
      "source": [
        "df['NEIGHBORHOOD'].value_counts()"
      ],
      "execution_count": null,
      "outputs": [
        {
          "output_type": "execute_result",
          "data": {
            "text/plain": [
              "OTHER                 2970\n",
              "FLUSHING-NORTH          98\n",
              "EAST NEW YORK           31\n",
              "FOREST HILLS            22\n",
              "BOROUGH PARK            19\n",
              "ASTORIA                 14\n",
              "BEDFORD STUYVESANT      10\n",
              "Name: NEIGHBORHOOD, dtype: int64"
            ]
          },
          "metadata": {
            "tags": []
          },
          "execution_count": 31
        }
      ]
    },
    {
      "cell_type": "code",
      "metadata": {
        "colab": {
          "base_uri": "https://localhost:8080/"
        },
        "id": "O1I3Fn9usjLQ",
        "outputId": "62bac4f0-6a5e-45e7-909e-119aee328a9c"
      },
      "source": [
        "print(df['SALE_PRICE'].min())\r\n",
        "print(df['SALE_PRICE'].max())\r\n"
      ],
      "execution_count": null,
      "outputs": [
        {
          "output_type": "stream",
          "text": [
            "100000\n",
            "2000000\n"
          ],
          "name": "stdout"
        }
      ]
    },
    {
      "cell_type": "code",
      "metadata": {
        "colab": {
          "base_uri": "https://localhost:8080/"
        },
        "id": "YbITYxw7s6W7",
        "outputId": "c76eb3e8-46b5-4bc2-bd35-d82b16148ddc"
      },
      "source": [
        "df['BUILDING_CLASS_CATEGORY'].nunique()"
      ],
      "execution_count": null,
      "outputs": [
        {
          "output_type": "execute_result",
          "data": {
            "text/plain": [
              "1"
            ]
          },
          "metadata": {
            "tags": []
          },
          "execution_count": 33
        }
      ]
    },
    {
      "cell_type": "code",
      "metadata": {
        "id": "ugp15TZghP1V"
      },
      "source": [
        ""
      ],
      "execution_count": null,
      "outputs": []
    },
    {
      "cell_type": "code",
      "metadata": {
        "id": "HrVXMuQghP1V"
      },
      "source": [
        ""
      ],
      "execution_count": null,
      "outputs": []
    },
    {
      "cell_type": "code",
      "metadata": {
        "id": "jYMWPwdQhP1V",
        "colab": {
          "base_uri": "https://localhost:8080/",
          "height": 357
        },
        "outputId": "9b8c5913-9f81-42e4-a7f1-273396d0ad86"
      },
      "source": [
        "df.head()"
      ],
      "execution_count": null,
      "outputs": [
        {
          "output_type": "execute_result",
          "data": {
            "text/html": [
              "<div>\n",
              "<style scoped>\n",
              "    .dataframe tbody tr th:only-of-type {\n",
              "        vertical-align: middle;\n",
              "    }\n",
              "\n",
              "    .dataframe tbody tr th {\n",
              "        vertical-align: top;\n",
              "    }\n",
              "\n",
              "    .dataframe thead th {\n",
              "        text-align: right;\n",
              "    }\n",
              "</style>\n",
              "<table border=\"1\" class=\"dataframe\">\n",
              "  <thead>\n",
              "    <tr style=\"text-align: right;\">\n",
              "      <th></th>\n",
              "      <th>BOROUGH</th>\n",
              "      <th>NEIGHBORHOOD</th>\n",
              "      <th>BUILDING_CLASS_CATEGORY</th>\n",
              "      <th>TAX_CLASS_AT_PRESENT</th>\n",
              "      <th>BLOCK</th>\n",
              "      <th>LOT</th>\n",
              "      <th>ZIP_CODE</th>\n",
              "      <th>RESIDENTIAL_UNITS</th>\n",
              "      <th>COMMERCIAL_UNITS</th>\n",
              "      <th>TOTAL_UNITS</th>\n",
              "      <th>GROSS_SQUARE_FEET</th>\n",
              "      <th>YEAR_BUILT</th>\n",
              "      <th>TAX_CLASS_AT_TIME_OF_SALE</th>\n",
              "      <th>BUILDING_CLASS_AT_TIME_OF_SALE</th>\n",
              "      <th>SALE_PRICE</th>\n",
              "    </tr>\n",
              "    <tr>\n",
              "      <th>SALE DATE</th>\n",
              "      <th></th>\n",
              "      <th></th>\n",
              "      <th></th>\n",
              "      <th></th>\n",
              "      <th></th>\n",
              "      <th></th>\n",
              "      <th></th>\n",
              "      <th></th>\n",
              "      <th></th>\n",
              "      <th></th>\n",
              "      <th></th>\n",
              "      <th></th>\n",
              "      <th></th>\n",
              "      <th></th>\n",
              "      <th></th>\n",
              "    </tr>\n",
              "  </thead>\n",
              "  <tbody>\n",
              "    <tr>\n",
              "      <th>2019-01-01</th>\n",
              "      <td>3</td>\n",
              "      <td>OTHER</td>\n",
              "      <td>01 ONE FAMILY DWELLINGS</td>\n",
              "      <td>1</td>\n",
              "      <td>5495</td>\n",
              "      <td>801</td>\n",
              "      <td>11230.0</td>\n",
              "      <td>1.0</td>\n",
              "      <td>0.0</td>\n",
              "      <td>1.0</td>\n",
              "      <td>1325.0</td>\n",
              "      <td>1930.0</td>\n",
              "      <td>1</td>\n",
              "      <td>A9</td>\n",
              "      <td>550000</td>\n",
              "    </tr>\n",
              "    <tr>\n",
              "      <th>2019-01-01</th>\n",
              "      <td>4</td>\n",
              "      <td>OTHER</td>\n",
              "      <td>01 ONE FAMILY DWELLINGS</td>\n",
              "      <td>1</td>\n",
              "      <td>7918</td>\n",
              "      <td>72</td>\n",
              "      <td>11427.0</td>\n",
              "      <td>1.0</td>\n",
              "      <td>0.0</td>\n",
              "      <td>1.0</td>\n",
              "      <td>2001.0</td>\n",
              "      <td>1940.0</td>\n",
              "      <td>1</td>\n",
              "      <td>A1</td>\n",
              "      <td>200000</td>\n",
              "    </tr>\n",
              "    <tr>\n",
              "      <th>2019-01-02</th>\n",
              "      <td>2</td>\n",
              "      <td>OTHER</td>\n",
              "      <td>01 ONE FAMILY DWELLINGS</td>\n",
              "      <td>1</td>\n",
              "      <td>4210</td>\n",
              "      <td>19</td>\n",
              "      <td>10461.0</td>\n",
              "      <td>1.0</td>\n",
              "      <td>0.0</td>\n",
              "      <td>1.0</td>\n",
              "      <td>2043.0</td>\n",
              "      <td>1925.0</td>\n",
              "      <td>1</td>\n",
              "      <td>A1</td>\n",
              "      <td>810000</td>\n",
              "    </tr>\n",
              "    <tr>\n",
              "      <th>2019-01-02</th>\n",
              "      <td>3</td>\n",
              "      <td>OTHER</td>\n",
              "      <td>01 ONE FAMILY DWELLINGS</td>\n",
              "      <td>1</td>\n",
              "      <td>5212</td>\n",
              "      <td>69</td>\n",
              "      <td>11226.0</td>\n",
              "      <td>1.0</td>\n",
              "      <td>0.0</td>\n",
              "      <td>1.0</td>\n",
              "      <td>2680.0</td>\n",
              "      <td>1899.0</td>\n",
              "      <td>1</td>\n",
              "      <td>A1</td>\n",
              "      <td>125000</td>\n",
              "    </tr>\n",
              "    <tr>\n",
              "      <th>2019-01-02</th>\n",
              "      <td>3</td>\n",
              "      <td>OTHER</td>\n",
              "      <td>01 ONE FAMILY DWELLINGS</td>\n",
              "      <td>1</td>\n",
              "      <td>7930</td>\n",
              "      <td>121</td>\n",
              "      <td>11203.0</td>\n",
              "      <td>1.0</td>\n",
              "      <td>0.0</td>\n",
              "      <td>1.0</td>\n",
              "      <td>1872.0</td>\n",
              "      <td>1940.0</td>\n",
              "      <td>1</td>\n",
              "      <td>A5</td>\n",
              "      <td>620000</td>\n",
              "    </tr>\n",
              "  </tbody>\n",
              "</table>\n",
              "</div>"
            ],
            "text/plain": [
              "           BOROUGH NEIGHBORHOOD  ... BUILDING_CLASS_AT_TIME_OF_SALE SALE_PRICE\n",
              "SALE DATE                        ...                                          \n",
              "2019-01-01       3        OTHER  ...                             A9     550000\n",
              "2019-01-01       4        OTHER  ...                             A1     200000\n",
              "2019-01-02       2        OTHER  ...                             A1     810000\n",
              "2019-01-02       3        OTHER  ...                             A1     125000\n",
              "2019-01-02       3        OTHER  ...                             A5     620000\n",
              "\n",
              "[5 rows x 15 columns]"
            ]
          },
          "metadata": {
            "tags": []
          },
          "execution_count": 34
        }
      ]
    },
    {
      "cell_type": "code",
      "metadata": {
        "id": "M9qp9d7Oetgt"
      },
      "source": [
        "# Splitting Data into target vector and feature matrix.\r\n",
        "\r\n",
        "target = 'SALE_PRICE'\r\n",
        "y = df[target]\r\n",
        "X = df.drop(columns=target)\r\n"
      ],
      "execution_count": null,
      "outputs": []
    },
    {
      "cell_type": "code",
      "metadata": {
        "id": "2dpc_zBsDnvs"
      },
      "source": [
        "# now for the cutoff\r\n",
        "cutoff = '2019-04-01'\r\n",
        "mask = X.index < cutoff\r\n",
        "\r\n",
        "X_train, y_train = X.loc[mask], y.loc[mask]\r\n",
        "X_test, y_test = X.loc[~mask], y.loc[~mask]"
      ],
      "execution_count": null,
      "outputs": []
    },
    {
      "cell_type": "code",
      "metadata": {
        "colab": {
          "base_uri": "https://localhost:8080/"
        },
        "id": "D407meaPD4e2",
        "outputId": "83e1e1f2-73f0-43fe-f3db-fd81290d0ff4"
      },
      "source": [
        "# ok, now I import MAE and MSE from SKlearn\r\n",
        "\r\n",
        "from sklearn.metrics import mean_absolute_error, mean_squared_error\r\n",
        "\r\n",
        "y_pred = [y_train.mean()] * len(y_train)\r\n",
        "print('Mean Sale Price:', y_train.mean())\r\n",
        "print('Baseline Mean Absolute Error:', mean_absolute_error(y_train, y_pred))\r\n",
        "\r\n",
        "# that seems awfully low for a mean sale price in NYC... "
      ],
      "execution_count": null,
      "outputs": [
        {
          "output_type": "stream",
          "text": [
            "Mean Sale Price: 621011.2721493841\n",
            "Baseline Mean Absolute Error: 216497.12357684076\n"
          ],
          "name": "stdout"
        }
      ]
    },
    {
      "cell_type": "markdown",
      "metadata": {
        "id": "MNlZoWWtFF5j"
      },
      "source": [
        "Now I want to move into my \"model building\"\r\n",
        "\r\n",
        "1. \"import\" - in this case one hot and skb\r\n",
        "2. Instantiate\r\n",
        "3. fit the transformer to the TRAINING DATA\r\n",
        "4. transform training data.... "
      ]
    },
    {
      "cell_type": "code",
      "metadata": {
        "id": "SQCielEtEirZ"
      },
      "source": [
        "# first we need these. \r\n",
        "\r\n",
        "from sklearn.linear_model import LinearRegression, Ridge\r\n",
        "from category_encoders import OneHotEncoder\r\n",
        "from sklearn.feature_selection import SelectKBest"
      ],
      "execution_count": null,
      "outputs": []
    },
    {
      "cell_type": "markdown",
      "metadata": {
        "id": "jtmHuUKXMQx0"
      },
      "source": [
        "## Next, one hot and select k best"
      ]
    },
    {
      "cell_type": "code",
      "metadata": {
        "id": "O45Qv9FFEi8f"
      },
      "source": [
        "ohe = OneHotEncoder(use_cat_names=True)\r\n",
        "skb = SelectKBest(k=5)\r\n",
        "\r\n",
        "# ok, got one-hot and selectkbest going. that should be my \"instantiation\""
      ],
      "execution_count": null,
      "outputs": []
    },
    {
      "cell_type": "code",
      "metadata": {
        "colab": {
          "base_uri": "https://localhost:8080/"
        },
        "id": "iWgFf49KMdaB",
        "outputId": "f5da7c33-d406-4669-a53a-c67149ef1c60"
      },
      "source": [
        "# fitting ohe\r\n",
        "# now we want to do othe actually transforming... \r\n",
        "\r\n",
        "ohe.fit(X_train)\r\n",
        "\r\n",
        "XT_train = ohe.transform(X_train)\r\n",
        "XT_test = ohe.transform(X_test)\r\n"
      ],
      "execution_count": null,
      "outputs": [
        {
          "output_type": "stream",
          "text": [
            "/usr/local/lib/python3.6/dist-packages/category_encoders/utils.py:21: FutureWarning: is_categorical is deprecated and will be removed in a future version.  Use is_categorical_dtype instead\n",
            "  elif pd.api.types.is_categorical(cols):\n"
          ],
          "name": "stderr"
        }
      ]
    },
    {
      "cell_type": "markdown",
      "metadata": {
        "id": "jKoFVldrYEnX"
      },
      "source": [
        ""
      ]
    },
    {
      "cell_type": "code",
      "metadata": {
        "colab": {
          "base_uri": "https://localhost:8080/",
          "height": 374
        },
        "id": "-uDCUA_OTSfK",
        "outputId": "c83fe7a9-ad14-4e69-9473-d667af9a9a30"
      },
      "source": [
        "XT_train.head()"
      ],
      "execution_count": null,
      "outputs": [
        {
          "output_type": "execute_result",
          "data": {
            "text/html": [
              "<div>\n",
              "<style scoped>\n",
              "    .dataframe tbody tr th:only-of-type {\n",
              "        vertical-align: middle;\n",
              "    }\n",
              "\n",
              "    .dataframe tbody tr th {\n",
              "        vertical-align: top;\n",
              "    }\n",
              "\n",
              "    .dataframe thead th {\n",
              "        text-align: right;\n",
              "    }\n",
              "</style>\n",
              "<table border=\"1\" class=\"dataframe\">\n",
              "  <thead>\n",
              "    <tr style=\"text-align: right;\">\n",
              "      <th></th>\n",
              "      <th>BOROUGH_3</th>\n",
              "      <th>BOROUGH_4</th>\n",
              "      <th>BOROUGH_2</th>\n",
              "      <th>BOROUGH_5</th>\n",
              "      <th>BOROUGH_1</th>\n",
              "      <th>NEIGHBORHOOD_OTHER</th>\n",
              "      <th>NEIGHBORHOOD_FLUSHING-NORTH</th>\n",
              "      <th>NEIGHBORHOOD_EAST NEW YORK</th>\n",
              "      <th>NEIGHBORHOOD_BEDFORD STUYVESANT</th>\n",
              "      <th>NEIGHBORHOOD_FOREST HILLS</th>\n",
              "      <th>NEIGHBORHOOD_BOROUGH PARK</th>\n",
              "      <th>NEIGHBORHOOD_ASTORIA</th>\n",
              "      <th>BUILDING_CLASS_CATEGORY_01 ONE FAMILY DWELLINGS</th>\n",
              "      <th>TAX_CLASS_AT_PRESENT_1</th>\n",
              "      <th>TAX_CLASS_AT_PRESENT_1D</th>\n",
              "      <th>BLOCK</th>\n",
              "      <th>LOT</th>\n",
              "      <th>ZIP_CODE</th>\n",
              "      <th>RESIDENTIAL_UNITS</th>\n",
              "      <th>COMMERCIAL_UNITS</th>\n",
              "      <th>TOTAL_UNITS</th>\n",
              "      <th>GROSS_SQUARE_FEET</th>\n",
              "      <th>YEAR_BUILT</th>\n",
              "      <th>TAX_CLASS_AT_TIME_OF_SALE</th>\n",
              "      <th>BUILDING_CLASS_AT_TIME_OF_SALE_A9</th>\n",
              "      <th>BUILDING_CLASS_AT_TIME_OF_SALE_A1</th>\n",
              "      <th>BUILDING_CLASS_AT_TIME_OF_SALE_A5</th>\n",
              "      <th>BUILDING_CLASS_AT_TIME_OF_SALE_A0</th>\n",
              "      <th>BUILDING_CLASS_AT_TIME_OF_SALE_A2</th>\n",
              "      <th>BUILDING_CLASS_AT_TIME_OF_SALE_A3</th>\n",
              "      <th>BUILDING_CLASS_AT_TIME_OF_SALE_S1</th>\n",
              "      <th>BUILDING_CLASS_AT_TIME_OF_SALE_A4</th>\n",
              "      <th>BUILDING_CLASS_AT_TIME_OF_SALE_A6</th>\n",
              "      <th>BUILDING_CLASS_AT_TIME_OF_SALE_A8</th>\n",
              "      <th>BUILDING_CLASS_AT_TIME_OF_SALE_S0</th>\n",
              "    </tr>\n",
              "    <tr>\n",
              "      <th>SALE DATE</th>\n",
              "      <th></th>\n",
              "      <th></th>\n",
              "      <th></th>\n",
              "      <th></th>\n",
              "      <th></th>\n",
              "      <th></th>\n",
              "      <th></th>\n",
              "      <th></th>\n",
              "      <th></th>\n",
              "      <th></th>\n",
              "      <th></th>\n",
              "      <th></th>\n",
              "      <th></th>\n",
              "      <th></th>\n",
              "      <th></th>\n",
              "      <th></th>\n",
              "      <th></th>\n",
              "      <th></th>\n",
              "      <th></th>\n",
              "      <th></th>\n",
              "      <th></th>\n",
              "      <th></th>\n",
              "      <th></th>\n",
              "      <th></th>\n",
              "      <th></th>\n",
              "      <th></th>\n",
              "      <th></th>\n",
              "      <th></th>\n",
              "      <th></th>\n",
              "      <th></th>\n",
              "      <th></th>\n",
              "      <th></th>\n",
              "      <th></th>\n",
              "      <th></th>\n",
              "      <th></th>\n",
              "    </tr>\n",
              "  </thead>\n",
              "  <tbody>\n",
              "    <tr>\n",
              "      <th>2019-01-01</th>\n",
              "      <td>1</td>\n",
              "      <td>0</td>\n",
              "      <td>0</td>\n",
              "      <td>0</td>\n",
              "      <td>0</td>\n",
              "      <td>1</td>\n",
              "      <td>0</td>\n",
              "      <td>0</td>\n",
              "      <td>0</td>\n",
              "      <td>0</td>\n",
              "      <td>0</td>\n",
              "      <td>0</td>\n",
              "      <td>1</td>\n",
              "      <td>1</td>\n",
              "      <td>0</td>\n",
              "      <td>5495</td>\n",
              "      <td>801</td>\n",
              "      <td>11230.0</td>\n",
              "      <td>1.0</td>\n",
              "      <td>0.0</td>\n",
              "      <td>1.0</td>\n",
              "      <td>1325.0</td>\n",
              "      <td>1930.0</td>\n",
              "      <td>1</td>\n",
              "      <td>1</td>\n",
              "      <td>0</td>\n",
              "      <td>0</td>\n",
              "      <td>0</td>\n",
              "      <td>0</td>\n",
              "      <td>0</td>\n",
              "      <td>0</td>\n",
              "      <td>0</td>\n",
              "      <td>0</td>\n",
              "      <td>0</td>\n",
              "      <td>0</td>\n",
              "    </tr>\n",
              "    <tr>\n",
              "      <th>2019-01-01</th>\n",
              "      <td>0</td>\n",
              "      <td>1</td>\n",
              "      <td>0</td>\n",
              "      <td>0</td>\n",
              "      <td>0</td>\n",
              "      <td>1</td>\n",
              "      <td>0</td>\n",
              "      <td>0</td>\n",
              "      <td>0</td>\n",
              "      <td>0</td>\n",
              "      <td>0</td>\n",
              "      <td>0</td>\n",
              "      <td>1</td>\n",
              "      <td>1</td>\n",
              "      <td>0</td>\n",
              "      <td>7918</td>\n",
              "      <td>72</td>\n",
              "      <td>11427.0</td>\n",
              "      <td>1.0</td>\n",
              "      <td>0.0</td>\n",
              "      <td>1.0</td>\n",
              "      <td>2001.0</td>\n",
              "      <td>1940.0</td>\n",
              "      <td>1</td>\n",
              "      <td>0</td>\n",
              "      <td>1</td>\n",
              "      <td>0</td>\n",
              "      <td>0</td>\n",
              "      <td>0</td>\n",
              "      <td>0</td>\n",
              "      <td>0</td>\n",
              "      <td>0</td>\n",
              "      <td>0</td>\n",
              "      <td>0</td>\n",
              "      <td>0</td>\n",
              "    </tr>\n",
              "    <tr>\n",
              "      <th>2019-01-02</th>\n",
              "      <td>0</td>\n",
              "      <td>0</td>\n",
              "      <td>1</td>\n",
              "      <td>0</td>\n",
              "      <td>0</td>\n",
              "      <td>1</td>\n",
              "      <td>0</td>\n",
              "      <td>0</td>\n",
              "      <td>0</td>\n",
              "      <td>0</td>\n",
              "      <td>0</td>\n",
              "      <td>0</td>\n",
              "      <td>1</td>\n",
              "      <td>1</td>\n",
              "      <td>0</td>\n",
              "      <td>4210</td>\n",
              "      <td>19</td>\n",
              "      <td>10461.0</td>\n",
              "      <td>1.0</td>\n",
              "      <td>0.0</td>\n",
              "      <td>1.0</td>\n",
              "      <td>2043.0</td>\n",
              "      <td>1925.0</td>\n",
              "      <td>1</td>\n",
              "      <td>0</td>\n",
              "      <td>1</td>\n",
              "      <td>0</td>\n",
              "      <td>0</td>\n",
              "      <td>0</td>\n",
              "      <td>0</td>\n",
              "      <td>0</td>\n",
              "      <td>0</td>\n",
              "      <td>0</td>\n",
              "      <td>0</td>\n",
              "      <td>0</td>\n",
              "    </tr>\n",
              "    <tr>\n",
              "      <th>2019-01-02</th>\n",
              "      <td>1</td>\n",
              "      <td>0</td>\n",
              "      <td>0</td>\n",
              "      <td>0</td>\n",
              "      <td>0</td>\n",
              "      <td>1</td>\n",
              "      <td>0</td>\n",
              "      <td>0</td>\n",
              "      <td>0</td>\n",
              "      <td>0</td>\n",
              "      <td>0</td>\n",
              "      <td>0</td>\n",
              "      <td>1</td>\n",
              "      <td>1</td>\n",
              "      <td>0</td>\n",
              "      <td>5212</td>\n",
              "      <td>69</td>\n",
              "      <td>11226.0</td>\n",
              "      <td>1.0</td>\n",
              "      <td>0.0</td>\n",
              "      <td>1.0</td>\n",
              "      <td>2680.0</td>\n",
              "      <td>1899.0</td>\n",
              "      <td>1</td>\n",
              "      <td>0</td>\n",
              "      <td>1</td>\n",
              "      <td>0</td>\n",
              "      <td>0</td>\n",
              "      <td>0</td>\n",
              "      <td>0</td>\n",
              "      <td>0</td>\n",
              "      <td>0</td>\n",
              "      <td>0</td>\n",
              "      <td>0</td>\n",
              "      <td>0</td>\n",
              "    </tr>\n",
              "    <tr>\n",
              "      <th>2019-01-02</th>\n",
              "      <td>1</td>\n",
              "      <td>0</td>\n",
              "      <td>0</td>\n",
              "      <td>0</td>\n",
              "      <td>0</td>\n",
              "      <td>1</td>\n",
              "      <td>0</td>\n",
              "      <td>0</td>\n",
              "      <td>0</td>\n",
              "      <td>0</td>\n",
              "      <td>0</td>\n",
              "      <td>0</td>\n",
              "      <td>1</td>\n",
              "      <td>1</td>\n",
              "      <td>0</td>\n",
              "      <td>7930</td>\n",
              "      <td>121</td>\n",
              "      <td>11203.0</td>\n",
              "      <td>1.0</td>\n",
              "      <td>0.0</td>\n",
              "      <td>1.0</td>\n",
              "      <td>1872.0</td>\n",
              "      <td>1940.0</td>\n",
              "      <td>1</td>\n",
              "      <td>0</td>\n",
              "      <td>0</td>\n",
              "      <td>1</td>\n",
              "      <td>0</td>\n",
              "      <td>0</td>\n",
              "      <td>0</td>\n",
              "      <td>0</td>\n",
              "      <td>0</td>\n",
              "      <td>0</td>\n",
              "      <td>0</td>\n",
              "      <td>0</td>\n",
              "    </tr>\n",
              "  </tbody>\n",
              "</table>\n",
              "</div>"
            ],
            "text/plain": [
              "            BOROUGH_3  ...  BUILDING_CLASS_AT_TIME_OF_SALE_S0\n",
              "SALE DATE              ...                                   \n",
              "2019-01-01          1  ...                                  0\n",
              "2019-01-01          0  ...                                  0\n",
              "2019-01-02          0  ...                                  0\n",
              "2019-01-02          1  ...                                  0\n",
              "2019-01-02          1  ...                                  0\n",
              "\n",
              "[5 rows x 35 columns]"
            ]
          },
          "metadata": {
            "tags": []
          },
          "execution_count": 69
        }
      ]
    },
    {
      "cell_type": "code",
      "metadata": {
        "colab": {
          "base_uri": "https://localhost:8080/"
        },
        "id": "aKHpJQImIMq9",
        "outputId": "7363838e-0819-4967-c4b9-2b751b60c3ba"
      },
      "source": [
        "# skb transforming\r\n",
        "\r\n",
        "skb.fit(XT_train, y_train)\r\n",
        "XTT_train = skb.fit_transform(XT_train, y_train)\r\n",
        "XTT_test = skb.transform(XT_test)"
      ],
      "execution_count": null,
      "outputs": [
        {
          "output_type": "stream",
          "text": [
            "/usr/local/lib/python3.6/dist-packages/sklearn/feature_selection/_univariate_selection.py:114: UserWarning: Features [ 4 12 23 34] are constant.\n",
            "  UserWarning)\n",
            "/usr/local/lib/python3.6/dist-packages/sklearn/feature_selection/_univariate_selection.py:115: RuntimeWarning: divide by zero encountered in true_divide\n",
            "  f = msb / msw\n",
            "/usr/local/lib/python3.6/dist-packages/sklearn/feature_selection/_univariate_selection.py:115: RuntimeWarning: invalid value encountered in true_divide\n",
            "  f = msb / msw\n",
            "/usr/local/lib/python3.6/dist-packages/sklearn/feature_selection/_univariate_selection.py:114: UserWarning: Features [ 4 12 23 34] are constant.\n",
            "  UserWarning)\n",
            "/usr/local/lib/python3.6/dist-packages/sklearn/feature_selection/_univariate_selection.py:115: RuntimeWarning: divide by zero encountered in true_divide\n",
            "  f = msb / msw\n",
            "/usr/local/lib/python3.6/dist-packages/sklearn/feature_selection/_univariate_selection.py:115: RuntimeWarning: invalid value encountered in true_divide\n",
            "  f = msb / msw\n"
          ],
          "name": "stderr"
        }
      ]
    },
    {
      "cell_type": "code",
      "metadata": {
        "colab": {
          "base_uri": "https://localhost:8080/"
        },
        "id": "WfGLY7NZQSOx",
        "outputId": "a7df8a7e-28f1-4a79-b8c1-39d8c9569b90"
      },
      "source": [
        "from sklearn.feature_selection import SelectKBest, f_regression\r\n",
        "# TODO: Which features were selected?\r\n",
        "selected_mask = skb.get_support()\r\n",
        "all_names = XT_train.columns\r\n",
        "selected_names = all_names[selected_mask]\r\n",
        "unselected_names = all_names[~selected_mask]\r\n",
        "\r\n",
        "print('Features selected:')\r\n",
        "for name in selected_names:\r\n",
        "    print(name)\r\n",
        "\r\n",
        "print('\\n')\r\n",
        "print('Features not selected:')\r\n",
        "for name in unselected_names:\r\n",
        "    print(name)"
      ],
      "execution_count": null,
      "outputs": [
        {
          "output_type": "stream",
          "text": [
            "Features selected:\n",
            "BOROUGH_1\n",
            "NEIGHBORHOOD_FOREST HILLS\n",
            "NEIGHBORHOOD_ASTORIA\n",
            "BUILDING_CLASS_AT_TIME_OF_SALE_A3\n",
            "BUILDING_CLASS_AT_TIME_OF_SALE_S0\n",
            "\n",
            "\n",
            "Features not selected:\n",
            "BOROUGH_3\n",
            "BOROUGH_4\n",
            "BOROUGH_2\n",
            "BOROUGH_5\n",
            "NEIGHBORHOOD_OTHER\n",
            "NEIGHBORHOOD_FLUSHING-NORTH\n",
            "NEIGHBORHOOD_EAST NEW YORK\n",
            "NEIGHBORHOOD_BEDFORD STUYVESANT\n",
            "NEIGHBORHOOD_BOROUGH PARK\n",
            "BUILDING_CLASS_CATEGORY_01 ONE FAMILY DWELLINGS\n",
            "TAX_CLASS_AT_PRESENT_1\n",
            "TAX_CLASS_AT_PRESENT_1D\n",
            "BLOCK\n",
            "LOT\n",
            "ZIP_CODE\n",
            "RESIDENTIAL_UNITS\n",
            "COMMERCIAL_UNITS\n",
            "TOTAL_UNITS\n",
            "GROSS_SQUARE_FEET\n",
            "YEAR_BUILT\n",
            "TAX_CLASS_AT_TIME_OF_SALE\n",
            "BUILDING_CLASS_AT_TIME_OF_SALE_A9\n",
            "BUILDING_CLASS_AT_TIME_OF_SALE_A1\n",
            "BUILDING_CLASS_AT_TIME_OF_SALE_A5\n",
            "BUILDING_CLASS_AT_TIME_OF_SALE_A0\n",
            "BUILDING_CLASS_AT_TIME_OF_SALE_A2\n",
            "BUILDING_CLASS_AT_TIME_OF_SALE_S1\n",
            "BUILDING_CLASS_AT_TIME_OF_SALE_A4\n",
            "BUILDING_CLASS_AT_TIME_OF_SALE_A6\n",
            "BUILDING_CLASS_AT_TIME_OF_SALE_A8\n"
          ],
          "name": "stdout"
        }
      ]
    },
    {
      "cell_type": "markdown",
      "metadata": {
        "id": "0AdYcy-OQRE3"
      },
      "source": [
        "# Now we know what features SKB selected!!!\r\n",
        "\r\n",
        "## MODELS BELOW\r\n"
      ]
    },
    {
      "cell_type": "code",
      "metadata": {
        "colab": {
          "base_uri": "https://localhost:8080/"
        },
        "id": "gIgbOaj4Iq6_",
        "outputId": "88653a0f-9294-4141-8ae7-86a6cde41f84"
      },
      "source": [
        "# now linear\r\n",
        "model_lr = LinearRegression()\r\n",
        "model_lr.fit(XTT_train, y_train)\r\n",
        "\r\n"
      ],
      "execution_count": null,
      "outputs": [
        {
          "output_type": "execute_result",
          "data": {
            "text/plain": [
              "LinearRegression(copy_X=True, fit_intercept=True, n_jobs=None, normalize=False)"
            ]
          },
          "metadata": {
            "tags": []
          },
          "execution_count": 112
        }
      ]
    },
    {
      "cell_type": "code",
      "metadata": {
        "colab": {
          "base_uri": "https://localhost:8080/"
        },
        "id": "5fsOp0OuI67S",
        "outputId": "6e80da69-31a1-41a1-eadd-229bbd6619dd"
      },
      "source": [
        "print('LR training MAE:', mean_absolute_error(y_train, model_lr.predict(XTT_train)))\r\n",
        "print('LR test MAE:', mean_absolute_error(y_test, model_lr.predict(XTT_test)))"
      ],
      "execution_count": null,
      "outputs": [
        {
          "output_type": "stream",
          "text": [
            "LR training MAE: 207428.54377978147\n",
            "LR test MAE: 208017.4457717035\n"
          ],
          "name": "stdout"
        }
      ]
    },
    {
      "cell_type": "code",
      "metadata": {
        "colab": {
          "base_uri": "https://localhost:8080/"
        },
        "id": "4oZf4L0nIsqd",
        "outputId": "b3ce1f0e-2767-499d-b627-02aeccc16e62"
      },
      "source": [
        "# and now ridge\r\n",
        "model_r = Ridge(alpha=.1, normalize=True)\r\n",
        "model_r.fit(XTT_train, y_train)\r\n",
        "\r\n",
        "# from sklearn.linear_model import RidgeCV\r\n",
        "# I changed around the alpha just to see if the numbers would come down. "
      ],
      "execution_count": null,
      "outputs": [
        {
          "output_type": "execute_result",
          "data": {
            "text/plain": [
              "Ridge(alpha=0.1, copy_X=True, fit_intercept=True, max_iter=None, normalize=True,\n",
              "      random_state=None, solver='auto', tol=0.001)"
            ]
          },
          "metadata": {
            "tags": []
          },
          "execution_count": 128
        }
      ]
    },
    {
      "cell_type": "code",
      "metadata": {
        "colab": {
          "base_uri": "https://localhost:8080/"
        },
        "id": "2Is8k7VDI8Dz",
        "outputId": "cd893e24-435f-4e47-cc14-75e1434d9d89"
      },
      "source": [
        "print('Ridge training MAE:', mean_absolute_error(y_train, model_r.predict(XTT_train)))\r\n",
        "print('Ridge test MAE:', mean_absolute_error(y_test, model_r.predict(XTT_test)))"
      ],
      "execution_count": null,
      "outputs": [
        {
          "output_type": "stream",
          "text": [
            "Ridge training MAE: 207754.5678096282\n",
            "Ridge test MAE: 208423.15696242958\n"
          ],
          "name": "stdout"
        }
      ]
    },
    {
      "cell_type": "code",
      "metadata": {
        "colab": {
          "base_uri": "https://localhost:8080/"
        },
        "id": "YRHn7OB5BIhn",
        "outputId": "e2f06897-763e-4c0a-fe2c-d802241793f1"
      },
      "source": [
        "model_lr.coef_"
      ],
      "execution_count": null,
      "outputs": [
        {
          "output_type": "execute_result",
          "data": {
            "text/plain": [
              "array([ 131349.44157534,  446327.5770666 ,  394303.98702989,\n",
              "        533034.33932974, 1317349.44157534])"
            ]
          },
          "metadata": {
            "tags": []
          },
          "execution_count": 118
        }
      ]
    },
    {
      "cell_type": "code",
      "metadata": {
        "colab": {
          "base_uri": "https://localhost:8080/"
        },
        "id": "sg7AsTXDVNHd",
        "outputId": "0e8e4691-5689-4656-b3ac-aaf666cf6f66"
      },
      "source": [
        "model_r.coef_"
      ],
      "execution_count": null,
      "outputs": [
        {
          "output_type": "execute_result",
          "data": {
            "text/plain": [
              "array([ 65294.85598454, 424021.88147914, 360748.90263833, 521486.24736999,\n",
              "       658294.85598455])"
            ]
          },
          "metadata": {
            "tags": []
          },
          "execution_count": 119
        }
      ]
    },
    {
      "cell_type": "markdown",
      "metadata": {
        "id": "ONc-7Cz_ZxMt"
      },
      "source": [
        "so when we lowered from 15 to 5 all the MAE's increased from 160-ish thousand to over 200 thousand. "
      ]
    },
    {
      "cell_type": "code",
      "metadata": {
        "colab": {
          "base_uri": "https://localhost:8080/",
          "height": 542
        },
        "id": "b4mxowgJYsIR",
        "outputId": "04016c7c-eec3-467d-9d6a-e0f31fa0348c"
      },
      "source": [
        "import plotly.express as px\r\n",
        "\r\n",
        "px.scatter(x=XT_train['GROSS_SQUARE_FEET'], y=y_train)\r\n"
      ],
      "execution_count": null,
      "outputs": [
        {
          "output_type": "display_data",
          "data": {
            "text/html": [
              "<html>\n",
              "<head><meta charset=\"utf-8\" /></head>\n",
              "<body>\n",
              "    <div>\n",
              "            <script src=\"https://cdnjs.cloudflare.com/ajax/libs/mathjax/2.7.5/MathJax.js?config=TeX-AMS-MML_SVG\"></script><script type=\"text/javascript\">if (window.MathJax) {MathJax.Hub.Config({SVG: {font: \"STIX-Web\"}});}</script>\n",
              "                <script type=\"text/javascript\">window.PlotlyConfig = {MathJaxConfig: 'local'};</script>\n",
              "        <script src=\"https://cdn.plot.ly/plotly-latest.min.js\"></script>    \n",
              "            <div id=\"39ee0973-e8b8-4fb9-870e-94dd1e9f93f8\" class=\"plotly-graph-div\" style=\"height:525px; width:100%;\"></div>\n",
              "            <script type=\"text/javascript\">\n",
              "                \n",
              "                    window.PLOTLYENV=window.PLOTLYENV || {};\n",
              "                    \n",
              "                if (document.getElementById(\"39ee0973-e8b8-4fb9-870e-94dd1e9f93f8\")) {\n",
              "                    Plotly.newPlot(\n",
              "                        '39ee0973-e8b8-4fb9-870e-94dd1e9f93f8',\n",
              "                        [{\"hoverlabel\": {\"namelength\": 0}, \"hovertemplate\": \"x=%{x}<br>y=%{y}\", \"legendgroup\": \"\", \"marker\": {\"color\": \"#636efa\", \"symbol\": \"circle\"}, \"mode\": \"markers\", \"name\": \"\", \"showlegend\": false, \"type\": \"scattergl\", \"x\": [1325.0, 2001.0, 2043.0, 2680.0, 1872.0, 1932.0, 1722.0, 1396.0, 1260.0, 1440.0, 1831.0, 1000.0, 1540.0, 1782.0, 3203.0, 1535.0, 1280.0, 1426.0, 900.0, 2278.0, 1392.0, 736.0, 1850.0, 1296.0, 1869.0, 1120.0, 3004.0, 1280.0, 1949.0, 1368.0, 2394.0, 1296.0, 1544.0, 1344.0, 2222.0, 1480.0, 1780.0, 2808.0, 1184.0, 1638.0, 1601.0, 1530.0, 1418.0, 3228.0, 2175.0, 1540.0, 1758.0, 880.0, 1120.0, 1377.0, 1216.0, 1487.0, 1008.0, 880.0, 2208.0, 2130.0, 1645.0, 2087.0, 1888.0, 1428.0, 1230.0, 3050.0, 1557.0, 1620.0, 1727.0, 1748.0, 2877.0, 1134.0, 784.0, 1036.0, 1316.0, 1086.0, 1080.0, 1592.0, 2268.0, 1422.0, 1080.0, 864.0, 1332.0, 1528.0, 1344.0, 540.0, 1258.0, 1440.0, 1280.0, 1190.0, 1380.0, 1190.0, 1280.0, 1440.0, 1399.0, 1455.0, 1384.0, 1060.0, 1252.0, 2160.0, 1152.0, 1620.0, 1782.0, 1485.0, 1400.0, 1982.0, 1134.0, 1500.0, 1072.0, 1024.0, 1008.0, 1248.0, 1428.0, 1031.0, 1653.0, 1913.0, 1104.0, 1648.0, 1234.0, 1000.0, 1688.0, 988.0, 900.0, 1888.0, 1888.0, 1600.0, 944.0, 2700.0, 2365.0, 1900.0, 1965.0, 1440.0, 1660.0, 992.0, 1620.0, 1440.0, 1812.0, 1360.0, 2063.0, 744.0, 1088.0, 0.0, 2360.0, 1860.0, 1023.0, 1683.0, 1214.0, 1844.0, 1428.0, 969.0, 1328.0, 1600.0, 1200.0, 2455.0, 2052.0, 1008.0, 1152.0, 1345.0, 1200.0, 2814.0, 1360.0, 1578.0, 2205.0, 1200.0, 1450.0, 1648.0, 1100.0, 1280.0, 1116.0, 1360.0, 880.0, 1991.0, 1452.0, 956.0, 1840.0, 1282.0, 1434.0, 1594.0, 0.0, 1650.0, 1610.0, 1612.0, 2050.0, 1464.0, 1300.0, 1454.0, 1836.0, 1560.0, 1224.0, 1999.0, 1184.0, 1312.0, 912.0, 840.0, 1330.0, 1980.0, 1314.0, 1800.0, 2406.0, 1248.0, 1480.0, 870.0, 1394.0, 1440.0, 760.0, 2916.0, 1836.0, 2640.0, 2007.0, 1024.0, 1500.0, 1448.0, 1648.0, 1180.0, 1064.0, 864.0, 1632.0, 1296.0, 2596.0, 1432.0, 1444.0, 1378.0, 1324.0, 1170.0, 1176.0, 910.0, 1522.0, 1288.0, 1368.0, 1504.0, 1035.0, 1608.0, 1623.0, 1224.0, 1144.0, 912.0, 960.0, 1400.0, 1496.0, 600.0, 2008.0, 1640.0, 1520.0, 1975.0, 704.0, 1896.0, 1144.0, 1160.0, 2140.0, 2187.0, 1914.0, 1980.0, 1600.0, 1998.0, 1044.0, 1760.0, 1116.0, 828.0, 1134.0, 3000.0, 1370.0, 0.0, 0.0, 1125.0, 2112.0, 1789.0, 1374.0, 1318.0, 2000.0, 1330.0, 1105.0, 1586.0, 1116.0, 1776.0, 1426.0, 1962.0, 1808.0, 960.0, 940.0, 1050.0, 2416.0, 1304.0, 900.0, 1050.0, 1813.0, 1400.0, 1200.0, 1120.0, 1622.0, 2600.0, 2300.0, 2650.0, 1242.0, 1360.0, 1650.0, 1088.0, 1520.0, 1512.0, 2048.0, 2608.0, 1776.0, 1476.0, 1751.0, 1910.0, 1056.0, 1280.0, 1172.0, 1224.0, 2101.0, 1476.0, 1683.0, 1760.0, 1400.0, 976.0, 1110.0, 1778.0, 1126.0, 1086.0, 1568.0, 625.0, 1144.0, 1434.0, 1564.0, 1182.0, 1080.0, 1050.0, 2888.0, 1466.0, 1188.0, 1116.0, 1224.0, 1908.0, 0.0, 1186.0, 1030.0, 1280.0, 1248.0, 1118.0, 680.0, 676.0, 1635.0, 2831.0, 1036.0, 1038.0, 1680.0, 1660.0, 1438.0, 1152.0, 1125.0, 1831.0, 1831.0, 1995.0, 1040.0, 1726.0, 821.0, 1232.0, 1440.0, 1360.0, 930.0, 748.0, 861.0, 1248.0, 1304.0, 1088.0, 1240.0, 874.0, 1402.0, 1296.0, 1440.0, 1870.0, 1496.0, 1280.0, 1245.0, 375.0, 1600.0, 1672.0, 1232.0, 2184.0, 1160.0, 1776.0, 1112.0, 1616.0, 850.0, 912.0, 2550.0, 1732.0, 1216.0, 2210.0, 1036.0, 1296.0, 2328.0, 2040.0, 1274.0, 1452.0, 1312.0, 876.0, 1920.0, 1436.0, 1552.0, 0.0, 0.0, 0.0, 1358.0, 1152.0, 1300.0, 1632.0, 1540.0, 2264.0, 1520.0, 1332.0, 1312.0, 1206.0, 1620.0, 1557.0, 1890.0, 960.0, 1282.0, 1312.0, 560.0, 1552.0, 1408.0, 1664.0, 1890.0, 800.0, 2393.0, 1012.0, 1280.0, 1200.0, 1712.0, 1260.0, 2124.0, 1148.0, 2288.0, 1056.0, 1532.0, 2878.0, 1800.0, 1568.0, 3680.0, 1780.0, 1066.0, 1267.0, 1092.0, 1765.0, 1424.0, 1551.0, 2538.0, 1765.0, 1089.0, 1225.0, 1368.0, 1216.0, 992.0, 1356.0, 1170.0, 1245.0, 1248.0, 896.0, 900.0, 1076.0, 1360.0, 1200.0, 1424.0, 1580.0, 1536.0, 944.0, 1050.0, 2275.0, 1600.0, 1344.0, 3096.0, 944.0, 960.0, 2364.0, 4394.0, 1728.0, 1192.0, 2900.0, 1312.0, 1014.0, 960.0, 1944.0, 1729.0, 1944.0, 1400.0, 1820.0, 1494.0, 960.0, 3316.0, 1660.0, 918.0, 3000.0, 1198.0, 2472.0, 698.0, 2705.0, 1216.0, 2261.0, 990.0, 2200.0, 1205.0, 1976.0, 2096.0, 2248.0, 1444.0, 683.0, 1292.0, 1512.0, 1142.0, 1552.0, 1382.0, 1400.0, 1210.0, 885.0, 952.0, 1208.0, 1520.0, 960.0, 1428.0, 1812.0, 2158.0, 1638.0, 1539.0, 1920.0, 1440.0, 1450.0, 2660.0, 1600.0, 1104.0, 1440.0, 1100.0, 660.0, 1362.0, 1360.0, 1200.0, 960.0, 1575.0, 1424.0, 1820.0, 1560.0, 3200.0, 1320.0, 1800.0, 1344.0, 1240.0, 1330.0, 1008.0, 1408.0, 1120.0, 1020.0, 1050.0, 860.0, 1296.0, 1755.0, 1526.0, 1329.0, 1290.0, 1210.0, 720.0, 896.0, 1280.0, 1160.0, 1238.0, 1566.0, 1440.0, 910.0, 1020.0, 1110.0, 1440.0, 1044.0, 1232.0, 2242.0, 704.0, 1210.0, 1708.0, 1140.0, 1244.0, 1995.0, 1617.0, 2475.0, 1160.0, 2612.0, 1480.0, 2660.0, 1600.0, 784.0, 2500.0, 1170.0, 1460.0, 1104.0, 3836.0, 1036.0, 1090.0, 1520.0, 0.0, 1360.0, 1950.0, 1216.0, 2100.0, 1750.0, 1776.0, 1668.0, 2003.0, 1344.0, 1720.0, 1114.0, 1796.0, 1238.0, 800.0, 1480.0, 1632.0, 1508.0, 952.0, 1700.0, 2165.0, 1360.0, 2344.0, 2132.0, 1298.0, 1312.0, 1452.0, 1412.0, 1050.0, 1060.0, 2492.0, 1785.0, 1147.0, 1578.0, 1300.0, 1096.0, 1925.0, 1512.0, 1814.0, 1716.0, 1280.0, 864.0, 1959.0, 0.0, 2486.0, 1338.0, 1260.0, 1322.0, 1620.0, 2700.0, 2050.0, 1683.0, 1489.0, 1916.0, 1320.0, 1200.0, 1180.0, 1672.0, 1344.0, 1152.0, 1224.0, 1566.0, 660.0, 874.0, 2390.0, 1460.0, 1566.0, 1448.0, 1578.0, 872.0, 1792.0, 1332.0, 816.0, 1220.0, 1460.0, 1200.0, 488.0, 1242.0, 1530.0, 2500.0, 900.0, 660.0, 1250.0, 1040.0, 1280.0, 1368.0, 920.0, 1751.0, 1560.0, 2014.0, 1216.0, 0.0, 0.0, 1548.0, 1332.0, 1300.0, 904.0, 1726.0, 1764.0, 964.0, 1851.0, 1080.0, 1216.0, 1408.0, 1101.0, 1094.0, 1050.0, 1188.0, 1660.0, 1360.0, 1504.0, 1328.0, 924.0, 5184.0, 1700.0, 1724.0, 1392.0, 1620.0, 1305.0, 1933.0, 1536.0, 926.0, 1152.0, 820.0, 1568.0, 1630.0, 2360.0, 1265.0, 1116.0, 1160.0, 1150.0, 1192.0, 1350.0, 1020.0, 632.0, 2384.0, 1256.0, 1176.0, 1144.0, 1828.0, 761.0, 1794.0, 2160.0, 1116.0, 1116.0, 2292.0, 2310.0, 1342.0, 1758.0, 1434.0, 1488.0, 1321.0, 1472.0, 1088.0, 1160.0, 1650.0, 1568.0, 1680.0, 1650.0, 1050.0, 1560.0, 1456.0, 1288.0, 2212.0, 1828.0, 1760.0, 1168.0, 1568.0, 1180.0, 1300.0, 1400.0, 896.0, 1296.0, 1000.0, 1295.0, 960.0, 1352.0, 1056.0, 1480.0, 1600.0, 4455.0, 3372.0, 1188.0, 1646.0, 1792.0, 1224.0, 1224.0, 2464.0, 796.0, 1080.0, 1575.0, 1206.0, 1664.0, 1888.0, 924.0, 1084.0, 1111.0, 1000.0, 836.0, 1386.0, 1633.0, 1460.0, 3210.0, 1606.0, 1185.0, 1748.0, 1008.0, 1276.0, 4647.0, 990.0, 876.0, 648.0, 1024.0, 902.0, 1964.0, 1415.0, 1151.0, 1977.0, 2025.0, 825.0, 1252.0, 2000.0, 1100.0, 1622.0, 900.0, 1900.0, 2000.0, 1408.0, 1515.0, 1600.0, 1872.0, 1080.0, 1665.0, 1744.0, 1194.0, 1596.0, 720.0, 1024.0, 1770.0, 1288.0, 1388.0, 1242.0, 1202.0, 1472.0, 1506.0, 1044.0, 1636.0, 1300.0, 1350.0, 1255.0, 1585.0, 1224.0, 2120.0, 1520.0, 1280.0, 1056.0, 1026.0, 1600.0, 1200.0, 1296.0, 1324.0, 1552.0, 1690.0, 980.0, 1324.0, 1592.0, 2782.0, 1585.0, 1180.0, 1680.0, 1614.0, 1632.0, 1204.0, 1196.0, 1156.0, 1198.0, 1564.0, 2490.0, 1295.0, 1405.0, 960.0, 425.0, 904.0, 1040.0, 1254.0, 3468.0, 1683.0, 1776.0, 1718.0, 970.0, 576.0, 1380.0, 1920.0, 1328.0, 0.0, 1064.0, 1344.0, 1134.0, 1176.0, 2141.0, 1152.0, 1036.0, 2506.0, 1148.0, 1220.0, 1328.0, 792.0, 820.0, 1608.0, 1260.0, 1377.0, 996.0, 2037.0, 1202.0, 1150.0, 1224.0, 2540.0, 1469.0, 1216.0, 1031.0, 1980.0, 1500.0, 1296.0, 1182.0, 1808.0, 1204.0, 2196.0, 1296.0, 1280.0, 1691.0, 1160.0, 1212.0, 1100.0, 1624.0, 978.0, 1576.0, 1448.0, 1072.0, 1264.0, 942.0, 1468.0, 1296.0, 1720.0, 3184.0, 1516.0, 1476.0, 1344.0, 2484.0, 1339.0, 1350.0, 1848.0, 600.0, 1350.0, 2420.0, 1824.0, 1056.0, 1232.0, 744.0, 1080.0, 1696.0, 1636.0, 1457.0, 1690.0, 960.0, 1102.0, 1080.0, 1842.0, 1496.0, 1232.0, 2800.0, 1472.0, 0.0, 1624.0, 1300.0, 1679.0, 1368.0, 1326.0, 1232.0, 1280.0, 1500.0, 1795.0, 1327.0, 1330.0, 1216.0, 436.0, 1282.0, 1260.0, 1568.0, 1305.0, 1264.0, 1248.0, 784.0, 1148.0, 1536.0, 1232.0, 1806.0, 890.0, 1600.0, 1624.0, 1288.0, 1440.0, 1856.0, 1820.0, 1350.0, 1184.0, 1250.0, 2172.0, 1539.0, 1732.0, 1020.0, 1877.0, 1440.0, 1584.0, 1697.0, 1546.0, 1120.0, 1890.0, 1184.0, 2680.0, 2172.0, 1240.0, 1132.0, 1324.0, 1782.0, 1427.0, 896.0, 1344.0, 1408.0, 1440.0, 2132.0, 1014.0, 1280.0, 1230.0, 2244.0, 1320.0, 1904.0, 2929.0, 2128.0, 1120.0, 1544.0, 2868.0, 2384.0, 1264.0, 1408.0, 1826.0, 884.0, 2063.0, 1600.0, 1260.0, 1308.0, 1700.0, 924.0, 1814.0, 1650.0, 872.0, 1348.0, 1216.0, 2058.0, 1600.0, 1544.0, 2064.0, 1440.0, 540.0, 1793.0, 1064.0, 1344.0, 1585.0, 1224.0, 1512.0, 2090.0, 1845.0, 3800.0, 1360.0, 1320.0, 4215.0, 1610.0, 770.0, 2900.0, 4108.0, 1063.0, 2208.0, 800.0, 1080.0, 1200.0, 1440.0, 1196.0, 2069.0, 1782.0, 1594.0, 1496.0, 1605.0, 1320.0, 1960.0, 1440.0, 1536.0, 1428.0, 600.0, 1584.0, 2560.0, 1976.0, 1679.0, 1800.0, 1762.0, 1400.0, 1368.0, 1152.0, 1312.0, 1624.0, 2068.0, 1120.0, 1091.0, 1215.0, 1032.0, 1744.0, 960.0, 1440.0, 1680.0, 1000.0, 448.0, 1422.0, 1250.0, 1360.0, 1350.0, 1230.0, 1152.0, 2560.0, 1624.0, 1320.0, 1248.0, 1727.0, 1528.0, 2560.0, 1920.0, 1920.0, 1692.0, 1809.0, 1260.0, 1296.0, 1212.0, 1376.0, 1528.0, 1836.0, 1376.0, 585.0, 1248.0, 1360.0, 1808.0, 1504.0, 1536.0, 1100.0, 1144.0, 1680.0, 2025.0, 1550.0, 1392.0, 1330.0, 2100.0, 1320.0, 997.0, 1160.0, 1224.0, 1064.0, 900.0, 1296.0, 1089.0, 1525.0, 1831.0, 1281.0, 732.0, 3392.0, 600.0, 1552.0, 1519.0, 1200.0, 1044.0, 1520.0, 1468.0, 1584.0, 1840.0, 3360.0, 2511.0, 1992.0, 2464.0, 2120.0, 1094.0, 1224.0, 1485.0, 2567.0, 2134.0, 1141.0, 1208.0, 1344.0, 684.0, 1400.0, 1200.0, 1120.0, 1608.0, 1126.0, 1148.0, 3865.0, 2317.0, 1510.0, 944.0, 1260.0, 1580.0, 1534.0, 7500.0, 1494.0, 1813.0, 1320.0, 1020.0, 1328.0, 1288.0, 1575.0, 1154.0, 1583.0, 528.0, 866.0, 518.0, 1056.0, 1280.0, 1738.0, 1080.0, 938.0, 930.0, 1356.0, 1296.0, 1432.0, 1800.0, 4600.0, 1280.0, 1127.0, 779.0, 1256.0, 960.0, 1568.0, 1552.0, 1500.0, 960.0, 1484.0, 1000.0, 960.0, 1377.0, 1728.0, 1500.0, 1715.0, 1440.0, 900.0, 2022.0, 1020.0, 1775.0, 1246.0, 2002.0, 1554.0, 1776.0, 992.0, 1274.0, 2032.0, 2726.0, 1395.0, 1000.0, 1306.0, 2241.0, 2466.0, 1017.0, 1080.0, 1280.0, 1991.0, 780.0, 730.0, 1264.0, 1344.0, 1152.0, 1100.0, 4299.0, 1280.0, 2157.0, 1707.0, 1400.0, 1298.0, 1232.0, 1289.0, 1152.0, 1000.0, 1512.0, 1260.0, 1472.0, 1116.0, 0.0, 928.0, 1120.0, 1890.0, 1272.0, 1552.0, 1036.0, 3168.0, 996.0, 672.0, 2188.0, 949.0, 1325.0, 1400.0, 1760.0, 1800.0, 1656.0, 1312.0, 975.0, 845.0, 1440.0, 1648.0, 1416.0, 1475.0, 1140.0, 756.0, 1552.0, 1472.0, 1856.0, 1372.0, 1224.0, 1125.0, 1422.0, 1600.0, 1593.0, 2394.0, 1968.0, 1584.0, 1180.0, 2100.0, 1554.0, 1280.0, 1372.0, 1200.0, 1116.0, 1162.0, 2080.0, 1996.0, 3070.0, 1460.0, 0.0, 1600.0, 1296.0, 1456.0, 1552.0, 1260.0, 1696.0, 1518.0, 1725.0, 1104.0, 2392.0, 1144.0, 1335.0, 1350.0, 1307.0, 1175.0, 1528.0, 2058.0, 1320.0, 1140.0, 1598.0, 1200.0, 1354.0, 1378.0, 1160.0, 916.0, 1184.0, 928.0, 1248.0, 1214.0, 3661.0, 1200.0, 840.0, 1568.0, 1000.0, 1440.0, 1336.0, 1560.0, 630.0, 2274.0, 1280.0, 1078.0, 1920.0, 956.0, 1600.0, 1965.0, 1296.0, 1050.0, 720.0, 1408.0, 1488.0, 1416.0, 1960.0, 1120.0, 1092.0, 2460.0, 960.0, 1020.0, 1296.0, 1138.0, 1216.0, 1288.0, 1144.0, 1220.0, 946.0, 1080.0, 996.0, 1012.0, 1240.0, 1268.0, 1516.0, 1260.0, 1296.0, 1632.0, 1567.0, 1584.0, 1520.0, 2194.0, 1630.0, 960.0, 1600.0, 1361.0, 2688.0, 1266.0, 1520.0, 1420.0, 1170.0, 1280.0, 1729.0, 1920.0, 1152.0, 1548.0, 1764.0, 896.0, 1440.0, 1360.0, 1168.0, 900.0, 1020.0, 1608.0, 1264.0, 1820.0, 1332.0, 1320.0, 1274.0, 2280.0, 1076.0, 1320.0, 1470.0, 1248.0, 1709.0, 975.0, 1100.0, 1083.0, 2200.0, 1377.0, 1200.0, 960.0, 1140.0, 1480.0, 1920.0, 2355.0, 1492.0, 1192.0, 2320.0, 1472.0, 1586.0, 812.0, 946.0, 1284.0, 1456.0, 2020.0, 1367.0, 1450.0, 1296.0, 1440.0, 1224.0, 1416.0, 1376.0, 600.0, 1144.0, 1516.0, 1248.0, 1260.0, 2025.0, 1356.0, 1440.0, 1890.0, 2452.0, 1440.0, 1848.0, 1902.0, 1077.0, 1344.0, 1528.0, 1750.0, 1600.0, 1145.0, 1372.0, 996.0, 756.0, 1238.0, 1488.0, 1470.0, 1728.0, 1568.0, 1632.0, 858.0, 1120.0, 2001.0, 1056.0, 1424.0, 585.0, 1115.0, 0.0, 0.0, 2485.0, 1732.0, 1092.0, 1044.0, 1400.0, 1208.0, 1125.0, 2004.0, 1222.0, 1376.0, 1188.0, 2289.0, 833.0, 1152.0, 1116.0, 1464.0, 1264.0, 760.0, 1600.0, 1186.0, 1008.0, 1300.0, 1632.0, 1120.0, 1040.0, 2221.0, 2072.0, 1500.0, 1636.0, 1320.0, 1224.0, 1716.0, 1348.0, 1132.0, 2190.0, 1084.0, 931.0, 1464.0, 1520.0, 1344.0, 1200.0, 1120.0, 952.0, 799.0, 1536.0, 1325.0, 1086.0, 2548.0, 1326.0, 0.0, 3318.0, 1496.0, 1488.0, 1296.0, 1249.0, 1284.0, 2384.0, 2047.0, 1050.0, 978.0, 952.0, 1148.0, 896.0, 1152.0, 1128.0, 1144.0, 1190.0, 1470.0, 1215.0, 2416.0, 1396.0, 1084.0, 1112.0, 1381.0, 1280.0, 1152.0, 1638.0, 1690.0, 1260.0, 1676.0, 2786.0, 1408.0, 1584.0, 1000.0, 1916.0, 1650.0, 1296.0, 1304.0, 1224.0, 1749.0, 1772.0, 1088.0, 1728.0, 1392.0, 1148.0, 1274.0, 1350.0, 1084.0, 1712.0, 1392.0, 992.0, 854.0, 1552.0, 1524.0, 1399.0, 1700.0, 1338.0, 1328.0, 1354.0, 1200.0, 1500.0, 1536.0, 1124.0, 2412.0, 1450.0, 2000.0, 1056.0, 1260.0, 1192.0, 1998.0, 1203.0, 1360.0, 1944.0, 1463.0, 1248.0, 1424.0, 1024.0, 1380.0, 1095.0, 1130.0, 1040.0, 1296.0, 1325.0, 2536.0, 2275.0, 1080.0, 1080.0, 1136.0, 1368.0, 2072.0, 1536.0, 1436.0, 1248.0, 1054.0, 1020.0, 1432.0, 1200.0, 1248.0, 3078.0, 2262.0, 752.0, 2520.0, 1680.0, 1400.0, 1236.0, 1452.0, 1120.0, 1098.0, 1452.0, 1288.0, 1408.0, 1925.0, 2086.0, 1024.0, 1240.0, 1144.0, 816.0, 1246.0, 3027.0, 1683.0, 468.0, 1668.0, 1914.0, 1194.0, 1200.0, 1500.0, 1364.0, 1364.0, 1440.0, 1566.0, 1566.0, 2083.0, 2230.0, 1344.0, 1442.0, 1600.0, 850.0, 1350.0, 1188.0, 1860.0, 1672.0, 1344.0, 1591.0, 1235.0, 1480.0, 1320.0, 996.0, 1472.0, 976.0, 1404.0, 1240.0, 3040.0, 640.0, 1440.0, 1460.0, 960.0, 728.0, 2236.0, 1108.0, 970.0, 1775.0, 1584.0, 1714.0, 2110.0, 2400.0, 1800.0, 0.0, 0.0, 1152.0, 1064.0, 1280.0, 2524.0, 1000.0, 2604.0, 0.0, 1248.0, 1500.0, 1715.0, 1990.0, 1409.0, 1182.0, 1888.0, 892.0, 1135.0, 1080.0, 1552.0, 842.0, 1297.0, 1369.0, 2132.0, 1282.0, 1804.0, 1170.0, 1595.0, 1420.0, 1564.0, 1200.0, 1198.0, 1058.0, 1500.0, 1724.0, 1742.0, 1300.0, 1320.0, 1577.0, 1296.0, 882.0, 1702.0, 1188.0, 1224.0, 2716.0, 1296.0, 1403.0, 960.0, 1638.0, 759.0, 850.0, 1125.0, 896.0, 2350.0, 1240.0, 1248.0, 1260.0, 912.0, 864.0, 2000.0, 1400.0, 1520.0, 1680.0, 4180.0, 1080.0, 1998.0, 2350.0, 2172.0, 1452.0, 1266.0, 1570.0, 2508.0, 1376.0, 640.0, 1064.0, 1408.0, 1720.0, 1050.0, 1008.0, 1188.0, 2006.0, 1410.0, 1240.0, 1855.0, 1568.0, 1496.0, 1350.0, 1812.0, 1440.0, 1433.0, 1126.0, 960.0, 1744.0, 1824.0, 1008.0, 1144.0, 900.0, 1375.0, 1480.0, 1440.0, 572.0, 1550.0, 1294.0, 1200.0, 1328.0, 2360.0, 1280.0, 1460.0, 1057.0, 3559.0, 1496.0, 2688.0, 1756.0, 2248.0, 1506.0, 1260.0, 1228.0, 1192.0, 1540.0, 2178.0, 1296.0, 1116.0, 988.0, 2280.0, 2099.0, 3240.0, 1376.0, 1152.0, 1664.0, 1296.0, 2044.0, 2289.0, 1304.0, 1480.0, 990.0, 1120.0, 1128.0, 912.0, 975.0, 975.0, 1428.0, 2186.0, 1508.0, 1368.0, 1096.0, 1440.0, 1152.0, 1084.0, 1230.0, 1970.0, 1800.0, 1372.0, 2047.0, 1750.0, 1323.0, 1344.0, 2176.0, 1320.0, 1512.0, 1308.0, 1240.0, 1080.0, 1600.0, 1260.0, 2651.0, 1530.0, 2104.0, 1388.0, 1185.0, 1800.0, 1008.0, 1410.0, 1184.0, 1125.0, 1176.0, 1992.0, 1120.0, 1894.0, 1440.0, 975.0, 1592.0, 1664.0, 448.0, 1234.0, 1360.0, 2495.0, 1008.0, 936.0, 1196.0, 1536.0, 1900.0, 1566.0, 900.0, 2339.0, 1600.0, 2720.0, 1240.0, 1404.0, 2442.0, 1400.0, 874.0, 800.0, 2400.0, 2937.0, 1132.0, 1896.0, 1408.0, 1056.0, 1050.0, 888.0, 1400.0, 2190.0, 1224.0, 1316.0, 1536.0, 1559.0, 1440.0, 1638.0, 1672.0, 1203.0, 1068.0, 896.0, 1440.0, 1147.0, 1236.0, 1320.0, 1020.0, 1060.0, 1645.0, 2352.0, 1400.0, 1300.0, 1112.0, 1200.0, 726.0, 576.0, 600.0, 1152.0, 1660.0, 1552.0, 1026.0, 1120.0, 780.0, 2018.0, 1560.0, 1300.0, 1148.0, 1120.0, 860.0, 896.0, 1110.0, 1624.0, 3366.0, 1997.0, 0.0, 1542.0, 1056.0, 1840.0, 1050.0, 1352.0, 1280.0, 1768.0, 1632.0, 1278.0, 1360.0, 1156.0, 1329.0, 1120.0, 2220.0, 1498.0, 1520.0, 1020.0, 1600.0, 992.0, 1384.0, 1354.0, 1392.0, 1214.0, 1923.0, 2064.0, 1622.0, 880.0, 1864.0, 1116.0, 1980.0, 2310.0, 1550.0, 0.0, 1620.0, 1200.0, 870.0, 2353.0, 1230.0, 1076.0, 1552.0, 1372.0, 1224.0, 2250.0, 1120.0, 2430.0, 1248.0, 1552.0, 978.0, 1230.0, 1056.0, 1000.0, 1066.0, 1104.0, 7200.0, 1490.0, 1418.0, 1180.0, 1160.0, 1400.0, 944.0, 1136.0, 1752.0, 2040.0, 2400.0, 858.0, 1352.0, 1400.0, 934.0, 1092.0, 1839.0, 900.0, 1868.0, 2568.0, 1592.0, 1501.0, 1504.0, 1772.0, 1472.0, 2200.0, 740.0, 1608.0, 1299.0, 2250.0, 1088.0, 1168.0, 3540.0, 7875.0, 1440.0, 960.0, 2692.0, 924.0, 1489.0, 960.0, 1200.0, 1276.0, 1658.0, 570.0, 1323.0, 991.0, 1584.0, 1536.0, 2241.0, 1407.0, 1122.0, 2296.0, 0.0, 0.0, 3773.0, 896.0, 1150.0, 2310.0, 1208.0, 1853.0, 1125.0, 1680.0, 1224.0, 1120.0, 1512.0, 1260.0, 1216.0, 1670.0, 1140.0, 796.0, 946.0, 1464.0, 867.0, 1576.0, 924.0, 1200.0, 1334.0, 1160.0, 1170.0, 960.0, 1470.0, 630.0, 1504.0, 1280.0, 1392.0, 1120.0, 1408.0, 5348.0, 946.0, 2358.0, 2295.0, 1377.0, 1120.0, 1312.0, 0.0, 0.0, 3520.0, 1424.0, 1464.0, 1196.0, 2002.0, 1240.0, 1145.0, 1080.0, 1400.0, 1160.0, 1868.0, 1672.0, 1038.0, 5178.0, 936.0, 1092.0, 2688.0, 1120.0, 1807.0, 996.0, 1156.0, 1570.0, 1488.0, 570.0, 1980.0, 1666.0, 1232.0, 1224.0, 2158.0, 732.0, 810.0, 1400.0, 1824.0, 1245.0, 1090.0, 1873.0, 1694.0, 1870.0, 1246.0, 2150.0, 1344.0, 1943.0, 1155.0, 2408.0, 1086.0, 1556.0, 928.0, 1169.0, 1168.0, 938.0, 1354.0, 1530.0, 696.0, 1406.0, 3080.0, 1248.0, 2339.0, 1242.0, 1658.0, 0.0, 1280.0, 1132.0, 1184.0, 868.0, 1795.0, 3070.0, 1292.0, 1061.0, 1576.0, 912.0, 1542.0, 1078.0, 1242.0, 946.0, 1412.0, 1552.0, 1470.0, 2238.0, 1848.0, 880.0, 2692.0, 1376.0, 1908.0, 1402.0, 2814.0, 1779.0, 1420.0, 1560.0, 1248.0, 1807.0, 1232.0, 1105.0, 2149.0, 2562.0, 784.0, 1296.0, 1260.0, 1864.0, 1728.0, 1302.0, 1794.0, 1296.0, 1305.0, 1125.0, 1056.0, 2226.0, 800.0, 1050.0, 945.0, 2268.0, 1585.0, 1264.0, 1208.0, 924.0, 1285.0, 1128.0, 1764.0, 1438.0, 1385.0, 740.0, 1328.0, 1960.0, 0.0, 1816.0, 1890.0, 2040.0, 1632.0, 1540.0, 1260.0, 1540.0, 2996.0, 1708.0, 2340.0, 1672.0, 1185.0, 2315.0, 1584.0, 1791.0, 1680.0, 1760.0, 1683.0, 1248.0, 1056.0, 1056.0, 1280.0, 1846.0, 1224.0, 1280.0, 1258.0, 1608.0, 910.0, 960.0, 1200.0, 760.0, 1874.0, 1304.0, 1440.0, 1144.0, 1425.0, 1538.0, 2000.0, 1273.0, 1224.0, 960.0, 1944.0, 1200.0, 1920.0, 1599.0, 1800.0, 3280.0, 1984.0, 1040.0, 1584.0, 2208.0, 1344.0, 1776.0, 1568.0, 1360.0, 2016.0, 600.0, 1216.0, 1190.0, 1683.0, 1040.0, 725.0, 2115.0, 1280.0, 1680.0, 1191.0, 1995.0, 1214.0, 1137.0, 4950.0, 2540.0, 1008.0, 1008.0, 1972.0, 1673.0, 768.0, 896.0, 1160.0, 1870.0, 2798.0, 1764.0, 1732.0, 702.0, 1251.0, 864.0, 1782.0, 1520.0, 1392.0, 1400.0, 2660.0, 1528.0, 2016.0, 2160.0, 1320.0, 1456.0, 1220.0, 2088.0, 0.0, 2100.0, 1092.0, 1480.0, 1995.0, 1520.0, 2744.0, 1876.0, 1368.0, 1480.0, 1568.0, 1920.0, 1580.0, 1858.0, 1131.0, 726.0, 1440.0, 2132.0, 576.0, 2476.0, 1168.0, 2128.0, 1368.0, 1200.0, 1536.0, 2160.0, 1546.0, 950.0, 1309.0, 1216.0, 492.0, 1316.0, 1218.0, 1882.0, 952.0, 1440.0, 1140.0, 1296.0, 1925.0, 2366.0, 1758.0, 1195.0, 1540.0, 2160.0, 1944.0, 1806.0, 966.0, 1152.0, 1056.0, 1206.0, 956.0, 1449.0, 1660.0, 1020.0, 1344.0, 637.0, 828.0, 850.0, 1208.0, 1160.0, 1446.0, 3208.0, 1448.0, 1440.0, 730.0, 2000.0, 1116.0, 1296.0, 1880.0, 1950.0, 1380.0, 1264.0, 1476.0, 1406.0, 1455.0, 2680.0, 1128.0, 1020.0, 1376.0, 1536.0, 1500.0, 4301.0, 710.0, 1760.0, 1248.0, 920.0, 1120.0, 1264.0, 1296.0, 1536.0, 1440.0, 1754.0, 1234.0, 3580.0, 1510.0, 1088.0, 920.0, 1304.0, 1800.0, 1280.0, 1144.0, 1830.0, 1645.0, 2620.0, 1360.0, 1756.0, 2501.0, 1200.0, 1204.0, 1176.0, 1024.0, 1534.0, 1925.0, 1320.0, 1152.0, 832.0, 3090.0, 1496.0, 1116.0, 1142.0, 1776.0, 1176.0, 1528.0, 1064.0, 1064.0, 1927.0, 1400.0, 1460.0, 1460.0, 1964.0, 1382.0, 1906.0, 1356.0, 896.0, 1405.0, 1620.0, 1776.0, 1704.0, 1020.0, 1826.0, 945.0, 1925.0, 3177.0, 1170.0, 1152.0, 1322.0, 2046.0, 1536.0, 1094.0, 1024.0, 896.0, 1248.0, 1658.0, 1140.0, 1200.0, 952.0, 1832.0, 1650.0, 1793.0, 1080.0, 1339.0, 1700.0, 1339.0, 1440.0, 1424.0, 864.0, 1092.0, 1528.0, 921.0, 2128.0, 1807.0, 621.0, 1163.0], \"xaxis\": \"x\", \"y\": [550000, 200000, 810000, 125000, 620000, 1150000, 836500, 955000, 820000, 980000, 430000, 700000, 448000, 670000, 1390000, 540000, 520000, 480000, 570000, 552000, 505000, 357500, 670000, 549000, 970000, 800000, 450000, 330000, 575000, 450000, 743000, 445000, 255000, 750000, 985000, 958000, 1440000, 200000, 930000, 990000, 810000, 670000, 1030000, 900000, 940000, 445000, 710000, 998000, 950000, 470000, 480000, 757504, 350000, 717359, 926608, 585500, 493000, 615000, 646589, 470000, 510000, 1705000, 643750, 465000, 320000, 730000, 300000, 494000, 670000, 525000, 640000, 870000, 780000, 350000, 1490000, 555000, 550000, 685000, 825000, 435000, 810000, 224094, 512275, 520000, 494500, 450000, 460000, 1290000, 890000, 530000, 445000, 452465, 560000, 440000, 625000, 588005, 420000, 416000, 570000, 335000, 108000, 1575000, 350000, 795000, 1100000, 670000, 760000, 645000, 650000, 492000, 590000, 830000, 330000, 590000, 646000, 446000, 550000, 640000, 445000, 646589, 639461, 520000, 125000, 349500, 700000, 355000, 355000, 200000, 499000, 265000, 300000, 980000, 1100000, 750000, 1163359, 710000, 915000, 350000, 1250000, 840000, 605000, 350000, 915000, 999999, 425000, 414987, 208000, 408000, 220000, 1872562, 830000, 410000, 395000, 555000, 443800, 743323, 539900, 763688, 889000, 572500, 632000, 465000, 340000, 400000, 395000, 470000, 510000, 821000, 529000, 650000, 859000, 790000, 1700000, 980000, 385000, 580000, 880888, 859000, 1153000, 788000, 990000, 825000, 515000, 840000, 600000, 1710660, 520000, 660000, 479000, 520000, 490000, 500000, 240000, 550000, 1218300, 500000, 540000, 500000, 580000, 515000, 100000, 1530000, 460000, 1750000, 380250, 990000, 405600, 820000, 210000, 499500, 415000, 300000, 850000, 885000, 1400000, 500000, 255000, 624000, 601000, 575000, 370000, 534560, 620000, 335000, 269500, 641000, 619000, 413950, 545000, 350000, 880000, 540000, 471500, 673330, 566368, 120000, 565000, 510569, 125000, 790000, 415000, 740000, 550000, 365000, 570000, 700000, 490000, 660000, 525000, 508402, 305000, 1400000, 430000, 357000, 450000, 1250000, 560000, 130000, 225000, 305000, 910000, 905000, 985000, 958000, 700000, 830000, 536000, 680000, 660000, 640000, 1280000, 630000, 529000, 390000, 425000, 680000, 850000, 531000, 250000, 539000, 775000, 599900, 475000, 475000, 600768, 749000, 781000, 675000, 599000, 499000, 490000, 630000, 460000, 490000, 780000, 1850000, 250000, 294000, 1500000, 965000, 487000, 100000, 380000, 650000, 730000, 112000, 499999, 680000, 342000, 742000, 515000, 450000, 100000, 100000, 790000, 740000, 875000, 735000, 560000, 599000, 390000, 508500, 860000, 590585, 457500, 320000, 510000, 390000, 328600, 440000, 820000, 912500, 465000, 650000, 439000, 210000, 950000, 1685000, 599000, 405235, 970000, 1465000, 455000, 605394, 640000, 790000, 770000, 950000, 420000, 570000, 900000, 489600, 773000, 420000, 361000, 198000, 278000, 450000, 430000, 503000, 527500, 366877, 385000, 346029, 373692, 988000, 495000, 450000, 485000, 230000, 444000, 350000, 311912, 559144, 550000, 695000, 575000, 589000, 475000, 250000, 1440000, 570000, 458800, 560000, 590000, 456300, 223000, 575000, 820000, 381550, 1025000, 699000, 1100000, 505000, 575000, 500000, 250000, 400000, 625000, 650000, 850000, 925000, 445000, 1295000, 700000, 763000, 615000, 114000, 630000, 665000, 515000, 517000, 850000, 600000, 700000, 597000, 352746, 900000, 875000, 570000, 455000, 499999, 375180, 410000, 515000, 780000, 1240000, 515000, 1200000, 385000, 818000, 1415000, 1165000, 1050000, 1600000, 1260000, 865000, 748000, 635000, 1675000, 985000, 885000, 790000, 679000, 280000, 800000, 670000, 641000, 450000, 390000, 485000, 463000, 467000, 446000, 610000, 579000, 490000, 451000, 770000, 990000, 440000, 360000, 600000, 607000, 585494, 533000, 860000, 415000, 685000, 580000, 1450000, 285075, 525000, 1120075, 360000, 265000, 245000, 475000, 512000, 510000, 334650, 990000, 900000, 335000, 1900000, 560000, 595000, 600000, 848000, 1250000, 800000, 1500000, 658000, 1578288, 1075000, 990000, 105000, 560038, 829000, 485000, 638000, 230000, 740000, 995000, 554500, 603500, 550000, 460000, 459500, 204800, 253000, 362900, 479000, 396000, 350000, 335000, 610000, 480000, 499000, 582500, 620000, 485000, 630000, 590000, 697000, 555000, 500000, 600000, 950000, 340000, 150000, 423000, 499000, 658820, 530000, 1150000, 1573500, 500000, 486000, 550000, 380000, 644000, 730000, 851000, 730000, 475000, 732000, 835000, 200000, 990000, 925000, 990000, 1200000, 560000, 525000, 489000, 160000, 380000, 385000, 740000, 1090000, 498000, 498900, 490000, 555000, 590000, 469900, 620000, 565000, 405000, 425000, 307000, 450000, 243360, 445000, 795000, 450000, 655498, 529791, 795000, 988000, 729000, 400000, 830000, 675000, 890000, 850000, 515000, 899888, 700000, 277000, 760000, 630000, 770000, 825000, 600000, 1015000, 715000, 371000, 365040, 500000, 975000, 781000, 396000, 275000, 400530, 580000, 112000, 1125000, 470000, 575210, 800000, 772500, 963538, 477000, 415000, 420810, 360500, 369000, 365000, 241000, 555000, 465000, 540750, 740000, 332000, 499000, 301665, 1500000, 683000, 560000, 499000, 1775000, 450000, 211650, 715000, 780000, 905000, 555000, 820000, 715000, 628900, 838000, 795000, 560000, 435000, 610000, 618000, 960000, 555000, 532000, 670000, 375000, 450000, 100000, 342000, 435000, 245500, 720000, 520000, 515000, 555000, 399888, 370023, 850000, 540000, 210000, 449000, 430000, 334620, 265000, 248132, 373600, 362000, 415000, 453124, 620000, 550000, 300000, 835000, 550000, 614000, 568600, 1060000, 479000, 181875, 490000, 991670, 1425000, 1570000, 800000, 777000, 690000, 800000, 650000, 660000, 950000, 747000, 785000, 700000, 712000, 710000, 730000, 990000, 1031285, 1120413, 515000, 485000, 565000, 545000, 400000, 325000, 440000, 495000, 656000, 590000, 250000, 475000, 760000, 500000, 410000, 492000, 525000, 485000, 240000, 745000, 247850, 445000, 384500, 822500, 375000, 525000, 760000, 450000, 540000, 980000, 1150000, 760000, 999000, 799000, 600000, 425000, 832500, 515000, 720000, 655000, 640000, 990000, 740000, 450000, 590000, 965000, 668900, 1180000, 390000, 255000, 499931, 705094, 266667, 539000, 568000, 475000, 525000, 248000, 678000, 385000, 450000, 755000, 440000, 430000, 1050000, 1452500, 573000, 575000, 440000, 425000, 575000, 670000, 500000, 230000, 688888, 835000, 740000, 290000, 535000, 340000, 175000, 639000, 845000, 700000, 740000, 915000, 1600000, 1050000, 630000, 640000, 730000, 525000, 1870000, 500000, 609000, 220000, 415000, 499999, 650000, 529000, 940000, 1552831, 1200000, 282000, 550000, 860000, 495000, 595676, 800000, 572000, 445000, 499000, 400000, 450000, 230000, 438000, 480000, 150000, 298100, 1100000, 175000, 530000, 500000, 650000, 615000, 935000, 830000, 550000, 640000, 610000, 836000, 784053, 915000, 750000, 685000, 300000, 640000, 785000, 518500, 490000, 228000, 600000, 470000, 630000, 540000, 622000, 360000, 322500, 480000, 645000, 755000, 489000, 470000, 620000, 623169, 705000, 420000, 719000, 350000, 575311, 174300, 544000, 618000, 450000, 480000, 145000, 430000, 565000, 475000, 406282, 327500, 560000, 565000, 325000, 160000, 515000, 920000, 335000, 158600, 600000, 985000, 470000, 522500, 1275000, 727000, 664000, 1085000, 610000, 520000, 699000, 825000, 950000, 382621, 512000, 436800, 770000, 550000, 679189, 915000, 769000, 200000, 547000, 224000, 610000, 650000, 625000, 450000, 1500000, 1080000, 607856, 1390000, 740000, 469625, 540000, 450000, 400000, 547500, 495000, 365000, 495000, 359970, 470000, 590000, 235000, 536500, 362500, 218000, 455000, 545000, 499800, 620000, 830000, 442900, 390000, 650000, 235000, 625000, 672000, 590000, 645000, 585000, 465000, 390000, 350000, 485000, 435000, 500000, 320000, 390000, 430000, 578000, 870000, 668500, 1330000, 345000, 415000, 394272, 850000, 366211, 720000, 900000, 425000, 775000, 327631, 660000, 675000, 720000, 530000, 380000, 850000, 775000, 580000, 475000, 340000, 435000, 428480, 815000, 605000, 465545, 468000, 279000, 590000, 618500, 521500, 435000, 480000, 790000, 575000, 459000, 475000, 485000, 460000, 428665, 500000, 1955000, 591000, 610000, 708000, 950000, 605000, 669000, 950000, 475000, 1500000, 745000, 855000, 340000, 795000, 380000, 465000, 410000, 587400, 600000, 655000, 350000, 375000, 380000, 245000, 608400, 231500, 1202000, 1925000, 1550000, 500000, 1400000, 659500, 833000, 750000, 860000, 525000, 825000, 800000, 720000, 575000, 656766, 650000, 720000, 530000, 470000, 370000, 495000, 227302, 490000, 336000, 626224, 620000, 250000, 634000, 600000, 600000, 345163, 510000, 445000, 700000, 700000, 1850000, 810000, 508605, 1175000, 499371, 615000, 1235000, 1200000, 457920, 505000, 443000, 302000, 1117500, 800000, 273600, 1100000, 496460, 141088, 529000, 470000, 1075000, 1950000, 690000, 1165000, 515510, 425000, 740000, 1075000, 990000, 850000, 519000, 620000, 330000, 810000, 780000, 500000, 130000, 555000, 365625, 380000, 463500, 280000, 695000, 499412, 651680, 700000, 400000, 307668, 590585, 569000, 570000, 229430, 550000, 383593, 825000, 524804, 430000, 518340, 590000, 380250, 464000, 1630000, 1630000, 1100000, 535000, 605000, 1400000, 855000, 760000, 562500, 2000000, 667800, 1235000, 932500, 790000, 572000, 315000, 440000, 680000, 970000, 650000, 1460000, 715000, 800000, 500000, 1125000, 269302, 934350, 310000, 650000, 868000, 420000, 535000, 250000, 510000, 880000, 788000, 480000, 880000, 145000, 740000, 590000, 536750, 234234, 555000, 490000, 545000, 250000, 500000, 999500, 501930, 1445000, 863000, 600000, 920000, 870000, 1700000, 670000, 275000, 481000, 560000, 425000, 540000, 580000, 295000, 416000, 404250, 499000, 570000, 948578, 400000, 525000, 520000, 650000, 500000, 990000, 447000, 445000, 850000, 690000, 738231, 350000, 500000, 900000, 1200000, 253950, 427523, 274092, 780000, 650000, 995000, 519000, 810000, 671000, 849000, 865000, 499999, 1099200, 1625000, 900000, 525000, 450000, 180500, 1225000, 395000, 194000, 520000, 423000, 411684, 550000, 200000, 560038, 595000, 540000, 326000, 560000, 360000, 524349, 575000, 579000, 420000, 371848, 182500, 600000, 540000, 830000, 1325000, 890000, 1090000, 515000, 655000, 1150000, 975000, 812000, 779000, 530000, 815000, 380000, 420000, 175000, 424000, 582000, 865000, 1440000, 508000, 610950, 850000, 550000, 438000, 240000, 595000, 485000, 540000, 500000, 490000, 624000, 556000, 714800, 680000, 444000, 650000, 500000, 499000, 690000, 1655000, 1125000, 430000, 1215000, 645000, 629000, 885000, 600000, 630000, 994000, 266000, 630000, 880000, 440000, 175000, 520000, 531250, 768328, 620000, 635000, 216500, 400000, 575000, 363000, 554946, 596695, 457314, 592000, 550000, 369770, 515000, 479000, 589000, 890000, 575000, 240000, 495000, 440000, 499000, 645000, 910000, 1289120, 635000, 360000, 617000, 775000, 880000, 1420000, 695000, 157277, 750000, 970000, 480000, 500000, 900000, 620000, 777000, 563000, 650000, 487500, 377500, 560000, 224000, 237500, 450000, 362900, 465000, 361998, 480000, 560000, 625000, 490000, 900000, 760000, 463900, 399000, 340000, 485000, 770000, 750000, 249000, 150000, 940000, 414400, 605000, 495000, 401000, 578000, 650000, 429000, 360000, 474000, 930000, 690000, 390000, 1325000, 390000, 632000, 530000, 1095000, 930000, 725000, 730000, 525000, 545000, 490000, 890000, 290000, 845000, 476768, 345000, 160000, 528000, 526500, 470000, 520000, 499000, 610000, 640000, 450000, 743323, 275000, 600000, 630297, 1400000, 912500, 915000, 549000, 400000, 830000, 700000, 679000, 1290000, 1614600, 899000, 550000, 180000, 403000, 930000, 550000, 350000, 525000, 640000, 480000, 410000, 615000, 485000, 525000, 263133, 400000, 468400, 721939, 352500, 710000, 360000, 465000, 840000, 402600, 552910, 625000, 610000, 505000, 303000, 330000, 720000, 488000, 953000, 980000, 679000, 580000, 440000, 815000, 640000, 175000, 520000, 865000, 525000, 720000, 700000, 679000, 485000, 465000, 444000, 525000, 547000, 425000, 625000, 180000, 365000, 318000, 306000, 635045, 651680, 689100, 496888, 295000, 497000, 475000, 310000, 440000, 500000, 568960, 216489, 380000, 460000, 579000, 699000, 440000, 570000, 840000, 630000, 251155, 1130000, 825000, 872000, 1070000, 870000, 352500, 390000, 958317, 725000, 860000, 785000, 673000, 300000, 340000, 835000, 925000, 593000, 182000, 1340000, 515000, 400000, 505000, 635000, 252000, 320000, 525000, 675000, 404000, 695000, 607000, 275000, 515000, 850000, 697501, 550000, 614000, 409500, 360000, 276822, 385000, 336000, 762669, 390000, 410000, 600000, 617000, 630000, 210000, 612000, 605000, 398000, 1142500, 648000, 889000, 1150000, 900000, 820000, 1325000, 525000, 760000, 907000, 1048800, 585000, 600000, 565000, 606279, 565000, 657906, 175000, 300000, 525000, 540000, 499000, 499990, 721939, 536000, 1036000, 410000, 539000, 495000, 490000, 355000, 431000, 478000, 485000, 189270, 565000, 439931, 416981, 610000, 700000, 900000, 890000, 878000, 1158000, 693000, 940000, 933800, 620000, 725000, 545000, 160000, 888000, 720000, 940000, 883000, 570000, 510000, 301000, 450000, 260000, 939000, 480000, 647000, 595000, 350000, 113348, 610000, 563000, 273780, 470000, 780000, 1358500, 585000, 680000, 920000, 999000, 550000, 660000, 725000, 532000, 600000, 900000, 668000, 218000, 585000, 800000, 730000, 750000, 685000, 708400, 862000, 710000, 605000, 610000, 550000, 1250000, 950000, 562500, 525000, 430000, 537500, 523000, 480000, 552000, 919000, 1120075, 300000, 605000, 485000, 445000, 549000, 625000, 970000, 560000, 520000, 990000, 880000, 136000, 1210000, 280000, 620000, 610000, 336000, 550000, 1620000, 831000, 235000, 1140000, 999000, 800000, 346500, 1140000, 700000, 967000, 620000, 375000, 375000, 1020000, 920000, 475000, 705000, 510000, 350000, 335000, 500000, 800000, 639000, 220000, 325000, 800000, 201000, 460000, 419900, 535000, 225000, 400000, 400000, 900000, 100000, 464000, 510000, 299000, 460000, 870000, 380000, 520000, 584284, 515000, 555000, 571000, 580000, 687000, 436600, 333600, 410000, 540000, 660000, 1125000, 585000, 309000, 145000, 567000, 635000, 989000, 499500, 851000, 800000, 1450000, 600000, 575000, 668000, 350000, 400000, 550000, 319600, 1150000, 800000, 600000, 240000, 465000, 400000, 585000, 515000, 560038, 475000, 550000, 499000, 500000, 285000, 500000, 1270000, 415000, 666588, 770000, 645000, 640000, 400000, 525000, 1125000, 599000, 595000, 445000, 994517, 530000, 564796, 895000, 460000, 525000, 160673, 560000, 570000, 560000, 480000, 460000, 515000, 984000, 510000, 509600, 1220000, 1150000, 100000, 600000, 750000, 1700000, 860500, 459000, 560000, 540000, 510365, 590000, 494000, 200000, 560000, 470000, 500000, 585000, 451230, 490000, 270000, 329000, 739000, 324480, 350000, 320000, 353379, 645000, 600000, 425880, 800000, 930000, 875000, 715000, 875000, 740000, 485000, 710000, 499750, 1850000, 493000, 995000, 610000, 1425000, 615000, 733140, 672045, 670000, 355000, 422000, 150000, 467500, 495000, 580000, 912000, 500000, 210000, 595000, 1400000, 1668500, 600000, 700000, 730000, 414000, 1310000, 950000, 580000, 900000, 990000, 570000, 410000, 485000, 376000, 376000, 600000, 480000, 820000, 715000, 452998, 544719, 535000, 800000, 465000, 683000, 420000, 351000, 470000, 599000, 115000, 930000, 800000, 612000, 468468, 440000, 152000, 760000, 1084000, 450000, 500599, 750000, 985000, 845000, 890000, 510000, 471000, 510000, 275000, 545000, 715500, 795000, 385000, 400000, 899000, 900000, 400000, 595000, 215000, 450000, 380000, 609000, 410000, 250000, 800000, 473500, 535000, 692240, 495000, 870604, 650000, 250000, 450000, 485000, 638600, 630000, 250000, 450000, 250000, 1385000, 305000, 700000, 575000, 520000, 602000, 314500, 1122000, 750000, 650000, 500000, 791000, 905000, 928000, 600000, 595000, 250000, 390000, 321000, 700000, 375000, 392000, 938486, 270000, 306228, 650000, 444132, 440000, 499999, 490000, 270480, 325000, 475000, 168000, 500585, 740000, 430000, 575000, 580000, 350000, 635000, 877500, 495000, 510000, 560000, 585000, 565000, 635000, 850000, 1400000, 1100000, 455000, 975000, 586000, 330000, 835000, 820000, 725000, 1465000, 835000, 829000, 465000, 538000, 396000, 500000, 1600000, 585000, 500000, 268000, 270000, 440000, 540000, 375000, 665000, 505000, 480000, 621133, 280980, 197000, 532000, 418000, 330000, 500000, 450000, 435000, 525000, 250000, 575000, 2000000, 700000, 650000, 605000, 700000, 865000, 665000, 500000, 995000, 362000, 375000, 360000, 525000, 470000, 370000, 560000, 125000, 667000, 635000, 495000, 489000, 350000, 490000, 222500, 393000, 495000, 150000, 805000, 525000, 799000, 620000, 1265000, 640000, 1175000, 365000, 455000, 1060000, 731300, 905000, 810000, 200000, 639000, 825000, 375000, 380250, 520000, 595000, 314820, 325500, 1650000, 1850000, 646588, 420000, 405600, 280000, 600000, 630000, 499990, 445000, 763688, 225000, 550000, 570000, 990000, 735000, 860000, 370800, 728000, 1200000, 610000, 432000, 1357000, 630000, 997000, 1070000, 701083, 900000, 650000, 690000, 740000, 369900, 460000, 600000, 365000, 936000, 795000, 565000, 430000, 333000, 465000, 580000, 361000, 475000, 515000, 435000, 360000, 610000, 580000, 284000, 555000, 525000, 560038, 480000, 520000, 1500000, 804718, 550000, 550000, 480000, 905000, 840000, 550000, 470000, 1695000, 995000, 300000, 755000, 675000, 395000, 382500, 468000, 450000, 605000, 750000, 450000, 280000, 575000, 281250, 720000, 738231, 510000, 610949, 344760, 540000, 395000, 290000, 295000, 950000, 550000, 275000, 320000, 1640000, 743561, 582000, 748000, 990000, 615000, 700000, 948500, 855000, 1050000, 525000, 821750, 625000, 469000, 525000, 1320000, 465000, 437750, 445000, 390000, 552000, 850000, 412000, 480000, 465000, 441000, 700000, 460000, 860421, 465500, 804416, 110000, 580000, 400000, 799000, 550000, 1049000, 1210950, 901000, 1200000, 580000, 280000, 950000, 625000, 430000, 270000, 285000, 639900, 250750, 770000, 560000, 610000, 692410, 265000, 545000, 615000, 750000, 679000, 275000, 197600, 400000, 595000, 232000, 750000, 928000, 1290000, 339690, 348156, 735000, 800000, 659000, 477387, 386000, 610000, 810000, 490000, 524700, 387000, 349700, 435000, 650000, 1100000, 905000, 560000, 377500, 224829, 531000, 155500, 328410, 499990, 433000, 210000, 825000, 541000, 213600, 450000, 319100, 602000, 575000, 710000, 590000, 880000, 989000, 730000, 910000, 830000, 999999, 850000, 640000, 370000, 457821, 650000, 280000, 586000, 498000, 525000, 550000, 910000, 885000, 490000, 540000, 451230, 525000, 475000, 100000, 361722, 720000, 568750, 542000, 806000, 330000, 550000, 395000, 490000, 457000, 350000, 655000, 690000, 1128508, 615000, 133500, 1450000, 800000, 500000, 905000, 935000, 900000, 800000, 780000, 818000, 950000, 470000, 450000, 306135, 580000, 465593, 251000, 265000, 530000, 490000, 657558, 557000, 510000, 380000, 1358000, 815000, 530000, 675000, 627000, 380000, 252400, 530000, 550000, 425000, 1562000, 400000, 300000, 640000, 857000, 530000, 555000, 510000, 675343, 820000, 1350000, 1150000, 1400000, 999000, 531260, 1491000, 640000, 715000, 300000, 905000, 880000, 788000, 805000, 226667, 1180000, 596900, 420000, 670000, 565000, 361092, 615000, 830000, 400000, 700000, 550000, 685000, 400000, 775000, 415000, 750000, 465000, 324480, 356310, 632500, 560000, 335000, 410000, 420000, 390000, 856900, 485000, 390500, 590000, 665000, 550000, 490000, 725000, 589000, 940000, 650000, 600000, 815000, 1168000, 500000, 473800, 400000, 700000, 680000, 462500, 450000, 535000, 455000, 228150, 272000, 180000, 340000, 285000, 350000, 525000, 1525000, 460000, 355000, 1150000, 890000, 310000, 645000, 925000, 850000, 1525000, 750000, 630000, 949000, 895000, 855000, 660000, 615000, 950000, 435000, 795000, 1650000, 280000, 999600, 460000, 418000, 490000, 401544, 465000, 702000, 380000, 620000, 835000, 1485000, 335000, 300000, 440000, 545000, 662000, 522000, 579000, 413000, 516000, 804124, 390390, 661863, 1170988, 461370, 520000, 300000, 404250, 400000, 510000, 326864, 460000, 282755, 1500000, 1375000, 474226, 680000, 620000, 250000, 880000, 677500, 715000, 1400000, 570000, 1100000, 1100000, 1675000, 1475000, 992500, 788000, 540000, 350000, 750000, 880000, 1150000, 690000, 700000, 710000, 760000, 1876000, 675000, 463146, 354500, 240000, 585000, 395000, 425000, 540000, 417000, 444558, 267000, 412600, 537500, 541709, 1053000, 760000, 540000, 570000, 130000, 465000, 535000, 520000, 515000, 475000, 500000, 330000, 690000, 610949, 520000, 104000], \"yaxis\": \"y\"}],\n",
              "                        {\"legend\": {\"tracegroupgap\": 0}, \"margin\": {\"t\": 60}, \"template\": {\"data\": {\"bar\": [{\"error_x\": {\"color\": \"#2a3f5f\"}, \"error_y\": {\"color\": \"#2a3f5f\"}, \"marker\": {\"line\": {\"color\": \"#E5ECF6\", \"width\": 0.5}}, \"type\": \"bar\"}], \"barpolar\": [{\"marker\": {\"line\": {\"color\": \"#E5ECF6\", \"width\": 0.5}}, \"type\": \"barpolar\"}], \"carpet\": [{\"aaxis\": {\"endlinecolor\": \"#2a3f5f\", \"gridcolor\": \"white\", \"linecolor\": \"white\", \"minorgridcolor\": \"white\", \"startlinecolor\": \"#2a3f5f\"}, \"baxis\": {\"endlinecolor\": \"#2a3f5f\", \"gridcolor\": \"white\", \"linecolor\": \"white\", \"minorgridcolor\": \"white\", \"startlinecolor\": \"#2a3f5f\"}, \"type\": \"carpet\"}], \"choropleth\": [{\"colorbar\": {\"outlinewidth\": 0, \"ticks\": \"\"}, \"type\": \"choropleth\"}], \"contour\": [{\"colorbar\": {\"outlinewidth\": 0, \"ticks\": \"\"}, \"colorscale\": [[0.0, \"#0d0887\"], [0.1111111111111111, \"#46039f\"], [0.2222222222222222, \"#7201a8\"], [0.3333333333333333, \"#9c179e\"], [0.4444444444444444, \"#bd3786\"], [0.5555555555555556, \"#d8576b\"], [0.6666666666666666, \"#ed7953\"], [0.7777777777777778, \"#fb9f3a\"], [0.8888888888888888, \"#fdca26\"], [1.0, \"#f0f921\"]], \"type\": \"contour\"}], \"contourcarpet\": [{\"colorbar\": {\"outlinewidth\": 0, \"ticks\": \"\"}, \"type\": \"contourcarpet\"}], \"heatmap\": [{\"colorbar\": {\"outlinewidth\": 0, \"ticks\": \"\"}, \"colorscale\": [[0.0, \"#0d0887\"], [0.1111111111111111, \"#46039f\"], [0.2222222222222222, \"#7201a8\"], [0.3333333333333333, \"#9c179e\"], [0.4444444444444444, \"#bd3786\"], [0.5555555555555556, \"#d8576b\"], [0.6666666666666666, \"#ed7953\"], [0.7777777777777778, \"#fb9f3a\"], [0.8888888888888888, \"#fdca26\"], [1.0, \"#f0f921\"]], \"type\": \"heatmap\"}], \"heatmapgl\": [{\"colorbar\": {\"outlinewidth\": 0, \"ticks\": \"\"}, \"colorscale\": [[0.0, \"#0d0887\"], [0.1111111111111111, \"#46039f\"], [0.2222222222222222, \"#7201a8\"], [0.3333333333333333, \"#9c179e\"], [0.4444444444444444, \"#bd3786\"], [0.5555555555555556, \"#d8576b\"], [0.6666666666666666, \"#ed7953\"], [0.7777777777777778, \"#fb9f3a\"], [0.8888888888888888, \"#fdca26\"], [1.0, \"#f0f921\"]], \"type\": \"heatmapgl\"}], \"histogram\": [{\"marker\": {\"colorbar\": {\"outlinewidth\": 0, \"ticks\": \"\"}}, \"type\": \"histogram\"}], \"histogram2d\": [{\"colorbar\": {\"outlinewidth\": 0, \"ticks\": \"\"}, \"colorscale\": [[0.0, \"#0d0887\"], [0.1111111111111111, \"#46039f\"], [0.2222222222222222, \"#7201a8\"], [0.3333333333333333, \"#9c179e\"], [0.4444444444444444, \"#bd3786\"], [0.5555555555555556, \"#d8576b\"], [0.6666666666666666, \"#ed7953\"], [0.7777777777777778, \"#fb9f3a\"], [0.8888888888888888, \"#fdca26\"], [1.0, \"#f0f921\"]], \"type\": \"histogram2d\"}], \"histogram2dcontour\": [{\"colorbar\": {\"outlinewidth\": 0, \"ticks\": \"\"}, \"colorscale\": [[0.0, \"#0d0887\"], [0.1111111111111111, \"#46039f\"], [0.2222222222222222, \"#7201a8\"], [0.3333333333333333, \"#9c179e\"], [0.4444444444444444, \"#bd3786\"], [0.5555555555555556, \"#d8576b\"], [0.6666666666666666, \"#ed7953\"], [0.7777777777777778, \"#fb9f3a\"], [0.8888888888888888, \"#fdca26\"], [1.0, \"#f0f921\"]], \"type\": \"histogram2dcontour\"}], \"mesh3d\": [{\"colorbar\": {\"outlinewidth\": 0, \"ticks\": \"\"}, \"type\": \"mesh3d\"}], \"parcoords\": [{\"line\": {\"colorbar\": {\"outlinewidth\": 0, \"ticks\": \"\"}}, \"type\": \"parcoords\"}], \"pie\": [{\"automargin\": true, \"type\": \"pie\"}], \"scatter\": [{\"marker\": {\"colorbar\": {\"outlinewidth\": 0, \"ticks\": \"\"}}, \"type\": \"scatter\"}], \"scatter3d\": [{\"line\": {\"colorbar\": {\"outlinewidth\": 0, \"ticks\": \"\"}}, \"marker\": {\"colorbar\": {\"outlinewidth\": 0, \"ticks\": \"\"}}, \"type\": \"scatter3d\"}], \"scattercarpet\": [{\"marker\": {\"colorbar\": {\"outlinewidth\": 0, \"ticks\": \"\"}}, \"type\": \"scattercarpet\"}], \"scattergeo\": [{\"marker\": {\"colorbar\": {\"outlinewidth\": 0, \"ticks\": \"\"}}, \"type\": \"scattergeo\"}], \"scattergl\": [{\"marker\": {\"colorbar\": {\"outlinewidth\": 0, \"ticks\": \"\"}}, \"type\": \"scattergl\"}], \"scattermapbox\": [{\"marker\": {\"colorbar\": {\"outlinewidth\": 0, \"ticks\": \"\"}}, \"type\": \"scattermapbox\"}], \"scatterpolar\": [{\"marker\": {\"colorbar\": {\"outlinewidth\": 0, \"ticks\": \"\"}}, \"type\": \"scatterpolar\"}], \"scatterpolargl\": [{\"marker\": {\"colorbar\": {\"outlinewidth\": 0, \"ticks\": \"\"}}, \"type\": \"scatterpolargl\"}], \"scatterternary\": [{\"marker\": {\"colorbar\": {\"outlinewidth\": 0, \"ticks\": \"\"}}, \"type\": \"scatterternary\"}], \"surface\": [{\"colorbar\": {\"outlinewidth\": 0, \"ticks\": \"\"}, \"colorscale\": [[0.0, \"#0d0887\"], [0.1111111111111111, \"#46039f\"], [0.2222222222222222, \"#7201a8\"], [0.3333333333333333, \"#9c179e\"], [0.4444444444444444, \"#bd3786\"], [0.5555555555555556, \"#d8576b\"], [0.6666666666666666, \"#ed7953\"], [0.7777777777777778, \"#fb9f3a\"], [0.8888888888888888, \"#fdca26\"], [1.0, \"#f0f921\"]], \"type\": \"surface\"}], \"table\": [{\"cells\": {\"fill\": {\"color\": \"#EBF0F8\"}, \"line\": {\"color\": \"white\"}}, \"header\": {\"fill\": {\"color\": \"#C8D4E3\"}, \"line\": {\"color\": \"white\"}}, \"type\": \"table\"}]}, \"layout\": {\"annotationdefaults\": {\"arrowcolor\": \"#2a3f5f\", \"arrowhead\": 0, \"arrowwidth\": 1}, \"coloraxis\": {\"colorbar\": {\"outlinewidth\": 0, \"ticks\": \"\"}}, \"colorscale\": {\"diverging\": [[0, \"#8e0152\"], [0.1, \"#c51b7d\"], [0.2, \"#de77ae\"], [0.3, \"#f1b6da\"], [0.4, \"#fde0ef\"], [0.5, \"#f7f7f7\"], [0.6, \"#e6f5d0\"], [0.7, \"#b8e186\"], [0.8, \"#7fbc41\"], [0.9, \"#4d9221\"], [1, \"#276419\"]], \"sequential\": [[0.0, \"#0d0887\"], [0.1111111111111111, \"#46039f\"], [0.2222222222222222, \"#7201a8\"], [0.3333333333333333, \"#9c179e\"], [0.4444444444444444, \"#bd3786\"], [0.5555555555555556, \"#d8576b\"], [0.6666666666666666, \"#ed7953\"], [0.7777777777777778, \"#fb9f3a\"], [0.8888888888888888, \"#fdca26\"], [1.0, \"#f0f921\"]], \"sequentialminus\": [[0.0, \"#0d0887\"], [0.1111111111111111, \"#46039f\"], [0.2222222222222222, \"#7201a8\"], [0.3333333333333333, \"#9c179e\"], [0.4444444444444444, \"#bd3786\"], [0.5555555555555556, \"#d8576b\"], [0.6666666666666666, \"#ed7953\"], [0.7777777777777778, \"#fb9f3a\"], [0.8888888888888888, \"#fdca26\"], [1.0, \"#f0f921\"]]}, \"colorway\": [\"#636efa\", \"#EF553B\", \"#00cc96\", \"#ab63fa\", \"#FFA15A\", \"#19d3f3\", \"#FF6692\", \"#B6E880\", \"#FF97FF\", \"#FECB52\"], \"font\": {\"color\": \"#2a3f5f\"}, \"geo\": {\"bgcolor\": \"white\", \"lakecolor\": \"white\", \"landcolor\": \"#E5ECF6\", \"showlakes\": true, \"showland\": true, \"subunitcolor\": \"white\"}, \"hoverlabel\": {\"align\": \"left\"}, \"hovermode\": \"closest\", \"mapbox\": {\"style\": \"light\"}, \"paper_bgcolor\": \"white\", \"plot_bgcolor\": \"#E5ECF6\", \"polar\": {\"angularaxis\": {\"gridcolor\": \"white\", \"linecolor\": \"white\", \"ticks\": \"\"}, \"bgcolor\": \"#E5ECF6\", \"radialaxis\": {\"gridcolor\": \"white\", \"linecolor\": \"white\", \"ticks\": \"\"}}, \"scene\": {\"xaxis\": {\"backgroundcolor\": \"#E5ECF6\", \"gridcolor\": \"white\", \"gridwidth\": 2, \"linecolor\": \"white\", \"showbackground\": true, \"ticks\": \"\", \"zerolinecolor\": \"white\"}, \"yaxis\": {\"backgroundcolor\": \"#E5ECF6\", \"gridcolor\": \"white\", \"gridwidth\": 2, \"linecolor\": \"white\", \"showbackground\": true, \"ticks\": \"\", \"zerolinecolor\": \"white\"}, \"zaxis\": {\"backgroundcolor\": \"#E5ECF6\", \"gridcolor\": \"white\", \"gridwidth\": 2, \"linecolor\": \"white\", \"showbackground\": true, \"ticks\": \"\", \"zerolinecolor\": \"white\"}}, \"shapedefaults\": {\"line\": {\"color\": \"#2a3f5f\"}}, \"ternary\": {\"aaxis\": {\"gridcolor\": \"white\", \"linecolor\": \"white\", \"ticks\": \"\"}, \"baxis\": {\"gridcolor\": \"white\", \"linecolor\": \"white\", \"ticks\": \"\"}, \"bgcolor\": \"#E5ECF6\", \"caxis\": {\"gridcolor\": \"white\", \"linecolor\": \"white\", \"ticks\": \"\"}}, \"title\": {\"x\": 0.05}, \"xaxis\": {\"automargin\": true, \"gridcolor\": \"white\", \"linecolor\": \"white\", \"ticks\": \"\", \"title\": {\"standoff\": 15}, \"zerolinecolor\": \"white\", \"zerolinewidth\": 2}, \"yaxis\": {\"automargin\": true, \"gridcolor\": \"white\", \"linecolor\": \"white\", \"ticks\": \"\", \"title\": {\"standoff\": 15}, \"zerolinecolor\": \"white\", \"zerolinewidth\": 2}}}, \"xaxis\": {\"anchor\": \"y\", \"domain\": [0.0, 1.0], \"title\": {\"text\": \"x\"}}, \"yaxis\": {\"anchor\": \"x\", \"domain\": [0.0, 1.0], \"title\": {\"text\": \"y\"}}},\n",
              "                        {\"responsive\": true}\n",
              "                    ).then(function(){\n",
              "                            \n",
              "var gd = document.getElementById('39ee0973-e8b8-4fb9-870e-94dd1e9f93f8');\n",
              "var x = new MutationObserver(function (mutations, observer) {{\n",
              "        var display = window.getComputedStyle(gd).display;\n",
              "        if (!display || display === 'none') {{\n",
              "            console.log([gd, 'removed!']);\n",
              "            Plotly.purge(gd);\n",
              "            observer.disconnect();\n",
              "        }}\n",
              "}});\n",
              "\n",
              "// Listen for the removal of the full notebook cells\n",
              "var notebookContainer = gd.closest('#notebook-container');\n",
              "if (notebookContainer) {{\n",
              "    x.observe(notebookContainer, {childList: true});\n",
              "}}\n",
              "\n",
              "// Listen for the clearing of the current output cell\n",
              "var outputEl = gd.closest('.output');\n",
              "if (outputEl) {{\n",
              "    x.observe(outputEl, {childList: true});\n",
              "}}\n",
              "\n",
              "                        })\n",
              "                };\n",
              "                \n",
              "            </script>\n",
              "        </div>\n",
              "</body>\n",
              "</html>"
            ]
          },
          "metadata": {
            "tags": []
          }
        }
      ]
    },
    {
      "cell_type": "code",
      "metadata": {
        "colab": {
          "base_uri": "https://localhost:8080/",
          "height": 542
        },
        "id": "ywVmdqtxdMei",
        "outputId": "31c04012-95be-477b-f793-f856063a1ee6"
      },
      "source": [
        "px.scatter(x=X_train['YEAR_BUILT'], y=y_train)"
      ],
      "execution_count": null,
      "outputs": [
        {
          "output_type": "display_data",
          "data": {
            "text/html": [
              "<html>\n",
              "<head><meta charset=\"utf-8\" /></head>\n",
              "<body>\n",
              "    <div>\n",
              "            <script src=\"https://cdnjs.cloudflare.com/ajax/libs/mathjax/2.7.5/MathJax.js?config=TeX-AMS-MML_SVG\"></script><script type=\"text/javascript\">if (window.MathJax) {MathJax.Hub.Config({SVG: {font: \"STIX-Web\"}});}</script>\n",
              "                <script type=\"text/javascript\">window.PlotlyConfig = {MathJaxConfig: 'local'};</script>\n",
              "        <script src=\"https://cdn.plot.ly/plotly-latest.min.js\"></script>    \n",
              "            <div id=\"e900614f-3d79-4de5-8b23-da67b97a8f54\" class=\"plotly-graph-div\" style=\"height:525px; width:100%;\"></div>\n",
              "            <script type=\"text/javascript\">\n",
              "                \n",
              "                    window.PLOTLYENV=window.PLOTLYENV || {};\n",
              "                    \n",
              "                if (document.getElementById(\"e900614f-3d79-4de5-8b23-da67b97a8f54\")) {\n",
              "                    Plotly.newPlot(\n",
              "                        'e900614f-3d79-4de5-8b23-da67b97a8f54',\n",
              "                        [{\"hoverlabel\": {\"namelength\": 0}, \"hovertemplate\": \"x=%{x}<br>y=%{y}\", \"legendgroup\": \"\", \"marker\": {\"color\": \"#636efa\", \"symbol\": \"circle\"}, \"mode\": \"markers\", \"name\": \"\", \"showlegend\": false, \"type\": \"scattergl\", \"x\": [1930.0, 1940.0, 1925.0, 1899.0, 1940.0, 1930.0, 1920.0, 1930.0, 1935.0, 1945.0, 1945.0, 1950.0, 2005.0, 1940.0, 1920.0, 1945.0, 1925.0, 1950.0, 1920.0, 1970.0, 1977.0, 1988.0, 1974.0, 1965.0, 1920.0, 1925.0, 1925.0, 1910.0, 1940.0, 1920.0, 1940.0, 1925.0, 1935.0, 1930.0, 1958.0, 1950.0, 1930.0, 1920.0, 1955.0, 1945.0, 1945.0, 1945.0, 1950.0, 1950.0, 1950.0, 2004.0, 1920.0, 1945.0, 1955.0, 1901.0, 1940.0, 1925.0, 1960.0, 1940.0, 2018.0, 2004.0, 1989.0, 1976.0, 2017.0, 1920.0, 1960.0, 1985.0, 2000.0, 1930.0, 1935.0, 1915.0, 1910.0, 1992.0, 1920.0, 1925.0, 1925.0, 1945.0, 1930.0, 1920.0, 1940.0, 1935.0, 1925.0, 1940.0, 1955.0, 1960.0, 1930.0, 1920.0, 1920.0, 1960.0, 1920.0, 1960.0, 1925.0, 1925.0, 1920.0, 1994.0, 1988.0, 1997.0, 1910.0, 1998.0, 1960.0, 1970.0, 1940.0, 1915.0, 1950.0, 1950.0, 1925.0, 1910.0, 1992.0, 1940.0, 1925.0, 1955.0, 1940.0, 1920.0, 1925.0, 1920.0, 1940.0, 1910.0, 1930.0, 1930.0, 1925.0, 1955.0, 1940.0, 1965.0, 1950.0, 2017.0, 2017.0, 1960.0, 1910.0, 1931.0, 2006.0, 1994.0, 1901.0, 1920.0, 1950.0, 1960.0, 1915.0, 1920.0, 1905.0, 1910.0, 1940.0, 1925.0, 1950.0, 1938.0, 1940.0, 1940.0, 1950.0, 1955.0, 1950.0, 1940.0, 1930.0, 1930.0, 1910.0, 1920.0, 1930.0, 2016.0, 1925.0, 1986.0, 1925.0, 2004.0, 1980.0, 2017.0, 1996.0, 2018.0, 1950.0, 1935.0, 1965.0, 1950.0, 1930.0, 1955.0, 1907.0, 1940.0, 1925.0, 1925.0, 1940.0, 1925.0, 1920.0, 1930.0, 1915.0, 1925.0, 1938.0, 1945.0, 2004.0, 1925.0, 1935.0, 1930.0, 1950.0, 1945.0, 1950.0, 1940.0, 1950.0, 1950.0, 1925.0, 1920.0, 1950.0, 1955.0, 1920.0, 1901.0, 1920.0, 1920.0, 1965.0, 1910.0, 1988.0, 1925.0, 1960.0, 1980.0, 1915.0, 1970.0, 1955.0, 1920.0, 1925.0, 1930.0, 1899.0, 1925.0, 1920.0, 1920.0, 1920.0, 1940.0, 1935.0, 1950.0, 1950.0, 1945.0, 1920.0, 1930.0, 1925.0, 1930.0, 1925.0, 1950.0, 1920.0, 1920.0, 1955.0, 1920.0, 1935.0, 1920.0, 1930.0, 1950.0, 1960.0, 1950.0, 1965.0, 2003.0, 1989.0, 1910.0, 1983.0, 1993.0, 1915.0, 1986.0, 1925.0, 1940.0, 1965.0, 1945.0, 1960.0, 1915.0, 1945.0, 1930.0, 1935.0, 1960.0, 1956.0, 1899.0, 1985.0, 1930.0, 1990.0, 1925.0, 1930.0, 1938.0, 1938.0, 1945.0, 1930.0, 1945.0, 1950.0, 1945.0, 1910.0, 1940.0, 1955.0, 1945.0, 1955.0, 1920.0, 1938.0, 1915.0, 1955.0, 1920.0, 1935.0, 1945.0, 1930.0, 1920.0, 2002.0, 1990.0, 1950.0, 1970.0, 1964.0, 1970.0, 2018.0, 1920.0, 2007.0, 2009.0, 1960.0, 1986.0, 1910.0, 1925.0, 1965.0, 1925.0, 1915.0, 1925.0, 1910.0, 1925.0, 1930.0, 1935.0, 1935.0, 1910.0, 1940.0, 1950.0, 1950.0, 1920.0, 1950.0, 1935.0, 1950.0, 1940.0, 1920.0, 1930.0, 1940.0, 1940.0, 1910.0, 1925.0, 1955.0, 1970.0, 1980.0, 1955.0, 1980.0, 1997.0, 1980.0, 2018.0, 1955.0, 1959.0, 1950.0, 1960.0, 1921.0, 1920.0, 1920.0, 1910.0, 1920.0, 1910.0, 1920.0, 1930.0, 1930.0, 1950.0, 1925.0, 1950.0, 1930.0, 1940.0, 1920.0, 1935.0, 1950.0, 1955.0, 1950.0, 1930.0, 1935.0, 1930.0, 1940.0, 1950.0, 1945.0, 1930.0, 1925.0, 1920.0, 1935.0, 1920.0, 1945.0, 1925.0, 1935.0, 1960.0, 1950.0, 1925.0, 1960.0, 1960.0, 1980.0, 1960.0, 1960.0, 1910.0, 2000.0, 1899.0, 2003.0, 2018.0, 1997.0, 1984.0, 1960.0, 1935.0, 1940.0, 1955.0, 1970.0, 1960.0, 1925.0, 1920.0, 1925.0, 1965.0, 1965.0, 1931.0, 1925.0, 1940.0, 1920.0, 1920.0, 1925.0, 1920.0, 1960.0, 1938.0, 1938.0, 1938.0, 1910.0, 1950.0, 1935.0, 1935.0, 1925.0, 1950.0, 1950.0, 1955.0, 1930.0, 1950.0, 1935.0, 1930.0, 1960.0, 1940.0, 1930.0, 1920.0, 1901.0, 2011.0, 1987.0, 1970.0, 1965.0, 1956.0, 1910.0, 1935.0, 2005.0, 1985.0, 1955.0, 1899.0, 1930.0, 1986.0, 1930.0, 1935.0, 1915.0, 1930.0, 1920.0, 1935.0, 1930.0, 1940.0, 1955.0, 1935.0, 1945.0, 1925.0, 1940.0, 1945.0, 1965.0, 1965.0, 1925.0, 1950.0, 1945.0, 1935.0, 1920.0, 1915.0, 1920.0, 1925.0, 1970.0, 1925.0, 1920.0, 1930.0, 1940.0, 1945.0, 1925.0, 1935.0, 1925.0, 1960.0, 1950.0, 1979.0, 2018.0, 1975.0, 1975.0, 1925.0, 1970.0, 2004.0, 1998.0, 1925.0, 1930.0, 2018.0, 1910.0, 1930.0, 1955.0, 1955.0, 1955.0, 1955.0, 1925.0, 1920.0, 1920.0, 1940.0, 1899.0, 1931.0, 1930.0, 1920.0, 1930.0, 1924.0, 1920.0, 1940.0, 1930.0, 1945.0, 1950.0, 1945.0, 1920.0, 1925.0, 1965.0, 1965.0, 1950.0, 1920.0, 1945.0, 1930.0, 1920.0, 1925.0, 2006.0, 1940.0, 1995.0, 1940.0, 1910.0, 1945.0, 1930.0, 1950.0, 1920.0, 1925.0, 1920.0, 1960.0, 1925.0, 1978.0, 2001.0, 1989.0, 1986.0, 1965.0, 1955.0, 1970.0, 1920.0, 1945.0, 1945.0, 1935.0, 1910.0, 1955.0, 1950.0, 1901.0, 1927.0, 1925.0, 1899.0, 1955.0, 2006.0, 1989.0, 1901.0, 1930.0, 1925.0, 1925.0, 1950.0, 1950.0, 1950.0, 1950.0, 1910.0, 1965.0, 1930.0, 1960.0, 1950.0, 1930.0, 1925.0, 1925.0, 1915.0, 1930.0, 1930.0, 1920.0, 1935.0, 1955.0, 1960.0, 1965.0, 1965.0, 1977.0, 1975.0, 1970.0, 1925.0, 2003.0, 1950.0, 1987.0, 2000.0, 1905.0, 1930.0, 1899.0, 1920.0, 2018.0, 1925.0, 1940.0, 1915.0, 1910.0, 1899.0, 1930.0, 1925.0, 1920.0, 1955.0, 1920.0, 1945.0, 1940.0, 1938.0, 1960.0, 1915.0, 1925.0, 1965.0, 1950.0, 1940.0, 1925.0, 1935.0, 1925.0, 1940.0, 1955.0, 1915.0, 1915.0, 1915.0, 1998.0, 1930.0, 1925.0, 1920.0, 1970.0, 1965.0, 1960.0, 1980.0, 1930.0, 1975.0, 1925.0, 1980.0, 1920.0, 1993.0, 1988.0, 1930.0, 1930.0, 1899.0, 1920.0, 1955.0, 1920.0, 1940.0, 1965.0, 1915.0, 1910.0, 1930.0, 1920.0, 1920.0, 1938.0, 2004.0, 1910.0, 1945.0, 1945.0, 1930.0, 1950.0, 1970.0, 1950.0, 1935.0, 1940.0, 1920.0, 1930.0, 1930.0, 1930.0, 1925.0, 1962.0, 1930.0, 1925.0, 1935.0, 1950.0, 1960.0, 1945.0, 1930.0, 1910.0, 2011.0, 1940.0, 1980.0, 1970.0, 1915.0, 1910.0, 1955.0, 1979.0, 1920.0, 2000.0, 1945.0, 1890.0, 1950.0, 1901.0, 1985.0, 2001.0, 1999.0, 1899.0, 1960.0, 1920.0, 1963.0, 1930.0, 1930.0, 1921.0, 1921.0, 1925.0, 1997.0, 1920.0, 1945.0, 1920.0, 1910.0, 1901.0, 1945.0, 1920.0, 1950.0, 1925.0, 1950.0, 1950.0, 1950.0, 1950.0, 1940.0, 1940.0, 1930.0, 1935.0, 1940.0, 2003.0, 1950.0, 1930.0, 1940.0, 1930.0, 1940.0, 1960.0, 1925.0, 1925.0, 1955.0, 1940.0, 1930.0, 1930.0, 1920.0, 1920.0, 1945.0, 1920.0, 1993.0, 1915.0, 1990.0, 1992.0, 1920.0, 1960.0, 1925.0, 1992.0, 1925.0, 1930.0, 1940.0, 1915.0, 1910.0, 1989.0, 1989.0, 1925.0, 1965.0, 1930.0, 1950.0, 1950.0, 1920.0, 1901.0, 1960.0, 1950.0, 1925.0, 1935.0, 1920.0, 1940.0, 1930.0, 1960.0, 1935.0, 1940.0, 1960.0, 1920.0, 1930.0, 2003.0, 1925.0, 1920.0, 1920.0, 1988.0, 1970.0, 1969.0, 2001.0, 1989.0, 1945.0, 1925.0, 1910.0, 1965.0, 1987.0, 1991.0, 1920.0, 2008.0, 1950.0, 1940.0, 1960.0, 1915.0, 1930.0, 1930.0, 1920.0, 1910.0, 1950.0, 1930.0, 1935.0, 1920.0, 1935.0, 1945.0, 1945.0, 1940.0, 1940.0, 1920.0, 1945.0, 1945.0, 1935.0, 1945.0, 1925.0, 1940.0, 1940.0, 1920.0, 1940.0, 1925.0, 1925.0, 1920.0, 1925.0, 1935.0, 1930.0, 1930.0, 1945.0, 2015.0, 1930.0, 1960.0, 1935.0, 1945.0, 1960.0, 2018.0, 1955.0, 1965.0, 1987.0, 1978.0, 1986.0, 2001.0, 1957.0, 1925.0, 1956.0, 1950.0, 1915.0, 1920.0, 1925.0, 1960.0, 1925.0, 1920.0, 1925.0, 1935.0, 1950.0, 1925.0, 1930.0, 1945.0, 1940.0, 1940.0, 1945.0, 1930.0, 1930.0, 1950.0, 1920.0, 1940.0, 1925.0, 1925.0, 1935.0, 1931.0, 1935.0, 1920.0, 1920.0, 2012.0, 1989.0, 1987.0, 1988.0, 1975.0, 1910.0, 1988.0, 1987.0, 1970.0, 2016.0, 1985.0, 1925.0, 1960.0, 1910.0, 2017.0, 1899.0, 2006.0, 1970.0, 2002.0, 1965.0, 1950.0, 1925.0, 1955.0, 1940.0, 1920.0, 1950.0, 1945.0, 1970.0, 1920.0, 1920.0, 1925.0, 1925.0, 1920.0, 1921.0, 1925.0, 1925.0, 1992.0, 1930.0, 1925.0, 1930.0, 1925.0, 1960.0, 1920.0, 1920.0, 1920.0, 1925.0, 1920.0, 1960.0, 1945.0, 1945.0, 2008.0, 1945.0, 1950.0, 1950.0, 1940.0, 1955.0, 1955.0, 1955.0, 1945.0, 1920.0, 1930.0, 1940.0, 1935.0, 1945.0, 1920.0, 1945.0, 1930.0, 1945.0, 1930.0, 1925.0, 1925.0, 1950.0, 1940.0, 1945.0, 1930.0, 1935.0, 1925.0, 1925.0, 1930.0, 1930.0, 1936.0, 1925.0, 1920.0, 1920.0, 1910.0, 1925.0, 1940.0, 1984.0, 1988.0, 1950.0, 1940.0, 1990.0, 1970.0, 1996.0, 1960.0, 1996.0, 1920.0, 2000.0, 1931.0, 1975.0, 1935.0, 1950.0, 1955.0, 1920.0, 1915.0, 1940.0, 1925.0, 1915.0, 1933.0, 1925.0, 1938.0, 1940.0, 1950.0, 1920.0, 1950.0, 1955.0, 1925.0, 1930.0, 1930.0, 1940.0, 1940.0, 1949.0, 1920.0, 1910.0, 1929.0, 1925.0, 1930.0, 1925.0, 1925.0, 1925.0, 1925.0, 1955.0, 1998.0, 1975.0, 1991.0, 1945.0, 1965.0, 1980.0, 2004.0, 1920.0, 1950.0, 1965.0, 2010.0, 1960.0, 1925.0, 1901.0, 1960.0, 1920.0, 1945.0, 1899.0, 1925.0, 1960.0, 1940.0, 1930.0, 1935.0, 1960.0, 1920.0, 1985.0, 1940.0, 1935.0, 1950.0, 1925.0, 1940.0, 1925.0, 1930.0, 1920.0, 1975.0, 1925.0, 1975.0, 1950.0, 1940.0, 1960.0, 1910.0, 1901.0, 1930.0, 1920.0, 1905.0, 1930.0, 1930.0, 1965.0, 1960.0, 1925.0, 1925.0, 1960.0, 1925.0, 1940.0, 1940.0, 1945.0, 1930.0, 1950.0, 1925.0, 1940.0, 1940.0, 1930.0, 1935.0, 1925.0, 1920.0, 1940.0, 1930.0, 2016.0, 2003.0, 1930.0, 1999.0, 1935.0, 1935.0, 1935.0, 1965.0, 1940.0, 1920.0, 1910.0, 1940.0, 1945.0, 1940.0, 1930.0, 1925.0, 1940.0, 1940.0, 1899.0, 1950.0, 1950.0, 1945.0, 1940.0, 1950.0, 1960.0, 1955.0, 1950.0, 1950.0, 1959.0, 1950.0, 1960.0, 1925.0, 1925.0, 1965.0, 1920.0, 1925.0, 1925.0, 1930.0, 1931.0, 1920.0, 1920.0, 1935.0, 1920.0, 1955.0, 1945.0, 1950.0, 1930.0, 1940.0, 1965.0, 1920.0, 1925.0, 1935.0, 1950.0, 1935.0, 2004.0, 2018.0, 1988.0, 1965.0, 1899.0, 2018.0, 2001.0, 1996.0, 1985.0, 1989.0, 1940.0, 1998.0, 1930.0, 1930.0, 1960.0, 1935.0, 1970.0, 1935.0, 1926.0, 1926.0, 1899.0, 1945.0, 1920.0, 1925.0, 1930.0, 1920.0, 1920.0, 1910.0, 1935.0, 1899.0, 1935.0, 1920.0, 1935.0, 1930.0, 1945.0, 1945.0, 1955.0, 1945.0, 1915.0, 1920.0, 1950.0, 1920.0, 1930.0, 1925.0, 1930.0, 1950.0, 1925.0, 1915.0, 1945.0, 1920.0, 1920.0, 1925.0, 1970.0, 1960.0, 1920.0, 1980.0, 1910.0, 1950.0, 1999.0, 2000.0, 1910.0, 1910.0, 1901.0, 1925.0, 1925.0, 1931.0, 1915.0, 1955.0, 1930.0, 1965.0, 1930.0, 1950.0, 1945.0, 1920.0, 1935.0, 1930.0, 1930.0, 1930.0, 1925.0, 1945.0, 1925.0, 1920.0, 1925.0, 1920.0, 1920.0, 1975.0, 2017.0, 1996.0, 1910.0, 1965.0, 2005.0, 1955.0, 2018.0, 1930.0, 1960.0, 1945.0, 1910.0, 1930.0, 1920.0, 1899.0, 1925.0, 1915.0, 1920.0, 2018.0, 1920.0, 1950.0, 1950.0, 1935.0, 1935.0, 1940.0, 1950.0, 1950.0, 1940.0, 1925.0, 1940.0, 1973.0, 1955.0, 1930.0, 1950.0, 1930.0, 1930.0, 1925.0, 2011.0, 1993.0, 1950.0, 1986.0, 1965.0, 1989.0, 2018.0, 2005.0, 1996.0, 1925.0, 1925.0, 1998.0, 1901.0, 1940.0, 2016.0, 1925.0, 1930.0, 1987.0, 1920.0, 1945.0, 1925.0, 1930.0, 1930.0, 1940.0, 1940.0, 1945.0, 1920.0, 1935.0, 1945.0, 1945.0, 1920.0, 1915.0, 1920.0, 1920.0, 1920.0, 1925.0, 1930.0, 1955.0, 2015.0, 1960.0, 2018.0, 1950.0, 2003.0, 1975.0, 2003.0, 1985.0, 1940.0, 1955.0, 1939.0, 1950.0, 1925.0, 1950.0, 1921.0, 1940.0, 1965.0, 1950.0, 1915.0, 1935.0, 1925.0, 1930.0, 1930.0, 1920.0, 1930.0, 1955.0, 1950.0, 1925.0, 1950.0, 1960.0, 1940.0, 1930.0, 1945.0, 1950.0, 1920.0, 1920.0, 1920.0, 1945.0, 1920.0, 1920.0, 2011.0, 1978.0, 1965.0, 1930.0, 1965.0, 2017.0, 2018.0, 1965.0, 1935.0, 1945.0, 1955.0, 1960.0, 1945.0, 1930.0, 1925.0, 1965.0, 1899.0, 1985.0, 1990.0, 1945.0, 1925.0, 1940.0, 2004.0, 1935.0, 1938.0, 1950.0, 1960.0, 1940.0, 1940.0, 1960.0, 1930.0, 1935.0, 1950.0, 1945.0, 1920.0, 1955.0, 1940.0, 1950.0, 1920.0, 1950.0, 1960.0, 1910.0, 1920.0, 1920.0, 1925.0, 1945.0, 1996.0, 1980.0, 1925.0, 1945.0, 1930.0, 1920.0, 1970.0, 1930.0, 1899.0, 1993.0, 2002.0, 1988.0, 1925.0, 1950.0, 1965.0, 1901.0, 1935.0, 1925.0, 1930.0, 1950.0, 1955.0, 1930.0, 1960.0, 1910.0, 1960.0, 1901.0, 1920.0, 1925.0, 1925.0, 1940.0, 1930.0, 1950.0, 1925.0, 1931.0, 1945.0, 1950.0, 1920.0, 1920.0, 1940.0, 1920.0, 1940.0, 1920.0, 1945.0, 1925.0, 1925.0, 1925.0, 1935.0, 1920.0, 1970.0, 1980.0, 1920.0, 1980.0, 1970.0, 2004.0, 1991.0, 2018.0, 1965.0, 1920.0, 2018.0, 1925.0, 1975.0, 1925.0, 1985.0, 1920.0, 1925.0, 1920.0, 1920.0, 1920.0, 1955.0, 1965.0, 1930.0, 1955.0, 1930.0, 1935.0, 1925.0, 1925.0, 1945.0, 1920.0, 1925.0, 1930.0, 1935.0, 1940.0, 1920.0, 1980.0, 1980.0, 1995.0, 2018.0, 1987.0, 1975.0, 1986.0, 1960.0, 1930.0, 2003.0, 2018.0, 2004.0, 1960.0, 1996.0, 1925.0, 1955.0, 1950.0, 1930.0, 1925.0, 1920.0, 1920.0, 1920.0, 1925.0, 1945.0, 1940.0, 1925.0, 1940.0, 1945.0, 1950.0, 1940.0, 1945.0, 1935.0, 1910.0, 1950.0, 1925.0, 1935.0, 1920.0, 1920.0, 1945.0, 1965.0, 1955.0, 1955.0, 1982.0, 1975.0, 2018.0, 1935.0, 2005.0, 1945.0, 1994.0, 1915.0, 2005.0, 1995.0, 1955.0, 2001.0, 1905.0, 1940.0, 1925.0, 1925.0, 1940.0, 1955.0, 1920.0, 1925.0, 1930.0, 1990.0, 1930.0, 1925.0, 1930.0, 1899.0, 1960.0, 1938.0, 1938.0, 1950.0, 1935.0, 1955.0, 1950.0, 1910.0, 1925.0, 1945.0, 1950.0, 1925.0, 1925.0, 1950.0, 1955.0, 1920.0, 2003.0, 1910.0, 1920.0, 1925.0, 1950.0, 1935.0, 1925.0, 1960.0, 1965.0, 1976.0, 1990.0, 1960.0, 1960.0, 2018.0, 1996.0, 1970.0, 1999.0, 1986.0, 1990.0, 1989.0, 1920.0, 2017.0, 1930.0, 1940.0, 1899.0, 1970.0, 1910.0, 1920.0, 1925.0, 1925.0, 1945.0, 1925.0, 1930.0, 1950.0, 1920.0, 1955.0, 1938.0, 1930.0, 1901.0, 1950.0, 1950.0, 1950.0, 1925.0, 1965.0, 1950.0, 1925.0, 1945.0, 1920.0, 1920.0, 1925.0, 1920.0, 1920.0, 1980.0, 1982.0, 2018.0, 1975.0, 2008.0, 1970.0, 1975.0, 1960.0, 1899.0, 1950.0, 1965.0, 1950.0, 1955.0, 1899.0, 1925.0, 1915.0, 1925.0, 1940.0, 1915.0, 1925.0, 1955.0, 1940.0, 1945.0, 1950.0, 1940.0, 1940.0, 1930.0, 1945.0, 1925.0, 1945.0, 1958.0, 1930.0, 1940.0, 1920.0, 1930.0, 1920.0, 1925.0, 1932.0, 1930.0, 1930.0, 1931.0, 1930.0, 1920.0, 1999.0, 1940.0, 2000.0, 1975.0, 1920.0, 1940.0, 1983.0, 1925.0, 1925.0, 1920.0, 1925.0, 1920.0, 1925.0, 1960.0, 1935.0, 1920.0, 1920.0, 1955.0, 1940.0, 1935.0, 1945.0, 1930.0, 1945.0, 1950.0, 1930.0, 1930.0, 1950.0, 1920.0, 1940.0, 1920.0, 1925.0, 1940.0, 1945.0, 1915.0, 1925.0, 1965.0, 1950.0, 1915.0, 1999.0, 1983.0, 1980.0, 2018.0, 1901.0, 1899.0, 1987.0, 1935.0, 1930.0, 1985.0, 1935.0, 1925.0, 1950.0, 1920.0, 1925.0, 1960.0, 1935.0, 1955.0, 1930.0, 1930.0, 1939.0, 1950.0, 1950.0, 1945.0, 1910.0, 1955.0, 1940.0, 1950.0, 1945.0, 1935.0, 1930.0, 1940.0, 1915.0, 1940.0, 1940.0, 1945.0, 1950.0, 1925.0, 1950.0, 1935.0, 1950.0, 1945.0, 1950.0, 1930.0, 1930.0, 1920.0, 1935.0, 1940.0, 1970.0, 1995.0, 1991.0, 1978.0, 1899.0, 1992.0, 1955.0, 1979.0, 1930.0, 2001.0, 1945.0, 1899.0, 1955.0, 2001.0, 1930.0, 1950.0, 2016.0, 1970.0, 1955.0, 1950.0, 1930.0, 1920.0, 1921.0, 1921.0, 1940.0, 1925.0, 1920.0, 1930.0, 1925.0, 1920.0, 1938.0, 1960.0, 1950.0, 1930.0, 1930.0, 1935.0, 1950.0, 1915.0, 1940.0, 1920.0, 1955.0, 1920.0, 1920.0, 1940.0, 1950.0, 1945.0, 1930.0, 1940.0, 1905.0, 1994.0, 1987.0, 1965.0, 2005.0, 2017.0, 1960.0, 1965.0, 1940.0, 1915.0, 1925.0, 1960.0, 1925.0, 1960.0, 1950.0, 1955.0, 1960.0, 1945.0, 1987.0, 1940.0, 1940.0, 1940.0, 1930.0, 1955.0, 1960.0, 1950.0, 1925.0, 2005.0, 1987.0, 1993.0, 1960.0, 1960.0, 1960.0, 1970.0, 1989.0, 1975.0, 1980.0, 1986.0, 1960.0, 1960.0, 1910.0, 1901.0, 1985.0, 1925.0, 1935.0, 1930.0, 1925.0, 1920.0, 1920.0, 1960.0, 2006.0, 1950.0, 1960.0, 1950.0, 1940.0, 1995.0, 1940.0, 1965.0, 2018.0, 1910.0, 2003.0, 1970.0, 1925.0, 1960.0, 1910.0, 1950.0, 1950.0, 1920.0, 1925.0, 1950.0, 1920.0, 1945.0, 1940.0, 1950.0, 1920.0, 1933.0, 1930.0, 1940.0, 1925.0, 1925.0, 1925.0, 1935.0, 1930.0, 1985.0, 1984.0, 2018.0, 2017.0, 1982.0, 1925.0, 1995.0, 1899.0, 1920.0, 1960.0, 1950.0, 1930.0, 1986.0, 1925.0, 1920.0, 1910.0, 1965.0, 1925.0, 1940.0, 1950.0, 1955.0, 2014.0, 1935.0, 1930.0, 1960.0, 1940.0, 1925.0, 1950.0, 1920.0, 1930.0, 1930.0, 1930.0, 1920.0, 1910.0, 1960.0, 1965.0, 2003.0, 1970.0, 1950.0, 1960.0, 1930.0, 1990.0, 1905.0, 1901.0, 1945.0, 1960.0, 1925.0, 1920.0, 1930.0, 1925.0, 1920.0, 1915.0, 1935.0, 1935.0, 1920.0, 1920.0, 1960.0, 1930.0, 1935.0, 1950.0, 1940.0, 1945.0, 1935.0, 1930.0, 1935.0, 1940.0, 1955.0, 1935.0, 1925.0, 1929.0, 1950.0, 1930.0, 1930.0, 1935.0, 1925.0, 1930.0, 1986.0, 1989.0, 1992.0, 1960.0, 2003.0, 2002.0, 2016.0, 1950.0, 2018.0, 1940.0, 1984.0, 1925.0, 1955.0, 1955.0, 1940.0, 1920.0, 1920.0, 1899.0, 1915.0, 1990.0, 1930.0, 1925.0, 1930.0, 1930.0, 1955.0, 1940.0, 1970.0, 1940.0, 1940.0, 1925.0, 1945.0, 1955.0, 1925.0, 1920.0, 1955.0, 1925.0, 1925.0, 1925.0, 1945.0, 1915.0, 1930.0, 1945.0, 1925.0, 1920.0, 1970.0, 1987.0, 1989.0, 1965.0, 2003.0, 1945.0, 1955.0, 1920.0, 1970.0, 1970.0, 1899.0, 1925.0, 1945.0, 1931.0, 1950.0, 1970.0, 1930.0, 1987.0, 1965.0, 1935.0, 1910.0, 1920.0, 1965.0, 1930.0, 1935.0, 1938.0, 1960.0, 1958.0, 1901.0, 1950.0, 1964.0, 1940.0, 1920.0, 1920.0, 1925.0, 1925.0, 1950.0, 1920.0, 1920.0, 1910.0, 1935.0, 1945.0, 1935.0, 1940.0, 1925.0, 1950.0, 1999.0, 1970.0, 1995.0, 1980.0, 2016.0, 1930.0, 1940.0, 1999.0, 1955.0, 1920.0, 1901.0, 1955.0, 1925.0, 1987.0, 1910.0, 1925.0, 1910.0, 1950.0, 1945.0, 1930.0, 1950.0, 1945.0, 1950.0, 1940.0, 1960.0, 1960.0, 1935.0, 1945.0, 1950.0, 1965.0, 1999.0, 1999.0, 1960.0, 1925.0, 1996.0, 1965.0, 1960.0, 1920.0, 1920.0, 1930.0, 1925.0, 1905.0, 1965.0, 1945.0, 1920.0, 1925.0, 1945.0, 1901.0, 1935.0, 1930.0, 1910.0, 1940.0, 1930.0, 1925.0, 1945.0, 1940.0, 1965.0, 1930.0, 1920.0, 1940.0, 1920.0, 1920.0, 1965.0, 1935.0, 1925.0, 1985.0, 1950.0, 2018.0, 1920.0, 2018.0, 1910.0, 2004.0, 1960.0, 2004.0, 1920.0, 2018.0, 1925.0, 1960.0, 1940.0, 1925.0, 1940.0, 1945.0, 1960.0, 1955.0, 2002.0, 1938.0, 1938.0, 1955.0, 1950.0, 1950.0, 1945.0, 1930.0, 1950.0, 1960.0, 1950.0, 1940.0, 1925.0, 2004.0, 1920.0, 1925.0, 1920.0, 1945.0, 1945.0, 1940.0, 1915.0, 1915.0, 1930.0, 1940.0, 1925.0, 2008.0, 1945.0, 1995.0, 1970.0, 1925.0, 1930.0, 1925.0, 1982.0, 1899.0, 1899.0, 1997.0, 1983.0, 1935.0, 1899.0, 1901.0, 1930.0, 1920.0, 1920.0, 1938.0, 1938.0, 2011.0, 1940.0, 1940.0, 1950.0, 1950.0, 1930.0, 1920.0, 1955.0, 1930.0, 1930.0, 1910.0, 1930.0, 1935.0, 1955.0, 1960.0, 1960.0, 2018.0, 1930.0, 2018.0, 1940.0, 1960.0, 1992.0, 1920.0, 1940.0, 1900.0, 1960.0, 1910.0, 1910.0, 1910.0, 1945.0, 1920.0, 1930.0, 1960.0, 1930.0, 1935.0, 1920.0, 1950.0, 1920.0, 1940.0, 1930.0, 1935.0, 1920.0, 1925.0, 1955.0, 1920.0, 1920.0, 1935.0, 1930.0, 1925.0, 1945.0, 1996.0, 1982.0, 1955.0, 1940.0, 1984.0, 1995.0, 2018.0, 1930.0, 2018.0, 1930.0, 1985.0, 1990.0, 1930.0, 1920.0, 1930.0, 2004.0, 1945.0, 1950.0, 1925.0, 1930.0, 1930.0, 1935.0, 1925.0, 1940.0, 1940.0, 2011.0, 1995.0, 1955.0, 1975.0, 1960.0, 2018.0, 1905.0, 1988.0, 1925.0, 1955.0, 1901.0, 1935.0, 1950.0, 1960.0, 1910.0, 1925.0, 1955.0, 1960.0, 1930.0, 1945.0, 1960.0, 1950.0, 1940.0, 1940.0, 1950.0, 1940.0, 1950.0, 1940.0, 1955.0, 1930.0, 1900.0, 1960.0, 1955.0, 1925.0, 1930.0, 1905.0, 1989.0, 1899.0, 1998.0, 1988.0, 1920.0, 1915.0, 1920.0, 1925.0, 1925.0, 1920.0, 1960.0, 1921.0, 1910.0, 1899.0, 1960.0, 1910.0, 1965.0, 1945.0, 1920.0, 1960.0, 1940.0, 1940.0, 1930.0, 1945.0, 1950.0, 1935.0, 1940.0, 1940.0, 1930.0, 1955.0, 1935.0, 1960.0, 1960.0, 1925.0, 1910.0, 1915.0, 1930.0, 1955.0, 1920.0, 1920.0, 1950.0, 1955.0, 1940.0, 2007.0, 1965.0, 2017.0, 1965.0, 1997.0, 1925.0, 1987.0, 1991.0, 1986.0, 1955.0, 1950.0, 1920.0, 1899.0, 2002.0, 1933.0, 1930.0, 1940.0, 1945.0, 1940.0, 1965.0, 1920.0, 1925.0, 1920.0, 1950.0, 1920.0, 1920.0, 1940.0, 1920.0, 1945.0, 1950.0, 1955.0, 1930.0, 1935.0, 1920.0, 1920.0, 1940.0, 1995.0, 1940.0, 1965.0, 1944.0, 1975.0, 1965.0, 1965.0, 1915.0, 1920.0, 1970.0, 1993.0, 1987.0, 2013.0, 1955.0, 1950.0, 1920.0, 1920.0, 1945.0, 1955.0, 1985.0, 1925.0, 1925.0, 1920.0, 1910.0, 1925.0, 1933.0, 1925.0, 1899.0, 1935.0, 1920.0, 1938.0, 1965.0, 1950.0, 1950.0, 1950.0, 1960.0, 1950.0, 1925.0, 1930.0, 1920.0, 1925.0, 1925.0, 2004.0, 1950.0, 1986.0, 1940.0, 1977.0, 1975.0, 1940.0, 1965.0, 1925.0, 1899.0, 1920.0, 2001.0, 2001.0, 2001.0, 1930.0, 1931.0, 1930.0, 1930.0, 1910.0, 1930.0, 1925.0, 1950.0, 1925.0, 1940.0, 1950.0, 1945.0, 1960.0, 1970.0, 1955.0, 1950.0, 1925.0, 1960.0, 1955.0, 1925.0, 1925.0, 1930.0, 1950.0, 1930.0, 1960.0, 1955.0, 2005.0, 1955.0, 1992.0, 1935.0, 1925.0, 1998.0, 1925.0, 1940.0, 1950.0, 1920.0, 1901.0, 1930.0, 1910.0, 2007.0, 1986.0, 1940.0, 1950.0, 1930.0, 1920.0, 1920.0, 1920.0, 1930.0, 1935.0, 1985.0, 1945.0, 1945.0, 1950.0, 1940.0, 1940.0, 1910.0, 1935.0, 1950.0, 1930.0, 1920.0, 1920.0, 1930.0, 1920.0, 1930.0, 1935.0, 1925.0, 1920.0, 1998.0, 1996.0, 1975.0, 1988.0, 1965.0, 1994.0, 1960.0, 1920.0, 1988.0, 1989.0, 1983.0, 2002.0, 2017.0, 2017.0, 1994.0, 1965.0, 1970.0, 1945.0, 1950.0, 1941.0, 1985.0, 1993.0, 1950.0, 1910.0, 1925.0, 1985.0, 1920.0, 1910.0, 1910.0, 1920.0, 1925.0, 1925.0, 1915.0, 1925.0, 1910.0, 1910.0, 1989.0, 1915.0, 1945.0, 1955.0, 1950.0, 1920.0, 1950.0, 1930.0, 1920.0, 1950.0, 1960.0, 1955.0, 1945.0, 1935.0, 1930.0, 1935.0, 1915.0, 1940.0, 1940.0, 1950.0, 1930.0, 1920.0, 1925.0, 1930.0, 1950.0, 1945.0, 1925.0, 1920.0, 1960.0, 1945.0, 1945.0, 2004.0, 1998.0, 1982.0, 1970.0, 1976.0, 1970.0, 1975.0, 1910.0, 1950.0, 1980.0, 2018.0, 1930.0, 1950.0], \"xaxis\": \"x\", \"y\": [550000, 200000, 810000, 125000, 620000, 1150000, 836500, 955000, 820000, 980000, 430000, 700000, 448000, 670000, 1390000, 540000, 520000, 480000, 570000, 552000, 505000, 357500, 670000, 549000, 970000, 800000, 450000, 330000, 575000, 450000, 743000, 445000, 255000, 750000, 985000, 958000, 1440000, 200000, 930000, 990000, 810000, 670000, 1030000, 900000, 940000, 445000, 710000, 998000, 950000, 470000, 480000, 757504, 350000, 717359, 926608, 585500, 493000, 615000, 646589, 470000, 510000, 1705000, 643750, 465000, 320000, 730000, 300000, 494000, 670000, 525000, 640000, 870000, 780000, 350000, 1490000, 555000, 550000, 685000, 825000, 435000, 810000, 224094, 512275, 520000, 494500, 450000, 460000, 1290000, 890000, 530000, 445000, 452465, 560000, 440000, 625000, 588005, 420000, 416000, 570000, 335000, 108000, 1575000, 350000, 795000, 1100000, 670000, 760000, 645000, 650000, 492000, 590000, 830000, 330000, 590000, 646000, 446000, 550000, 640000, 445000, 646589, 639461, 520000, 125000, 349500, 700000, 355000, 355000, 200000, 499000, 265000, 300000, 980000, 1100000, 750000, 1163359, 710000, 915000, 350000, 1250000, 840000, 605000, 350000, 915000, 999999, 425000, 414987, 208000, 408000, 220000, 1872562, 830000, 410000, 395000, 555000, 443800, 743323, 539900, 763688, 889000, 572500, 632000, 465000, 340000, 400000, 395000, 470000, 510000, 821000, 529000, 650000, 859000, 790000, 1700000, 980000, 385000, 580000, 880888, 859000, 1153000, 788000, 990000, 825000, 515000, 840000, 600000, 1710660, 520000, 660000, 479000, 520000, 490000, 500000, 240000, 550000, 1218300, 500000, 540000, 500000, 580000, 515000, 100000, 1530000, 460000, 1750000, 380250, 990000, 405600, 820000, 210000, 499500, 415000, 300000, 850000, 885000, 1400000, 500000, 255000, 624000, 601000, 575000, 370000, 534560, 620000, 335000, 269500, 641000, 619000, 413950, 545000, 350000, 880000, 540000, 471500, 673330, 566368, 120000, 565000, 510569, 125000, 790000, 415000, 740000, 550000, 365000, 570000, 700000, 490000, 660000, 525000, 508402, 305000, 1400000, 430000, 357000, 450000, 1250000, 560000, 130000, 225000, 305000, 910000, 905000, 985000, 958000, 700000, 830000, 536000, 680000, 660000, 640000, 1280000, 630000, 529000, 390000, 425000, 680000, 850000, 531000, 250000, 539000, 775000, 599900, 475000, 475000, 600768, 749000, 781000, 675000, 599000, 499000, 490000, 630000, 460000, 490000, 780000, 1850000, 250000, 294000, 1500000, 965000, 487000, 100000, 380000, 650000, 730000, 112000, 499999, 680000, 342000, 742000, 515000, 450000, 100000, 100000, 790000, 740000, 875000, 735000, 560000, 599000, 390000, 508500, 860000, 590585, 457500, 320000, 510000, 390000, 328600, 440000, 820000, 912500, 465000, 650000, 439000, 210000, 950000, 1685000, 599000, 405235, 970000, 1465000, 455000, 605394, 640000, 790000, 770000, 950000, 420000, 570000, 900000, 489600, 773000, 420000, 361000, 198000, 278000, 450000, 430000, 503000, 527500, 366877, 385000, 346029, 373692, 988000, 495000, 450000, 485000, 230000, 444000, 350000, 311912, 559144, 550000, 695000, 575000, 589000, 475000, 250000, 1440000, 570000, 458800, 560000, 590000, 456300, 223000, 575000, 820000, 381550, 1025000, 699000, 1100000, 505000, 575000, 500000, 250000, 400000, 625000, 650000, 850000, 925000, 445000, 1295000, 700000, 763000, 615000, 114000, 630000, 665000, 515000, 517000, 850000, 600000, 700000, 597000, 352746, 900000, 875000, 570000, 455000, 499999, 375180, 410000, 515000, 780000, 1240000, 515000, 1200000, 385000, 818000, 1415000, 1165000, 1050000, 1600000, 1260000, 865000, 748000, 635000, 1675000, 985000, 885000, 790000, 679000, 280000, 800000, 670000, 641000, 450000, 390000, 485000, 463000, 467000, 446000, 610000, 579000, 490000, 451000, 770000, 990000, 440000, 360000, 600000, 607000, 585494, 533000, 860000, 415000, 685000, 580000, 1450000, 285075, 525000, 1120075, 360000, 265000, 245000, 475000, 512000, 510000, 334650, 990000, 900000, 335000, 1900000, 560000, 595000, 600000, 848000, 1250000, 800000, 1500000, 658000, 1578288, 1075000, 990000, 105000, 560038, 829000, 485000, 638000, 230000, 740000, 995000, 554500, 603500, 550000, 460000, 459500, 204800, 253000, 362900, 479000, 396000, 350000, 335000, 610000, 480000, 499000, 582500, 620000, 485000, 630000, 590000, 697000, 555000, 500000, 600000, 950000, 340000, 150000, 423000, 499000, 658820, 530000, 1150000, 1573500, 500000, 486000, 550000, 380000, 644000, 730000, 851000, 730000, 475000, 732000, 835000, 200000, 990000, 925000, 990000, 1200000, 560000, 525000, 489000, 160000, 380000, 385000, 740000, 1090000, 498000, 498900, 490000, 555000, 590000, 469900, 620000, 565000, 405000, 425000, 307000, 450000, 243360, 445000, 795000, 450000, 655498, 529791, 795000, 988000, 729000, 400000, 830000, 675000, 890000, 850000, 515000, 899888, 700000, 277000, 760000, 630000, 770000, 825000, 600000, 1015000, 715000, 371000, 365040, 500000, 975000, 781000, 396000, 275000, 400530, 580000, 112000, 1125000, 470000, 575210, 800000, 772500, 963538, 477000, 415000, 420810, 360500, 369000, 365000, 241000, 555000, 465000, 540750, 740000, 332000, 499000, 301665, 1500000, 683000, 560000, 499000, 1775000, 450000, 211650, 715000, 780000, 905000, 555000, 820000, 715000, 628900, 838000, 795000, 560000, 435000, 610000, 618000, 960000, 555000, 532000, 670000, 375000, 450000, 100000, 342000, 435000, 245500, 720000, 520000, 515000, 555000, 399888, 370023, 850000, 540000, 210000, 449000, 430000, 334620, 265000, 248132, 373600, 362000, 415000, 453124, 620000, 550000, 300000, 835000, 550000, 614000, 568600, 1060000, 479000, 181875, 490000, 991670, 1425000, 1570000, 800000, 777000, 690000, 800000, 650000, 660000, 950000, 747000, 785000, 700000, 712000, 710000, 730000, 990000, 1031285, 1120413, 515000, 485000, 565000, 545000, 400000, 325000, 440000, 495000, 656000, 590000, 250000, 475000, 760000, 500000, 410000, 492000, 525000, 485000, 240000, 745000, 247850, 445000, 384500, 822500, 375000, 525000, 760000, 450000, 540000, 980000, 1150000, 760000, 999000, 799000, 600000, 425000, 832500, 515000, 720000, 655000, 640000, 990000, 740000, 450000, 590000, 965000, 668900, 1180000, 390000, 255000, 499931, 705094, 266667, 539000, 568000, 475000, 525000, 248000, 678000, 385000, 450000, 755000, 440000, 430000, 1050000, 1452500, 573000, 575000, 440000, 425000, 575000, 670000, 500000, 230000, 688888, 835000, 740000, 290000, 535000, 340000, 175000, 639000, 845000, 700000, 740000, 915000, 1600000, 1050000, 630000, 640000, 730000, 525000, 1870000, 500000, 609000, 220000, 415000, 499999, 650000, 529000, 940000, 1552831, 1200000, 282000, 550000, 860000, 495000, 595676, 800000, 572000, 445000, 499000, 400000, 450000, 230000, 438000, 480000, 150000, 298100, 1100000, 175000, 530000, 500000, 650000, 615000, 935000, 830000, 550000, 640000, 610000, 836000, 784053, 915000, 750000, 685000, 300000, 640000, 785000, 518500, 490000, 228000, 600000, 470000, 630000, 540000, 622000, 360000, 322500, 480000, 645000, 755000, 489000, 470000, 620000, 623169, 705000, 420000, 719000, 350000, 575311, 174300, 544000, 618000, 450000, 480000, 145000, 430000, 565000, 475000, 406282, 327500, 560000, 565000, 325000, 160000, 515000, 920000, 335000, 158600, 600000, 985000, 470000, 522500, 1275000, 727000, 664000, 1085000, 610000, 520000, 699000, 825000, 950000, 382621, 512000, 436800, 770000, 550000, 679189, 915000, 769000, 200000, 547000, 224000, 610000, 650000, 625000, 450000, 1500000, 1080000, 607856, 1390000, 740000, 469625, 540000, 450000, 400000, 547500, 495000, 365000, 495000, 359970, 470000, 590000, 235000, 536500, 362500, 218000, 455000, 545000, 499800, 620000, 830000, 442900, 390000, 650000, 235000, 625000, 672000, 590000, 645000, 585000, 465000, 390000, 350000, 485000, 435000, 500000, 320000, 390000, 430000, 578000, 870000, 668500, 1330000, 345000, 415000, 394272, 850000, 366211, 720000, 900000, 425000, 775000, 327631, 660000, 675000, 720000, 530000, 380000, 850000, 775000, 580000, 475000, 340000, 435000, 428480, 815000, 605000, 465545, 468000, 279000, 590000, 618500, 521500, 435000, 480000, 790000, 575000, 459000, 475000, 485000, 460000, 428665, 500000, 1955000, 591000, 610000, 708000, 950000, 605000, 669000, 950000, 475000, 1500000, 745000, 855000, 340000, 795000, 380000, 465000, 410000, 587400, 600000, 655000, 350000, 375000, 380000, 245000, 608400, 231500, 1202000, 1925000, 1550000, 500000, 1400000, 659500, 833000, 750000, 860000, 525000, 825000, 800000, 720000, 575000, 656766, 650000, 720000, 530000, 470000, 370000, 495000, 227302, 490000, 336000, 626224, 620000, 250000, 634000, 600000, 600000, 345163, 510000, 445000, 700000, 700000, 1850000, 810000, 508605, 1175000, 499371, 615000, 1235000, 1200000, 457920, 505000, 443000, 302000, 1117500, 800000, 273600, 1100000, 496460, 141088, 529000, 470000, 1075000, 1950000, 690000, 1165000, 515510, 425000, 740000, 1075000, 990000, 850000, 519000, 620000, 330000, 810000, 780000, 500000, 130000, 555000, 365625, 380000, 463500, 280000, 695000, 499412, 651680, 700000, 400000, 307668, 590585, 569000, 570000, 229430, 550000, 383593, 825000, 524804, 430000, 518340, 590000, 380250, 464000, 1630000, 1630000, 1100000, 535000, 605000, 1400000, 855000, 760000, 562500, 2000000, 667800, 1235000, 932500, 790000, 572000, 315000, 440000, 680000, 970000, 650000, 1460000, 715000, 800000, 500000, 1125000, 269302, 934350, 310000, 650000, 868000, 420000, 535000, 250000, 510000, 880000, 788000, 480000, 880000, 145000, 740000, 590000, 536750, 234234, 555000, 490000, 545000, 250000, 500000, 999500, 501930, 1445000, 863000, 600000, 920000, 870000, 1700000, 670000, 275000, 481000, 560000, 425000, 540000, 580000, 295000, 416000, 404250, 499000, 570000, 948578, 400000, 525000, 520000, 650000, 500000, 990000, 447000, 445000, 850000, 690000, 738231, 350000, 500000, 900000, 1200000, 253950, 427523, 274092, 780000, 650000, 995000, 519000, 810000, 671000, 849000, 865000, 499999, 1099200, 1625000, 900000, 525000, 450000, 180500, 1225000, 395000, 194000, 520000, 423000, 411684, 550000, 200000, 560038, 595000, 540000, 326000, 560000, 360000, 524349, 575000, 579000, 420000, 371848, 182500, 600000, 540000, 830000, 1325000, 890000, 1090000, 515000, 655000, 1150000, 975000, 812000, 779000, 530000, 815000, 380000, 420000, 175000, 424000, 582000, 865000, 1440000, 508000, 610950, 850000, 550000, 438000, 240000, 595000, 485000, 540000, 500000, 490000, 624000, 556000, 714800, 680000, 444000, 650000, 500000, 499000, 690000, 1655000, 1125000, 430000, 1215000, 645000, 629000, 885000, 600000, 630000, 994000, 266000, 630000, 880000, 440000, 175000, 520000, 531250, 768328, 620000, 635000, 216500, 400000, 575000, 363000, 554946, 596695, 457314, 592000, 550000, 369770, 515000, 479000, 589000, 890000, 575000, 240000, 495000, 440000, 499000, 645000, 910000, 1289120, 635000, 360000, 617000, 775000, 880000, 1420000, 695000, 157277, 750000, 970000, 480000, 500000, 900000, 620000, 777000, 563000, 650000, 487500, 377500, 560000, 224000, 237500, 450000, 362900, 465000, 361998, 480000, 560000, 625000, 490000, 900000, 760000, 463900, 399000, 340000, 485000, 770000, 750000, 249000, 150000, 940000, 414400, 605000, 495000, 401000, 578000, 650000, 429000, 360000, 474000, 930000, 690000, 390000, 1325000, 390000, 632000, 530000, 1095000, 930000, 725000, 730000, 525000, 545000, 490000, 890000, 290000, 845000, 476768, 345000, 160000, 528000, 526500, 470000, 520000, 499000, 610000, 640000, 450000, 743323, 275000, 600000, 630297, 1400000, 912500, 915000, 549000, 400000, 830000, 700000, 679000, 1290000, 1614600, 899000, 550000, 180000, 403000, 930000, 550000, 350000, 525000, 640000, 480000, 410000, 615000, 485000, 525000, 263133, 400000, 468400, 721939, 352500, 710000, 360000, 465000, 840000, 402600, 552910, 625000, 610000, 505000, 303000, 330000, 720000, 488000, 953000, 980000, 679000, 580000, 440000, 815000, 640000, 175000, 520000, 865000, 525000, 720000, 700000, 679000, 485000, 465000, 444000, 525000, 547000, 425000, 625000, 180000, 365000, 318000, 306000, 635045, 651680, 689100, 496888, 295000, 497000, 475000, 310000, 440000, 500000, 568960, 216489, 380000, 460000, 579000, 699000, 440000, 570000, 840000, 630000, 251155, 1130000, 825000, 872000, 1070000, 870000, 352500, 390000, 958317, 725000, 860000, 785000, 673000, 300000, 340000, 835000, 925000, 593000, 182000, 1340000, 515000, 400000, 505000, 635000, 252000, 320000, 525000, 675000, 404000, 695000, 607000, 275000, 515000, 850000, 697501, 550000, 614000, 409500, 360000, 276822, 385000, 336000, 762669, 390000, 410000, 600000, 617000, 630000, 210000, 612000, 605000, 398000, 1142500, 648000, 889000, 1150000, 900000, 820000, 1325000, 525000, 760000, 907000, 1048800, 585000, 600000, 565000, 606279, 565000, 657906, 175000, 300000, 525000, 540000, 499000, 499990, 721939, 536000, 1036000, 410000, 539000, 495000, 490000, 355000, 431000, 478000, 485000, 189270, 565000, 439931, 416981, 610000, 700000, 900000, 890000, 878000, 1158000, 693000, 940000, 933800, 620000, 725000, 545000, 160000, 888000, 720000, 940000, 883000, 570000, 510000, 301000, 450000, 260000, 939000, 480000, 647000, 595000, 350000, 113348, 610000, 563000, 273780, 470000, 780000, 1358500, 585000, 680000, 920000, 999000, 550000, 660000, 725000, 532000, 600000, 900000, 668000, 218000, 585000, 800000, 730000, 750000, 685000, 708400, 862000, 710000, 605000, 610000, 550000, 1250000, 950000, 562500, 525000, 430000, 537500, 523000, 480000, 552000, 919000, 1120075, 300000, 605000, 485000, 445000, 549000, 625000, 970000, 560000, 520000, 990000, 880000, 136000, 1210000, 280000, 620000, 610000, 336000, 550000, 1620000, 831000, 235000, 1140000, 999000, 800000, 346500, 1140000, 700000, 967000, 620000, 375000, 375000, 1020000, 920000, 475000, 705000, 510000, 350000, 335000, 500000, 800000, 639000, 220000, 325000, 800000, 201000, 460000, 419900, 535000, 225000, 400000, 400000, 900000, 100000, 464000, 510000, 299000, 460000, 870000, 380000, 520000, 584284, 515000, 555000, 571000, 580000, 687000, 436600, 333600, 410000, 540000, 660000, 1125000, 585000, 309000, 145000, 567000, 635000, 989000, 499500, 851000, 800000, 1450000, 600000, 575000, 668000, 350000, 400000, 550000, 319600, 1150000, 800000, 600000, 240000, 465000, 400000, 585000, 515000, 560038, 475000, 550000, 499000, 500000, 285000, 500000, 1270000, 415000, 666588, 770000, 645000, 640000, 400000, 525000, 1125000, 599000, 595000, 445000, 994517, 530000, 564796, 895000, 460000, 525000, 160673, 560000, 570000, 560000, 480000, 460000, 515000, 984000, 510000, 509600, 1220000, 1150000, 100000, 600000, 750000, 1700000, 860500, 459000, 560000, 540000, 510365, 590000, 494000, 200000, 560000, 470000, 500000, 585000, 451230, 490000, 270000, 329000, 739000, 324480, 350000, 320000, 353379, 645000, 600000, 425880, 800000, 930000, 875000, 715000, 875000, 740000, 485000, 710000, 499750, 1850000, 493000, 995000, 610000, 1425000, 615000, 733140, 672045, 670000, 355000, 422000, 150000, 467500, 495000, 580000, 912000, 500000, 210000, 595000, 1400000, 1668500, 600000, 700000, 730000, 414000, 1310000, 950000, 580000, 900000, 990000, 570000, 410000, 485000, 376000, 376000, 600000, 480000, 820000, 715000, 452998, 544719, 535000, 800000, 465000, 683000, 420000, 351000, 470000, 599000, 115000, 930000, 800000, 612000, 468468, 440000, 152000, 760000, 1084000, 450000, 500599, 750000, 985000, 845000, 890000, 510000, 471000, 510000, 275000, 545000, 715500, 795000, 385000, 400000, 899000, 900000, 400000, 595000, 215000, 450000, 380000, 609000, 410000, 250000, 800000, 473500, 535000, 692240, 495000, 870604, 650000, 250000, 450000, 485000, 638600, 630000, 250000, 450000, 250000, 1385000, 305000, 700000, 575000, 520000, 602000, 314500, 1122000, 750000, 650000, 500000, 791000, 905000, 928000, 600000, 595000, 250000, 390000, 321000, 700000, 375000, 392000, 938486, 270000, 306228, 650000, 444132, 440000, 499999, 490000, 270480, 325000, 475000, 168000, 500585, 740000, 430000, 575000, 580000, 350000, 635000, 877500, 495000, 510000, 560000, 585000, 565000, 635000, 850000, 1400000, 1100000, 455000, 975000, 586000, 330000, 835000, 820000, 725000, 1465000, 835000, 829000, 465000, 538000, 396000, 500000, 1600000, 585000, 500000, 268000, 270000, 440000, 540000, 375000, 665000, 505000, 480000, 621133, 280980, 197000, 532000, 418000, 330000, 500000, 450000, 435000, 525000, 250000, 575000, 2000000, 700000, 650000, 605000, 700000, 865000, 665000, 500000, 995000, 362000, 375000, 360000, 525000, 470000, 370000, 560000, 125000, 667000, 635000, 495000, 489000, 350000, 490000, 222500, 393000, 495000, 150000, 805000, 525000, 799000, 620000, 1265000, 640000, 1175000, 365000, 455000, 1060000, 731300, 905000, 810000, 200000, 639000, 825000, 375000, 380250, 520000, 595000, 314820, 325500, 1650000, 1850000, 646588, 420000, 405600, 280000, 600000, 630000, 499990, 445000, 763688, 225000, 550000, 570000, 990000, 735000, 860000, 370800, 728000, 1200000, 610000, 432000, 1357000, 630000, 997000, 1070000, 701083, 900000, 650000, 690000, 740000, 369900, 460000, 600000, 365000, 936000, 795000, 565000, 430000, 333000, 465000, 580000, 361000, 475000, 515000, 435000, 360000, 610000, 580000, 284000, 555000, 525000, 560038, 480000, 520000, 1500000, 804718, 550000, 550000, 480000, 905000, 840000, 550000, 470000, 1695000, 995000, 300000, 755000, 675000, 395000, 382500, 468000, 450000, 605000, 750000, 450000, 280000, 575000, 281250, 720000, 738231, 510000, 610949, 344760, 540000, 395000, 290000, 295000, 950000, 550000, 275000, 320000, 1640000, 743561, 582000, 748000, 990000, 615000, 700000, 948500, 855000, 1050000, 525000, 821750, 625000, 469000, 525000, 1320000, 465000, 437750, 445000, 390000, 552000, 850000, 412000, 480000, 465000, 441000, 700000, 460000, 860421, 465500, 804416, 110000, 580000, 400000, 799000, 550000, 1049000, 1210950, 901000, 1200000, 580000, 280000, 950000, 625000, 430000, 270000, 285000, 639900, 250750, 770000, 560000, 610000, 692410, 265000, 545000, 615000, 750000, 679000, 275000, 197600, 400000, 595000, 232000, 750000, 928000, 1290000, 339690, 348156, 735000, 800000, 659000, 477387, 386000, 610000, 810000, 490000, 524700, 387000, 349700, 435000, 650000, 1100000, 905000, 560000, 377500, 224829, 531000, 155500, 328410, 499990, 433000, 210000, 825000, 541000, 213600, 450000, 319100, 602000, 575000, 710000, 590000, 880000, 989000, 730000, 910000, 830000, 999999, 850000, 640000, 370000, 457821, 650000, 280000, 586000, 498000, 525000, 550000, 910000, 885000, 490000, 540000, 451230, 525000, 475000, 100000, 361722, 720000, 568750, 542000, 806000, 330000, 550000, 395000, 490000, 457000, 350000, 655000, 690000, 1128508, 615000, 133500, 1450000, 800000, 500000, 905000, 935000, 900000, 800000, 780000, 818000, 950000, 470000, 450000, 306135, 580000, 465593, 251000, 265000, 530000, 490000, 657558, 557000, 510000, 380000, 1358000, 815000, 530000, 675000, 627000, 380000, 252400, 530000, 550000, 425000, 1562000, 400000, 300000, 640000, 857000, 530000, 555000, 510000, 675343, 820000, 1350000, 1150000, 1400000, 999000, 531260, 1491000, 640000, 715000, 300000, 905000, 880000, 788000, 805000, 226667, 1180000, 596900, 420000, 670000, 565000, 361092, 615000, 830000, 400000, 700000, 550000, 685000, 400000, 775000, 415000, 750000, 465000, 324480, 356310, 632500, 560000, 335000, 410000, 420000, 390000, 856900, 485000, 390500, 590000, 665000, 550000, 490000, 725000, 589000, 940000, 650000, 600000, 815000, 1168000, 500000, 473800, 400000, 700000, 680000, 462500, 450000, 535000, 455000, 228150, 272000, 180000, 340000, 285000, 350000, 525000, 1525000, 460000, 355000, 1150000, 890000, 310000, 645000, 925000, 850000, 1525000, 750000, 630000, 949000, 895000, 855000, 660000, 615000, 950000, 435000, 795000, 1650000, 280000, 999600, 460000, 418000, 490000, 401544, 465000, 702000, 380000, 620000, 835000, 1485000, 335000, 300000, 440000, 545000, 662000, 522000, 579000, 413000, 516000, 804124, 390390, 661863, 1170988, 461370, 520000, 300000, 404250, 400000, 510000, 326864, 460000, 282755, 1500000, 1375000, 474226, 680000, 620000, 250000, 880000, 677500, 715000, 1400000, 570000, 1100000, 1100000, 1675000, 1475000, 992500, 788000, 540000, 350000, 750000, 880000, 1150000, 690000, 700000, 710000, 760000, 1876000, 675000, 463146, 354500, 240000, 585000, 395000, 425000, 540000, 417000, 444558, 267000, 412600, 537500, 541709, 1053000, 760000, 540000, 570000, 130000, 465000, 535000, 520000, 515000, 475000, 500000, 330000, 690000, 610949, 520000, 104000], \"yaxis\": \"y\"}],\n",
              "                        {\"legend\": {\"tracegroupgap\": 0}, \"margin\": {\"t\": 60}, \"template\": {\"data\": {\"bar\": [{\"error_x\": {\"color\": \"#2a3f5f\"}, \"error_y\": {\"color\": \"#2a3f5f\"}, \"marker\": {\"line\": {\"color\": \"#E5ECF6\", \"width\": 0.5}}, \"type\": \"bar\"}], \"barpolar\": [{\"marker\": {\"line\": {\"color\": \"#E5ECF6\", \"width\": 0.5}}, \"type\": \"barpolar\"}], \"carpet\": [{\"aaxis\": {\"endlinecolor\": \"#2a3f5f\", \"gridcolor\": \"white\", \"linecolor\": \"white\", \"minorgridcolor\": \"white\", \"startlinecolor\": \"#2a3f5f\"}, \"baxis\": {\"endlinecolor\": \"#2a3f5f\", \"gridcolor\": \"white\", \"linecolor\": \"white\", \"minorgridcolor\": \"white\", \"startlinecolor\": \"#2a3f5f\"}, \"type\": \"carpet\"}], \"choropleth\": [{\"colorbar\": {\"outlinewidth\": 0, \"ticks\": \"\"}, \"type\": \"choropleth\"}], \"contour\": [{\"colorbar\": {\"outlinewidth\": 0, \"ticks\": \"\"}, \"colorscale\": [[0.0, \"#0d0887\"], [0.1111111111111111, \"#46039f\"], [0.2222222222222222, \"#7201a8\"], [0.3333333333333333, \"#9c179e\"], [0.4444444444444444, \"#bd3786\"], [0.5555555555555556, \"#d8576b\"], [0.6666666666666666, \"#ed7953\"], [0.7777777777777778, \"#fb9f3a\"], [0.8888888888888888, \"#fdca26\"], [1.0, \"#f0f921\"]], \"type\": \"contour\"}], \"contourcarpet\": [{\"colorbar\": {\"outlinewidth\": 0, \"ticks\": \"\"}, \"type\": \"contourcarpet\"}], \"heatmap\": [{\"colorbar\": {\"outlinewidth\": 0, \"ticks\": \"\"}, \"colorscale\": [[0.0, \"#0d0887\"], [0.1111111111111111, \"#46039f\"], [0.2222222222222222, \"#7201a8\"], [0.3333333333333333, \"#9c179e\"], [0.4444444444444444, \"#bd3786\"], [0.5555555555555556, \"#d8576b\"], [0.6666666666666666, \"#ed7953\"], [0.7777777777777778, \"#fb9f3a\"], [0.8888888888888888, \"#fdca26\"], [1.0, \"#f0f921\"]], \"type\": \"heatmap\"}], \"heatmapgl\": [{\"colorbar\": {\"outlinewidth\": 0, \"ticks\": \"\"}, \"colorscale\": [[0.0, \"#0d0887\"], [0.1111111111111111, \"#46039f\"], [0.2222222222222222, \"#7201a8\"], [0.3333333333333333, \"#9c179e\"], [0.4444444444444444, \"#bd3786\"], [0.5555555555555556, \"#d8576b\"], [0.6666666666666666, \"#ed7953\"], [0.7777777777777778, \"#fb9f3a\"], [0.8888888888888888, \"#fdca26\"], [1.0, \"#f0f921\"]], \"type\": \"heatmapgl\"}], \"histogram\": [{\"marker\": {\"colorbar\": {\"outlinewidth\": 0, \"ticks\": \"\"}}, \"type\": \"histogram\"}], \"histogram2d\": [{\"colorbar\": {\"outlinewidth\": 0, \"ticks\": \"\"}, \"colorscale\": [[0.0, \"#0d0887\"], [0.1111111111111111, \"#46039f\"], [0.2222222222222222, \"#7201a8\"], [0.3333333333333333, \"#9c179e\"], [0.4444444444444444, \"#bd3786\"], [0.5555555555555556, \"#d8576b\"], [0.6666666666666666, \"#ed7953\"], [0.7777777777777778, \"#fb9f3a\"], [0.8888888888888888, \"#fdca26\"], [1.0, \"#f0f921\"]], \"type\": \"histogram2d\"}], \"histogram2dcontour\": [{\"colorbar\": {\"outlinewidth\": 0, \"ticks\": \"\"}, \"colorscale\": [[0.0, \"#0d0887\"], [0.1111111111111111, \"#46039f\"], [0.2222222222222222, \"#7201a8\"], [0.3333333333333333, \"#9c179e\"], [0.4444444444444444, \"#bd3786\"], [0.5555555555555556, \"#d8576b\"], [0.6666666666666666, \"#ed7953\"], [0.7777777777777778, \"#fb9f3a\"], [0.8888888888888888, \"#fdca26\"], [1.0, \"#f0f921\"]], \"type\": \"histogram2dcontour\"}], \"mesh3d\": [{\"colorbar\": {\"outlinewidth\": 0, \"ticks\": \"\"}, \"type\": \"mesh3d\"}], \"parcoords\": [{\"line\": {\"colorbar\": {\"outlinewidth\": 0, \"ticks\": \"\"}}, \"type\": \"parcoords\"}], \"pie\": [{\"automargin\": true, \"type\": \"pie\"}], \"scatter\": [{\"marker\": {\"colorbar\": {\"outlinewidth\": 0, \"ticks\": \"\"}}, \"type\": \"scatter\"}], \"scatter3d\": [{\"line\": {\"colorbar\": {\"outlinewidth\": 0, \"ticks\": \"\"}}, \"marker\": {\"colorbar\": {\"outlinewidth\": 0, \"ticks\": \"\"}}, \"type\": \"scatter3d\"}], \"scattercarpet\": [{\"marker\": {\"colorbar\": {\"outlinewidth\": 0, \"ticks\": \"\"}}, \"type\": \"scattercarpet\"}], \"scattergeo\": [{\"marker\": {\"colorbar\": {\"outlinewidth\": 0, \"ticks\": \"\"}}, \"type\": \"scattergeo\"}], \"scattergl\": [{\"marker\": {\"colorbar\": {\"outlinewidth\": 0, \"ticks\": \"\"}}, \"type\": \"scattergl\"}], \"scattermapbox\": [{\"marker\": {\"colorbar\": {\"outlinewidth\": 0, \"ticks\": \"\"}}, \"type\": \"scattermapbox\"}], \"scatterpolar\": [{\"marker\": {\"colorbar\": {\"outlinewidth\": 0, \"ticks\": \"\"}}, \"type\": \"scatterpolar\"}], \"scatterpolargl\": [{\"marker\": {\"colorbar\": {\"outlinewidth\": 0, \"ticks\": \"\"}}, \"type\": \"scatterpolargl\"}], \"scatterternary\": [{\"marker\": {\"colorbar\": {\"outlinewidth\": 0, \"ticks\": \"\"}}, \"type\": \"scatterternary\"}], \"surface\": [{\"colorbar\": {\"outlinewidth\": 0, \"ticks\": \"\"}, \"colorscale\": [[0.0, \"#0d0887\"], [0.1111111111111111, \"#46039f\"], [0.2222222222222222, \"#7201a8\"], [0.3333333333333333, \"#9c179e\"], [0.4444444444444444, \"#bd3786\"], [0.5555555555555556, \"#d8576b\"], [0.6666666666666666, \"#ed7953\"], [0.7777777777777778, \"#fb9f3a\"], [0.8888888888888888, \"#fdca26\"], [1.0, \"#f0f921\"]], \"type\": \"surface\"}], \"table\": [{\"cells\": {\"fill\": {\"color\": \"#EBF0F8\"}, \"line\": {\"color\": \"white\"}}, \"header\": {\"fill\": {\"color\": \"#C8D4E3\"}, \"line\": {\"color\": \"white\"}}, \"type\": \"table\"}]}, \"layout\": {\"annotationdefaults\": {\"arrowcolor\": \"#2a3f5f\", \"arrowhead\": 0, \"arrowwidth\": 1}, \"coloraxis\": {\"colorbar\": {\"outlinewidth\": 0, \"ticks\": \"\"}}, \"colorscale\": {\"diverging\": [[0, \"#8e0152\"], [0.1, \"#c51b7d\"], [0.2, \"#de77ae\"], [0.3, \"#f1b6da\"], [0.4, \"#fde0ef\"], [0.5, \"#f7f7f7\"], [0.6, \"#e6f5d0\"], [0.7, \"#b8e186\"], [0.8, \"#7fbc41\"], [0.9, \"#4d9221\"], [1, \"#276419\"]], \"sequential\": [[0.0, \"#0d0887\"], [0.1111111111111111, \"#46039f\"], [0.2222222222222222, \"#7201a8\"], [0.3333333333333333, \"#9c179e\"], [0.4444444444444444, \"#bd3786\"], [0.5555555555555556, \"#d8576b\"], [0.6666666666666666, \"#ed7953\"], [0.7777777777777778, \"#fb9f3a\"], [0.8888888888888888, \"#fdca26\"], [1.0, \"#f0f921\"]], \"sequentialminus\": [[0.0, \"#0d0887\"], [0.1111111111111111, \"#46039f\"], [0.2222222222222222, \"#7201a8\"], [0.3333333333333333, \"#9c179e\"], [0.4444444444444444, \"#bd3786\"], [0.5555555555555556, \"#d8576b\"], [0.6666666666666666, \"#ed7953\"], [0.7777777777777778, \"#fb9f3a\"], [0.8888888888888888, \"#fdca26\"], [1.0, \"#f0f921\"]]}, \"colorway\": [\"#636efa\", \"#EF553B\", \"#00cc96\", \"#ab63fa\", \"#FFA15A\", \"#19d3f3\", \"#FF6692\", \"#B6E880\", \"#FF97FF\", \"#FECB52\"], \"font\": {\"color\": \"#2a3f5f\"}, \"geo\": {\"bgcolor\": \"white\", \"lakecolor\": \"white\", \"landcolor\": \"#E5ECF6\", \"showlakes\": true, \"showland\": true, \"subunitcolor\": \"white\"}, \"hoverlabel\": {\"align\": \"left\"}, \"hovermode\": \"closest\", \"mapbox\": {\"style\": \"light\"}, \"paper_bgcolor\": \"white\", \"plot_bgcolor\": \"#E5ECF6\", \"polar\": {\"angularaxis\": {\"gridcolor\": \"white\", \"linecolor\": \"white\", \"ticks\": \"\"}, \"bgcolor\": \"#E5ECF6\", \"radialaxis\": {\"gridcolor\": \"white\", \"linecolor\": \"white\", \"ticks\": \"\"}}, \"scene\": {\"xaxis\": {\"backgroundcolor\": \"#E5ECF6\", \"gridcolor\": \"white\", \"gridwidth\": 2, \"linecolor\": \"white\", \"showbackground\": true, \"ticks\": \"\", \"zerolinecolor\": \"white\"}, \"yaxis\": {\"backgroundcolor\": \"#E5ECF6\", \"gridcolor\": \"white\", \"gridwidth\": 2, \"linecolor\": \"white\", \"showbackground\": true, \"ticks\": \"\", \"zerolinecolor\": \"white\"}, \"zaxis\": {\"backgroundcolor\": \"#E5ECF6\", \"gridcolor\": \"white\", \"gridwidth\": 2, \"linecolor\": \"white\", \"showbackground\": true, \"ticks\": \"\", \"zerolinecolor\": \"white\"}}, \"shapedefaults\": {\"line\": {\"color\": \"#2a3f5f\"}}, \"ternary\": {\"aaxis\": {\"gridcolor\": \"white\", \"linecolor\": \"white\", \"ticks\": \"\"}, \"baxis\": {\"gridcolor\": \"white\", \"linecolor\": \"white\", \"ticks\": \"\"}, \"bgcolor\": \"#E5ECF6\", \"caxis\": {\"gridcolor\": \"white\", \"linecolor\": \"white\", \"ticks\": \"\"}}, \"title\": {\"x\": 0.05}, \"xaxis\": {\"automargin\": true, \"gridcolor\": \"white\", \"linecolor\": \"white\", \"ticks\": \"\", \"title\": {\"standoff\": 15}, \"zerolinecolor\": \"white\", \"zerolinewidth\": 2}, \"yaxis\": {\"automargin\": true, \"gridcolor\": \"white\", \"linecolor\": \"white\", \"ticks\": \"\", \"title\": {\"standoff\": 15}, \"zerolinecolor\": \"white\", \"zerolinewidth\": 2}}}, \"xaxis\": {\"anchor\": \"y\", \"domain\": [0.0, 1.0], \"title\": {\"text\": \"x\"}}, \"yaxis\": {\"anchor\": \"x\", \"domain\": [0.0, 1.0], \"title\": {\"text\": \"y\"}}},\n",
              "                        {\"responsive\": true}\n",
              "                    ).then(function(){\n",
              "                            \n",
              "var gd = document.getElementById('e900614f-3d79-4de5-8b23-da67b97a8f54');\n",
              "var x = new MutationObserver(function (mutations, observer) {{\n",
              "        var display = window.getComputedStyle(gd).display;\n",
              "        if (!display || display === 'none') {{\n",
              "            console.log([gd, 'removed!']);\n",
              "            Plotly.purge(gd);\n",
              "            observer.disconnect();\n",
              "        }}\n",
              "}});\n",
              "\n",
              "// Listen for the removal of the full notebook cells\n",
              "var notebookContainer = gd.closest('#notebook-container');\n",
              "if (notebookContainer) {{\n",
              "    x.observe(notebookContainer, {childList: true});\n",
              "}}\n",
              "\n",
              "// Listen for the clearing of the current output cell\n",
              "var outputEl = gd.closest('.output');\n",
              "if (outputEl) {{\n",
              "    x.observe(outputEl, {childList: true});\n",
              "}}\n",
              "\n",
              "                        })\n",
              "                };\n",
              "                \n",
              "            </script>\n",
              "        </div>\n",
              "</body>\n",
              "</html>"
            ]
          },
          "metadata": {
            "tags": []
          }
        }
      ]
    },
    {
      "cell_type": "code",
      "metadata": {
        "colab": {
          "base_uri": "https://localhost:8080/",
          "height": 542
        },
        "id": "EQYWFLGWd6qx",
        "outputId": "e8cd1be6-fdd1-4a1f-8f5a-2bc0576629bb"
      },
      "source": [
        "\r\n",
        "px.scatter(x=X_train['BLOCK'], y=y_train)"
      ],
      "execution_count": null,
      "outputs": [
        {
          "output_type": "display_data",
          "data": {
            "text/html": [
              "<html>\n",
              "<head><meta charset=\"utf-8\" /></head>\n",
              "<body>\n",
              "    <div>\n",
              "            <script src=\"https://cdnjs.cloudflare.com/ajax/libs/mathjax/2.7.5/MathJax.js?config=TeX-AMS-MML_SVG\"></script><script type=\"text/javascript\">if (window.MathJax) {MathJax.Hub.Config({SVG: {font: \"STIX-Web\"}});}</script>\n",
              "                <script type=\"text/javascript\">window.PlotlyConfig = {MathJaxConfig: 'local'};</script>\n",
              "        <script src=\"https://cdn.plot.ly/plotly-latest.min.js\"></script>    \n",
              "            <div id=\"287433de-32ad-48e8-a9b4-0295cab0dc5f\" class=\"plotly-graph-div\" style=\"height:525px; width:100%;\"></div>\n",
              "            <script type=\"text/javascript\">\n",
              "                \n",
              "                    window.PLOTLYENV=window.PLOTLYENV || {};\n",
              "                    \n",
              "                if (document.getElementById(\"287433de-32ad-48e8-a9b4-0295cab0dc5f\")) {\n",
              "                    Plotly.newPlot(\n",
              "                        '287433de-32ad-48e8-a9b4-0295cab0dc5f',\n",
              "                        [{\"hoverlabel\": {\"namelength\": 0}, \"hovertemplate\": \"x=%{x}<br>y=%{y}\", \"legendgroup\": \"\", \"marker\": {\"color\": \"#636efa\", \"symbol\": \"circle\"}, \"mode\": \"markers\", \"name\": \"\", \"showlegend\": false, \"type\": \"scattergl\", \"x\": [5495, 7918, 4210, 5212, 7930, 6806, 6761, 7378, 2882, 7407, 10918, 13962, 14253, 1103, 3317, 12908, 12352, 11936, 12985, 5708, 5442, 760, 1448, 8218, 6243, 4309, 5142, 4956, 4984, 8883, 7306, 8546, 11305, 1903, 8276, 8379, 1516, 15525, 4848, 5627, 5692, 6709, 7196, 7213, 10515, 14248, 9702, 7231, 8238, 3579, 12205, 11592, 12728, 12984, 377, 626, 5190, 6839, 3736, 1016, 3246, 1984, 7093, 4735, 4634, 5761, 1822, 3773, 1020, 7707, 8495, 5806, 6076, 7965, 3225, 13186, 8116, 2963, 7680, 10761, 3092, 16157, 13463, 13663, 10249, 11965, 11636, 149, 4667, 769, 815, 4131, 4666, 7863, 456, 784, 4979, 3688, 5361, 5047, 3992, 5977, 4064, 7714, 5280, 7307, 6639, 10488, 10569, 11554, 10667, 9323, 12334, 11657, 11726, 13323, 10963, 5327, 3531, 3736, 3736, 4364, 1272, 1080, 7596, 7074, 3069, 2565, 5520, 4700, 4833, 6267, 7297, 5416, 6505, 7176, 5805, 16340, 1578, 2468, 8705, 6707, 7207, 7267, 11086, 9568, 10146, 12286, 10975, 4509, 1295, 6030, 709, 5237, 3731, 3741, 4674, 3038, 3267, 3352, 1982, 4716, 4787, 4611, 2506, 4482, 8263, 7630, 7928, 8538, 6495, 6545, 1114, 7332, 16340, 12772, 4041, 1665, 5289, 5458, 5597, 6688, 10353, 9879, 7613, 7687, 9150, 3584, 12981, 13213, 10064, 11863, 12597, 12600, 4467, 8933, 6049, 365, 721, 5446, 1236, 872, 4638, 5740, 3881, 5481, 4211, 7631, 7873, 8900, 7709, 11280, 6404, 6422, 6579, 6669, 13084, 13158, 13182, 2820, 11183, 11263, 9583, 9593, 13470, 10047, 11610, 11725, 10425, 11082, 4510, 5263, 6847, 1148, 1188, 3804, 4073, 2390, 1006, 3359, 3412, 403, 458, 4631, 5406, 3256, 4394, 4384, 5439, 5518, 4875, 5930, 3566, 8039, 4055, 7680, 6639, 16340, 16350, 11289, 15505, 4820, 4922, 5626, 3714, 1148, 12944, 2918, 7626, 10733, 3118, 9502, 13487, 12331, 11670, 11821, 3066, 727, 2925, 3587, 5261, 5489, 5099, 3889, 3905, 21, 6784, 7596, 3361, 3412, 221, 430, 3688, 5877, 5569, 5504, 4104, 8876, 6790, 7473, 8803, 4797, 5587, 5603, 6928, 16118, 10353, 9866, 12858, 8245, 9461, 12340, 4667, 4667, 4670, 6267, 3066, 280, 5674, 6869, 4057, 277, 7942, 238, 4749, 4956, 3789, 4450, 5507, 5012, 6203, 5653, 4910, 4933, 8856, 8866, 7086, 8739, 7707, 12763, 1665, 6584, 3845, 10559, 13954, 1058, 1101, 9955, 13185, 10644, 11104, 11208, 3162, 9414, 12103, 12204, 12350, 11934, 12287, 12317, 12474, 12521, 12668, 11061, 12605, 4157, 6018, 5616, 5260, 3811, 2015, 1263, 1272, 1086, 3071, 7086, 3237, 164, 1466, 750, 1979, 5316, 5093, 3391, 8411, 8218, 8234, 8261, 5913, 7928, 5401, 7374, 847, 6107, 4550, 16340, 16350, 16350, 1426, 8708, 5630, 6404, 10372, 9953, 2717, 7680, 10629, 11192, 9289, 11759, 12719, 10953, 4649, 8840, 1240, 5735, 6021, 326, 848, 752, 61, 6944, 208, 2090, 5227, 5828, 6224, 3845, 1277, 8866, 6888, 6830, 6728, 6611, 650, 822, 3968, 1885, 8739, 3276, 7205, 10526, 14023, 14075, 12930, 8225, 2375, 11345, 10638, 9279, 9544, 9599, 13676, 12202, 11763, 12707, 10946, 11017, 2296, 4626, 8908, 6245, 1608, 5651, 2917, 5156, 5268, 5282, 5487, 6828, 696, 1232, 3697, 6906, 128, 198, 4898, 4537, 4231, 5536, 5599, 5575, 6245, 7908, 5223, 4690, 8900, 6875, 7147, 4574, 4820, 4936, 5448, 5625, 7008, 7090, 16118, 10466, 14025, 14048, 14171, 14182, 1383, 2833, 9160, 10751, 11087, 13515, 13733, 12044, 12071, 11670, 12136, 12665, 12983, 12461, 8862, 6245, 723, 5653, 4580, 5223, 806, 4349, 4419, 670, 870, 7372, 7167, 6865, 8985, 4898, 4594, 3149, 4065, 5936, 180, 8080, 8199, 7013, 3956, 7797, 8523, 7355, 7441, 11333, 4104, 2895, 15656, 4855, 5450, 6975, 7664, 9537, 13246, 11976, 12163, 12269, 11060, 4482, 4643, 365, 3538, 3169, 5237, 5457, 5459, 6844, 6875, 1223, 1261, 3809, 3810, 3886, 950, 7046, 7887, 7267, 4066, 4312, 5549, 8145, 4122, 5955, 6810, 7886, 8633, 8547, 6028, 6051, 16350, 2480, 5034, 6735, 14047, 14197, 9947, 9872, 12969, 13106, 13177, 7667, 9192, 9395, 12209, 10248, 10977, 12607, 125, 1646, 5357, 5591, 5669, 899, 5311, 1158, 2376, 1092, 4347, 2985, 3694, 5408, 3217, 3253, 4382, 5431, 5051, 5054, 5667, 4888, 4973, 7896, 685, 16350, 12747, 1697, 5371, 6398, 10895, 13999, 14074, 1100, 6864, 2368, 11505, 11552, 10669, 11144, 3081, 12186, 11961, 11688, 11858, 12523, 13044, 10270, 12629, 9179, 5735, 5775, 2070, 3559, 5272, 616, 920, 3707, 3802, 4052, 4024, 1092, 2865, 2988, 3353, 563, 151, 217, 746, 4265, 5729, 5884, 4199, 5455, 5506, 6262, 3800, 4891, 4940, 6649, 1024, 1055, 7378, 6032, 1089, 1655, 8730, 8733, 4846, 5215, 6599, 6987, 3880, 3895, 3905, 13984, 1069, 1445, 13153, 11087, 9549, 13670, 12050, 12101, 12186, 12167, 11658, 12672, 11009, 11074, 1132, 309, 4477, 150, 806, 3717, 4092, 4280, 1053, 3236, 556, 569, 5632, 3293, 2284, 4042, 4046, 6707, 8643, 6536, 4614, 8619, 1935, 4798, 7008, 8538, 3733, 10546, 10915, 7271, 9785, 13036, 13122, 8242, 2773, 16299, 10634, 13616, 12631, 12644, 312, 5677, 5489, 3728, 3793, 3809, 3644, 1042, 1047, 4421, 7037, 7084, 571, 7775, 3791, 4266, 5594, 5606, 3818, 5928, 8007, 3977, 7667, 6626, 7704, 6218, 11325, 12770, 12819, 8735, 5624, 6844, 6933, 2171, 3343, 7107, 9915, 12938, 2968, 9038, 3103, 9605, 12015, 12041, 12063, 12350, 10438, 10924, 4473, 4509, 4640, 713, 5694, 5696, 5242, 3905, 939, 4363, 2372, 4724, 457, 7020, 4939, 5644, 4474, 4664, 4677, 5952, 8078, 8079, 4158, 4909, 8856, 7403, 7437, 7980, 7988, 8713, 4822, 5490, 6393, 3207, 10585, 10853, 10915, 2339, 11514, 11240, 11781, 13267, 11041, 8909, 8992, 5735, 5772, 6029, 1681, 280, 3319, 5636, 4610, 5489, 623, 6561, 149, 699, 1152, 3884, 1032, 7596, 3354, 2840, 7912, 8025, 447, 733, 4733, 4759, 4557, 3800, 5409, 5484, 3261, 4294, 5387, 5436, 5506, 8413, 5964, 3773, 7637, 6873, 7339, 8480, 8612, 8385, 8387, 8404, 7375, 8800, 16026, 12744, 12815, 1657, 15775, 8749, 4866, 5325, 6533, 6996, 8552, 8553, 3686, 10881, 14206, 7240, 9968, 12931, 8392, 3801, 11561, 10632, 10654, 13224, 13468, 13569, 13746, 12006, 12332, 10182, 11720, 12131, 12546, 13076, 10407, 10929, 11010, 8850, 9177, 6442, 6022, 3176, 5286, 621, 806, 2384, 2445, 4269, 2827, 129, 521, 521, 583, 182, 4715, 4898, 4538, 4477, 4324, 5984, 5230, 5235, 7699, 16350, 11280, 4107, 15526, 8774, 8444, 9898, 1387, 1387, 12939, 2884, 7622, 11354, 11356, 3140, 9362, 12192, 10173, 10186, 11951, 11960, 4738, 4579, 5026, 801, 4081, 4349, 2377, 7534, 1272, 1272, 3377, 7895, 1462, 5655, 2524, 5596, 4078, 7908, 5143, 8478, 8594, 1023, 4609, 8630, 1650, 1853, 15592, 5120, 5444, 10509, 13182, 2965, 11118, 11670, 13052, 5662, 150, 705, 1196, 275, 3246, 3199, 4124, 4230, 5031, 5050, 6805, 6744, 8601, 8647, 7132, 7355, 5774, 16195, 9741, 5535, 6986, 3646, 1069, 1085, 1164, 12825, 11095, 11238, 12035, 10254, 12476, 10970, 623, 796, 3799, 7040, 7066, 7066, 4736, 4604, 4403, 5654, 728, 6604, 6710, 10366, 10457, 10907, 1382, 9940, 3318, 12860, 13454, 10273, 10964, 4474, 837, 1200, 898, 4557, 3509, 5319, 5114, 5969, 6101, 7961, 6243, 7770, 8955, 7332, 7866, 6768, 6268, 10894, 10499, 12874, 2375, 7618, 11132, 13569, 13670, 12005, 12214, 12991, 13330, 11004, 2886, 4985, 618, 752, 3814, 3905, 4091, 4674, 1278, 3378, 2868, 7905, 101, 4745, 4610, 4634, 4045, 5441, 6367, 6367, 1815, 4753, 8237, 6012, 6178, 6254, 8856, 2681, 8544, 1047, 770, 6162, 11309, 11327, 12781, 8760, 4714, 6622, 3334, 3711, 7041, 9810, 2399, 3004, 16305, 7916, 9474, 9606, 13587, 11685, 11758, 11039, 4192, 5625, 621, 6336, 3804, 3612, 3122, 3397, 539, 572, 2526, 4112, 5339, 4697, 6704, 8493, 7441, 5777, 1836, 6437, 6732, 3231, 10580, 14247, 12895, 13187, 3042, 11503, 9493, 11974, 10187, 12519, 12632, 6240, 6301, 5741, 2917, 5282, 3689, 4898, 5949, 5432, 5046, 6466, 6181, 6232, 4943, 1534, 5373, 6543, 8796, 15960, 15960, 7311, 7360, 16253, 12758, 2470, 8742, 6950, 2121, 10885, 1437, 7233, 7834, 9143, 12157, 10990, 182, 8944, 5735, 1598, 373, 4478, 752, 1248, 1260, 3730, 7755, 1038, 1055, 556, 8025, 1466, 2091, 4952, 3092, 2673, 3594, 7911, 6654, 6787, 7862, 659, 8652, 11295, 4052, 8174, 15573, 1140, 10730, 9216, 12204, 12204, 11935, 12171, 11776, 4526, 860, 5616, 836, 3050, 4465, 5311, 1272, 3411, 2868, 439, 4962, 4979, 5408, 5464, 5506, 6461, 8047, 4760, 4880, 7697, 8480, 6754, 5495, 8800, 16270, 8725, 7042, 10517, 1102, 2702, 7748, 10629, 13247, 12221, 12368, 10988, 11068, 4498, 8947, 5405, 5735, 1703, 5348, 5695, 5030, 3651, 3905, 4349, 1442, 1508, 4101, 4463, 3520, 5590, 5980, 8182, 1980, 7008, 4066, 8946, 8955, 7386, 6343, 7989, 16350, 8679, 4288, 4934, 6404, 6813, 14201, 1360, 9956, 12825, 12960, 8396, 3786, 7624, 9148, 7915, 10761, 9303, 11997, 12203, 10251, 11019, 5741, 6022, 346, 366, 376, 3185, 5708, 5439, 150, 1215, 1222, 1246, 3806, 7741, 864, 194, 12723, 10456, 11610, 11896, 4781, 4563, 5417, 3022, 5534, 4660, 8262, 5945, 4960, 7774, 6830, 6838, 8818, 7893, 859, 7396, 3719, 10504, 11346, 10631, 11239, 12086, 12370, 12318, 12686, 12702, 10951, 8992, 6019, 6022, 298, 5668, 5129, 2864, 7085, 3397, 3509, 2653, 5026, 5966, 5643, 5681, 7008, 7841, 6600, 7888, 7435, 855, 5998, 5612, 6824, 16123, 14246, 1258, 13018, 11507, 11227, 9591, 10186, 12546, 13024, 10295, 11040, 6363, 6023, 6026, 3106, 2897, 5680, 5209, 5242, 616, 1148, 1260, 3740, 4068, 2862, 556, 4983, 5410, 5469, 5579, 6401, 4910, 4866, 7880, 7378, 9714, 1626, 15685, 4713, 4911, 6497, 6606, 1367, 10210, 12868, 2753, 11237, 11010, 11031, 314, 835, 5375, 5375, 5421, 5673, 4985, 5245, 3735, 4080, 4672, 1040, 1065, 6727, 3072, 7356, 563, 5632, 4275, 4297, 5869, 5589, 5058, 6072, 8316, 4067, 6601, 7080, 6725, 1047, 6316, 16350, 16350, 8066, 1373, 6833, 6901, 9903, 9960, 12861, 2357, 2774, 2924, 2986, 16296, 12107, 12335, 10150, 10268, 12164, 12267, 12475, 2341, 2876, 3191, 5651, 5152, 5266, 763, 64, 7755, 6972, 2866, 7038, 7863, 2625, 130, 7094, 4946, 4264, 1662, 6961, 3912, 4480, 4724, 4732, 7761, 6785, 8407, 5805, 6015, 7507, 16350, 8170, 1426, 8755, 6422, 6915, 10868, 14020, 14158, 11092, 11242, 12040, 12109, 12226, 8926, 8945, 6021, 6022, 3106, 5151, 6336, 6840, 4656, 4026, 506, 4638, 4259, 5311, 3986, 1647, 7912, 1275, 4952, 4594, 4800, 6705, 5798, 7443, 6395, 6533, 6579, 3185, 10486, 1242, 10011, 12825, 8400, 16312, 3160, 10257, 11608, 11646, 11772, 12472, 12535, 12537, 10315, 10923, 8930, 5742, 5659, 5195, 3681, 24, 4476, 1700, 3428, 7963, 4152, 5903, 5005, 8900, 8939, 7714, 7897, 8547, 7506, 4544, 12758, 12794, 3974, 5567, 5758, 3654, 10842, 7807, 8112, 2942, 10642, 11107, 3144, 3144, 9497, 9579, 11947, 13052, 8981, 5593, 4500, 6336, 4421, 536, 579, 3680, 5429, 3992, 1706, 6561, 4993, 7729, 6652, 7611, 16031, 7335, 7377, 8645, 15308, 15475, 11288, 8066, 2488, 15786, 4940, 5258, 5585, 10351, 1448, 9269, 2969, 10735, 11234, 11234, 2114, 9206, 13568, 11777, 12475, 12537, 12679, 10304, 10393, 10992, 11034, 12607, 4515, 6020, 6026, 6044, 1703, 633, 2925, 5350, 6575, 3871, 66, 3597, 2275, 3278, 662, 1463, 746, 2091, 4903, 3791, 4483, 5334, 5436, 5506, 5506, 5058, 8414, 4954, 5034, 7850, 16048, 16350, 12740, 12823, 1739, 15662, 5456, 7375, 3251, 1095, 10640, 10739, 13614, 12047, 10206, 12479, 4456, 4649, 6271, 1696, 1701, 5316, 5020, 770, 3884, 4237, 4339, 1029, 4051, 4078, 4285, 7649, 12735, 12822, 8682, 5764, 2145, 14064, 14206, 9878, 2934, 11112, 13687, 11765, 11897, 13309, 6237, 6021, 286, 3155, 4618, 5295, 6335, 3809, 3884, 4057, 6744, 4769, 5597, 5905, 5943, 1706, 5681, 5079, 7627, 7680, 3923, 1750, 8815, 13101, 13456, 12728, 11081, 12397, 1591, 5713, 5294, 1318, 2988, 2643, 2085, 2215, 4580, 2958, 5593, 4664, 8845, 8503, 12748, 4315, 5550, 3186, 13971, 966, 1386, 13160, 2702, 9429, 9561, 12028, 11592, 11624, 860, 4583, 3699, 3798, 2386, 1056, 8028, 208, 411, 3608, 4480, 5541, 3848, 8025, 3897, 5158, 8613, 7348, 7457, 7905, 6396, 9967, 3320, 13200, 16297, 11505, 10650, 13627, 11646, 11747, 11747, 11063, 11065, 1333, 5702, 5515, 796, 3817, 6993, 3246, 3348, 3417, 571, 3043, 4767, 8263, 5964, 6165, 8866, 7880, 7883, 16050, 6031, 7392, 3968, 15790, 4931, 5427, 5510, 6904, 10550, 12913, 12935, 13086, 13177, 2841, 16296, 11400, 11487, 3142, 12106, 12192, 11657, 11695, 11726, 11759, 6205, 6043, 2925, 855, 1171, 4040, 1991, 2853, 603, 902, 7965, 433, 4435, 5413, 4277, 3522, 5428, 1814, 1275, 4026, 5246, 4984, 8379, 6027, 12756, 3188, 14086, 1173, 13161, 2370, 7666, 7775, 10666, 13565, 13666, 11975, 12027, 12085, 12089, 10081, 11762, 12452, 12638, 8842, 6212, 6021, 3531, 6875, 1149, 1234, 3742, 3804, 4723, 4409, 8007, 447, 1467, 3075, 4389, 5729, 5432, 3543, 8047, 8055, 8284, 7882, 6019, 6256, 4558, 16350, 3936, 1372, 1426, 4845, 5577, 6965, 3211, 9734, 2741, 11479, 10656, 9335, 12005, 10062, 11622, 12285, 12295, 12476, 12686, 10298, 5743, 1597, 1611, 4500, 623, 150, 3888, 3013, 4781, 5323, 2798, 3557, 5516, 3517, 3723, 4732, 1159, 8711, 8805, 6823, 6945, 3190, 13978, 12825, 8399, 7832, 11174, 13746, 10422, 752, 1169, 4035, 3268, 8044, 780, 4892, 4457, 3471, 3476, 5424, 4849, 3358, 8273, 6303, 4736, 7632, 7771, 6919, 7718, 7675, 16038, 6223, 8188, 15598, 5692, 5965, 14025, 13180, 9410, 10207, 11725, 12515, 12729, 10275, 12631, 5393, 326, 4985, 5152, 4030, 1006, 6724, 4400, 2840, 392, 6970, 3430, 8263, 7906, 6826, 8534, 7422, 16027, 7336, 4568, 16350, 16350, 6942, 7127, 7203, 8548, 10850, 10515, 13953, 14071, 2988, 11092, 11104, 11127, 11158, 9289, 3421, 13217, 12375, 10129, 10146, 11927, 11960, 12674, 13089, 15015, 2925, 5487, 138, 3735, 3641, 2389, 7534, 2846, 3420, 894, 8533, 2507, 2507, 5100, 6503, 7379, 16350, 16350, 4799, 6662, 6964, 7187, 14204, 12896, 8997, 11092, 11140, 11186, 9409, 13471, 12703, 593, 6875, 763, 3699, 4311, 1132, 3111, 3352, 7106, 4590, 5465, 4016, 3371, 8280, 3931, 5045, 8946, 7963, 4812, 4886, 5233, 5236, 5647, 5689, 6899, 3650, 1447, 13199, 3024, 3789, 7834, 9500, 11755, 12576, 12586, 12674, 4525, 5743, 4510, 3692, 3641, 2376, 2976, 603, 7945, 6970, 5514, 7009, 4022, 7675, 8793, 808, 6343, 3180, 8500, 10569, 14247, 2833, 13238, 13248, 12373, 10414, 5735, 710, 869, 5603, 3538, 4030, 1102, 6727, 418, 480, 5631, 3447, 5527, 7968, 4168, 828, 5802, 5989, 6248, 11291, 12735, 5398, 7268, 14151, 12931, 8138, 8346, 2997, 13726, 11990, 12359, 10265, 12458, 12686, 156, 4494, 3184, 1158, 1272, 2986, 220, 4725, 4980, 3694, 5648, 5885, 5501, 5503, 4079, 4669, 8253, 4178, 7400, 12785, 8068, 8184, 8758, 8802, 5588, 6913, 10522, 13183, 2912, 7942, 11131, 11226, 9552, 12042, 12043, 12204, 12217, 10074, 11612, 11615, 11725, 11756, 12477, 11018, 11048, 5730, 1605, 1700, 5600, 4131, 4308, 2372, 2996, 7038, 4898, 5411, 4473, 1871, 8241, 4961, 7688, 6496, 6151, 9671, 8078, 1542, 1570, 5602, 10522, 8228, 9130, 11364, 10642, 10664, 13513, 10251, 11923, 11653, 12704, 10923, 11001, 1611, 5596, 838, 5247, 5456, 5489, 5518, 1212, 1236, 3689, 2370, 7075, 7880, 5330, 4996, 5776, 5508, 7908, 8198, 7008, 4976, 7632, 6718, 6724, 7647, 5416, 8364, 5272, 8634, 8656, 16350, 8077, 5594, 5691, 5763, 7066, 6943, 13108, 13155, 9588, 12007, 10996, 6221, 326, 3222, 5295, 5442, 705, 4031, 2110, 1055, 2827, 540, 504, 2642, 7355, 4929, 5645, 5008, 5008, 6895, 7862, 8477, 8816, 7851, 786, 11310, 12769, 15581, 15687, 7210, 8547, 10372, 14003, 8249, 11167, 12026, 12217, 13308, 869, 5255, 5268, 5299, 617, 1188, 3810, 4088, 1272, 151, 4632, 5480, 5822, 3145, 4016, 6397, 8393, 3830, 6812, 6814, 6837, 7343, 7441, 9708, 9721, 1886, 15592, 8693, 8738, 7205, 10581, 1246, 3325, 12899, 2938, 3804, 11369, 10789, 12064, 11936, 11643, 12474, 12624, 209, 4492, 5744, 6018, 6055, 1605, 5609, 5616, 3156, 4478, 5190, 6885, 818, 3798, 4306, 4265, 6796, 1039, 4723, 4902, 4630, 3098, 2677, 4872, 5941, 6041, 3811, 4101, 4104, 4164, 7080, 7719, 8502, 6720, 7897, 8769, 8769, 897, 5257, 5997, 7337, 8647, 15400, 1967, 8103, 8106, 8742, 8826, 5569, 6933, 3288, 3655, 10559, 10866, 13147, 9535, 13207, 12012, 12201, 11656, 12527, 10409, 11015, 155, 8916, 1133, 1156, 1156, 6220, 5720, 6022, 5680, 5442, 5449, 5458, 54, 4081, 2373, 1132, 3395, 11159], \"xaxis\": \"x\", \"y\": [550000, 200000, 810000, 125000, 620000, 1150000, 836500, 955000, 820000, 980000, 430000, 700000, 448000, 670000, 1390000, 540000, 520000, 480000, 570000, 552000, 505000, 357500, 670000, 549000, 970000, 800000, 450000, 330000, 575000, 450000, 743000, 445000, 255000, 750000, 985000, 958000, 1440000, 200000, 930000, 990000, 810000, 670000, 1030000, 900000, 940000, 445000, 710000, 998000, 950000, 470000, 480000, 757504, 350000, 717359, 926608, 585500, 493000, 615000, 646589, 470000, 510000, 1705000, 643750, 465000, 320000, 730000, 300000, 494000, 670000, 525000, 640000, 870000, 780000, 350000, 1490000, 555000, 550000, 685000, 825000, 435000, 810000, 224094, 512275, 520000, 494500, 450000, 460000, 1290000, 890000, 530000, 445000, 452465, 560000, 440000, 625000, 588005, 420000, 416000, 570000, 335000, 108000, 1575000, 350000, 795000, 1100000, 670000, 760000, 645000, 650000, 492000, 590000, 830000, 330000, 590000, 646000, 446000, 550000, 640000, 445000, 646589, 639461, 520000, 125000, 349500, 700000, 355000, 355000, 200000, 499000, 265000, 300000, 980000, 1100000, 750000, 1163359, 710000, 915000, 350000, 1250000, 840000, 605000, 350000, 915000, 999999, 425000, 414987, 208000, 408000, 220000, 1872562, 830000, 410000, 395000, 555000, 443800, 743323, 539900, 763688, 889000, 572500, 632000, 465000, 340000, 400000, 395000, 470000, 510000, 821000, 529000, 650000, 859000, 790000, 1700000, 980000, 385000, 580000, 880888, 859000, 1153000, 788000, 990000, 825000, 515000, 840000, 600000, 1710660, 520000, 660000, 479000, 520000, 490000, 500000, 240000, 550000, 1218300, 500000, 540000, 500000, 580000, 515000, 100000, 1530000, 460000, 1750000, 380250, 990000, 405600, 820000, 210000, 499500, 415000, 300000, 850000, 885000, 1400000, 500000, 255000, 624000, 601000, 575000, 370000, 534560, 620000, 335000, 269500, 641000, 619000, 413950, 545000, 350000, 880000, 540000, 471500, 673330, 566368, 120000, 565000, 510569, 125000, 790000, 415000, 740000, 550000, 365000, 570000, 700000, 490000, 660000, 525000, 508402, 305000, 1400000, 430000, 357000, 450000, 1250000, 560000, 130000, 225000, 305000, 910000, 905000, 985000, 958000, 700000, 830000, 536000, 680000, 660000, 640000, 1280000, 630000, 529000, 390000, 425000, 680000, 850000, 531000, 250000, 539000, 775000, 599900, 475000, 475000, 600768, 749000, 781000, 675000, 599000, 499000, 490000, 630000, 460000, 490000, 780000, 1850000, 250000, 294000, 1500000, 965000, 487000, 100000, 380000, 650000, 730000, 112000, 499999, 680000, 342000, 742000, 515000, 450000, 100000, 100000, 790000, 740000, 875000, 735000, 560000, 599000, 390000, 508500, 860000, 590585, 457500, 320000, 510000, 390000, 328600, 440000, 820000, 912500, 465000, 650000, 439000, 210000, 950000, 1685000, 599000, 405235, 970000, 1465000, 455000, 605394, 640000, 790000, 770000, 950000, 420000, 570000, 900000, 489600, 773000, 420000, 361000, 198000, 278000, 450000, 430000, 503000, 527500, 366877, 385000, 346029, 373692, 988000, 495000, 450000, 485000, 230000, 444000, 350000, 311912, 559144, 550000, 695000, 575000, 589000, 475000, 250000, 1440000, 570000, 458800, 560000, 590000, 456300, 223000, 575000, 820000, 381550, 1025000, 699000, 1100000, 505000, 575000, 500000, 250000, 400000, 625000, 650000, 850000, 925000, 445000, 1295000, 700000, 763000, 615000, 114000, 630000, 665000, 515000, 517000, 850000, 600000, 700000, 597000, 352746, 900000, 875000, 570000, 455000, 499999, 375180, 410000, 515000, 780000, 1240000, 515000, 1200000, 385000, 818000, 1415000, 1165000, 1050000, 1600000, 1260000, 865000, 748000, 635000, 1675000, 985000, 885000, 790000, 679000, 280000, 800000, 670000, 641000, 450000, 390000, 485000, 463000, 467000, 446000, 610000, 579000, 490000, 451000, 770000, 990000, 440000, 360000, 600000, 607000, 585494, 533000, 860000, 415000, 685000, 580000, 1450000, 285075, 525000, 1120075, 360000, 265000, 245000, 475000, 512000, 510000, 334650, 990000, 900000, 335000, 1900000, 560000, 595000, 600000, 848000, 1250000, 800000, 1500000, 658000, 1578288, 1075000, 990000, 105000, 560038, 829000, 485000, 638000, 230000, 740000, 995000, 554500, 603500, 550000, 460000, 459500, 204800, 253000, 362900, 479000, 396000, 350000, 335000, 610000, 480000, 499000, 582500, 620000, 485000, 630000, 590000, 697000, 555000, 500000, 600000, 950000, 340000, 150000, 423000, 499000, 658820, 530000, 1150000, 1573500, 500000, 486000, 550000, 380000, 644000, 730000, 851000, 730000, 475000, 732000, 835000, 200000, 990000, 925000, 990000, 1200000, 560000, 525000, 489000, 160000, 380000, 385000, 740000, 1090000, 498000, 498900, 490000, 555000, 590000, 469900, 620000, 565000, 405000, 425000, 307000, 450000, 243360, 445000, 795000, 450000, 655498, 529791, 795000, 988000, 729000, 400000, 830000, 675000, 890000, 850000, 515000, 899888, 700000, 277000, 760000, 630000, 770000, 825000, 600000, 1015000, 715000, 371000, 365040, 500000, 975000, 781000, 396000, 275000, 400530, 580000, 112000, 1125000, 470000, 575210, 800000, 772500, 963538, 477000, 415000, 420810, 360500, 369000, 365000, 241000, 555000, 465000, 540750, 740000, 332000, 499000, 301665, 1500000, 683000, 560000, 499000, 1775000, 450000, 211650, 715000, 780000, 905000, 555000, 820000, 715000, 628900, 838000, 795000, 560000, 435000, 610000, 618000, 960000, 555000, 532000, 670000, 375000, 450000, 100000, 342000, 435000, 245500, 720000, 520000, 515000, 555000, 399888, 370023, 850000, 540000, 210000, 449000, 430000, 334620, 265000, 248132, 373600, 362000, 415000, 453124, 620000, 550000, 300000, 835000, 550000, 614000, 568600, 1060000, 479000, 181875, 490000, 991670, 1425000, 1570000, 800000, 777000, 690000, 800000, 650000, 660000, 950000, 747000, 785000, 700000, 712000, 710000, 730000, 990000, 1031285, 1120413, 515000, 485000, 565000, 545000, 400000, 325000, 440000, 495000, 656000, 590000, 250000, 475000, 760000, 500000, 410000, 492000, 525000, 485000, 240000, 745000, 247850, 445000, 384500, 822500, 375000, 525000, 760000, 450000, 540000, 980000, 1150000, 760000, 999000, 799000, 600000, 425000, 832500, 515000, 720000, 655000, 640000, 990000, 740000, 450000, 590000, 965000, 668900, 1180000, 390000, 255000, 499931, 705094, 266667, 539000, 568000, 475000, 525000, 248000, 678000, 385000, 450000, 755000, 440000, 430000, 1050000, 1452500, 573000, 575000, 440000, 425000, 575000, 670000, 500000, 230000, 688888, 835000, 740000, 290000, 535000, 340000, 175000, 639000, 845000, 700000, 740000, 915000, 1600000, 1050000, 630000, 640000, 730000, 525000, 1870000, 500000, 609000, 220000, 415000, 499999, 650000, 529000, 940000, 1552831, 1200000, 282000, 550000, 860000, 495000, 595676, 800000, 572000, 445000, 499000, 400000, 450000, 230000, 438000, 480000, 150000, 298100, 1100000, 175000, 530000, 500000, 650000, 615000, 935000, 830000, 550000, 640000, 610000, 836000, 784053, 915000, 750000, 685000, 300000, 640000, 785000, 518500, 490000, 228000, 600000, 470000, 630000, 540000, 622000, 360000, 322500, 480000, 645000, 755000, 489000, 470000, 620000, 623169, 705000, 420000, 719000, 350000, 575311, 174300, 544000, 618000, 450000, 480000, 145000, 430000, 565000, 475000, 406282, 327500, 560000, 565000, 325000, 160000, 515000, 920000, 335000, 158600, 600000, 985000, 470000, 522500, 1275000, 727000, 664000, 1085000, 610000, 520000, 699000, 825000, 950000, 382621, 512000, 436800, 770000, 550000, 679189, 915000, 769000, 200000, 547000, 224000, 610000, 650000, 625000, 450000, 1500000, 1080000, 607856, 1390000, 740000, 469625, 540000, 450000, 400000, 547500, 495000, 365000, 495000, 359970, 470000, 590000, 235000, 536500, 362500, 218000, 455000, 545000, 499800, 620000, 830000, 442900, 390000, 650000, 235000, 625000, 672000, 590000, 645000, 585000, 465000, 390000, 350000, 485000, 435000, 500000, 320000, 390000, 430000, 578000, 870000, 668500, 1330000, 345000, 415000, 394272, 850000, 366211, 720000, 900000, 425000, 775000, 327631, 660000, 675000, 720000, 530000, 380000, 850000, 775000, 580000, 475000, 340000, 435000, 428480, 815000, 605000, 465545, 468000, 279000, 590000, 618500, 521500, 435000, 480000, 790000, 575000, 459000, 475000, 485000, 460000, 428665, 500000, 1955000, 591000, 610000, 708000, 950000, 605000, 669000, 950000, 475000, 1500000, 745000, 855000, 340000, 795000, 380000, 465000, 410000, 587400, 600000, 655000, 350000, 375000, 380000, 245000, 608400, 231500, 1202000, 1925000, 1550000, 500000, 1400000, 659500, 833000, 750000, 860000, 525000, 825000, 800000, 720000, 575000, 656766, 650000, 720000, 530000, 470000, 370000, 495000, 227302, 490000, 336000, 626224, 620000, 250000, 634000, 600000, 600000, 345163, 510000, 445000, 700000, 700000, 1850000, 810000, 508605, 1175000, 499371, 615000, 1235000, 1200000, 457920, 505000, 443000, 302000, 1117500, 800000, 273600, 1100000, 496460, 141088, 529000, 470000, 1075000, 1950000, 690000, 1165000, 515510, 425000, 740000, 1075000, 990000, 850000, 519000, 620000, 330000, 810000, 780000, 500000, 130000, 555000, 365625, 380000, 463500, 280000, 695000, 499412, 651680, 700000, 400000, 307668, 590585, 569000, 570000, 229430, 550000, 383593, 825000, 524804, 430000, 518340, 590000, 380250, 464000, 1630000, 1630000, 1100000, 535000, 605000, 1400000, 855000, 760000, 562500, 2000000, 667800, 1235000, 932500, 790000, 572000, 315000, 440000, 680000, 970000, 650000, 1460000, 715000, 800000, 500000, 1125000, 269302, 934350, 310000, 650000, 868000, 420000, 535000, 250000, 510000, 880000, 788000, 480000, 880000, 145000, 740000, 590000, 536750, 234234, 555000, 490000, 545000, 250000, 500000, 999500, 501930, 1445000, 863000, 600000, 920000, 870000, 1700000, 670000, 275000, 481000, 560000, 425000, 540000, 580000, 295000, 416000, 404250, 499000, 570000, 948578, 400000, 525000, 520000, 650000, 500000, 990000, 447000, 445000, 850000, 690000, 738231, 350000, 500000, 900000, 1200000, 253950, 427523, 274092, 780000, 650000, 995000, 519000, 810000, 671000, 849000, 865000, 499999, 1099200, 1625000, 900000, 525000, 450000, 180500, 1225000, 395000, 194000, 520000, 423000, 411684, 550000, 200000, 560038, 595000, 540000, 326000, 560000, 360000, 524349, 575000, 579000, 420000, 371848, 182500, 600000, 540000, 830000, 1325000, 890000, 1090000, 515000, 655000, 1150000, 975000, 812000, 779000, 530000, 815000, 380000, 420000, 175000, 424000, 582000, 865000, 1440000, 508000, 610950, 850000, 550000, 438000, 240000, 595000, 485000, 540000, 500000, 490000, 624000, 556000, 714800, 680000, 444000, 650000, 500000, 499000, 690000, 1655000, 1125000, 430000, 1215000, 645000, 629000, 885000, 600000, 630000, 994000, 266000, 630000, 880000, 440000, 175000, 520000, 531250, 768328, 620000, 635000, 216500, 400000, 575000, 363000, 554946, 596695, 457314, 592000, 550000, 369770, 515000, 479000, 589000, 890000, 575000, 240000, 495000, 440000, 499000, 645000, 910000, 1289120, 635000, 360000, 617000, 775000, 880000, 1420000, 695000, 157277, 750000, 970000, 480000, 500000, 900000, 620000, 777000, 563000, 650000, 487500, 377500, 560000, 224000, 237500, 450000, 362900, 465000, 361998, 480000, 560000, 625000, 490000, 900000, 760000, 463900, 399000, 340000, 485000, 770000, 750000, 249000, 150000, 940000, 414400, 605000, 495000, 401000, 578000, 650000, 429000, 360000, 474000, 930000, 690000, 390000, 1325000, 390000, 632000, 530000, 1095000, 930000, 725000, 730000, 525000, 545000, 490000, 890000, 290000, 845000, 476768, 345000, 160000, 528000, 526500, 470000, 520000, 499000, 610000, 640000, 450000, 743323, 275000, 600000, 630297, 1400000, 912500, 915000, 549000, 400000, 830000, 700000, 679000, 1290000, 1614600, 899000, 550000, 180000, 403000, 930000, 550000, 350000, 525000, 640000, 480000, 410000, 615000, 485000, 525000, 263133, 400000, 468400, 721939, 352500, 710000, 360000, 465000, 840000, 402600, 552910, 625000, 610000, 505000, 303000, 330000, 720000, 488000, 953000, 980000, 679000, 580000, 440000, 815000, 640000, 175000, 520000, 865000, 525000, 720000, 700000, 679000, 485000, 465000, 444000, 525000, 547000, 425000, 625000, 180000, 365000, 318000, 306000, 635045, 651680, 689100, 496888, 295000, 497000, 475000, 310000, 440000, 500000, 568960, 216489, 380000, 460000, 579000, 699000, 440000, 570000, 840000, 630000, 251155, 1130000, 825000, 872000, 1070000, 870000, 352500, 390000, 958317, 725000, 860000, 785000, 673000, 300000, 340000, 835000, 925000, 593000, 182000, 1340000, 515000, 400000, 505000, 635000, 252000, 320000, 525000, 675000, 404000, 695000, 607000, 275000, 515000, 850000, 697501, 550000, 614000, 409500, 360000, 276822, 385000, 336000, 762669, 390000, 410000, 600000, 617000, 630000, 210000, 612000, 605000, 398000, 1142500, 648000, 889000, 1150000, 900000, 820000, 1325000, 525000, 760000, 907000, 1048800, 585000, 600000, 565000, 606279, 565000, 657906, 175000, 300000, 525000, 540000, 499000, 499990, 721939, 536000, 1036000, 410000, 539000, 495000, 490000, 355000, 431000, 478000, 485000, 189270, 565000, 439931, 416981, 610000, 700000, 900000, 890000, 878000, 1158000, 693000, 940000, 933800, 620000, 725000, 545000, 160000, 888000, 720000, 940000, 883000, 570000, 510000, 301000, 450000, 260000, 939000, 480000, 647000, 595000, 350000, 113348, 610000, 563000, 273780, 470000, 780000, 1358500, 585000, 680000, 920000, 999000, 550000, 660000, 725000, 532000, 600000, 900000, 668000, 218000, 585000, 800000, 730000, 750000, 685000, 708400, 862000, 710000, 605000, 610000, 550000, 1250000, 950000, 562500, 525000, 430000, 537500, 523000, 480000, 552000, 919000, 1120075, 300000, 605000, 485000, 445000, 549000, 625000, 970000, 560000, 520000, 990000, 880000, 136000, 1210000, 280000, 620000, 610000, 336000, 550000, 1620000, 831000, 235000, 1140000, 999000, 800000, 346500, 1140000, 700000, 967000, 620000, 375000, 375000, 1020000, 920000, 475000, 705000, 510000, 350000, 335000, 500000, 800000, 639000, 220000, 325000, 800000, 201000, 460000, 419900, 535000, 225000, 400000, 400000, 900000, 100000, 464000, 510000, 299000, 460000, 870000, 380000, 520000, 584284, 515000, 555000, 571000, 580000, 687000, 436600, 333600, 410000, 540000, 660000, 1125000, 585000, 309000, 145000, 567000, 635000, 989000, 499500, 851000, 800000, 1450000, 600000, 575000, 668000, 350000, 400000, 550000, 319600, 1150000, 800000, 600000, 240000, 465000, 400000, 585000, 515000, 560038, 475000, 550000, 499000, 500000, 285000, 500000, 1270000, 415000, 666588, 770000, 645000, 640000, 400000, 525000, 1125000, 599000, 595000, 445000, 994517, 530000, 564796, 895000, 460000, 525000, 160673, 560000, 570000, 560000, 480000, 460000, 515000, 984000, 510000, 509600, 1220000, 1150000, 100000, 600000, 750000, 1700000, 860500, 459000, 560000, 540000, 510365, 590000, 494000, 200000, 560000, 470000, 500000, 585000, 451230, 490000, 270000, 329000, 739000, 324480, 350000, 320000, 353379, 645000, 600000, 425880, 800000, 930000, 875000, 715000, 875000, 740000, 485000, 710000, 499750, 1850000, 493000, 995000, 610000, 1425000, 615000, 733140, 672045, 670000, 355000, 422000, 150000, 467500, 495000, 580000, 912000, 500000, 210000, 595000, 1400000, 1668500, 600000, 700000, 730000, 414000, 1310000, 950000, 580000, 900000, 990000, 570000, 410000, 485000, 376000, 376000, 600000, 480000, 820000, 715000, 452998, 544719, 535000, 800000, 465000, 683000, 420000, 351000, 470000, 599000, 115000, 930000, 800000, 612000, 468468, 440000, 152000, 760000, 1084000, 450000, 500599, 750000, 985000, 845000, 890000, 510000, 471000, 510000, 275000, 545000, 715500, 795000, 385000, 400000, 899000, 900000, 400000, 595000, 215000, 450000, 380000, 609000, 410000, 250000, 800000, 473500, 535000, 692240, 495000, 870604, 650000, 250000, 450000, 485000, 638600, 630000, 250000, 450000, 250000, 1385000, 305000, 700000, 575000, 520000, 602000, 314500, 1122000, 750000, 650000, 500000, 791000, 905000, 928000, 600000, 595000, 250000, 390000, 321000, 700000, 375000, 392000, 938486, 270000, 306228, 650000, 444132, 440000, 499999, 490000, 270480, 325000, 475000, 168000, 500585, 740000, 430000, 575000, 580000, 350000, 635000, 877500, 495000, 510000, 560000, 585000, 565000, 635000, 850000, 1400000, 1100000, 455000, 975000, 586000, 330000, 835000, 820000, 725000, 1465000, 835000, 829000, 465000, 538000, 396000, 500000, 1600000, 585000, 500000, 268000, 270000, 440000, 540000, 375000, 665000, 505000, 480000, 621133, 280980, 197000, 532000, 418000, 330000, 500000, 450000, 435000, 525000, 250000, 575000, 2000000, 700000, 650000, 605000, 700000, 865000, 665000, 500000, 995000, 362000, 375000, 360000, 525000, 470000, 370000, 560000, 125000, 667000, 635000, 495000, 489000, 350000, 490000, 222500, 393000, 495000, 150000, 805000, 525000, 799000, 620000, 1265000, 640000, 1175000, 365000, 455000, 1060000, 731300, 905000, 810000, 200000, 639000, 825000, 375000, 380250, 520000, 595000, 314820, 325500, 1650000, 1850000, 646588, 420000, 405600, 280000, 600000, 630000, 499990, 445000, 763688, 225000, 550000, 570000, 990000, 735000, 860000, 370800, 728000, 1200000, 610000, 432000, 1357000, 630000, 997000, 1070000, 701083, 900000, 650000, 690000, 740000, 369900, 460000, 600000, 365000, 936000, 795000, 565000, 430000, 333000, 465000, 580000, 361000, 475000, 515000, 435000, 360000, 610000, 580000, 284000, 555000, 525000, 560038, 480000, 520000, 1500000, 804718, 550000, 550000, 480000, 905000, 840000, 550000, 470000, 1695000, 995000, 300000, 755000, 675000, 395000, 382500, 468000, 450000, 605000, 750000, 450000, 280000, 575000, 281250, 720000, 738231, 510000, 610949, 344760, 540000, 395000, 290000, 295000, 950000, 550000, 275000, 320000, 1640000, 743561, 582000, 748000, 990000, 615000, 700000, 948500, 855000, 1050000, 525000, 821750, 625000, 469000, 525000, 1320000, 465000, 437750, 445000, 390000, 552000, 850000, 412000, 480000, 465000, 441000, 700000, 460000, 860421, 465500, 804416, 110000, 580000, 400000, 799000, 550000, 1049000, 1210950, 901000, 1200000, 580000, 280000, 950000, 625000, 430000, 270000, 285000, 639900, 250750, 770000, 560000, 610000, 692410, 265000, 545000, 615000, 750000, 679000, 275000, 197600, 400000, 595000, 232000, 750000, 928000, 1290000, 339690, 348156, 735000, 800000, 659000, 477387, 386000, 610000, 810000, 490000, 524700, 387000, 349700, 435000, 650000, 1100000, 905000, 560000, 377500, 224829, 531000, 155500, 328410, 499990, 433000, 210000, 825000, 541000, 213600, 450000, 319100, 602000, 575000, 710000, 590000, 880000, 989000, 730000, 910000, 830000, 999999, 850000, 640000, 370000, 457821, 650000, 280000, 586000, 498000, 525000, 550000, 910000, 885000, 490000, 540000, 451230, 525000, 475000, 100000, 361722, 720000, 568750, 542000, 806000, 330000, 550000, 395000, 490000, 457000, 350000, 655000, 690000, 1128508, 615000, 133500, 1450000, 800000, 500000, 905000, 935000, 900000, 800000, 780000, 818000, 950000, 470000, 450000, 306135, 580000, 465593, 251000, 265000, 530000, 490000, 657558, 557000, 510000, 380000, 1358000, 815000, 530000, 675000, 627000, 380000, 252400, 530000, 550000, 425000, 1562000, 400000, 300000, 640000, 857000, 530000, 555000, 510000, 675343, 820000, 1350000, 1150000, 1400000, 999000, 531260, 1491000, 640000, 715000, 300000, 905000, 880000, 788000, 805000, 226667, 1180000, 596900, 420000, 670000, 565000, 361092, 615000, 830000, 400000, 700000, 550000, 685000, 400000, 775000, 415000, 750000, 465000, 324480, 356310, 632500, 560000, 335000, 410000, 420000, 390000, 856900, 485000, 390500, 590000, 665000, 550000, 490000, 725000, 589000, 940000, 650000, 600000, 815000, 1168000, 500000, 473800, 400000, 700000, 680000, 462500, 450000, 535000, 455000, 228150, 272000, 180000, 340000, 285000, 350000, 525000, 1525000, 460000, 355000, 1150000, 890000, 310000, 645000, 925000, 850000, 1525000, 750000, 630000, 949000, 895000, 855000, 660000, 615000, 950000, 435000, 795000, 1650000, 280000, 999600, 460000, 418000, 490000, 401544, 465000, 702000, 380000, 620000, 835000, 1485000, 335000, 300000, 440000, 545000, 662000, 522000, 579000, 413000, 516000, 804124, 390390, 661863, 1170988, 461370, 520000, 300000, 404250, 400000, 510000, 326864, 460000, 282755, 1500000, 1375000, 474226, 680000, 620000, 250000, 880000, 677500, 715000, 1400000, 570000, 1100000, 1100000, 1675000, 1475000, 992500, 788000, 540000, 350000, 750000, 880000, 1150000, 690000, 700000, 710000, 760000, 1876000, 675000, 463146, 354500, 240000, 585000, 395000, 425000, 540000, 417000, 444558, 267000, 412600, 537500, 541709, 1053000, 760000, 540000, 570000, 130000, 465000, 535000, 520000, 515000, 475000, 500000, 330000, 690000, 610949, 520000, 104000], \"yaxis\": \"y\"}],\n",
              "                        {\"legend\": {\"tracegroupgap\": 0}, \"margin\": {\"t\": 60}, \"template\": {\"data\": {\"bar\": [{\"error_x\": {\"color\": \"#2a3f5f\"}, \"error_y\": {\"color\": \"#2a3f5f\"}, \"marker\": {\"line\": {\"color\": \"#E5ECF6\", \"width\": 0.5}}, \"type\": \"bar\"}], \"barpolar\": [{\"marker\": {\"line\": {\"color\": \"#E5ECF6\", \"width\": 0.5}}, \"type\": \"barpolar\"}], \"carpet\": [{\"aaxis\": {\"endlinecolor\": \"#2a3f5f\", \"gridcolor\": \"white\", \"linecolor\": \"white\", \"minorgridcolor\": \"white\", \"startlinecolor\": \"#2a3f5f\"}, \"baxis\": {\"endlinecolor\": \"#2a3f5f\", \"gridcolor\": \"white\", \"linecolor\": \"white\", \"minorgridcolor\": \"white\", \"startlinecolor\": \"#2a3f5f\"}, \"type\": \"carpet\"}], \"choropleth\": [{\"colorbar\": {\"outlinewidth\": 0, \"ticks\": \"\"}, \"type\": \"choropleth\"}], \"contour\": [{\"colorbar\": {\"outlinewidth\": 0, \"ticks\": \"\"}, \"colorscale\": [[0.0, \"#0d0887\"], [0.1111111111111111, \"#46039f\"], [0.2222222222222222, \"#7201a8\"], [0.3333333333333333, \"#9c179e\"], [0.4444444444444444, \"#bd3786\"], [0.5555555555555556, \"#d8576b\"], [0.6666666666666666, \"#ed7953\"], [0.7777777777777778, \"#fb9f3a\"], [0.8888888888888888, \"#fdca26\"], [1.0, \"#f0f921\"]], \"type\": \"contour\"}], \"contourcarpet\": [{\"colorbar\": {\"outlinewidth\": 0, \"ticks\": \"\"}, \"type\": \"contourcarpet\"}], \"heatmap\": [{\"colorbar\": {\"outlinewidth\": 0, \"ticks\": \"\"}, \"colorscale\": [[0.0, \"#0d0887\"], [0.1111111111111111, \"#46039f\"], [0.2222222222222222, \"#7201a8\"], [0.3333333333333333, \"#9c179e\"], [0.4444444444444444, \"#bd3786\"], [0.5555555555555556, \"#d8576b\"], [0.6666666666666666, \"#ed7953\"], [0.7777777777777778, \"#fb9f3a\"], [0.8888888888888888, \"#fdca26\"], [1.0, \"#f0f921\"]], \"type\": \"heatmap\"}], \"heatmapgl\": [{\"colorbar\": {\"outlinewidth\": 0, \"ticks\": \"\"}, \"colorscale\": [[0.0, \"#0d0887\"], [0.1111111111111111, \"#46039f\"], [0.2222222222222222, \"#7201a8\"], [0.3333333333333333, \"#9c179e\"], [0.4444444444444444, \"#bd3786\"], [0.5555555555555556, \"#d8576b\"], [0.6666666666666666, \"#ed7953\"], [0.7777777777777778, \"#fb9f3a\"], [0.8888888888888888, \"#fdca26\"], [1.0, \"#f0f921\"]], \"type\": \"heatmapgl\"}], \"histogram\": [{\"marker\": {\"colorbar\": {\"outlinewidth\": 0, \"ticks\": \"\"}}, \"type\": \"histogram\"}], \"histogram2d\": [{\"colorbar\": {\"outlinewidth\": 0, \"ticks\": \"\"}, \"colorscale\": [[0.0, \"#0d0887\"], [0.1111111111111111, \"#46039f\"], [0.2222222222222222, \"#7201a8\"], [0.3333333333333333, \"#9c179e\"], [0.4444444444444444, \"#bd3786\"], [0.5555555555555556, \"#d8576b\"], [0.6666666666666666, \"#ed7953\"], [0.7777777777777778, \"#fb9f3a\"], [0.8888888888888888, \"#fdca26\"], [1.0, \"#f0f921\"]], \"type\": \"histogram2d\"}], \"histogram2dcontour\": [{\"colorbar\": {\"outlinewidth\": 0, \"ticks\": \"\"}, \"colorscale\": [[0.0, \"#0d0887\"], [0.1111111111111111, \"#46039f\"], [0.2222222222222222, \"#7201a8\"], [0.3333333333333333, \"#9c179e\"], [0.4444444444444444, \"#bd3786\"], [0.5555555555555556, \"#d8576b\"], [0.6666666666666666, \"#ed7953\"], [0.7777777777777778, \"#fb9f3a\"], [0.8888888888888888, \"#fdca26\"], [1.0, \"#f0f921\"]], \"type\": \"histogram2dcontour\"}], \"mesh3d\": [{\"colorbar\": {\"outlinewidth\": 0, \"ticks\": \"\"}, \"type\": \"mesh3d\"}], \"parcoords\": [{\"line\": {\"colorbar\": {\"outlinewidth\": 0, \"ticks\": \"\"}}, \"type\": \"parcoords\"}], \"pie\": [{\"automargin\": true, \"type\": \"pie\"}], \"scatter\": [{\"marker\": {\"colorbar\": {\"outlinewidth\": 0, \"ticks\": \"\"}}, \"type\": \"scatter\"}], \"scatter3d\": [{\"line\": {\"colorbar\": {\"outlinewidth\": 0, \"ticks\": \"\"}}, \"marker\": {\"colorbar\": {\"outlinewidth\": 0, \"ticks\": \"\"}}, \"type\": \"scatter3d\"}], \"scattercarpet\": [{\"marker\": {\"colorbar\": {\"outlinewidth\": 0, \"ticks\": \"\"}}, \"type\": \"scattercarpet\"}], \"scattergeo\": [{\"marker\": {\"colorbar\": {\"outlinewidth\": 0, \"ticks\": \"\"}}, \"type\": \"scattergeo\"}], \"scattergl\": [{\"marker\": {\"colorbar\": {\"outlinewidth\": 0, \"ticks\": \"\"}}, \"type\": \"scattergl\"}], \"scattermapbox\": [{\"marker\": {\"colorbar\": {\"outlinewidth\": 0, \"ticks\": \"\"}}, \"type\": \"scattermapbox\"}], \"scatterpolar\": [{\"marker\": {\"colorbar\": {\"outlinewidth\": 0, \"ticks\": \"\"}}, \"type\": \"scatterpolar\"}], \"scatterpolargl\": [{\"marker\": {\"colorbar\": {\"outlinewidth\": 0, \"ticks\": \"\"}}, \"type\": \"scatterpolargl\"}], \"scatterternary\": [{\"marker\": {\"colorbar\": {\"outlinewidth\": 0, \"ticks\": \"\"}}, \"type\": \"scatterternary\"}], \"surface\": [{\"colorbar\": {\"outlinewidth\": 0, \"ticks\": \"\"}, \"colorscale\": [[0.0, \"#0d0887\"], [0.1111111111111111, \"#46039f\"], [0.2222222222222222, \"#7201a8\"], [0.3333333333333333, \"#9c179e\"], [0.4444444444444444, \"#bd3786\"], [0.5555555555555556, \"#d8576b\"], [0.6666666666666666, \"#ed7953\"], [0.7777777777777778, \"#fb9f3a\"], [0.8888888888888888, \"#fdca26\"], [1.0, \"#f0f921\"]], \"type\": \"surface\"}], \"table\": [{\"cells\": {\"fill\": {\"color\": \"#EBF0F8\"}, \"line\": {\"color\": \"white\"}}, \"header\": {\"fill\": {\"color\": \"#C8D4E3\"}, \"line\": {\"color\": \"white\"}}, \"type\": \"table\"}]}, \"layout\": {\"annotationdefaults\": {\"arrowcolor\": \"#2a3f5f\", \"arrowhead\": 0, \"arrowwidth\": 1}, \"coloraxis\": {\"colorbar\": {\"outlinewidth\": 0, \"ticks\": \"\"}}, \"colorscale\": {\"diverging\": [[0, \"#8e0152\"], [0.1, \"#c51b7d\"], [0.2, \"#de77ae\"], [0.3, \"#f1b6da\"], [0.4, \"#fde0ef\"], [0.5, \"#f7f7f7\"], [0.6, \"#e6f5d0\"], [0.7, \"#b8e186\"], [0.8, \"#7fbc41\"], [0.9, \"#4d9221\"], [1, \"#276419\"]], \"sequential\": [[0.0, \"#0d0887\"], [0.1111111111111111, \"#46039f\"], [0.2222222222222222, \"#7201a8\"], [0.3333333333333333, \"#9c179e\"], [0.4444444444444444, \"#bd3786\"], [0.5555555555555556, \"#d8576b\"], [0.6666666666666666, \"#ed7953\"], [0.7777777777777778, \"#fb9f3a\"], [0.8888888888888888, \"#fdca26\"], [1.0, \"#f0f921\"]], \"sequentialminus\": [[0.0, \"#0d0887\"], [0.1111111111111111, \"#46039f\"], [0.2222222222222222, \"#7201a8\"], [0.3333333333333333, \"#9c179e\"], [0.4444444444444444, \"#bd3786\"], [0.5555555555555556, \"#d8576b\"], [0.6666666666666666, \"#ed7953\"], [0.7777777777777778, \"#fb9f3a\"], [0.8888888888888888, \"#fdca26\"], [1.0, \"#f0f921\"]]}, \"colorway\": [\"#636efa\", \"#EF553B\", \"#00cc96\", \"#ab63fa\", \"#FFA15A\", \"#19d3f3\", \"#FF6692\", \"#B6E880\", \"#FF97FF\", \"#FECB52\"], \"font\": {\"color\": \"#2a3f5f\"}, \"geo\": {\"bgcolor\": \"white\", \"lakecolor\": \"white\", \"landcolor\": \"#E5ECF6\", \"showlakes\": true, \"showland\": true, \"subunitcolor\": \"white\"}, \"hoverlabel\": {\"align\": \"left\"}, \"hovermode\": \"closest\", \"mapbox\": {\"style\": \"light\"}, \"paper_bgcolor\": \"white\", \"plot_bgcolor\": \"#E5ECF6\", \"polar\": {\"angularaxis\": {\"gridcolor\": \"white\", \"linecolor\": \"white\", \"ticks\": \"\"}, \"bgcolor\": \"#E5ECF6\", \"radialaxis\": {\"gridcolor\": \"white\", \"linecolor\": \"white\", \"ticks\": \"\"}}, \"scene\": {\"xaxis\": {\"backgroundcolor\": \"#E5ECF6\", \"gridcolor\": \"white\", \"gridwidth\": 2, \"linecolor\": \"white\", \"showbackground\": true, \"ticks\": \"\", \"zerolinecolor\": \"white\"}, \"yaxis\": {\"backgroundcolor\": \"#E5ECF6\", \"gridcolor\": \"white\", \"gridwidth\": 2, \"linecolor\": \"white\", \"showbackground\": true, \"ticks\": \"\", \"zerolinecolor\": \"white\"}, \"zaxis\": {\"backgroundcolor\": \"#E5ECF6\", \"gridcolor\": \"white\", \"gridwidth\": 2, \"linecolor\": \"white\", \"showbackground\": true, \"ticks\": \"\", \"zerolinecolor\": \"white\"}}, \"shapedefaults\": {\"line\": {\"color\": \"#2a3f5f\"}}, \"ternary\": {\"aaxis\": {\"gridcolor\": \"white\", \"linecolor\": \"white\", \"ticks\": \"\"}, \"baxis\": {\"gridcolor\": \"white\", \"linecolor\": \"white\", \"ticks\": \"\"}, \"bgcolor\": \"#E5ECF6\", \"caxis\": {\"gridcolor\": \"white\", \"linecolor\": \"white\", \"ticks\": \"\"}}, \"title\": {\"x\": 0.05}, \"xaxis\": {\"automargin\": true, \"gridcolor\": \"white\", \"linecolor\": \"white\", \"ticks\": \"\", \"title\": {\"standoff\": 15}, \"zerolinecolor\": \"white\", \"zerolinewidth\": 2}, \"yaxis\": {\"automargin\": true, \"gridcolor\": \"white\", \"linecolor\": \"white\", \"ticks\": \"\", \"title\": {\"standoff\": 15}, \"zerolinecolor\": \"white\", \"zerolinewidth\": 2}}}, \"xaxis\": {\"anchor\": \"y\", \"domain\": [0.0, 1.0], \"title\": {\"text\": \"x\"}}, \"yaxis\": {\"anchor\": \"x\", \"domain\": [0.0, 1.0], \"title\": {\"text\": \"y\"}}},\n",
              "                        {\"responsive\": true}\n",
              "                    ).then(function(){\n",
              "                            \n",
              "var gd = document.getElementById('287433de-32ad-48e8-a9b4-0295cab0dc5f');\n",
              "var x = new MutationObserver(function (mutations, observer) {{\n",
              "        var display = window.getComputedStyle(gd).display;\n",
              "        if (!display || display === 'none') {{\n",
              "            console.log([gd, 'removed!']);\n",
              "            Plotly.purge(gd);\n",
              "            observer.disconnect();\n",
              "        }}\n",
              "}});\n",
              "\n",
              "// Listen for the removal of the full notebook cells\n",
              "var notebookContainer = gd.closest('#notebook-container');\n",
              "if (notebookContainer) {{\n",
              "    x.observe(notebookContainer, {childList: true});\n",
              "}}\n",
              "\n",
              "// Listen for the clearing of the current output cell\n",
              "var outputEl = gd.closest('.output');\n",
              "if (outputEl) {{\n",
              "    x.observe(outputEl, {childList: true});\n",
              "}}\n",
              "\n",
              "                        })\n",
              "                };\n",
              "                \n",
              "            </script>\n",
              "        </div>\n",
              "</body>\n",
              "</html>"
            ]
          },
          "metadata": {
            "tags": []
          }
        }
      ]
    },
    {
      "cell_type": "code",
      "metadata": {
        "id": "h6eq38l1eaLX"
      },
      "source": [
        "# import plotly.graph_objects as go\r\n",
        "\r\n",
        "# fig = go.Figure(data=[go.Scatter(\r\n",
        "#     x=[1, 2, 3, 4], y=[10, 11, 12, 13],\r\n",
        "#     mode='markers',\r\n",
        "#     marker_size=[40, 60, 80, 100])\r\n",
        "# ])\r\n",
        "\r\n",
        "# fig.show()"
      ],
      "execution_count": null,
      "outputs": []
    },
    {
      "cell_type": "markdown",
      "metadata": {
        "id": "9gHkfZdgVpT9"
      },
      "source": [
        "BOROUGH_1\r\n",
        "NEIGHBORHOOD_FOREST HILLS\r\n",
        "NEIGHBORHOOD_BOROUGH PARK\r\n",
        "NEIGHBORHOOD_ASTORIA\r\n",
        "TAX_CLASS_AT_PRESENT_1\r\n",
        "TAX_CLASS_AT_PRESENT_1D\r\n",
        "RESIDENTIAL_UNITS\r\n",
        "COMMERCIAL_UNITS\r\n",
        "TOTAL_UNITS\r\n",
        "GROSS_SQUARE_FEET\r\n",
        "YEAR_BUILT\r\n",
        "BUILDING_CLASS_AT_TIME_OF_SALE_A3\r\n",
        "BUILDING_CLASS_AT_TIME_OF_SALE_A6\r\n",
        "BUILDING_CLASS_AT_TIME_OF_SALE_A8\r\n",
        "BUILDING_CLASS_AT_TIME_OF_SALE_S0"
      ]
    },
    {
      "cell_type": "markdown",
      "metadata": {
        "id": "d_Ac4kd6V4RQ"
      },
      "source": [
        "BOROUGH_1\r\n",
        "NEIGHBORHOOD_FOREST HILLS\r\n",
        "NEIGHBORHOOD_ASTORIA\r\n",
        "BUILDING_CLASS_AT_TIME_OF_SALE_A3\r\n",
        "BUILDING_CLASS_AT_TIME_OF_SALE_S0"
      ]
    }
  ]
}