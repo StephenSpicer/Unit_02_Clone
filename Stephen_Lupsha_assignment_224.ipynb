{
  "nbformat": 4,
  "nbformat_minor": 0,
  "metadata": {
    "colab": {
      "name": "Stephen_Lupsha_assignment_224.ipynb",
      "provenance": [],
      "authorship_tag": "ABX9TyPjO03cd46aB9xhYpiqP2Fh",
      "include_colab_link": true
    },
    "kernelspec": {
      "name": "python3",
      "display_name": "Python 3"
    },
    "widgets": {
      "application/vnd.jupyter.widget-state+json": {
        "65827deb9618490ba17a85c45c6699d7": {
          "model_module": "@jupyter-widgets/controls",
          "model_name": "VBoxModel",
          "state": {
            "_view_name": "VBoxView",
            "_dom_classes": [
              "widget-interact"
            ],
            "_model_name": "VBoxModel",
            "_view_module": "@jupyter-widgets/controls",
            "_model_module_version": "1.5.0",
            "_view_count": null,
            "_view_module_version": "1.5.0",
            "box_style": "",
            "layout": "IPY_MODEL_9fcb9e9188d948128c7dcec2088f702d",
            "_model_module": "@jupyter-widgets/controls",
            "children": [
              "IPY_MODEL_9db9b7f24c9645a9a30875dbcd47996d",
              "IPY_MODEL_fdee93a233a94b53abaa775c364638a1"
            ]
          }
        },
        "9fcb9e9188d948128c7dcec2088f702d": {
          "model_module": "@jupyter-widgets/base",
          "model_name": "LayoutModel",
          "state": {
            "_view_name": "LayoutView",
            "grid_template_rows": null,
            "right": null,
            "justify_content": null,
            "_view_module": "@jupyter-widgets/base",
            "overflow": null,
            "_model_module_version": "1.2.0",
            "_view_count": null,
            "flex_flow": null,
            "width": null,
            "min_width": null,
            "border": null,
            "align_items": null,
            "bottom": null,
            "_model_module": "@jupyter-widgets/base",
            "top": null,
            "grid_column": null,
            "overflow_y": null,
            "overflow_x": null,
            "grid_auto_flow": null,
            "grid_area": null,
            "grid_template_columns": null,
            "flex": null,
            "_model_name": "LayoutModel",
            "justify_items": null,
            "grid_row": null,
            "max_height": null,
            "align_content": null,
            "visibility": null,
            "align_self": null,
            "height": null,
            "min_height": null,
            "padding": null,
            "grid_auto_rows": null,
            "grid_gap": null,
            "max_width": null,
            "order": null,
            "_view_module_version": "1.2.0",
            "grid_template_areas": null,
            "object_position": null,
            "object_fit": null,
            "grid_auto_columns": null,
            "margin": null,
            "display": null,
            "left": null
          }
        },
        "9db9b7f24c9645a9a30875dbcd47996d": {
          "model_module": "@jupyter-widgets/controls",
          "model_name": "FloatSliderModel",
          "state": {
            "_view_name": "FloatSliderView",
            "style": "IPY_MODEL_8c9eb74baac24eddbafc2c2ba1ce5ed9",
            "_dom_classes": [],
            "description": "threshold",
            "step": 0.02,
            "_model_name": "FloatSliderModel",
            "orientation": "horizontal",
            "max": 1,
            "_view_module": "@jupyter-widgets/controls",
            "_model_module_version": "1.5.0",
            "value": 0.5,
            "_view_count": null,
            "disabled": false,
            "_view_module_version": "1.5.0",
            "min": 0,
            "continuous_update": true,
            "readout_format": ".2f",
            "description_tooltip": null,
            "readout": true,
            "_model_module": "@jupyter-widgets/controls",
            "layout": "IPY_MODEL_d126ea4a4fa34e4fb8a51662acf22cea"
          }
        },
        "fdee93a233a94b53abaa775c364638a1": {
          "model_module": "@jupyter-widgets/output",
          "model_name": "OutputModel",
          "state": {
            "_view_name": "OutputView",
            "msg_id": "",
            "_dom_classes": [],
            "_model_name": "OutputModel",
            "outputs": [
              {
                "output_type": "stream",
                "metadata": {
                  "tags": []
                },
                "text": "/usr/local/lib/python3.6/dist-packages/seaborn/distributions.py:2557: FutureWarning: `distplot` is a deprecated function and will be removed in a future version. Please adapt your code to use either `displot` (a figure-level function with similar flexibility) or `histplot` (an axes-level function for histograms).\n  warnings.warn(msg, FutureWarning)\n",
                "stream": "stderr"
              },
              {
                "output_type": "display_data",
                "metadata": {
                  "tags": [],
                  "needs_background": "light"
                },
                "image/png": "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\n",
                "text/plain": "<Figure size 432x288 with 1 Axes>"
              },
              {
                "output_type": "stream",
                "metadata": {
                  "tags": []
                },
                "text": "              precision    recall  f1-score   support\n\n           0       0.81      0.85      0.83      6395\n           1       0.82      0.77      0.79      5478\n\n    accuracy                           0.81     11873\n   macro avg       0.81      0.81      0.81     11873\nweighted avg       0.81      0.81      0.81     11873\n\n",
                "stream": "stdout"
              },
              {
                "output_type": "display_data",
                "metadata": {
                  "tags": [],
                  "needs_background": "light"
                },
                "image/png": "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\n",
                "text/plain": "<Figure size 432x288 with 2 Axes>"
              }
            ],
            "_view_module": "@jupyter-widgets/output",
            "_model_module_version": "1.0.0",
            "_view_count": null,
            "_view_module_version": "1.0.0",
            "layout": "IPY_MODEL_44a16344bbbc43198107c61958196115",
            "_model_module": "@jupyter-widgets/output"
          }
        },
        "8c9eb74baac24eddbafc2c2ba1ce5ed9": {
          "model_module": "@jupyter-widgets/controls",
          "model_name": "SliderStyleModel",
          "state": {
            "_view_name": "StyleView",
            "handle_color": null,
            "_model_name": "SliderStyleModel",
            "description_width": "",
            "_view_module": "@jupyter-widgets/base",
            "_model_module_version": "1.5.0",
            "_view_count": null,
            "_view_module_version": "1.2.0",
            "_model_module": "@jupyter-widgets/controls"
          }
        },
        "d126ea4a4fa34e4fb8a51662acf22cea": {
          "model_module": "@jupyter-widgets/base",
          "model_name": "LayoutModel",
          "state": {
            "_view_name": "LayoutView",
            "grid_template_rows": null,
            "right": null,
            "justify_content": null,
            "_view_module": "@jupyter-widgets/base",
            "overflow": null,
            "_model_module_version": "1.2.0",
            "_view_count": null,
            "flex_flow": null,
            "width": null,
            "min_width": null,
            "border": null,
            "align_items": null,
            "bottom": null,
            "_model_module": "@jupyter-widgets/base",
            "top": null,
            "grid_column": null,
            "overflow_y": null,
            "overflow_x": null,
            "grid_auto_flow": null,
            "grid_area": null,
            "grid_template_columns": null,
            "flex": null,
            "_model_name": "LayoutModel",
            "justify_items": null,
            "grid_row": null,
            "max_height": null,
            "align_content": null,
            "visibility": null,
            "align_self": null,
            "height": null,
            "min_height": null,
            "padding": null,
            "grid_auto_rows": null,
            "grid_gap": null,
            "max_width": null,
            "order": null,
            "_view_module_version": "1.2.0",
            "grid_template_areas": null,
            "object_position": null,
            "object_fit": null,
            "grid_auto_columns": null,
            "margin": null,
            "display": null,
            "left": null
          }
        },
        "44a16344bbbc43198107c61958196115": {
          "model_module": "@jupyter-widgets/base",
          "model_name": "LayoutModel",
          "state": {
            "_view_name": "LayoutView",
            "grid_template_rows": null,
            "right": null,
            "justify_content": null,
            "_view_module": "@jupyter-widgets/base",
            "overflow": null,
            "_model_module_version": "1.2.0",
            "_view_count": null,
            "flex_flow": null,
            "width": null,
            "min_width": null,
            "border": null,
            "align_items": null,
            "bottom": null,
            "_model_module": "@jupyter-widgets/base",
            "top": null,
            "grid_column": null,
            "overflow_y": null,
            "overflow_x": null,
            "grid_auto_flow": null,
            "grid_area": null,
            "grid_template_columns": null,
            "flex": null,
            "_model_name": "LayoutModel",
            "justify_items": null,
            "grid_row": null,
            "max_height": null,
            "align_content": null,
            "visibility": null,
            "align_self": null,
            "height": null,
            "min_height": null,
            "padding": null,
            "grid_auto_rows": null,
            "grid_gap": null,
            "max_width": null,
            "order": null,
            "_view_module_version": "1.2.0",
            "grid_template_areas": null,
            "object_position": null,
            "object_fit": null,
            "grid_auto_columns": null,
            "margin": null,
            "display": null,
            "left": null
          }
        }
      }
    }
  },
  "cells": [
    {
      "cell_type": "markdown",
      "metadata": {
        "id": "view-in-github",
        "colab_type": "text"
      },
      "source": [
        "<a href=\"https://colab.research.google.com/github/StephenSpicer/Unit_02_Clone/blob/master/Stephen_Lupsha_assignment_224.ipynb\" target=\"_parent\"><img src=\"https://colab.research.google.com/assets/colab-badge.svg\" alt=\"Open In Colab\"/></a>"
      ]
    },
    {
      "cell_type": "markdown",
      "metadata": {
        "id": "dFGBlu47jHu6"
      },
      "source": [
        "# Alright, this is an attempt to clean up the previous notebooks from the kaggle submissions and take a stab at K-Folds and our new modeling instruction from 01_20_2021"
      ]
    },
    {
      "cell_type": "code",
      "metadata": {
        "colab": {
          "base_uri": "https://localhost:8080/"
        },
        "id": "EHNmRD64kpQq",
        "outputId": "f49dcac0-d0c3-4332-ae8a-454eda9aebe5"
      },
      "source": [
        "\r\n",
        "import sys\r\n",
        "\r\n",
        "# If you're on Colab:\r\n",
        "if 'google.colab' in sys.modules:\r\n",
        "    DATA_PATH = 'https://raw.githubusercontent.com/LambdaSchool/DS-Unit-2-Kaggle-Challenge/master/data/'\r\n",
        "    !pip install category_encoders==2.*\r\n",
        "\r\n",
        "# If you're working locally:\r\n",
        "else:\r\n",
        "    DATA_PATH = '../data/'"
      ],
      "execution_count": 1,
      "outputs": [
        {
          "output_type": "stream",
          "text": [
            "Collecting category_encoders==2.*\n",
            "\u001b[?25l  Downloading https://files.pythonhosted.org/packages/44/57/fcef41c248701ee62e8325026b90c432adea35555cbc870aff9cfba23727/category_encoders-2.2.2-py2.py3-none-any.whl (80kB)\n",
            "\r\u001b[K     |████                            | 10kB 16.5MB/s eta 0:00:01\r\u001b[K     |████████▏                       | 20kB 20.9MB/s eta 0:00:01\r\u001b[K     |████████████▏                   | 30kB 26.2MB/s eta 0:00:01\r\u001b[K     |████████████████▎               | 40kB 19.7MB/s eta 0:00:01\r\u001b[K     |████████████████████▎           | 51kB 16.4MB/s eta 0:00:01\r\u001b[K     |████████████████████████▍       | 61kB 18.3MB/s eta 0:00:01\r\u001b[K     |████████████████████████████▍   | 71kB 15.5MB/s eta 0:00:01\r\u001b[K     |████████████████████████████████| 81kB 6.3MB/s \n",
            "\u001b[?25hRequirement already satisfied: numpy>=1.14.0 in /usr/local/lib/python3.6/dist-packages (from category_encoders==2.*) (1.19.5)\n",
            "Requirement already satisfied: scipy>=1.0.0 in /usr/local/lib/python3.6/dist-packages (from category_encoders==2.*) (1.4.1)\n",
            "Requirement already satisfied: pandas>=0.21.1 in /usr/local/lib/python3.6/dist-packages (from category_encoders==2.*) (1.1.5)\n",
            "Requirement already satisfied: patsy>=0.5.1 in /usr/local/lib/python3.6/dist-packages (from category_encoders==2.*) (0.5.1)\n",
            "Requirement already satisfied: statsmodels>=0.9.0 in /usr/local/lib/python3.6/dist-packages (from category_encoders==2.*) (0.10.2)\n",
            "Requirement already satisfied: scikit-learn>=0.20.0 in /usr/local/lib/python3.6/dist-packages (from category_encoders==2.*) (0.22.2.post1)\n",
            "Requirement already satisfied: pytz>=2017.2 in /usr/local/lib/python3.6/dist-packages (from pandas>=0.21.1->category_encoders==2.*) (2018.9)\n",
            "Requirement already satisfied: python-dateutil>=2.7.3 in /usr/local/lib/python3.6/dist-packages (from pandas>=0.21.1->category_encoders==2.*) (2.8.1)\n",
            "Requirement already satisfied: six in /usr/local/lib/python3.6/dist-packages (from patsy>=0.5.1->category_encoders==2.*) (1.15.0)\n",
            "Requirement already satisfied: joblib>=0.11 in /usr/local/lib/python3.6/dist-packages (from scikit-learn>=0.20.0->category_encoders==2.*) (1.0.0)\n",
            "Installing collected packages: category-encoders\n",
            "Successfully installed category-encoders-2.2.2\n"
          ],
          "name": "stdout"
        }
      ]
    },
    {
      "cell_type": "code",
      "metadata": {
        "id": "LweCO9sjjBR6"
      },
      "source": [
        "# better get all my importing done, and the data path - nicholas likes to call this the preamble cell. \r\n",
        "\r\n",
        "%%capture\r\n",
        "\r\n",
        "#First, I'll do the SKLearn and model pipeline imports. \r\n",
        "import category_encoders as ce\r\n",
        "from sklearn.model_selection import train_test_split\r\n",
        "\r\n",
        "from sklearn.pipeline import make_pipeline\r\n",
        "from category_encoders import OneHotEncoder, OrdinalEncoder\r\n",
        "from sklearn.impute import SimpleImputer\r\n",
        "from sklearn.preprocessing import StandardScaler\r\n",
        "from sklearn.preprocessing import FunctionTransformer\r\n",
        "\r\n",
        "from sklearn.linear_model import LogisticRegression\r\n",
        "from sklearn.ensemble import RandomForestClassifier\r\n",
        "from sklearn.tree import DecisionTreeClassifier\r\n",
        "from sklearn.model_selection import GridSearchCV, RandomizedSearchCV\r\n",
        "\r\n",
        "\r\n",
        "from sklearn.metrics import accuracy_score\r\n",
        "from sklearn.model_selection import cross_val_score\r\n",
        "from sklearn.tree import plot_tree\r\n",
        "\r\n",
        "# Next, I'll do the regular stuff we usually need. \r\n",
        "\r\n",
        "import numpy as np\r\n",
        "import pandas as pd\r\n",
        "import matplotlib.pyplot as plt\r\n",
        "import seaborn as sns\r\n",
        "\r\n"
      ],
      "execution_count": 2,
      "outputs": []
    },
    {
      "cell_type": "code",
      "metadata": {
        "id": "-iuZ_bzwlCM7"
      },
      "source": [
        "# # Wrangle function from ME and My Assignments :\r\n",
        "\r\n",
        "\r\n",
        "# def wrangle(df):\r\n",
        "#   #Make copy keep original in memory\r\n",
        "#   df = df.copy()\r\n",
        "#   #DropRecordedBy(ConstantValue)\r\n",
        "#   df.drop(columns=['recorded_by'], inplace=True)\r\n",
        "#   #HCCV\r\n",
        "#   drop_cols = [col for col in df.select_dtypes('object').columns\r\n",
        "#                if df[col].nunique() >100]\r\n",
        "#   df.drop(columns=drop_cols, inplace=True)\r\n",
        "#   # Drop repeat ROWS\r\n",
        "#   #df.drop_duplicates(inplace=True)\r\n",
        "#   # Datetime error - Remember to ask about the other methods for changing date so it works in models. \r\n",
        "#   #print('Breakpoint 1:')\r\n",
        " \r\n",
        "#   df['pump_age'] = df['date_recorded'].dt.year - df['construction_year'] # this feature will tell us how old each pump is...\r\n",
        "#   #print('Breakpoint 2:')\r\n",
        "#   df['date_recorded'] = df['date_recorded'].dt.year\r\n",
        "#   # Drop repeat COLUMNS\r\n",
        "#   df.drop(columns=['quantity_group', 'extraction_type_group'], inplace=True)\r\n",
        "#   #DropNA / features with lots of NA val (with threshold! '_' for comma, pretty cool...)\r\n",
        "#   df.dropna(axis=1, thresh=7_000, inplace=True)\r\n",
        "#   return df"
      ],
      "execution_count": null,
      "outputs": []
    },
    {
      "cell_type": "code",
      "metadata": {
        "id": "L3Bx-zlQlCGI"
      },
      "source": [
        "# WRANGLE FUNCTION from SiSi:\r\n",
        "# we're gonna come back in here and slash some columns I think. maybe. \r\n",
        "\r\n",
        "\r\n",
        "def wrangle(df):\r\n",
        "  # Make a copy\r\n",
        "  df = df.copy()\r\n",
        "\r\n",
        "  # Drop repeat rows (observations)\r\n",
        "  df.drop_duplicates(inplace=True)\r\n",
        "\r\n",
        "  # Drop repeat columns (features)\r\n",
        "  df.drop(columns=['quantity_group', 'extraction_type_group'], inplace=True)\r\n",
        "\r\n",
        "  # Drop constant features\r\n",
        "  df.drop(columns=['recorded_by'], inplace=True)\r\n",
        "\r\n",
        "  # feature engineering\r\n",
        "  df['pump_age'] = df['date_recorded'].dt.year - df['construction_year']\r\n",
        "  df['date_recorded'] = df['date_recorded'].dt.year\r\n",
        "\r\n",
        "  # drop datetime column\r\n",
        "  df.drop(columns='date_recorded', inplace=True)\r\n",
        "\r\n",
        "  # high-cardinality\r\n",
        "  drop_cols = [col for col in df.select_dtypes('object').columns\r\n",
        "               if df[col].nunique() > 100]\r\n",
        "  df.drop(columns=drop_cols, inplace=True)\r\n",
        "\r\n",
        "  # Drop features with lots of NaN values\r\n",
        "  df.dropna(axis=1, thresh=len(df)*0.8, inplace=True)\r\n",
        "\r\n",
        "  return df"
      ],
      "execution_count": 20,
      "outputs": []
    },
    {
      "cell_type": "code",
      "metadata": {
        "id": "6hxUIvfUksle"
      },
      "source": [
        "# now we need our data, and we need a wrangle it... might as well get our test data while we are at it. \r\n",
        "\r\n",
        "# Import and clean TRAINING dataset\r\n",
        "df = pd.merge(pd.read_csv(DATA_PATH+'waterpumps/train_features.csv',\r\n",
        "                          parse_dates=['date_recorded'],\r\n",
        "                          na_values=[0, -2.000000e-08]), \r\n",
        "              pd.read_csv(DATA_PATH+'waterpumps/train_labels.csv')).set_index('id')\r\n",
        "\r\n",
        "df = wrangle(df)\r\n",
        "\r\n",
        "# Import and clean TEST dataset\r\n",
        "test = pd.read_csv(DATA_PATH+'waterpumps/test_features.csv',\r\n",
        "            parse_dates=['date_recorded'],\r\n",
        "            na_values=[0, -2.000000e-08],\r\n",
        "            index_col='id')\r\n",
        "\r\n",
        "# better wrangle that X_test too. \r\n",
        "test = wrangle(test)"
      ],
      "execution_count": 21,
      "outputs": []
    },
    {
      "cell_type": "code",
      "metadata": {
        "colab": {
          "base_uri": "https://localhost:8080/"
        },
        "id": "jCjrTVzy-p-3",
        "outputId": "257bbd10-dbce-4337-da74-0efa7ff51891"
      },
      "source": [
        "# Split train into train & val. Make val the same size as test.\r\n",
        "target = 'status_group'\r\n",
        "train, val = train_test_split(df, test_size=len(test),  \r\n",
        "                              stratify=df[target], random_state=42)\r\n",
        "\r\n",
        "# Arrange data into X features matrix and y target vector\r\n",
        "X_train = df.drop(columns=target)\r\n",
        "y_train = df[target]\r\n",
        "X_val = val.drop(columns=target)\r\n",
        "y_val = val[target]\r\n",
        "X_test = test\r\n",
        "\r\n",
        "\r\n",
        "#printing\r\n",
        "print('X_train shape: ', X_train.shape)\r\n",
        "print('y_train shape: ', y_train.shape)\r\n",
        "print()\r\n",
        "print('X_val shape: ', X_val.shape)\r\n",
        "print('y_val shape: ', y_val.shape)\r\n",
        "print()\r\n",
        "print('X_test shape: ', X_test.shape)\r\n"
      ],
      "execution_count": 22,
      "outputs": [
        {
          "output_type": "stream",
          "text": [
            "X_train shape:  (59363, 23)\n",
            "y_train shape:  (59363,)\n",
            "\n",
            "X_val shape:  (14358, 23)\n",
            "y_val shape:  (14358,)\n",
            "\n",
            "X_test shape:  (14358, 23)\n"
          ],
          "name": "stdout"
        }
      ]
    },
    {
      "cell_type": "code",
      "metadata": {
        "id": "MgaEGC2OqKKg"
      },
      "source": [
        "# # making X_train and y_train (splitting target vector from feature matrix)\r\n",
        "\r\n",
        "# X_train = df.drop(['status_group'], axis=1)\r\n",
        "# y_train = df['status_group']\r\n",
        "\r\n"
      ],
      "execution_count": null,
      "outputs": []
    },
    {
      "cell_type": "markdown",
      "metadata": {
        "id": "2bHeYSahjH32"
      },
      "source": [
        " \r\n",
        "## my wrangle gives a lot more columns than sisi's does so I'm gonna go with hers for now. "
      ]
    },
    {
      "cell_type": "code",
      "metadata": {
        "colab": {
          "base_uri": "https://localhost:8080/"
        },
        "id": "6XZasXZcpphY",
        "outputId": "60829799-5343-4698-d318-c493047eabd9"
      },
      "source": [
        "# Baseline Accuracy\r\n",
        "\r\n",
        "print('Baseline Accuracy:', df['status_group'].value_counts(normalize=True).max())"
      ],
      "execution_count": 23,
      "outputs": [
        {
          "output_type": "stream",
          "text": [
            "Baseline Accuracy: 0.5430487003689166\n"
          ],
          "name": "stdout"
        }
      ]
    },
    {
      "cell_type": "markdown",
      "metadata": {
        "id": "8m_7JjffqpU-"
      },
      "source": [
        "# Models : Logistic regression (classification) :\r\n"
      ]
    },
    {
      "cell_type": "code",
      "metadata": {
        "id": "cMaDQoOkqbtn"
      },
      "source": [
        "lr = make_pipeline(OneHotEncoder(),\r\n",
        "                   StandardScaler(),\r\n",
        "                   SimpleImputer(),\r\n",
        "                   LogisticRegression(max_iter=1000))"
      ],
      "execution_count": null,
      "outputs": []
    },
    {
      "cell_type": "code",
      "metadata": {
        "colab": {
          "base_uri": "https://localhost:8080/"
        },
        "id": "575O7exDrRLe",
        "outputId": "89d69a46-34bd-4d1f-daad-ded3110e519d"
      },
      "source": [
        "# cross validation\r\n",
        "\r\n",
        "%%time\r\n",
        "lr_cvs = cross_val_score(lr, X_train, y_train, cv=5, n_jobs=-1)"
      ],
      "execution_count": null,
      "outputs": [
        {
          "output_type": "stream",
          "text": [
            "CPU times: user 532 ms, sys: 41.7 ms, total: 574 ms\n",
            "Wall time: 36 s\n"
          ],
          "name": "stdout"
        }
      ]
    },
    {
      "cell_type": "markdown",
      "metadata": {
        "id": "02jb5GsItzIF"
      },
      "source": [
        "# we really don't need the above, because we are interested in classification today - but it's there just in case we get extra curious... "
      ]
    },
    {
      "cell_type": "code",
      "metadata": {
        "colab": {
          "base_uri": "https://localhost:8080/"
        },
        "id": "ps8u8bzHsBC5",
        "outputId": "f2f807b9-920d-4726-8e4d-08729498c396"
      },
      "source": [
        "# let's visualize before we tune. \r\n",
        "print(\"logistic regression:\")\r\n",
        "print(\"cross validation score series is\", lr_cvs)\r\n",
        "print(\"cross validation score mean is\", lr_cvs.mean())\r\n",
        "print(\"cross validation score standard deviation is\", lr_cvs.std())"
      ],
      "execution_count": null,
      "outputs": [
        {
          "output_type": "stream",
          "text": [
            "logistic regression:\n",
            "cross validation score series is [0.73056515 0.72989135 0.7297229  0.72548854 0.73399596]\n",
            "cross validation score mean is 0.7299327799966537\n",
            "cross validation score standard deviation is 0.0027094756141843603\n"
          ],
          "name": "stdout"
        }
      ]
    },
    {
      "cell_type": "markdown",
      "metadata": {
        "id": "83bKJerNrkA_"
      },
      "source": [
        "\r\n",
        "# Now, with a Random Forest Classifier:"
      ]
    },
    {
      "cell_type": "code",
      "metadata": {
        "id": "m2GYRzfSrS2O",
        "colab": {
          "base_uri": "https://localhost:8080/"
        },
        "outputId": "b30bc6b6-3495-4ad4-d61d-6b6e2881c81f"
      },
      "source": [
        "# random forest. we can tune parameteres here when we scroll back up. \r\n",
        "\r\n",
        "rf = make_pipeline(\r\n",
        "    #FunctionTransformer(wrangle, validate=False), \r\n",
        "    ce.OrdinalEncoder(), \r\n",
        "    SimpleImputer(strategy='mean'), \r\n",
        "    RandomForestClassifier(n_estimators=50, random_state=42, n_jobs=-1)\r\n",
        ")\r\n",
        "\r\n",
        "# Fit on train, score on val\r\n",
        "rf.fit(X_train, y_train)\r\n",
        "y_pred = rf.predict(X_val)\r\n",
        "print('Validation Accuracy', accuracy_score(y_val, y_pred))"
      ],
      "execution_count": 24,
      "outputs": [
        {
          "output_type": "stream",
          "text": [
            "Validation Accuracy 0.994915726424293\n"
          ],
          "name": "stdout"
        }
      ]
    },
    {
      "cell_type": "code",
      "metadata": {
        "colab": {
          "base_uri": "https://localhost:8080/"
        },
        "id": "kwpCKT34rqOF",
        "outputId": "54d07acd-99a2-4fdb-b14d-23bc113db47b"
      },
      "source": [
        "# Be careful, 17min on this...\r\n",
        "# now, the random forest cross validation :\r\n",
        "# %%time\r\n",
        "# rf_cvs = cross_val_score(rf, X_train, y_train, cv=5, n_jobs=-1)"
      ],
      "execution_count": null,
      "outputs": [
        {
          "output_type": "stream",
          "text": [
            "CPU times: user 470 ms, sys: 17.5 ms, total: 487 ms\n",
            "Wall time: 8.88 s\n"
          ],
          "name": "stdout"
        }
      ]
    },
    {
      "cell_type": "code",
      "metadata": {
        "colab": {
          "base_uri": "https://localhost:8080/"
        },
        "id": "7m2AjfKbrsYu",
        "outputId": "013877cb-3d5d-40e2-c5f2-c012e7df65ba"
      },
      "source": [
        "# as before, these will change as we tune... \r\n",
        "print(\"random forest classifier:\")\r\n",
        "print(\"cross validation score series is\", rf_cvs)\r\n",
        "print(\"cross validation score mean is\", rf_cvs.mean())\r\n",
        "print(\"cross validation score standard deviation is\", rf_cvs.std())"
      ],
      "execution_count": null,
      "outputs": [
        {
          "output_type": "stream",
          "text": [
            "random forest classifier:\n",
            "cross validation score series is [0.79002779 0.78497431 0.78943822 0.78765162 0.78394542]\n",
            "cross validation score mean is 0.7872074723664625\n",
            "cross validation score standard deviation is 0.002398154606898564\n"
          ],
          "name": "stdout"
        }
      ]
    },
    {
      "cell_type": "markdown",
      "metadata": {
        "id": "q8sySAa2sM95"
      },
      "source": [
        "# Tuning\r\n",
        "\r\n",
        "*Params:* \r\n",
        "## n_estimators: 20 to 60\r\n",
        "## max_depth: 10 to 20\r\n",
        "## max_samples: 0.3 to 0.6\r\n",
        "## max_features: 5 to 20\r\n",
        "\r\n",
        "# GridSearchCV()"
      ]
    },
    {
      "cell_type": "code",
      "metadata": {
        "id": "s-zM8mXrsJPu"
      },
      "source": [
        "# setting up random forests with K Folds.\r\n",
        "# we add 1 to the range values because it is not inclusive - so we cover our bases there. \r\n",
        "# dictionaries have key values - these three strings are critical for the function, in this case gridsearch... these are parameters. \r\n",
        "paras = {'randomforestclassifier__n_estimators': np.arange(55, 66, 5), \r\n",
        "         'randomforestclassifier__max_depth': np.arange(10, 31, 10),\r\n",
        "         #'randomforestclassifier__max_samples': np.arange(0.3, 0.51, 0.1),\r\n",
        "         'randomforestclassifier__max_features': np.arange(20, 26, 2)}\r\n",
        "\r\n",
        "# random forest grid search. \r\n",
        "\r\n",
        "rf_gs = GridSearchCV(rf, paras, cv=5, n_jobs=-1, verbose=1)"
      ],
      "execution_count": null,
      "outputs": []
    },
    {
      "cell_type": "code",
      "metadata": {
        "colab": {
          "base_uri": "https://localhost:8080/"
        },
        "id": "JucRbXXjsJNW",
        "outputId": "cefe038f-fa96-42bc-be40-2af5e0441ffb"
      },
      "source": [
        "# fitting Grid Search Cross Validation. \r\n",
        "%%time\r\n",
        "rf_gs.fit(X_train, y_train)"
      ],
      "execution_count": null,
      "outputs": [
        {
          "output_type": "stream",
          "text": [
            "Fitting 5 folds for each of 27 candidates, totalling 135 fits\n"
          ],
          "name": "stdout"
        },
        {
          "output_type": "stream",
          "text": [
            "[Parallel(n_jobs=-1)]: Using backend LokyBackend with 2 concurrent workers.\n",
            "[Parallel(n_jobs=-1)]: Done  46 tasks      | elapsed:  4.7min\n",
            "[Parallel(n_jobs=-1)]: Done 135 out of 135 | elapsed: 17.1min finished\n"
          ],
          "name": "stderr"
        },
        {
          "output_type": "stream",
          "text": [
            "CPU times: user 33.5 s, sys: 541 ms, total: 34.1 s\n",
            "Wall time: 17min 29s\n"
          ],
          "name": "stdout"
        },
        {
          "output_type": "execute_result",
          "data": {
            "text/plain": [
              "GridSearchCV(cv=5, error_score=nan,\n",
              "             estimator=Pipeline(memory=None,\n",
              "                                steps=[('ordinalencoder',\n",
              "                                        OrdinalEncoder(cols=None,\n",
              "                                                       drop_invariant=False,\n",
              "                                                       handle_missing='value',\n",
              "                                                       handle_unknown='value',\n",
              "                                                       mapping=None,\n",
              "                                                       return_df=True,\n",
              "                                                       verbose=0)),\n",
              "                                       ('simpleimputer',\n",
              "                                        SimpleImputer(add_indicator=False,\n",
              "                                                      copy=True,\n",
              "                                                      fill_value=None,\n",
              "                                                      missing_values=nan,\n",
              "                                                      strategy='mean',\n",
              "                                                      verbose=0)),\n",
              "                                       ('ra...\n",
              "                                                               random_state=None,\n",
              "                                                               verbose=0,\n",
              "                                                               warm_start=False))],\n",
              "                                verbose=False),\n",
              "             iid='deprecated', n_jobs=-1,\n",
              "             param_grid={'randomforestclassifier__max_depth': array([10, 20, 30]),\n",
              "                         'randomforestclassifier__max_features': array([20, 22, 24]),\n",
              "                         'randomforestclassifier__n_estimators': array([55, 60, 65])},\n",
              "             pre_dispatch='2*n_jobs', refit=True, return_train_score=False,\n",
              "             scoring=None, verbose=1)"
            ]
          },
          "metadata": {
            "tags": []
          },
          "execution_count": 59
        }
      ]
    },
    {
      "cell_type": "code",
      "metadata": {
        "colab": {
          "base_uri": "https://localhost:8080/"
        },
        "id": "lU-5UAYZ9jLX",
        "outputId": "e3b65c47-e4f4-416c-e35d-69e79cead0eb"
      },
      "source": [
        "rf_gs.best_params_"
      ],
      "execution_count": null,
      "outputs": [
        {
          "output_type": "execute_result",
          "data": {
            "text/plain": [
              "{'randomforestclassifier__max_depth': 20,\n",
              " 'randomforestclassifier__max_features': 20,\n",
              " 'randomforestclassifier__n_estimators': 60}"
            ]
          },
          "metadata": {
            "tags": []
          },
          "execution_count": 60
        }
      ]
    },
    {
      "cell_type": "code",
      "metadata": {
        "colab": {
          "base_uri": "https://localhost:8080/",
          "height": 582
        },
        "id": "xn5ApfksxZ1j",
        "outputId": "b1f35c55-253d-41ab-f9ac-c2912297eaf3"
      },
      "source": [
        "# SiSi's trick : make the results into a dataframe:\r\n",
        "pd.DataFrame(rf_gs.cv_results_).sort_values(by='mean_test_score', ascending=False).T"
      ],
      "execution_count": null,
      "outputs": [
        {
          "output_type": "execute_result",
          "data": {
            "text/html": [
              "<div>\n",
              "<style scoped>\n",
              "    .dataframe tbody tr th:only-of-type {\n",
              "        vertical-align: middle;\n",
              "    }\n",
              "\n",
              "    .dataframe tbody tr th {\n",
              "        vertical-align: top;\n",
              "    }\n",
              "\n",
              "    .dataframe thead th {\n",
              "        text-align: right;\n",
              "    }\n",
              "</style>\n",
              "<table border=\"1\" class=\"dataframe\">\n",
              "  <thead>\n",
              "    <tr style=\"text-align: right;\">\n",
              "      <th></th>\n",
              "      <th>20</th>\n",
              "      <th>14</th>\n",
              "      <th>17</th>\n",
              "      <th>19</th>\n",
              "      <th>23</th>\n",
              "      <th>16</th>\n",
              "      <th>13</th>\n",
              "      <th>11</th>\n",
              "      <th>10</th>\n",
              "      <th>22</th>\n",
              "      <th>12</th>\n",
              "      <th>15</th>\n",
              "      <th>26</th>\n",
              "      <th>18</th>\n",
              "      <th>21</th>\n",
              "      <th>25</th>\n",
              "      <th>9</th>\n",
              "      <th>24</th>\n",
              "      <th>3</th>\n",
              "      <th>6</th>\n",
              "      <th>8</th>\n",
              "      <th>7</th>\n",
              "      <th>5</th>\n",
              "      <th>4</th>\n",
              "      <th>0</th>\n",
              "      <th>2</th>\n",
              "      <th>1</th>\n",
              "    </tr>\n",
              "  </thead>\n",
              "  <tbody>\n",
              "    <tr>\n",
              "      <th>mean_fit_time</th>\n",
              "      <td>3.47986</td>\n",
              "      <td>4.54398</td>\n",
              "      <td>5.47093</td>\n",
              "      <td>2.52475</td>\n",
              "      <td>4.73449</td>\n",
              "      <td>3.83736</td>\n",
              "      <td>3.2692</td>\n",
              "      <td>3.33103</td>\n",
              "      <td>2.47125</td>\n",
              "      <td>3.31362</td>\n",
              "      <td>1.96721</td>\n",
              "      <td>2.2107</td>\n",
              "      <td>5.61727</td>\n",
              "      <td>1.60447</td>\n",
              "      <td>2.06211</td>\n",
              "      <td>4.0388</td>\n",
              "      <td>1.55332</td>\n",
              "      <td>2.40029</td>\n",
              "      <td>1.55721</td>\n",
              "      <td>1.72035</td>\n",
              "      <td>3.77153</td>\n",
              "      <td>2.79931</td>\n",
              "      <td>3.24611</td>\n",
              "      <td>2.45931</td>\n",
              "      <td>1.25236</td>\n",
              "      <td>2.55326</td>\n",
              "      <td>1.93133</td>\n",
              "    </tr>\n",
              "    <tr>\n",
              "      <th>std_fit_time</th>\n",
              "      <td>0.0657624</td>\n",
              "      <td>0.0560768</td>\n",
              "      <td>0.126793</td>\n",
              "      <td>0.113363</td>\n",
              "      <td>0.162563</td>\n",
              "      <td>0.0607438</td>\n",
              "      <td>0.0761688</td>\n",
              "      <td>0.0259563</td>\n",
              "      <td>0.0211112</td>\n",
              "      <td>0.0433921</td>\n",
              "      <td>0.0229593</td>\n",
              "      <td>0.0532144</td>\n",
              "      <td>0.164098</td>\n",
              "      <td>0.0517444</td>\n",
              "      <td>0.0270411</td>\n",
              "      <td>0.0843884</td>\n",
              "      <td>0.0281209</td>\n",
              "      <td>0.0386596</td>\n",
              "      <td>0.0283926</td>\n",
              "      <td>0.0519873</td>\n",
              "      <td>0.138282</td>\n",
              "      <td>0.0505067</td>\n",
              "      <td>0.0199166</td>\n",
              "      <td>0.0416256</td>\n",
              "      <td>0.0351566</td>\n",
              "      <td>0.097328</td>\n",
              "      <td>0.0645342</td>\n",
              "    </tr>\n",
              "    <tr>\n",
              "      <th>mean_score_time</th>\n",
              "      <td>0.32831</td>\n",
              "      <td>0.32851</td>\n",
              "      <td>0.337545</td>\n",
              "      <td>0.233262</td>\n",
              "      <td>0.359213</td>\n",
              "      <td>0.263119</td>\n",
              "      <td>0.257427</td>\n",
              "      <td>0.309761</td>\n",
              "      <td>0.252326</td>\n",
              "      <td>0.260566</td>\n",
              "      <td>0.171352</td>\n",
              "      <td>0.160747</td>\n",
              "      <td>0.353945</td>\n",
              "      <td>0.172332</td>\n",
              "      <td>0.180332</td>\n",
              "      <td>0.275162</td>\n",
              "      <td>0.192447</td>\n",
              "      <td>0.178032</td>\n",
              "      <td>0.136421</td>\n",
              "      <td>0.137489</td>\n",
              "      <td>0.210614</td>\n",
              "      <td>0.177624</td>\n",
              "      <td>0.213516</td>\n",
              "      <td>0.178876</td>\n",
              "      <td>0.133886</td>\n",
              "      <td>0.223093</td>\n",
              "      <td>0.161502</td>\n",
              "    </tr>\n",
              "    <tr>\n",
              "      <th>std_score_time</th>\n",
              "      <td>0.0151846</td>\n",
              "      <td>0.0077694</td>\n",
              "      <td>0.0116101</td>\n",
              "      <td>0.0271522</td>\n",
              "      <td>0.00657501</td>\n",
              "      <td>0.00221586</td>\n",
              "      <td>0.00720391</td>\n",
              "      <td>0.00340283</td>\n",
              "      <td>0.0159052</td>\n",
              "      <td>0.0103283</td>\n",
              "      <td>0.00113367</td>\n",
              "      <td>0.0282804</td>\n",
              "      <td>0.0306697</td>\n",
              "      <td>0.0182057</td>\n",
              "      <td>0.00453715</td>\n",
              "      <td>0.00536707</td>\n",
              "      <td>0.031363</td>\n",
              "      <td>0.0247574</td>\n",
              "      <td>0.00519445</td>\n",
              "      <td>0.00241335</td>\n",
              "      <td>0.0261821</td>\n",
              "      <td>0.0111767</td>\n",
              "      <td>0.0176827</td>\n",
              "      <td>0.0019013</td>\n",
              "      <td>0.00702331</td>\n",
              "      <td>0.00670262</td>\n",
              "      <td>0.0222509</td>\n",
              "    </tr>\n",
              "    <tr>\n",
              "      <th>param_randomforestclassifier__max_depth</th>\n",
              "      <td>30</td>\n",
              "      <td>20</td>\n",
              "      <td>20</td>\n",
              "      <td>30</td>\n",
              "      <td>30</td>\n",
              "      <td>20</td>\n",
              "      <td>20</td>\n",
              "      <td>20</td>\n",
              "      <td>20</td>\n",
              "      <td>30</td>\n",
              "      <td>20</td>\n",
              "      <td>20</td>\n",
              "      <td>30</td>\n",
              "      <td>30</td>\n",
              "      <td>30</td>\n",
              "      <td>30</td>\n",
              "      <td>20</td>\n",
              "      <td>30</td>\n",
              "      <td>10</td>\n",
              "      <td>10</td>\n",
              "      <td>10</td>\n",
              "      <td>10</td>\n",
              "      <td>10</td>\n",
              "      <td>10</td>\n",
              "      <td>10</td>\n",
              "      <td>10</td>\n",
              "      <td>10</td>\n",
              "    </tr>\n",
              "    <tr>\n",
              "      <th>param_randomforestclassifier__max_samples</th>\n",
              "      <td>0.3</td>\n",
              "      <td>0.5</td>\n",
              "      <td>0.7</td>\n",
              "      <td>0.3</td>\n",
              "      <td>0.5</td>\n",
              "      <td>0.7</td>\n",
              "      <td>0.5</td>\n",
              "      <td>0.3</td>\n",
              "      <td>0.3</td>\n",
              "      <td>0.5</td>\n",
              "      <td>0.5</td>\n",
              "      <td>0.7</td>\n",
              "      <td>0.7</td>\n",
              "      <td>0.3</td>\n",
              "      <td>0.5</td>\n",
              "      <td>0.7</td>\n",
              "      <td>0.3</td>\n",
              "      <td>0.7</td>\n",
              "      <td>0.5</td>\n",
              "      <td>0.7</td>\n",
              "      <td>0.7</td>\n",
              "      <td>0.7</td>\n",
              "      <td>0.5</td>\n",
              "      <td>0.5</td>\n",
              "      <td>0.3</td>\n",
              "      <td>0.3</td>\n",
              "      <td>0.3</td>\n",
              "    </tr>\n",
              "    <tr>\n",
              "      <th>param_randomforestclassifier__n_estimators</th>\n",
              "      <td>60</td>\n",
              "      <td>60</td>\n",
              "      <td>60</td>\n",
              "      <td>40</td>\n",
              "      <td>60</td>\n",
              "      <td>40</td>\n",
              "      <td>40</td>\n",
              "      <td>60</td>\n",
              "      <td>40</td>\n",
              "      <td>40</td>\n",
              "      <td>20</td>\n",
              "      <td>20</td>\n",
              "      <td>60</td>\n",
              "      <td>20</td>\n",
              "      <td>20</td>\n",
              "      <td>40</td>\n",
              "      <td>20</td>\n",
              "      <td>20</td>\n",
              "      <td>20</td>\n",
              "      <td>20</td>\n",
              "      <td>60</td>\n",
              "      <td>40</td>\n",
              "      <td>60</td>\n",
              "      <td>40</td>\n",
              "      <td>20</td>\n",
              "      <td>60</td>\n",
              "      <td>40</td>\n",
              "    </tr>\n",
              "    <tr>\n",
              "      <th>params</th>\n",
              "      <td>{'randomforestclassifier__max_depth': 30, 'ran...</td>\n",
              "      <td>{'randomforestclassifier__max_depth': 20, 'ran...</td>\n",
              "      <td>{'randomforestclassifier__max_depth': 20, 'ran...</td>\n",
              "      <td>{'randomforestclassifier__max_depth': 30, 'ran...</td>\n",
              "      <td>{'randomforestclassifier__max_depth': 30, 'ran...</td>\n",
              "      <td>{'randomforestclassifier__max_depth': 20, 'ran...</td>\n",
              "      <td>{'randomforestclassifier__max_depth': 20, 'ran...</td>\n",
              "      <td>{'randomforestclassifier__max_depth': 20, 'ran...</td>\n",
              "      <td>{'randomforestclassifier__max_depth': 20, 'ran...</td>\n",
              "      <td>{'randomforestclassifier__max_depth': 30, 'ran...</td>\n",
              "      <td>{'randomforestclassifier__max_depth': 20, 'ran...</td>\n",
              "      <td>{'randomforestclassifier__max_depth': 20, 'ran...</td>\n",
              "      <td>{'randomforestclassifier__max_depth': 30, 'ran...</td>\n",
              "      <td>{'randomforestclassifier__max_depth': 30, 'ran...</td>\n",
              "      <td>{'randomforestclassifier__max_depth': 30, 'ran...</td>\n",
              "      <td>{'randomforestclassifier__max_depth': 30, 'ran...</td>\n",
              "      <td>{'randomforestclassifier__max_depth': 20, 'ran...</td>\n",
              "      <td>{'randomforestclassifier__max_depth': 30, 'ran...</td>\n",
              "      <td>{'randomforestclassifier__max_depth': 10, 'ran...</td>\n",
              "      <td>{'randomforestclassifier__max_depth': 10, 'ran...</td>\n",
              "      <td>{'randomforestclassifier__max_depth': 10, 'ran...</td>\n",
              "      <td>{'randomforestclassifier__max_depth': 10, 'ran...</td>\n",
              "      <td>{'randomforestclassifier__max_depth': 10, 'ran...</td>\n",
              "      <td>{'randomforestclassifier__max_depth': 10, 'ran...</td>\n",
              "      <td>{'randomforestclassifier__max_depth': 10, 'ran...</td>\n",
              "      <td>{'randomforestclassifier__max_depth': 10, 'ran...</td>\n",
              "      <td>{'randomforestclassifier__max_depth': 10, 'ran...</td>\n",
              "    </tr>\n",
              "    <tr>\n",
              "      <th>split0_test_score</th>\n",
              "      <td>0.800387</td>\n",
              "      <td>0.801398</td>\n",
              "      <td>0.803588</td>\n",
              "      <td>0.798787</td>\n",
              "      <td>0.80123</td>\n",
              "      <td>0.798871</td>\n",
              "      <td>0.79845</td>\n",
              "      <td>0.798366</td>\n",
              "      <td>0.799798</td>\n",
              "      <td>0.797103</td>\n",
              "      <td>0.796429</td>\n",
              "      <td>0.796008</td>\n",
              "      <td>0.795839</td>\n",
              "      <td>0.794576</td>\n",
              "      <td>0.794492</td>\n",
              "      <td>0.793397</td>\n",
              "      <td>0.790617</td>\n",
              "      <td>0.791123</td>\n",
              "      <td>0.763076</td>\n",
              "      <td>0.764676</td>\n",
              "      <td>0.765518</td>\n",
              "      <td>0.764929</td>\n",
              "      <td>0.762486</td>\n",
              "      <td>0.76316</td>\n",
              "      <td>0.761139</td>\n",
              "      <td>0.762234</td>\n",
              "      <td>0.760044</td>\n",
              "    </tr>\n",
              "    <tr>\n",
              "      <th>split1_test_score</th>\n",
              "      <td>0.798366</td>\n",
              "      <td>0.797692</td>\n",
              "      <td>0.798787</td>\n",
              "      <td>0.798787</td>\n",
              "      <td>0.795587</td>\n",
              "      <td>0.795334</td>\n",
              "      <td>0.799629</td>\n",
              "      <td>0.795502</td>\n",
              "      <td>0.795081</td>\n",
              "      <td>0.796008</td>\n",
              "      <td>0.791965</td>\n",
              "      <td>0.792049</td>\n",
              "      <td>0.792302</td>\n",
              "      <td>0.790786</td>\n",
              "      <td>0.791544</td>\n",
              "      <td>0.788764</td>\n",
              "      <td>0.789775</td>\n",
              "      <td>0.79028</td>\n",
              "      <td>0.743199</td>\n",
              "      <td>0.744378</td>\n",
              "      <td>0.740672</td>\n",
              "      <td>0.738566</td>\n",
              "      <td>0.739914</td>\n",
              "      <td>0.739072</td>\n",
              "      <td>0.738145</td>\n",
              "      <td>0.737724</td>\n",
              "      <td>0.738988</td>\n",
              "    </tr>\n",
              "    <tr>\n",
              "      <th>split2_test_score</th>\n",
              "      <td>0.803756</td>\n",
              "      <td>0.803841</td>\n",
              "      <td>0.803841</td>\n",
              "      <td>0.801651</td>\n",
              "      <td>0.803167</td>\n",
              "      <td>0.801482</td>\n",
              "      <td>0.79685</td>\n",
              "      <td>0.801988</td>\n",
              "      <td>0.800893</td>\n",
              "      <td>0.799714</td>\n",
              "      <td>0.797103</td>\n",
              "      <td>0.797776</td>\n",
              "      <td>0.798198</td>\n",
              "      <td>0.794576</td>\n",
              "      <td>0.798787</td>\n",
              "      <td>0.796429</td>\n",
              "      <td>0.796513</td>\n",
              "      <td>0.795839</td>\n",
              "      <td>0.749431</td>\n",
              "      <td>0.748</td>\n",
              "      <td>0.748842</td>\n",
              "      <td>0.750358</td>\n",
              "      <td>0.748589</td>\n",
              "      <td>0.745304</td>\n",
              "      <td>0.748</td>\n",
              "      <td>0.748758</td>\n",
              "      <td>0.746062</td>\n",
              "    </tr>\n",
              "    <tr>\n",
              "      <th>split3_test_score</th>\n",
              "      <td>0.800792</td>\n",
              "      <td>0.797591</td>\n",
              "      <td>0.796243</td>\n",
              "      <td>0.797591</td>\n",
              "      <td>0.797001</td>\n",
              "      <td>0.796327</td>\n",
              "      <td>0.796327</td>\n",
              "      <td>0.797844</td>\n",
              "      <td>0.794559</td>\n",
              "      <td>0.795317</td>\n",
              "      <td>0.794559</td>\n",
              "      <td>0.793211</td>\n",
              "      <td>0.794727</td>\n",
              "      <td>0.793042</td>\n",
              "      <td>0.792032</td>\n",
              "      <td>0.792621</td>\n",
              "      <td>0.787483</td>\n",
              "      <td>0.78841</td>\n",
              "      <td>0.740903</td>\n",
              "      <td>0.744778</td>\n",
              "      <td>0.74343</td>\n",
              "      <td>0.742756</td>\n",
              "      <td>0.740313</td>\n",
              "      <td>0.743009</td>\n",
              "      <td>0.74183</td>\n",
              "      <td>0.740903</td>\n",
              "      <td>0.74183</td>\n",
              "    </tr>\n",
              "    <tr>\n",
              "      <th>split4_test_score</th>\n",
              "      <td>0.799865</td>\n",
              "      <td>0.798096</td>\n",
              "      <td>0.795485</td>\n",
              "      <td>0.797675</td>\n",
              "      <td>0.797423</td>\n",
              "      <td>0.798602</td>\n",
              "      <td>0.799023</td>\n",
              "      <td>0.796159</td>\n",
              "      <td>0.794896</td>\n",
              "      <td>0.79498</td>\n",
              "      <td>0.791611</td>\n",
              "      <td>0.792621</td>\n",
              "      <td>0.789084</td>\n",
              "      <td>0.792958</td>\n",
              "      <td>0.787652</td>\n",
              "      <td>0.78841</td>\n",
              "      <td>0.791779</td>\n",
              "      <td>0.787736</td>\n",
              "      <td>0.755559</td>\n",
              "      <td>0.749326</td>\n",
              "      <td>0.75059</td>\n",
              "      <td>0.750337</td>\n",
              "      <td>0.750421</td>\n",
              "      <td>0.749579</td>\n",
              "      <td>0.75059</td>\n",
              "      <td>0.749326</td>\n",
              "      <td>0.749073</td>\n",
              "    </tr>\n",
              "    <tr>\n",
              "      <th>mean_test_score</th>\n",
              "      <td>0.800633</td>\n",
              "      <td>0.799724</td>\n",
              "      <td>0.799589</td>\n",
              "      <td>0.798898</td>\n",
              "      <td>0.798881</td>\n",
              "      <td>0.798123</td>\n",
              "      <td>0.798056</td>\n",
              "      <td>0.797972</td>\n",
              "      <td>0.797045</td>\n",
              "      <td>0.796624</td>\n",
              "      <td>0.794333</td>\n",
              "      <td>0.794333</td>\n",
              "      <td>0.79403</td>\n",
              "      <td>0.793188</td>\n",
              "      <td>0.792901</td>\n",
              "      <td>0.791924</td>\n",
              "      <td>0.791234</td>\n",
              "      <td>0.790678</td>\n",
              "      <td>0.750434</td>\n",
              "      <td>0.750232</td>\n",
              "      <td>0.74981</td>\n",
              "      <td>0.749389</td>\n",
              "      <td>0.748345</td>\n",
              "      <td>0.748025</td>\n",
              "      <td>0.747941</td>\n",
              "      <td>0.747789</td>\n",
              "      <td>0.747199</td>\n",
              "    </tr>\n",
              "    <tr>\n",
              "      <th>std_test_score</th>\n",
              "      <td>0.00176464</td>\n",
              "      <td>0.00249305</td>\n",
              "      <td>0.0035425</td>\n",
              "      <td>0.00147011</td>\n",
              "      <td>0.00284246</td>\n",
              "      <td>0.00214836</td>\n",
              "      <td>0.00126556</td>\n",
              "      <td>0.00226642</td>\n",
              "      <td>0.00272184</td>\n",
              "      <td>0.00170688</td>\n",
              "      <td>0.00224206</td>\n",
              "      <td>0.00219395</td>\n",
              "      <td>0.00311712</td>\n",
              "      <td>0.00139263</td>\n",
              "      <td>0.00366963</td>\n",
              "      <td>0.0030094</td>\n",
              "      <td>0.00299143</td>\n",
              "      <td>0.00285644</td>\n",
              "      <td>0.00812747</td>\n",
              "      <td>0.00746267</td>\n",
              "      <td>0.0086314</td>\n",
              "      <td>0.00899384</td>\n",
              "      <td>0.00824542</td>\n",
              "      <td>0.0082971</td>\n",
              "      <td>0.00793099</td>\n",
              "      <td>0.00849312</td>\n",
              "      <td>0.00729455</td>\n",
              "    </tr>\n",
              "    <tr>\n",
              "      <th>rank_test_score</th>\n",
              "      <td>1</td>\n",
              "      <td>2</td>\n",
              "      <td>3</td>\n",
              "      <td>4</td>\n",
              "      <td>5</td>\n",
              "      <td>6</td>\n",
              "      <td>7</td>\n",
              "      <td>8</td>\n",
              "      <td>9</td>\n",
              "      <td>10</td>\n",
              "      <td>11</td>\n",
              "      <td>12</td>\n",
              "      <td>13</td>\n",
              "      <td>14</td>\n",
              "      <td>15</td>\n",
              "      <td>16</td>\n",
              "      <td>17</td>\n",
              "      <td>18</td>\n",
              "      <td>19</td>\n",
              "      <td>20</td>\n",
              "      <td>21</td>\n",
              "      <td>22</td>\n",
              "      <td>23</td>\n",
              "      <td>24</td>\n",
              "      <td>25</td>\n",
              "      <td>26</td>\n",
              "      <td>27</td>\n",
              "    </tr>\n",
              "  </tbody>\n",
              "</table>\n",
              "</div>"
            ],
            "text/plain": [
              "                                                                                           20  ...                                                 1 \n",
              "mean_fit_time                                                                         3.47986  ...                                            1.93133\n",
              "std_fit_time                                                                        0.0657624  ...                                          0.0645342\n",
              "mean_score_time                                                                       0.32831  ...                                           0.161502\n",
              "std_score_time                                                                      0.0151846  ...                                          0.0222509\n",
              "param_randomforestclassifier__max_depth                                                    30  ...                                                 10\n",
              "param_randomforestclassifier__max_samples                                                 0.3  ...                                                0.3\n",
              "param_randomforestclassifier__n_estimators                                                 60  ...                                                 40\n",
              "params                                      {'randomforestclassifier__max_depth': 30, 'ran...  ...  {'randomforestclassifier__max_depth': 10, 'ran...\n",
              "split0_test_score                                                                    0.800387  ...                                           0.760044\n",
              "split1_test_score                                                                    0.798366  ...                                           0.738988\n",
              "split2_test_score                                                                    0.803756  ...                                           0.746062\n",
              "split3_test_score                                                                    0.800792  ...                                            0.74183\n",
              "split4_test_score                                                                    0.799865  ...                                           0.749073\n",
              "mean_test_score                                                                      0.800633  ...                                           0.747199\n",
              "std_test_score                                                                     0.00176464  ...                                         0.00729455\n",
              "rank_test_score                                                                             1  ...                                                 27\n",
              "\n",
              "[16 rows x 27 columns]"
            ]
          },
          "metadata": {
            "tags": []
          },
          "execution_count": 28
        }
      ]
    },
    {
      "cell_type": "markdown",
      "metadata": {
        "id": "K-CKDiO5xZqs"
      },
      "source": [
        "# Random Search cross-validation:"
      ]
    },
    {
      "cell_type": "code",
      "metadata": {
        "colab": {
          "base_uri": "https://localhost:8080/"
        },
        "id": "Bvd-c77VxZU4",
        "outputId": "bc1a0dbf-0c7a-488d-bb06-486b2748c96a"
      },
      "source": [
        "# random forest random search. \r\n",
        "%%time\r\n",
        "rf_rs = RandomizedSearchCV(rf, param_distributions=paras, n_iter=3, cv=5, n_jobs=-1, verbose=1)\r\n"
      ],
      "execution_count": null,
      "outputs": [
        {
          "output_type": "stream",
          "text": [
            "CPU times: user 24 µs, sys: 0 ns, total: 24 µs\n",
            "Wall time: 28.1 µs\n"
          ],
          "name": "stdout"
        }
      ]
    },
    {
      "cell_type": "code",
      "metadata": {
        "colab": {
          "base_uri": "https://localhost:8080/"
        },
        "id": "zgdiUEtf-Qgx",
        "outputId": "4b7cb1ef-25c9-48b7-9b40-bd921370d0e5"
      },
      "source": [
        "%%time\r\n",
        "rf_rs.fit(X_train, y_train)"
      ],
      "execution_count": null,
      "outputs": [
        {
          "output_type": "stream",
          "text": [
            "Fitting 5 folds for each of 3 candidates, totalling 15 fits\n"
          ],
          "name": "stdout"
        },
        {
          "output_type": "stream",
          "text": [
            "[Parallel(n_jobs=-1)]: Using backend LokyBackend with 2 concurrent workers.\n",
            "[Parallel(n_jobs=-1)]: Done  15 out of  15 | elapsed:   19.9s finished\n"
          ],
          "name": "stderr"
        },
        {
          "output_type": "stream",
          "text": [
            "CPU times: user 3.33 s, sys: 70.5 ms, total: 3.4 s\n",
            "Wall time: 22.2 s\n"
          ],
          "name": "stdout"
        },
        {
          "output_type": "execute_result",
          "data": {
            "text/plain": [
              "RandomizedSearchCV(cv=5, error_score=nan,\n",
              "                   estimator=Pipeline(memory=None,\n",
              "                                      steps=[('ordinalencoder',\n",
              "                                              OrdinalEncoder(cols=None,\n",
              "                                                             drop_invariant=False,\n",
              "                                                             handle_missing='value',\n",
              "                                                             handle_unknown='value',\n",
              "                                                             mapping=None,\n",
              "                                                             return_df=True,\n",
              "                                                             verbose=0)),\n",
              "                                             ('simpleimputer',\n",
              "                                              SimpleImputer(add_indicator=False,\n",
              "                                                            copy=True,\n",
              "                                                            fill_value=None,\n",
              "                                                            missing_values=nan,\n",
              "                                                            strategy='mean',\n",
              "                                                            verbose=0)...\n",
              "                                                                     warm_start=False))],\n",
              "                                      verbose=False),\n",
              "                   iid='deprecated', n_iter=3, n_jobs=-1,\n",
              "                   param_distributions={'randomforestclassifier__max_depth': array([10, 20, 30]),\n",
              "                                        'randomforestclassifier__max_samples': array([0.3, 0.5, 0.7]),\n",
              "                                        'randomforestclassifier__n_estimators': array([20, 40, 60])},\n",
              "                   pre_dispatch='2*n_jobs', random_state=None, refit=True,\n",
              "                   return_train_score=False, scoring=None, verbose=1)"
            ]
          },
          "metadata": {
            "tags": []
          },
          "execution_count": 40
        }
      ]
    },
    {
      "cell_type": "code",
      "metadata": {
        "colab": {
          "base_uri": "https://localhost:8080/"
        },
        "id": "V2SoC0x7-C8g",
        "outputId": "4d3aebed-2ee6-43ba-eb8e-07584c01491a"
      },
      "source": [
        "rf_rs.best_params_"
      ],
      "execution_count": null,
      "outputs": [
        {
          "output_type": "execute_result",
          "data": {
            "text/plain": [
              "{'randomforestclassifier__max_depth': 30,\n",
              " 'randomforestclassifier__max_samples': 0.3,\n",
              " 'randomforestclassifier__n_estimators': 40}"
            ]
          },
          "metadata": {
            "tags": []
          },
          "execution_count": 41
        }
      ]
    },
    {
      "cell_type": "code",
      "metadata": {
        "colab": {
          "base_uri": "https://localhost:8080/"
        },
        "id": "6pwcIl5Q_K0g",
        "outputId": "5d06d5de-7196-408e-b95e-d574c4b557f8"
      },
      "source": [
        "rf_gs.best_score_"
      ],
      "execution_count": null,
      "outputs": [
        {
          "output_type": "execute_result",
          "data": {
            "text/plain": [
              "0.7968261756328148"
            ]
          },
          "metadata": {
            "tags": []
          },
          "execution_count": 61
        }
      ]
    },
    {
      "cell_type": "code",
      "metadata": {
        "colab": {
          "base_uri": "https://localhost:8080/"
        },
        "id": "25z5ima3xZPw",
        "outputId": "60f11b92-d8c3-49fa-c293-6f5658958f01"
      },
      "source": [
        "rf_rs.best_score_"
      ],
      "execution_count": null,
      "outputs": [
        {
          "output_type": "execute_result",
          "data": {
            "text/plain": [
              "0.797837046693408"
            ]
          },
          "metadata": {
            "tags": []
          },
          "execution_count": 50
        }
      ]
    },
    {
      "cell_type": "code",
      "metadata": {
        "colab": {
          "base_uri": "https://localhost:8080/"
        },
        "id": "SRiwl0-VxZHM",
        "outputId": "62f3f86a-da49-44cc-980a-36bf3362e2f5"
      },
      "source": [
        "y_pred1 = rf_rs.predict(X_test)"
      ],
      "execution_count": null,
      "outputs": [
        {
          "output_type": "execute_result",
          "data": {
            "text/plain": [
              "array(['non functional', 'functional', 'functional', ..., 'functional',\n",
              "       'functional', 'non functional'], dtype=object)"
            ]
          },
          "metadata": {
            "tags": []
          },
          "execution_count": 43
        }
      ]
    },
    {
      "cell_type": "code",
      "metadata": {
        "id": "kk903enC-gew"
      },
      "source": [
        "y_pred2 = rf_gs.predict(X_test)"
      ],
      "execution_count": null,
      "outputs": []
    },
    {
      "cell_type": "code",
      "metadata": {
        "id": "NVy6buyg-8C7"
      },
      "source": [
        "data = {'id': X_test.index, 'status_group': y_pred2}\r\n",
        "submission3 = pd.DataFrame(data)\r\n",
        "submission3.to_csv('kaggle_submission3.csv', index=False)"
      ],
      "execution_count": null,
      "outputs": []
    },
    {
      "cell_type": "code",
      "metadata": {
        "id": "XVd-TMH8H2nc",
        "colab": {
          "base_uri": "https://localhost:8080/",
          "height": 204
        },
        "outputId": "d628a636-da80-427d-9647-cde2565d1c42"
      },
      "source": [
        "submission3.head()"
      ],
      "execution_count": null,
      "outputs": [
        {
          "output_type": "execute_result",
          "data": {
            "text/html": [
              "<div>\n",
              "<style scoped>\n",
              "    .dataframe tbody tr th:only-of-type {\n",
              "        vertical-align: middle;\n",
              "    }\n",
              "\n",
              "    .dataframe tbody tr th {\n",
              "        vertical-align: top;\n",
              "    }\n",
              "\n",
              "    .dataframe thead th {\n",
              "        text-align: right;\n",
              "    }\n",
              "</style>\n",
              "<table border=\"1\" class=\"dataframe\">\n",
              "  <thead>\n",
              "    <tr style=\"text-align: right;\">\n",
              "      <th></th>\n",
              "      <th>id</th>\n",
              "      <th>status_group</th>\n",
              "    </tr>\n",
              "  </thead>\n",
              "  <tbody>\n",
              "    <tr>\n",
              "      <th>0</th>\n",
              "      <td>50785</td>\n",
              "      <td>non functional</td>\n",
              "    </tr>\n",
              "    <tr>\n",
              "      <th>1</th>\n",
              "      <td>51630</td>\n",
              "      <td>functional</td>\n",
              "    </tr>\n",
              "    <tr>\n",
              "      <th>2</th>\n",
              "      <td>17168</td>\n",
              "      <td>functional</td>\n",
              "    </tr>\n",
              "    <tr>\n",
              "      <th>3</th>\n",
              "      <td>45559</td>\n",
              "      <td>non functional</td>\n",
              "    </tr>\n",
              "    <tr>\n",
              "      <th>4</th>\n",
              "      <td>49871</td>\n",
              "      <td>functional</td>\n",
              "    </tr>\n",
              "  </tbody>\n",
              "</table>\n",
              "</div>"
            ],
            "text/plain": [
              "      id    status_group\n",
              "0  50785  non functional\n",
              "1  51630      functional\n",
              "2  17168      functional\n",
              "3  45559  non functional\n",
              "4  49871      functional"
            ]
          },
          "metadata": {
            "tags": []
          },
          "execution_count": 65
        }
      ]
    },
    {
      "cell_type": "code",
      "metadata": {
        "id": "xZTve3oPH39m"
      },
      "source": [
        ""
      ],
      "execution_count": null,
      "outputs": []
    },
    {
      "cell_type": "markdown",
      "metadata": {
        "id": "_cuIHHVND_v9"
      },
      "source": [
        "# Moving into Confusion Matrix\r\n"
      ]
    },
    {
      "cell_type": "markdown",
      "metadata": {
        "id": "zm86rFbiEcxQ"
      },
      "source": [
        "## this is resetting df, so be careful returning to your above cells, ok?"
      ]
    },
    {
      "cell_type": "code",
      "metadata": {
        "colab": {
          "base_uri": "https://localhost:8080/"
        },
        "id": "LiFmriHhEQAn",
        "outputId": "78c43712-0003-4200-f4eb-5441ecdb6811"
      },
      "source": [
        "df['status_group'].value_counts()"
      ],
      "execution_count": 25,
      "outputs": [
        {
          "output_type": "execute_result",
          "data": {
            "text/plain": [
              "functional                 32237\n",
              "non functional             22812\n",
              "functional needs repair     4314\n",
              "Name: status_group, dtype: int64"
            ]
          },
          "metadata": {
            "tags": []
          },
          "execution_count": 25
        }
      ]
    },
    {
      "cell_type": "code",
      "metadata": {
        "id": "yOuP4O6UERvh"
      },
      "source": [
        "df['needs_to_repair'] = df['status_group'].apply(lambda x : 0 if x == 'functional' else 1)"
      ],
      "execution_count": 26,
      "outputs": []
    },
    {
      "cell_type": "code",
      "metadata": {
        "id": "hj_K2xtzEX0J"
      },
      "source": [
        "X = df.drop(['needs_to_repair', 'status_group'], axis=1)\r\n",
        "y = df['needs_to_repair']"
      ],
      "execution_count": 28,
      "outputs": []
    },
    {
      "cell_type": "code",
      "metadata": {
        "id": "WmlvCs15EZaL"
      },
      "source": [
        "X_train, X_val, y_train, y_val = train_test_split(X, y, test_size=0.2, random_state=42)"
      ],
      "execution_count": 29,
      "outputs": []
    },
    {
      "cell_type": "code",
      "metadata": {
        "colab": {
          "base_uri": "https://localhost:8080/"
        },
        "id": "ZQsK7h1TElBY",
        "outputId": "7e925d9b-5237-4c20-ce7f-761ad1f5867f"
      },
      "source": [
        "rf.fit(X_train, y_train)"
      ],
      "execution_count": 30,
      "outputs": [
        {
          "output_type": "stream",
          "text": [
            "/usr/local/lib/python3.6/dist-packages/category_encoders/utils.py:21: FutureWarning: is_categorical is deprecated and will be removed in a future version.  Use is_categorical_dtype instead\n",
            "  elif pd.api.types.is_categorical(cols):\n"
          ],
          "name": "stderr"
        },
        {
          "output_type": "execute_result",
          "data": {
            "text/plain": [
              "Pipeline(memory=None,\n",
              "         steps=[('ordinalencoder',\n",
              "                 OrdinalEncoder(cols=['basin', 'region', 'public_meeting',\n",
              "                                      'scheme_management', 'permit',\n",
              "                                      'extraction_type',\n",
              "                                      'extraction_type_class', 'management',\n",
              "                                      'management_group', 'payment',\n",
              "                                      'payment_type', 'water_quality',\n",
              "                                      'quality_group', 'quantity', 'source',\n",
              "                                      'source_type', 'source_class',\n",
              "                                      'waterpoint_type',\n",
              "                                      'waterpoint_type_group...\n",
              "                 RandomForestClassifier(bootstrap=True, ccp_alpha=0.0,\n",
              "                                        class_weight=None, criterion='gini',\n",
              "                                        max_depth=None, max_features='auto',\n",
              "                                        max_leaf_nodes=None, max_samples=None,\n",
              "                                        min_impurity_decrease=0.0,\n",
              "                                        min_impurity_split=None,\n",
              "                                        min_samples_leaf=1, min_samples_split=2,\n",
              "                                        min_weight_fraction_leaf=0.0,\n",
              "                                        n_estimators=100, n_jobs=-1,\n",
              "                                        oob_score=False, random_state=42,\n",
              "                                        verbose=0, warm_start=False))],\n",
              "         verbose=False)"
            ]
          },
          "metadata": {
            "tags": []
          },
          "execution_count": 30
        }
      ]
    },
    {
      "cell_type": "code",
      "metadata": {
        "id": "BNt2YAPTE2WQ"
      },
      "source": [
        "y_pred = rf.predict(X_val)"
      ],
      "execution_count": 32,
      "outputs": []
    },
    {
      "cell_type": "code",
      "metadata": {
        "colab": {
          "base_uri": "https://localhost:8080/"
        },
        "id": "qFkO7NlUFUre",
        "outputId": "b6de8839-c55c-4233-c7ff-13e1f8024ddd"
      },
      "source": [
        "accuracy_score(y_val, y_pred)"
      ],
      "execution_count": 33,
      "outputs": [
        {
          "output_type": "execute_result",
          "data": {
            "text/plain": [
              "0.8130211404025941"
            ]
          },
          "metadata": {
            "tags": []
          },
          "execution_count": 33
        }
      ]
    },
    {
      "cell_type": "code",
      "metadata": {
        "colab": {
          "base_uri": "https://localhost:8080/",
          "height": 296
        },
        "id": "EAU1l8yxFZVx",
        "outputId": "7f4200c8-bd91-439b-b657-6579f6913166"
      },
      "source": [
        "from sklearn.metrics import plot_confusion_matrix\r\n",
        "plot_confusion_matrix(rf, X_val, y_val, values_format='.0f')"
      ],
      "execution_count": 35,
      "outputs": [
        {
          "output_type": "execute_result",
          "data": {
            "text/plain": [
              "<sklearn.metrics._plot.confusion_matrix.ConfusionMatrixDisplay at 0x7fa1bd5463c8>"
            ]
          },
          "metadata": {
            "tags": []
          },
          "execution_count": 35
        },
        {
          "output_type": "display_data",
          "data": {
            "image/png": "[encoded data removed]",
            "text/plain": [
              "<Figure size 432x288 with 2 Axes>"
            ]
          },
          "metadata": {
            "tags": [],
            "needs_background": "light"
          }
        }
      ]
    },
    {
      "cell_type": "code",
      "metadata": {
        "colab": {
          "base_uri": "https://localhost:8080/"
        },
        "id": "ynvECsFZF4ZN",
        "outputId": "c2252af8-a10b-40cf-d847-32c990583c34"
      },
      "source": [
        "from sklearn.metrics import precision_score\r\n",
        "precision_score(y_val, y_pred)"
      ],
      "execution_count": 37,
      "outputs": [
        {
          "output_type": "execute_result",
          "data": {
            "text/plain": [
              "0.8171728971962616"
            ]
          },
          "metadata": {
            "tags": []
          },
          "execution_count": 37
        }
      ]
    },
    {
      "cell_type": "code",
      "metadata": {
        "colab": {
          "base_uri": "https://localhost:8080/"
        },
        "id": "ojQebhAIF57k",
        "outputId": "7a96c10b-8c11-4938-c741-7a896f854f7e"
      },
      "source": [
        "from sklearn.metrics import classification_report\r\n",
        "print(classification_report(y_val, y_pred, digits=6))"
      ],
      "execution_count": 38,
      "outputs": [
        {
          "output_type": "stream",
          "text": [
            "              precision    recall  f1-score   support\n",
            "\n",
            "           0   0.809856  0.853167  0.830947      6395\n",
            "           1   0.817173  0.766156  0.790842      5478\n",
            "\n",
            "    accuracy                       0.813021     11873\n",
            "   macro avg   0.813514  0.809661  0.810895     11873\n",
            "weighted avg   0.813232  0.813021  0.812444     11873\n",
            "\n"
          ],
          "name": "stdout"
        }
      ]
    },
    {
      "cell_type": "code",
      "metadata": {
        "id": "zv0MOPGcGBgW"
      },
      "source": [
        "rf.predict_proba(X_val)\r\n",
        "y_pred_proba = rf.predict_proba(X_val)[:,-1]"
      ],
      "execution_count": 41,
      "outputs": []
    },
    {
      "cell_type": "code",
      "metadata": {
        "colab": {
          "base_uri": "https://localhost:8080/"
        },
        "id": "8g5rLiOiGHAF",
        "outputId": "7aa5a28b-9ca6-4285-d804-6f10fe5208a6"
      },
      "source": [
        "y_pred\r\n"
      ],
      "execution_count": 43,
      "outputs": [
        {
          "output_type": "execute_result",
          "data": {
            "text/plain": [
              "array([1, 1, 0, ..., 1, 0, 0])"
            ]
          },
          "metadata": {
            "tags": []
          },
          "execution_count": 43
        }
      ]
    },
    {
      "cell_type": "code",
      "metadata": {
        "colab": {
          "base_uri": "https://localhost:8080/"
        },
        "id": "NgShcdClGB8w",
        "outputId": "e2cc238d-3dc6-4a36-be12-6db5dd66b3f7"
      },
      "source": [
        "y_pred_proba"
      ],
      "execution_count": 42,
      "outputs": [
        {
          "output_type": "execute_result",
          "data": {
            "text/plain": [
              "array([0.94, 0.56, 0.32, ..., 0.99, 0.01, 0.24])"
            ]
          },
          "metadata": {
            "tags": []
          },
          "execution_count": 42
        }
      ]
    },
    {
      "cell_type": "code",
      "metadata": {
        "colab": {
          "base_uri": "https://localhost:8080/",
          "height": 749,
          "referenced_widgets": [
            "65827deb9618490ba17a85c45c6699d7",
            "9fcb9e9188d948128c7dcec2088f702d",
            "9db9b7f24c9645a9a30875dbcd47996d",
            "fdee93a233a94b53abaa775c364638a1",
            "8c9eb74baac24eddbafc2c2ba1ce5ed9",
            "d126ea4a4fa34e4fb8a51662acf22cea",
            "44a16344bbbc43198107c61958196115"
          ]
        },
        "id": "I9rSYFllGIla",
        "outputId": "22d10d80-d158-4434-a64b-0076b9d74674"
      },
      "source": [
        "from ipywidgets import interact, fixed\r\n",
        "import seaborn as sns\r\n",
        "from sklearn.metrics import confusion_matrix\r\n",
        "from sklearn.utils.multiclass import unique_labels\r\n",
        "\r\n",
        "def my_confusion_matrix(y_true, y_pred):\r\n",
        "    labels = unique_labels(y_true)\r\n",
        "    columns = [f'Predicted {label}' for label in labels]\r\n",
        "    index = [f'Actual {label}' for label in labels]\r\n",
        "    table = pd.DataFrame(confusion_matrix(y_true, y_pred), \r\n",
        "                         columns=columns, index=index)\r\n",
        "    return sns.heatmap(table, annot=True, fmt='d', cmap='viridis')\r\n",
        "\r\n",
        "def set_threshold(y_true, y_pred_proba, threshold=0.5):\r\n",
        "    y_pred = y_pred_proba > threshold\r\n",
        "    ax = sns.distplot(y_pred_proba)\r\n",
        "    ax.axvline(threshold, color='red')\r\n",
        "    plt.show()\r\n",
        "    print(classification_report(y_true, y_pred))\r\n",
        "    my_confusion_matrix(y_true, y_pred)\r\n",
        "\r\n",
        "interact(set_threshold, \r\n",
        "         y_true=fixed(y_val), \r\n",
        "         y_pred_proba=fixed(y_pred_proba), \r\n",
        "         threshold=(0, 1, 0.02));"
      ],
      "execution_count": 44,
      "outputs": [
        {
          "output_type": "display_data",
          "data": {
            "application/vnd.jupyter.widget-view+json": {
              "model_id": "65827deb9618490ba17a85c45c6699d7",
              "version_minor": 0,
              "version_major": 2
            },
            "text/plain": [
              "interactive(children=(FloatSlider(value=0.5, description='threshold', max=1.0, step=0.02), Output()), _dom_cla…"
            ]
          },
          "metadata": {
            "tags": []
          }
        }
      ]
    },
    {
      "cell_type": "code",
      "metadata": {
        "colab": {
          "base_uri": "https://localhost:8080/",
          "height": 296
        },
        "id": "jil5Z01gJ1F9",
        "outputId": "6d038324-576e-4e11-834b-d31fb8163149"
      },
      "source": [
        "from sklearn.metrics import precision_recall_curve\r\n",
        "from sklearn.metrics import plot_precision_recall_curve\r\n",
        "plot_precision_recall_curve(rf, X_val, y_val)"
      ],
      "execution_count": 46,
      "outputs": [
        {
          "output_type": "execute_result",
          "data": {
            "text/plain": [
              "<sklearn.metrics._plot.precision_recall_curve.PrecisionRecallDisplay at 0x7fa1bd3d96a0>"
            ]
          },
          "metadata": {
            "tags": []
          },
          "execution_count": 46
        },
        {
          "output_type": "display_data",
          "data": {
            "image/png": "[encoded data removed]",
            "text/plain": [
              "<Figure size 432x288 with 1 Axes>"
            ]
          },
          "metadata": {
            "tags": [],
            "needs_background": "light"
          }
        }
      ]
    },
    {
      "cell_type": "code",
      "metadata": {
        "colab": {
          "base_uri": "https://localhost:8080/"
        },
        "id": "W759QC5kJ4CO",
        "outputId": "0da18e10-277f-46f4-cd98-5fb2fad43dce"
      },
      "source": [
        "# Use scikit-learn to calculate the area under the curve.\r\n",
        "# acronym is for Compute Area Under the Receiver Operating Characteristic Curve (ROC AUC)\r\n",
        "from sklearn.metrics import roc_auc_score\r\n",
        "roc_auc_score(y_val, y_pred_proba)"
      ],
      "execution_count": 47,
      "outputs": [
        {
          "output_type": "execute_result",
          "data": {
            "text/plain": [
              "0.8924409700783373"
            ]
          },
          "metadata": {
            "tags": []
          },
          "execution_count": 47
        }
      ]
    }
  ]
}